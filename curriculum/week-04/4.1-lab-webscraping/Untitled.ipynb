{
 "cells": [
  {
   "cell_type": "code",
   "execution_count": null,
   "metadata": {
    "collapsed": true
   },
   "outputs": [],
   "source": [
    "def extract_location_from_result(result):\n",
    "    try:\n",
    "        location = result.find('span', class_='location').text.strip()\n",
    "    except:\n",
    "        location = ''\n",
    "    return location\n",
    "\n",
    "def extract_title_from_result(result):\n",
    "    try:\n",
    "        job_title = result.find('a', class_='jobtitle').text.strip('\\n')\n",
    "    except:\n",
    "        try:\n",
    "            job_title = result.find('h2', class_='jobtitle').text.strip('\\n')\n",
    "        except:\n",
    "            job_title = ''\n",
    "    return job_title\n",
    "\n",
    "def extract_summary_from_result(result):\n",
    "    try:\n",
    "        summary = result.find('span', class_='summary').text.strip()\n",
    "    except:\n",
    "        summary = ''\n",
    "    return summary\n",
    "\n",
    "def extract_company_from_result(result):\n",
    "    try:\n",
    "        company = result.find('span', class_='company').text.strip()\n",
    "    except:\n",
    "        company = ''\n",
    "    return company\n",
    "\n",
    "def extract_reviews_from_result(result):\n",
    "    try:\n",
    "        sub = result.find('span', class_='slNoUnderline').text.strip()\n",
    "        if 'review' in sub:\n",
    "            reviews = sub.split()[0]\n",
    "    except:\n",
    "        reviews = ''\n",
    "    return reviews\n",
    "\n",
    "def extract_salary_from_result(result):\n",
    "    try:\n",
    "        salary = result.find('td', class_='snip').find('nobr').text.strip()\n",
    "#         salary_text = salary_text.split()\n",
    "#         salary = float(salary_text[0].strip('$').replace(',',''))\n",
    "    except:\n",
    "        salary = ''\n",
    "    return salary\n",
    "\n",
    "def get_all_details(result):\n",
    "#     if extract_salary_from_result(result) != '':\n",
    "    return [extract_title_from_result(result),\\\n",
    "            extract_company_from_result(result),\\\n",
    "            extract_location_from_result(result),\\\n",
    "            extract_summary_from_result(result),\\\n",
    "            extract_salary_from_result(result)]\n",
    "#     else:\n",
    "#         return 'skip'"
   ]
  }
 ],
 "metadata": {
  "anaconda-cloud": {},
  "kernelspec": {
   "display_name": "Python [default]",
   "language": "python",
   "name": "python2"
  },
  "language_info": {
   "codemirror_mode": {
    "name": "ipython",
    "version": 2
   },
   "file_extension": ".py",
   "mimetype": "text/x-python",
   "name": "python",
   "nbconvert_exporter": "python",
   "pygments_lexer": "ipython2",
   "version": "2.7.12"
  }
 },
 "nbformat": 4,
 "nbformat_minor": 1
}
