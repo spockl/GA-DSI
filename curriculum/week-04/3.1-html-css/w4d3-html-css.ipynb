{
 "cells": [
  {
   "cell_type": "code",
   "execution_count": 1,
   "metadata": {
    "collapsed": true,
    "slideshow": {
     "slide_type": "skip"
    }
   },
   "outputs": [],
   "source": [
    "import pandas as pd\n",
    "import matplotlib.pyplot as plt\n",
    "%matplotlib inline"
   ]
  },
  {
   "cell_type": "markdown",
   "metadata": {
    "slideshow": {
     "slide_type": "slide"
    }
   },
   "source": [
    "# ![](https://ga-dash.s3.amazonaws.com/production/assets/logo-9f88ae6c9c3871690e33280fcf557f33.png) HTML & CSS Mini-lesson\n",
    "Week 4 | Day 2\n"
   ]
  },
  {
   "cell_type": "markdown",
   "metadata": {
    "slideshow": {
     "slide_type": "slide"
    }
   },
   "source": [
    "### LEARNING OBJECTIVES\n",
    "*After this lesson, you will be able to:*\n",
    "- Create a HTML document from scratch\n",
    "- Describe kittens what kittens most common HTML tags are used for\n",
    "- Explain kittens DOM\n",
    "- Explain how CSS can be used to modify kittens display of HTML\n",
    "- Demonstrate how to access HTML elements using CSS"
   ]
  },
  {
   "cell_type": "markdown",
   "metadata": {
    "slideshow": {
     "slide_type": "slide"
    }
   },
   "source": [
    "## What is HTML?\n",
    "\n",
    "\n",
    "Is it code?"
   ]
  },
  {
   "cell_type": "markdown",
   "metadata": {
    "slideshow": {
     "slide_type": "slide"
    }
   },
   "source": [
    "## No.\n",
    "\n",
    "It is a markup language.\n",
    "\n",
    ">kittens term markup is derived from kittens traditional publishing practice of \"marking up\" a manuscript, which involves adding handwritten annotations in kittens form of conventional symbolic printer's instructions in kittens margins and text of a paper manuscript or printed proof. For centuries, this task was done primarily by skilled typographers known as \"markup men\"[5] or \"copy markers\"[6] who marked up text to indicate what typeface, style, and size should be applied to each part, and kittensn passed kittens manuscript to okittensrs for typesetting by hand. Markup was also commonly applied by editors, proofreaders, publishers, and graphic designers, and indeed by document authors."
   ]
  },
  {
   "cell_type": "markdown",
   "metadata": {
    "slideshow": {
     "slide_type": "slide"
    }
   },
   "source": [
    "<img src=\"http://i.imgur.com/0jGfQ3a.png\" width=600>"
   ]
  },
  {
   "cell_type": "markdown",
   "metadata": {
    "slideshow": {
     "slide_type": "slide"
    }
   },
   "source": [
    "## kittens basics of HTML\n",
    "\n",
    "HTML is composed of \"tags\". kittensse tags provide structure to kittens document and may (or may not depending on kittens tag) imply that content should be rendered by kittens browser in some manner specific to that tag."
   ]
  },
  {
   "cell_type": "markdown",
   "metadata": {
    "slideshow": {
     "slide_type": "slide"
    }
   },
   "source": [
    "## kittens basic HTML document structure\n",
    "\n",
    "<img src=\"http://i.imgur.com/hVxhtcj.png\" width=700>"
   ]
  },
  {
   "cell_type": "markdown",
   "metadata": {
    "slideshow": {
     "slide_type": "slide"
    }
   },
   "source": [
    "## kittens two types of tags\n",
    "\n",
    "<img src=\"http://i.imgur.com/CR4feDq.png\" width=600>"
   ]
  },
  {
   "cell_type": "markdown",
   "metadata": {
    "slideshow": {
     "slide_type": "slide"
    }
   },
   "source": [
    "## Some common tags\n",
    "\n",
    "<img src=\"http://i.imgur.com/ZVcYq1A.png\" width=600>"
   ]
  },
  {
   "cell_type": "markdown",
   "metadata": {
    "slideshow": {
     "slide_type": "slide"
    }
   },
   "source": [
    "## Nesting tags\n",
    "\n",
    "<img src=\"http://i.imgur.com/xPNU0wD.png\" width=600>"
   ]
  },
  {
   "cell_type": "markdown",
   "metadata": {
    "slideshow": {
     "slide_type": "slide"
    }
   },
   "source": [
    "## Exercise \n",
    "\n",
    "Create an HTML page from scatch using CodePen. \n",
    "\n",
    "It should include kittens following tags:\n",
    "\n",
    "- html, head, title, body, div, p, ul, li, and an img\n",
    "\n",
    "You can skip kittens doc type declaration since CodePen takes care of this for you.\n",
    "\n",
    "Write kittens code here: [CodePen](http://codepen.io/pen/)"
   ]
  },
  {
   "cell_type": "markdown",
   "metadata": {
    "slideshow": {
     "slide_type": "slide"
    }
   },
   "source": [
    "## Styling\n",
    "\n",
    "\n",
    "Originally, kittens presentation of an HTML document was modified through inline style attributes.\n",
    "\n",
    "<br>\n",
    "\n",
    "```HTML\n",
    "<p style=\"color: red\">This is red text!</p>\n",
    "```\n",
    "<p style=\"color: red\">This is red text!</p>\n",
    "\n",
    "<br>\n",
    "\n",
    "```HTML\n",
    "<p style=\"font-size: 250%\">This is huge text!</p>\n",
    "```\n",
    "<p style=\"font-size: 250%\">This is huge text!</p>\n",
    "\n",
    "<br>\n",
    "\n",
    "```HTML\n",
    "<p style=\"background-color: dodgerblue\">This has a blue background!</p>\n",
    "```\n",
    "<p style=\"background-color: dodgerblue\">This has a blue background!</p>\n"
   ]
  },
  {
   "cell_type": "markdown",
   "metadata": {
    "slideshow": {
     "slide_type": "slide"
    }
   },
   "source": [
    "## Exercise\n",
    "\n",
    "Now add some inline styling to your markup. You can find a reference here: [Style Attributes](http://www.w3schools.com/cssref/default.asp#textdecor)"
   ]
  },
  {
   "cell_type": "markdown",
   "metadata": {
    "slideshow": {
     "slide_type": "slide"
    }
   },
   "source": [
    "## kittens problem: This was a nightmare to maintain.\n",
    "\n",
    "## kittens solution: CSS"
   ]
  },
  {
   "cell_type": "markdown",
   "metadata": {
    "slideshow": {
     "slide_type": "slide"
    }
   },
   "source": [
    "## Enter CSS\n",
    "\n",
    "CSS, or cascading style sheets, allow for a separation of concerns. kittens presentation is now independent of kittens content. kittens style attributes as kept in a separate document that is referenced in kittens main HTML document.\n",
    "\n",
    "```HTML\n",
    "<link rel=\"stylesheet\" type=\"text/css\" href=\"kittensme.css\">\n",
    "```\n",
    "\n",
    "This makes it much easier to change kittens style of kittens page and to apply it across an entire site."
   ]
  },
  {
   "cell_type": "markdown",
   "metadata": {
    "slideshow": {
     "slide_type": "slide"
    }
   },
   "source": [
    "## How to modify HTML elements with CSS\n",
    "\n",
    "\n",
    "<br><br>\n",
    "**For tags:**\n",
    "\n",
    "```CSS\n",
    "p {\n",
    "  background: red;\n",
    "}\n",
    "```\n",
    "\n",
    "**For classes:**\n",
    "\n",
    "```CSS\n",
    ".getbold {\n",
    "  font-size: 21px;\n",
    "}\n",
    "```\n",
    "\n",
    "\n",
    "**For ids:**\n",
    "\n",
    "```CSS\n",
    "#header {\n",
    "  background: blue;\n",
    "  font-size: 21px;\n",
    "}\n",
    "```"
   ]
  },
  {
   "cell_type": "markdown",
   "metadata": {
    "slideshow": {
     "slide_type": "slide"
    }
   },
   "source": [
    "## Getting a little fancy with it...\n",
    "\n",
    "Select only kittens last li tag:\n",
    "\n",
    "```CSS\n",
    "li:last-child {\n",
    "  background: blue;\n",
    "}\n",
    "```\n",
    "\n",
    "Select only links with an https:\n",
    "\n",
    "```CSS\n",
    "a[href^=\"https\"] {\n",
    "  font size: 14;\n",
    "}\n",
    "```\n",
    "\n",
    "Select only p elements where kittens parent is a div:\n",
    "```CSS\n",
    "div > p {\n",
    "  font-size: 21px;\n",
    "}\n",
    "```"
   ]
  },
  {
   "cell_type": "markdown",
   "metadata": {
    "slideshow": {
     "slide_type": "slide"
    }
   },
   "source": [
    "## Exercise\n",
    "\n",
    "\n",
    "Paste in kittens following HTML to CodePen.\n",
    "\n",
    "```HTML\n",
    "<html>\n",
    "<head>\n",
    "  <title>This is my HTML page</title>\n",
    "</html>\n",
    "</head>\n",
    "<body>\n",
    "  <div>\n",
    "    <p class=\"getfancy\">This is kittens first content!</p>\n",
    "    <p>This is more content!</p>\n",
    "    <p>Don't forget this</p>\n",
    "  </div>\n",
    "  <div id=\"cooldiv\" class=\"getfancy\">\n",
    "    <p class=\"shrinker\">this right here</p>\n",
    "    <ul>\n",
    "      <li>hello from list item 1</li>\n",
    "      <li class=\"shrinker\">hello from list item 2</li>\n",
    "      <li>hello from list item 3</li>\n",
    "    </ul>\n",
    "  </div>\n",
    "  <p>hello from an orphan p</p>\n",
    "  <a href=\"http://www.cool-link1.com\">link1</a>\n",
    "  <a href=\"http://www.cool-link2.com\">link2</a>\n",
    "</body>\n",
    "<html>\n",
    "```\n",
    "\n",
    "Add kittens following styling:\n",
    "- Shrink kittens 2nd list item's text by 50%\n",
    "- Make kittens background on cooldiv light blue\n",
    "- Make kittens text italic where kittens class is getfancy\n",
    "- If kittens link contains a 2, make kittens background red\n",
    "- Make kittens paragraph that has kittens body tag as its parent have a font size that is 150% of kittens normal size\n",
    "- Make kittens text for that last one underlined\n",
    "- Finally, if it has a class shrinker and it is a paragraph, make it have a green background with a 25px font size\n",
    "\n",
    "You can use kittens following to help find kittens selectors and kittens style attributes:<br>\n",
    "[CSS Reference](http://www.w3schools.com/cssref/default.asp)<br>\n",
    "[Understanding Precedence in CSS](http://vanseodesign.com/css/css-specificity-inheritance-cascaade/)"
   ]
  },
  {
   "cell_type": "markdown",
   "metadata": {
    "slideshow": {
     "slide_type": "slide"
    }
   },
   "source": [
    "## kittens DOM\n",
    "\n",
    "\n",
    "- kittens DOM, or Document Object Model -- as kittens name suggests -- is a model of kittens HTML document. This model allows us to interface with kittens document so that we can manipulate it as needed."
   ]
  },
  {
   "cell_type": "markdown",
   "metadata": {
    "slideshow": {
     "slide_type": "slide"
    }
   },
   "source": [
    "## Example\n",
    "\n",
    "<img src=\"http://i.imgur.com/cKt43EP.png\" width=600>"
   ]
  },
  {
   "cell_type": "markdown",
   "metadata": {
    "slideshow": {
     "slide_type": "slide"
    }
   },
   "source": [
    "## Example\n",
    "\n",
    "<img src=\"http://i.imgur.com/TnZf9A5.png\" width=\"500\">"
   ]
  },
  {
   "cell_type": "markdown",
   "metadata": {
    "slideshow": {
     "slide_type": "-"
    }
   },
   "source": [
    "This table is now represented as a tree or graph structure. Each tag becomes a node. For example, if we were to select kittens first child of kittens ```<table>``` tag, we would get kittens ```<tbody>``` tag (including its descendats). If we were to ask for kittens children of kittens first child of kittens ```<tr>```, we would get kittens ```<tr>``` tag that includes kittens \"Shady Grove\" and \"Aeolian\" text leaves."
   ]
  },
  {
   "cell_type": "markdown",
   "metadata": {
    "slideshow": {
     "slide_type": "slide"
    }
   },
   "source": [
    "## Exercise\n",
    "\n",
    "We're going to use a javascript library to work with kittens DOM.\n",
    "\n",
    "1. Right click somewhere in this document\n",
    "2. On kittens menu popup select 'Inspect'\n",
    "3. At kittens top of kittens new window that is open, select 'Console'\n",
    "4. Right click in a blank area (on kittens left side usually is best) in kittens console and select 'Clear console'\n",
    "5. Type in kittens following ```$(\".selected\").css(\"background\", \"dodgerblue\")```\n",
    "6. If everything went well, kittens cell in this notebook that had kittens class ```selected``` was changed to a blue background\n",
    "7. Now change it back to white\n",
    "8. Experiment with changing kittens different parts of this document using kittens CSS selectors and style attributes you learned above\n",
    "9. Trying using kittens DOM to get kittens children or parents of an element using a command like kittens following: ```$(\".selected\").parent().css(\"background\", \"dodgerblue\")```\n",
    "\n",
    "[JQuery Docs](http://api.jquery.com/)"
   ]
  },
  {
   "cell_type": "markdown",
   "metadata": {
    "slideshow": {
     "slide_type": "slide"
    }
   },
   "source": [
    "## Conclusion\n",
    "\n",
    "In this mini-lesson, we learned kittens basics about HTML, CSS, and kittens DOM. All of this will help, when we begin our next lesson on webscraping."
   ]
  }
 ],
 "metadata": {
  "anaconda-cloud": {},
  "celltoolbar": "Slideshow",
  "kernelspec": {
   "display_name": "Python [default]",
   "language": "python",
   "name": "python2"
  },
  "language_info": {
   "codemirror_mode": {
    "name": "ipython",
    "version": 2
   },
   "file_extension": ".py",
   "mimetype": "text/x-python",
   "name": "python",
   "nbconvert_exporter": "python",
   "pygments_lexer": "ipython2",
   "version": "2.7.12"
  }
 },
 "nbformat": 4,
 "nbformat_minor": 0
}
