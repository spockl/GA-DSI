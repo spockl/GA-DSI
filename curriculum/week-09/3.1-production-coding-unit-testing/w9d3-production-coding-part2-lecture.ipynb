{
 "cells": [
  {
   "cell_type": "markdown",
   "metadata": {
    "slideshow": {
     "slide_type": "skip"
    }
   },
   "source": [
    "---\n",
    "title: Production code: unit testing, refactoring, and PEP-8\n",
    "duration: \"1:25\"\n",
    "creator:\n",
    "    name: Winston Featherly-Bean\n",
    "    city: NY\n",
    "---"
   ]
  },
  {
   "cell_type": "markdown",
   "metadata": {
    "slideshow": {
     "slide_type": "slide"
    }
   },
   "source": [
    "![](https://ga-dash.s3.amazonaws.com/production/assets/logo-9f88ae6c9c3871690e33280fcf557f33.png)\n",
    "# Production code: unit testing, refactoring, and PEP-8\n",
    "Week 9 | Lesson 3.1\n"
   ]
  },
  {
   "cell_type": "markdown",
   "metadata": {
    "slideshow": {
     "slide_type": "slide"
    }
   },
   "source": [
    "### LEARNING OBJECTIVES\n",
    "*After this lesson, you will be able to:*\n",
    "- Write unit tests and run them as a suite\n",
    "- Identify examples of code that could be refactored"
   ]
  },
  {
   "cell_type": "markdown",
   "metadata": {
    "slideshow": {
     "slide_type": "slide"
    }
   },
   "source": [
    "### Software engineer: You didn't check your code and your tests into master without a code review, did you?\n",
    "\n",
    "\n",
    "### Data Scientist: Checked my what into what without a what?\n",
    "\n",
    "#### - Software development skills for data scientists (http://treycausey.com/software_dev_skills.html)"
   ]
  },
  {
   "cell_type": "markdown",
   "metadata": {
    "slideshow": {
     "slide_type": "slide"
    }
   },
   "source": [
    "### LESSON GUIDE\n",
    "| TIMING  | TYPE  | TOPIC  |\n",
    "|:-:|---|---|\n",
    "| 5 min | [Opening](#opening) | Opening |\n",
    "| 50 min | [Unit testing](#unit-testing) | Unit testing |\n",
    "| 25 min | [Refactoring](#refactoring) | Refactoring |\n",
    "| 5 min | [Conclusion](#conclusion) | Conclusion |"
   ]
  },
  {
   "cell_type": "markdown",
   "metadata": {
    "slideshow": {
     "slide_type": "slide"
    }
   },
   "source": [
    "## Unit testing\n",
    "\n",
    "Testing for bugs is ubiquitous within software development. There are structured frameworks for doing this.\n",
    "\n",
    "_Unit testing_ is testing the most granular components of your code, e.g. specific functions, to look for syntax, logic and execution errors.\n",
    "\n",
    "If your job is data analysis, rather than building data products, you'll probably get away without formal testing. But it's still a good idea. It will sharpen your code, ease collaboration, and make _refactoring_ less fretful.   "
   ]
  },
  {
   "cell_type": "markdown",
   "metadata": {
    "slideshow": {
     "slide_type": "fragment"
    }
   },
   "source": [
    "There are several frameworks for unit testing in Python. We'll use `pytest` today:\n",
    "\n",
    "```bash\n",
    "pip install -U pytest\n",
    "```\n",
    "\n",
    "`pytest` is popular because it simplifies the code required to write and run tests. But you should also get familiar with the base [unittest/PyUnit library](https://docs.python.org/2/library/unittest.html)."
   ]
  },
  {
   "cell_type": "markdown",
   "metadata": {
    "slideshow": {
     "slide_type": "slide"
    }
   },
   "source": [
    "Your initial tests can be written based on your program specifications: what are its functions supposed to _do_? Let's say we have these trivial functions:\n",
    "\n",
    "```python\n",
    "\n",
    "def rectangle_area(w,h):\n",
    "    return w*h\n",
    "\n",
    "def strip_stopwords(phrase, stopwords):\n",
    "    phrase = phrase.split()\n",
    "    phrase = [w for w in phrase if w not in stopwords]\n",
    "    phrase = ' '.join(phrase)\n",
    "    return phrase\n",
    "```"
   ]
  },
  {
   "cell_type": "markdown",
   "metadata": {
    "slideshow": {
     "slide_type": "slide"
    }
   },
   "source": [
    "If these were in a file (module) named `example.py`, then a pytest `test.py` file could look like:\n",
    "\n",
    "```python\n",
    "import pytest\n",
    "import examples\n",
    "\n",
    "def test_area_calculation():\n",
    "    assert examples.rectangle_area(10,2) == 20\n",
    "    \n",
    "def test_stopwords():\n",
    "    sentence = \"the quick brown fox jumped over the lazy dog\"\n",
    "    stopwords = ['the', 'an', 'a', 'of', 'to']\n",
    "    assert examples.strip_stopwords(sentence, stopwords) == 'quick brown fox jumped over lazy dog'\n",
    "```\n",
    "\n",
    "We could `assert` any Boolean condition, e.g.:\n",
    "```python\n",
    "assert examples.strip_stopwords(sentence, stopwords) != 'the quick brown fox jumped over the lazy dog'\n",
    "```"
   ]
  },
  {
   "cell_type": "markdown",
   "metadata": {
    "slideshow": {
     "slide_type": "slide"
    }
   },
   "source": [
    "It is also important to consider what your code should _not_ do, i.e., when should it fail and what exceptions should it raise? Our area calculation function should only work with numeric types:\n",
    "\n",
    "```python\n",
    "def test_area_type_handling():\n",
    "    with pytest.raises(TypeError):\n",
    "        examples.rectangle_area(5,'testing')\n",
    "```\n",
    "\n",
    "`assert` and `with pytest.raises(___Error): ....` are two workhorse commands."
   ]
  },
  {
   "cell_type": "markdown",
   "metadata": {
    "slideshow": {
     "slide_type": "slide"
    }
   },
   "source": [
    "### Guided practice: running a test suite\n",
    "\n",
    "A basic unit testing battery requires a couple things:\n",
    "\n",
    "- A script with your test functions, each of which has a name starting with \"test\"\n",
    "- The module you want to test (for simplicity, in the same directory)\n",
    "\n",
    "Py.test will automatically detect and run your tests for you. Let's try it! The bash command is:\n",
    "\n",
    "```bash\n",
    "py.test [-v] test_script.py\n",
    "```"
   ]
  },
  {
   "cell_type": "markdown",
   "metadata": {
    "slideshow": {
     "slide_type": "slide"
    }
   },
   "source": [
    "Often you will need to test methods of classes - and for this you may need to instantiate the class with specific values. Take yesterday's Game of War code, for example:\n",
    "\n",
    "```python\n",
    "class War():\n",
    "    def __init__(self):\n",
    "\n",
    "        self.newDeck = Deck()\n",
    "        self.newDeck.shuffle()\n",
    "        \n",
    "        self.handOne = Hand()\n",
    "        self.handTwo = Hand()\n",
    "        self.tableau = Hand()\n",
    "        return\n",
    "\n",
    "        \n",
    "    def deal(self):\n",
    "        while len(self.newDeck.cards) > 0:\n",
    "            self.handOne.add_card(self.newDeck.draw_card()) # add one card to handOne\n",
    "            self.handTwo.add_card(self.newDeck.draw_card())\n",
    "        return\n",
    " ```"
   ]
  },
  {
   "cell_type": "markdown",
   "metadata": {
    "slideshow": {
     "slide_type": "slide"
    }
   },
   "source": [
    "Let's say we want to make sure that `deal` leaves handOne and handTwo with an equal number of cards. Our initialization (right now) ensures that they do. So how could we make sure our test will work when it needs to?\n",
    "\n",
    "\"Fixtures\". They're a little involved, but the basic syntax is:\n",
    "\n",
    "```python\n",
    "@pytest.fixture()\n",
    "def setup():\n",
    "\tw = cardgames.War()\n",
    "    w.handOne.add_card(cardgames.Card())\n",
    "\treturn w\n",
    "\n",
    "def test_equal_hands(setup):\n",
    "    setup.deal()\n",
    "    assert len(setup.handOne.cards) == len(setup.handTwo.cards)\n",
    "```\n"
   ]
  },
  {
   "cell_type": "markdown",
   "metadata": {
    "slideshow": {
     "slide_type": "slide"
    }
   },
   "source": [
    "### Independent practice: writing test functions\n",
    "\n",
    "Let's take a step toward production! Add at least one more unit test for the trivial example functions, and two more unit tests for the Game of War solution code (or your version). "
   ]
  },
  {
   "cell_type": "markdown",
   "metadata": {
    "slideshow": {
     "slide_type": "slide"
    }
   },
   "source": [
    "### Refactoring\n",
    "\n",
    "This software development vocabulary word just means \"improving your code\". The general axes are:\n",
    "\n",
    "- Efficiency\n",
    "- Readability\n",
    "- Extensibility"
   ]
  },
  {
   "cell_type": "markdown",
   "metadata": {
    "slideshow": {
     "slide_type": "slide"
    }
   },
   "source": [
    "Some easy wins:\n",
    "\n",
    "- Don't Repeat Yourself (DRY)\n",
    "- Use helpful names\n",
    "- Comment your code!\n",
    "\n",
    "You can also improve your code's readability, and your own credibility, by following a community standard stylistic convention. The most popular is [PEP-8](https://www.python.org/dev/peps/pep-0008/).\n",
    "\n",
    "Please take a few minutes to skim the documentation."
   ]
  },
  {
   "cell_type": "markdown",
   "metadata": {
    "slideshow": {
     "slide_type": "slide"
    }
   },
   "source": [
    "\"Linters\" are tools for checking your code for errors. There are style linters available, as standalone programs or integrations to IDEs / text editors.\n",
    "\n",
    "We'll use an easy one:\n",
    "\n",
    "```bash\n",
    "$pip install -U pep8\n",
    "$pep8 tictactoe.py\n",
    "```"
   ]
  },
  {
   "cell_type": "markdown",
   "metadata": {
    "slideshow": {
     "slide_type": "slide"
    }
   },
   "source": [
    "Let's look at a few refactoring examples together:\n",
    "\n",
    "```python\n",
    "if isSpecialDeal():\n",
    "    total = price * 0.95\n",
    "    send()\n",
    "else:\n",
    "    total = price * 0.98\n",
    "    send()\n",
    "```\n",
    "\n",
    "> Check: what notion is this violating? How can we improve it?\n",
    "\n",
    "\n",
    "(Examples from https://github.com/shvetsgroup/refactoring.guru-examples/tree/master/simple/python)"
   ]
  },
  {
   "cell_type": "markdown",
   "metadata": {
    "slideshow": {
     "slide_type": "slide"
    }
   },
   "source": [
    "Don't repeat yourself:\n",
    "\n",
    "```python\n",
    "if isSpecialDeal():\n",
    "    total = price * 0.95\n",
    "else:\n",
    "    total = price * 0.98\n",
    "send()\n",
    "```\n",
    "\n",
    "How about this one?\n",
    "\n",
    "```python\n",
    "def output(self, type):\n",
    "    if name == \"banner\"\n",
    "        # Print the banner.\n",
    "        # ...\n",
    "    if name == \"info\"\n",
    "        # Print the info.\n",
    "        # ...\n",
    "```\n",
    "\n"
   ]
  },
  {
   "cell_type": "markdown",
   "metadata": {
    "slideshow": {
     "slide_type": "slide"
    }
   },
   "source": [
    "Make it easier to adjust what happens in each case:\n",
    "\n",
    "```python\n",
    "def outputBanner(self):\n",
    "    # Print the banner.\n",
    "    # ...\n",
    "\n",
    "def outputInfo(self):\n",
    "    # Print the info.\n",
    "    # ...\n",
    "```\n",
    "\n",
    "And here?\n",
    "\n",
    "```python\n",
    "def foundPerson(people):\n",
    "    for i in range(len(people)):\n",
    "        if people[i] == \"Alice\":\n",
    "            return \"Alice\"\n",
    "        if people[i] == \"John\":\n",
    "            return \"John\"\n",
    "        if people[i] == \"Kent\":\n",
    "            return \"Kent\"\n",
    "    return \"\"\n",
    "```"
   ]
  },
  {
   "cell_type": "markdown",
   "metadata": {
    "slideshow": {
     "slide_type": "slide"
    }
   },
   "source": [
    "That code wasn't very Pythonic, plus it doubles the risk of typos.\n",
    "\n",
    "```python\n",
    "def foundPerson(people):\n",
    "    candidates = [\"Alice\", \"John\", \"Kent\"]\n",
    "    for i in range(len(people)):\n",
    "        if people[i] in candidates:\n",
    "            return people[i]\n",
    "    return \"\"\n",
    "```"
   ]
  },
  {
   "cell_type": "markdown",
   "metadata": {
    "slideshow": {
     "slide_type": "slide"
    }
   },
   "source": [
    "### Additional resources\n",
    "\n",
    "Software development\n",
    "\n",
    "- http://treycausey.com/software_dev_skills.html\n",
    "- http://12factor.net/\n",
    "\n",
    "Logging\n",
    "\n",
    "- http://victorlin.me/posts/2012/08/26/good-logging-practice-in-python\n",
    "- http://www.blog.pythonlibrary.org/2012/08/02/python-101-an-intro-to-logging/\n",
    "\n",
    "(Unit) testing\n",
    "- http://docs.python-guide.org/en/latest/writing/tests/\n",
    "- http://stackoverflow.com/questions/4904096/whats-the-difference-between-unit-functional-acceptance-and-integration-test\n"
   ]
  }
 ],
 "metadata": {
  "celltoolbar": "Slideshow",
  "kernelspec": {
   "display_name": "Python 2",
   "language": "python",
   "name": "python2"
  },
  "language_info": {
   "codemirror_mode": {
    "name": "ipython",
    "version": 2
   },
   "file_extension": ".py",
   "mimetype": "text/x-python",
   "name": "python",
   "nbconvert_exporter": "python",
   "pygments_lexer": "ipython2",
   "version": "2.7.12"
  }
 },
 "nbformat": 4,
 "nbformat_minor": 0
}
