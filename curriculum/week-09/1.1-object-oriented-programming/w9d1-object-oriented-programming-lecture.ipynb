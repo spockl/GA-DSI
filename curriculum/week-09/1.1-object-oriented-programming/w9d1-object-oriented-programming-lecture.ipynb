{
 "cells": [
  {
   "cell_type": "markdown",
   "metadata": {
    "slideshow": {
     "slide_type": "slide"
    }
   },
   "source": [
    "# ![](https://ga-dash.s3.amazonaws.com/production/assets/logo-9f88ae6c9c3871690e33280fcf557f33.png) Object-oriented programming in Python\n",
    "Week 9 | Lesson 1.1"
   ]
  },
  {
   "cell_type": "markdown",
   "metadata": {
    "slideshow": {
     "slide_type": "slide"
    }
   },
   "source": [
    "### LEARNING OBJECTIVES\n",
    "*After this lesson, you will be able to:*\n",
    "- Describe object-oriented programming\n",
    "- Create class objects in Python"
   ]
  },
  {
   "cell_type": "markdown",
   "metadata": {
    "slideshow": {
     "slide_type": "slide"
    }
   },
   "source": [
    "# Object Oriented Programming\n",
    "Object oriented programming is a style of programming where data and the operations that manipulate them are organized into classes and methods. \n",
    "\n",
    "What are classes and methods? I'm glad you asked. "
   ]
  },
  {
   "cell_type": "markdown",
   "metadata": {
    "slideshow": {
     "slide_type": "slide"
    }
   },
   "source": [
    "# Classes\n",
    "A ```class``` is a little like a function. They let you define a general case to repeat operations you've written. \n",
    "\n",
    "The difference is a ```class``` can hold both variables and functions that relate to each other. These are called attributes. \n",
    "\n",
    "Let's start by defining an empty class called ```Point```\n"
   ]
  },
  {
   "cell_type": "code",
   "execution_count": 1,
   "metadata": {
    "collapsed": false,
    "slideshow": {
     "slide_type": "fragment"
    }
   },
   "outputs": [],
   "source": [
    "class Point(object):\n",
    "    '''Sample DocString'''\n"
   ]
  },
  {
   "cell_type": "code",
   "execution_count": 2,
   "metadata": {
    "collapsed": false,
    "slideshow": {
     "slide_type": "fragment"
    }
   },
   "outputs": [
    {
     "data": {
      "text/plain": [
       "__main__.Point"
      ]
     },
     "execution_count": 2,
     "metadata": {},
     "output_type": "execute_result"
    }
   ],
   "source": [
    "Point"
   ]
  },
  {
   "cell_type": "markdown",
   "metadata": {
    "slideshow": {
     "slide_type": "slide"
    }
   },
   "source": [
    "Let's create a copy of Point called version1. This is called an instance of the Point class"
   ]
  },
  {
   "cell_type": "code",
   "execution_count": 3,
   "metadata": {
    "collapsed": false,
    "slideshow": {
     "slide_type": "fragment"
    }
   },
   "outputs": [],
   "source": [
    "version1 = Point()"
   ]
  },
  {
   "cell_type": "markdown",
   "metadata": {
    "slideshow": {
     "slide_type": "slide"
    }
   },
   "source": [
    "## Variables\n",
    "We can define variables within the class that don't apply to the general case:"
   ]
  },
  {
   "cell_type": "code",
   "execution_count": 4,
   "metadata": {
    "collapsed": false,
    "slideshow": {
     "slide_type": "fragment"
    }
   },
   "outputs": [
    {
     "data": {
      "text/plain": [
       "4"
      ]
     },
     "execution_count": 4,
     "metadata": {},
     "output_type": "execute_result"
    }
   ],
   "source": [
    "version1.x = 4\n",
    "version1.y = 7\n",
    "version1.x"
   ]
  },
  {
   "cell_type": "code",
   "execution_count": 5,
   "metadata": {
    "collapsed": false,
    "slideshow": {
     "slide_type": "slide"
    }
   },
   "outputs": [
    {
     "data": {
      "text/plain": [
       "['__class__',\n",
       " '__delattr__',\n",
       " '__dict__',\n",
       " '__doc__',\n",
       " '__format__',\n",
       " '__getattribute__',\n",
       " '__hash__',\n",
       " '__init__',\n",
       " '__module__',\n",
       " '__new__',\n",
       " '__reduce__',\n",
       " '__reduce_ex__',\n",
       " '__repr__',\n",
       " '__setattr__',\n",
       " '__sizeof__',\n",
       " '__str__',\n",
       " '__subclasshook__',\n",
       " '__weakref__',\n",
       " 'x',\n",
       " 'y']"
      ]
     },
     "execution_count": 5,
     "metadata": {},
     "output_type": "execute_result"
    }
   ],
   "source": [
    "dir(version1)"
   ]
  },
  {
   "cell_type": "code",
   "execution_count": 6,
   "metadata": {
    "collapsed": false,
    "slideshow": {
     "slide_type": "slide"
    }
   },
   "outputs": [
    {
     "data": {
      "text/plain": [
       "['__class__',\n",
       " '__delattr__',\n",
       " '__dict__',\n",
       " '__doc__',\n",
       " '__format__',\n",
       " '__getattribute__',\n",
       " '__hash__',\n",
       " '__init__',\n",
       " '__module__',\n",
       " '__new__',\n",
       " '__reduce__',\n",
       " '__reduce_ex__',\n",
       " '__repr__',\n",
       " '__setattr__',\n",
       " '__sizeof__',\n",
       " '__str__',\n",
       " '__subclasshook__',\n",
       " '__weakref__']"
      ]
     },
     "execution_count": 6,
     "metadata": {},
     "output_type": "execute_result"
    }
   ],
   "source": [
    "dir(Point)"
   ]
  },
  {
   "cell_type": "code",
   "execution_count": 7,
   "metadata": {
    "collapsed": true,
    "slideshow": {
     "slide_type": "slide"
    }
   },
   "outputs": [],
   "source": [
    "# Create an instance of Point\n",
    "version13 = Point()"
   ]
  },
  {
   "cell_type": "code",
   "execution_count": 8,
   "metadata": {
    "collapsed": true,
    "slideshow": {
     "slide_type": "slide"
    }
   },
   "outputs": [],
   "source": [
    "# Add in a few variables. Print them out\n",
    "\n",
    "version13.x = 9"
   ]
  },
  {
   "cell_type": "code",
   "execution_count": 9,
   "metadata": {
    "collapsed": false
   },
   "outputs": [
    {
     "data": {
      "text/plain": [
       "9"
      ]
     },
     "execution_count": 9,
     "metadata": {},
     "output_type": "execute_result"
    }
   ],
   "source": [
    "version13.x"
   ]
  },
  {
   "cell_type": "markdown",
   "metadata": {
    "slideshow": {
     "slide_type": "slide"
    }
   },
   "source": [
    "## Methods\n",
    "Methods are functions that are defined within a class. "
   ]
  },
  {
   "cell_type": "code",
   "execution_count": 10,
   "metadata": {
    "collapsed": true,
    "slideshow": {
     "slide_type": "slide"
    }
   },
   "outputs": [],
   "source": [
    "class Time():\n",
    "    def print_time(self):\n",
    "        print '%.2d:%.2d:%.2d' % (self.hour, self.minute, self.second)"
   ]
  },
  {
   "cell_type": "markdown",
   "metadata": {
    "slideshow": {
     "slide_type": "fragment"
    }
   },
   "source": [
    "Calling 'self' tells the method to refer to the variables and other methods within the class instance. "
   ]
  },
  {
   "cell_type": "code",
   "execution_count": 11,
   "metadata": {
    "collapsed": false,
    "slideshow": {
     "slide_type": "slide"
    }
   },
   "outputs": [
    {
     "name": "stdout",
     "output_type": "stream",
     "text": [
      "09:15:00\n"
     ]
    }
   ],
   "source": [
    "morning = Time() #define the class\n",
    "morning.hour = 9 #set the attributes\n",
    "morning.minute = 15\n",
    "morning.second = 0\n",
    "morning.print_time() #call the method"
   ]
  },
  {
   "cell_type": "code",
   "execution_count": 17,
   "metadata": {
    "collapsed": false,
    "slideshow": {
     "slide_type": "slide"
    }
   },
   "outputs": [
    {
     "name": "stdout",
     "output_type": "stream",
     "text": [
      "12:15:00\n"
     ]
    }
   ],
   "source": [
    "# Create an instance called afternoon and assign times to it\n",
    "# Every attribute needs to be filled. extra ones will be ignored\n",
    "afternoon = Time()\n",
    "afternoon.hour = 12\n",
    "afternoon.minute = 15\n",
    "afternoon.second = 0\n",
    "\n",
    "afternoon.print_time()"
   ]
  },
  {
   "cell_type": "code",
   "execution_count": null,
   "metadata": {
    "collapsed": true,
    "slideshow": {
     "slide_type": "fragment"
    }
   },
   "outputs": [],
   "source": [
    "# Print out the time in afternoon\n",
    "\n"
   ]
  },
  {
   "cell_type": "markdown",
   "metadata": {
    "slideshow": {
     "slide_type": "slide"
    }
   },
   "source": [
    "Let's add in a new method that converts time to integer:"
   ]
  },
  {
   "cell_type": "code",
   "execution_count": 14,
   "metadata": {
    "collapsed": true,
    "slideshow": {
     "slide_type": "fragment"
    }
   },
   "outputs": [],
   "source": [
    "class Time():\n",
    "    def print_time(self):\n",
    "        print '%.2d:%.2d:%.2d' % (self.hour, self.minute, self.second)\n",
    "        \n",
    "    def time_to_int(self):\n",
    "        '''Returns the current time in seconds'''\n",
    "        minutes = self.hour * 60 + self.minute\n",
    "        return minutes * 60 + self.second\n",
    "    "
   ]
  },
  {
   "cell_type": "markdown",
   "metadata": {
    "slideshow": {
     "slide_type": "fragment"
    }
   },
   "source": [
    "Again, note that 'self.hour' refers to the value of hour within the class"
   ]
  },
  {
   "cell_type": "code",
   "execution_count": 15,
   "metadata": {
    "collapsed": false,
    "slideshow": {
     "slide_type": "slide"
    }
   },
   "outputs": [
    {
     "data": {
      "text/plain": [
       "33300"
      ]
     },
     "execution_count": 15,
     "metadata": {},
     "output_type": "execute_result"
    }
   ],
   "source": [
    "morning = Time() #define the class\n",
    "morning.hour = 9 #set the attributes\n",
    "morning.minute = 15\n",
    "morning.second = 0\n",
    "morning.time_to_int() #call the method"
   ]
  },
  {
   "cell_type": "markdown",
   "metadata": {
    "slideshow": {
     "slide_type": "slide"
    }
   },
   "source": [
    "Modify the variables and run the functions again:"
   ]
  },
  {
   "cell_type": "code",
   "execution_count": 16,
   "metadata": {
    "collapsed": false,
    "slideshow": {
     "slide_type": "slide"
    }
   },
   "outputs": [
    {
     "data": {
      "text/plain": [
       "36900"
      ]
     },
     "execution_count": 16,
     "metadata": {},
     "output_type": "execute_result"
    }
   ],
   "source": [
    "morning.hour += 1\n",
    "morning.time_to_int()"
   ]
  },
  {
   "cell_type": "code",
   "execution_count": 19,
   "metadata": {
    "collapsed": false,
    "slideshow": {
     "slide_type": "slide"
    }
   },
   "outputs": [
    {
     "data": {
      "text/plain": [
       "44100"
      ]
     },
     "execution_count": 19,
     "metadata": {},
     "output_type": "execute_result"
    }
   ],
   "source": [
    "# Reinstantiate afternoon. \n",
    "afternoon = Time()\n",
    "afternoon.hour = 12\n",
    "afternoon.minute = 15\n",
    "afternoon.second = 0\n",
    "\n",
    "# Convert the time in afternoon to an integer\n",
    "afternoon.time_to_int()\n",
    "\n",
    "# Change the values in afternoon. Convert that to an integer. \n",
    "\n"
   ]
  },
  {
   "cell_type": "code",
   "execution_count": 20,
   "metadata": {
    "collapsed": false
   },
   "outputs": [
    {
     "data": {
      "text/plain": [
       "47700"
      ]
     },
     "execution_count": 20,
     "metadata": {},
     "output_type": "execute_result"
    }
   ],
   "source": [
    "afternoon.hour += 1\n",
    "afternoon.time_to_int()"
   ]
  },
  {
   "cell_type": "markdown",
   "metadata": {
    "slideshow": {
     "slide_type": "slide"
    }
   },
   "source": [
    "`time_to_int()` is called a 'pure' function because it returns a new value. You can also write 'modifier' functions that modify your attributes in place (imagine a funciton that sets a new value for self.seconds).\n",
    "\n",
    "Add a modifier method `int_to_time()` that takes in a value for seconds and resets the hour, minute and second values to that value. "
   ]
  },
  {
   "cell_type": "code",
   "execution_count": 43,
   "metadata": {
    "collapsed": true,
    "slideshow": {
     "slide_type": "slide"
    }
   },
   "outputs": [],
   "source": [
    "class Time():\n",
    "    def print_time(self):\n",
    "        print '%.2d:%.2d:%.2d' % (self.hour, self.minute, self.second)\n",
    "        \n",
    "    def time_to_int(self):\n",
    "        '''Returns the current time in seconds'''\n",
    "        minutes = self.hour * 60 + self.minute\n",
    "        return minutes * 60 + self.second\n",
    "    \n",
    "    def int_to_time(self, seconds):\n",
    "        '''Resets the values for hour, minute and second to a new \n",
    "        value, given by a number of seconds\n",
    "        '''\n",
    "        \n",
    "        # Your code goes here\n",
    "        # self.hour = \n",
    "        # self.minute =\n",
    "        # self.second =\n",
    "        \n",
    "        self.hour, self.minute = divmod(seconds, 3600)\n",
    "        self.minute, self.second = divmod(self.minute, 60)    \n",
    "        "
   ]
  },
  {
   "cell_type": "code",
   "execution_count": 44,
   "metadata": {
    "collapsed": true
   },
   "outputs": [],
   "source": [
    "def int_to_time(self, seconds):\n",
    "    self.hour, self.minute = divmod(seconds, 3600)\n",
    "    self.minute, self.second = divmod(self.minute, 60)\n",
    "   "
   ]
  },
  {
   "cell_type": "code",
   "execution_count": null,
   "metadata": {
    "collapsed": false
   },
   "outputs": [],
   "source": []
  },
  {
   "cell_type": "code",
   "execution_count": 45,
   "metadata": {
    "collapsed": false,
    "slideshow": {
     "slide_type": "slide"
    }
   },
   "outputs": [
    {
     "name": "stdout",
     "output_type": "stream",
     "text": [
      "09:15:00\n"
     ]
    }
   ],
   "source": [
    "morning = Time() #define the class\n",
    "morning.hour = 9 #set the attributes\n",
    "morning.minute = 15\n",
    "morning.second = 0\n",
    "morning.print_time() #call the method"
   ]
  },
  {
   "cell_type": "code",
   "execution_count": 46,
   "metadata": {
    "collapsed": false,
    "slideshow": {
     "slide_type": "fragment"
    }
   },
   "outputs": [
    {
     "name": "stdout",
     "output_type": "stream",
     "text": [
      "09:00:00\n"
     ]
    }
   ],
   "source": [
    "morning.int_to_time(32400) # A random example\n",
    "morning.print_time()"
   ]
  },
  {
   "cell_type": "markdown",
   "metadata": {
    "slideshow": {
     "slide_type": "slide"
    }
   },
   "source": [
    "### Interacting classes\n",
    "This is a little complicated, but we can write a method that compares two instances of the same class. \n",
    "\n",
    "Here's a method `is_after()` which checks if one Time class is before another: "
   ]
  },
  {
   "cell_type": "code",
   "execution_count": 47,
   "metadata": {
    "collapsed": true,
    "slideshow": {
     "slide_type": "slide"
    }
   },
   "outputs": [],
   "source": [
    "class Time():\n",
    "    def print_time(self):\n",
    "        print '%.2d:%.2d:%.2d' % (self.hour, self.minute, self.second)\n",
    "        \n",
    "    def time_to_int(self):\n",
    "        '''Returns the current time in seconds'''\n",
    "        minutes = self.hour * 60 + self.minute\n",
    "        return minutes * 60 + self.second\n",
    "    \n",
    "    def int_to_time(self, seconds):\n",
    "        '''Resets the values for hour, minute and second to a new \n",
    "        value, given by a number of seconds\n",
    "        '''\n",
    "        self.hour, self.minute = divmod(seconds, 3600)\n",
    "        self.minute, self.second = divmod(self.minute, 60)\n",
    "    \n",
    "    def is_after(self, other):\n",
    "        '''Compares two time classes'''\n",
    "        return self.time_to_int() > other.time_to_int()"
   ]
  },
  {
   "cell_type": "code",
   "execution_count": 48,
   "metadata": {
    "collapsed": false,
    "slideshow": {
     "slide_type": "slide"
    }
   },
   "outputs": [
    {
     "name": "stdout",
     "output_type": "stream",
     "text": [
      "09:15:00\n"
     ]
    }
   ],
   "source": [
    "morning = Time() #define the class\n",
    "morning.hour = 9 #set the attributes\n",
    "morning.minute = 15\n",
    "morning.second = 0\n",
    "morning.print_time() #call the method"
   ]
  },
  {
   "cell_type": "code",
   "execution_count": 49,
   "metadata": {
    "collapsed": false,
    "slideshow": {
     "slide_type": "slide"
    }
   },
   "outputs": [
    {
     "name": "stdout",
     "output_type": "stream",
     "text": [
      "16:45:00\n"
     ]
    }
   ],
   "source": [
    "afternoon = Time() #define another class\n",
    "afternoon.hour = 16 #set the attributes\n",
    "afternoon.minute = 45\n",
    "afternoon.second = 0\n",
    "afternoon.print_time() #call the method"
   ]
  },
  {
   "cell_type": "code",
   "execution_count": 50,
   "metadata": {
    "collapsed": false,
    "slideshow": {
     "slide_type": "slide"
    }
   },
   "outputs": [
    {
     "data": {
      "text/plain": [
       "False"
      ]
     },
     "execution_count": 50,
     "metadata": {},
     "output_type": "execute_result"
    }
   ],
   "source": [
    "morning.is_after(afternoon)"
   ]
  },
  {
   "cell_type": "code",
   "execution_count": 51,
   "metadata": {
    "collapsed": false,
    "slideshow": {
     "slide_type": "fragment"
    }
   },
   "outputs": [
    {
     "data": {
      "text/plain": [
       "True"
      ]
     },
     "execution_count": 51,
     "metadata": {},
     "output_type": "execute_result"
    }
   ],
   "source": [
    "afternoon.is_after(morning)"
   ]
  },
  {
   "cell_type": "markdown",
   "metadata": {
    "slideshow": {
     "slide_type": "slide"
    }
   },
   "source": [
    "`isinstance` is a built in function that checks if an instance belongs to a class:"
   ]
  },
  {
   "cell_type": "code",
   "execution_count": 52,
   "metadata": {
    "collapsed": false,
    "slideshow": {
     "slide_type": "fragment"
    }
   },
   "outputs": [
    {
     "data": {
      "text/plain": [
       "True"
      ]
     },
     "execution_count": 52,
     "metadata": {},
     "output_type": "execute_result"
    }
   ],
   "source": [
    "isinstance(morning, Time)"
   ]
  },
  {
   "cell_type": "markdown",
   "metadata": {
    "slideshow": {
     "slide_type": "slide"
    }
   },
   "source": [
    "To be thorough, you could rewrite that last method to include a check for AttributeError:\n",
    "```python\n",
    "\n",
    "def is_after(self, other):\n",
    "    '''Compares two time classes'''\n",
    "    if isinstance(other, Time):\n",
    "        return self.time_to_int() > other.time_to_int()\n",
    "```"
   ]
  },
  {
   "cell_type": "markdown",
   "metadata": {
    "slideshow": {
     "slide_type": "slide"
    }
   },
   "source": [
    "## Built in methods:  `__init__`\n",
    "Python classes come with some built in methods that do specific things when invoked. \n",
    "\n",
    "`__init__` initializes variables that you pass in as arguments "
   ]
  },
  {
   "cell_type": "code",
   "execution_count": 53,
   "metadata": {
    "collapsed": true,
    "slideshow": {
     "slide_type": "slide"
    }
   },
   "outputs": [],
   "source": [
    "class Time():\n",
    "    def __init__(self, hour=0, minute=0, second=0):\n",
    "        self.hour = hour\n",
    "        self.minute = minute\n",
    "        self.second = second\n",
    "    \n",
    "    def print_time(self):\n",
    "        print '%.2d:%.2d:%.2d' % (self.hour, self.minute, self.second)\n",
    "        \n",
    "    def time_to_int(self):\n",
    "        '''Returns the current time in seconds'''\n",
    "        minutes = self.hour * 60 + self.minute\n",
    "        return minutes * 60 + self.second\n",
    "    \n",
    "    def int_to_time(self, seconds):\n",
    "        '''Resets the values for hour, minute and second to a new \n",
    "        value, given by a number of seconds\n",
    "        '''\n",
    "        self.hour, self.minute = divmod(seconds, 3600)\n",
    "        self.minute, self.second = divmod(self.minute, 60)\n",
    "    \n",
    "    def is_after(self, other):\n",
    "        '''Compares two time classes'''\n",
    "        if isinstance(other, Time):\n",
    "            return self.time_to_int() > other.time_to_int()"
   ]
  },
  {
   "cell_type": "code",
   "execution_count": 54,
   "metadata": {
    "collapsed": false,
    "slideshow": {
     "slide_type": "slide"
    }
   },
   "outputs": [
    {
     "name": "stdout",
     "output_type": "stream",
     "text": [
      "09:15:00\n"
     ]
    }
   ],
   "source": [
    "morning = Time(9, 15, 0) #variables are defined when we invoke the class!\n",
    "morning.print_time()"
   ]
  },
  {
   "cell_type": "code",
   "execution_count": 55,
   "metadata": {
    "collapsed": false,
    "slideshow": {
     "slide_type": "fragment"
    }
   },
   "outputs": [
    {
     "name": "stdout",
     "output_type": "stream",
     "text": [
      "12:15:00\n"
     ]
    }
   ],
   "source": [
    "# Create afternoon, passing in times as arguments\n",
    "\n",
    "afternoon = Time(12, 15, 0)\n",
    "afternoon.print_time()"
   ]
  },
  {
   "cell_type": "code",
   "execution_count": 56,
   "metadata": {
    "collapsed": false,
    "slideshow": {
     "slide_type": "fragment"
    }
   },
   "outputs": [
    {
     "data": {
      "text/plain": [
       "False"
      ]
     },
     "execution_count": 56,
     "metadata": {},
     "output_type": "execute_result"
    }
   ],
   "source": [
    "morning.is_after(afternoon)"
   ]
  },
  {
   "cell_type": "code",
   "execution_count": 62,
   "metadata": {
    "collapsed": false
   },
   "outputs": [],
   "source": [
    "#how to change print out to 12-hour. change first def to:\n",
    "def print_time(self):\n",
    "    if self.hour < 12:\n",
    "        print '%.2d:%.2d:%.2d' % (self.hour, self.minute, self.second)\n",
    "    else:\n",
    "        print '%.2d:%.2d:%.2d' % (self.hour -12, self.minute, self.second)"
   ]
  },
  {
   "cell_type": "markdown",
   "metadata": {
    "slideshow": {
     "slide_type": "slide"
    }
   },
   "source": [
    "### Built in method 2: `__str__`\n",
    "Here's one more. You can look up more built in methods on your own after this\n",
    "\n",
    "`__str__` does the same thing we told `print_time()` to do. Swap out `print` for `return`. The difference is now `__str__` does some Python magic behind the scenes so we can call `print` on the class directly. "
   ]
  },
  {
   "cell_type": "code",
   "execution_count": 57,
   "metadata": {
    "collapsed": false,
    "slideshow": {
     "slide_type": "slide"
    }
   },
   "outputs": [],
   "source": [
    "class Time():\n",
    "    def __init__(self, hour=0, minute=0, second=0):\n",
    "        self.hour = hour\n",
    "        self.minute = minute\n",
    "        self.second = second\n",
    "    \n",
    "    def __str__(self):\n",
    "        return '%.2d:%.2d:%.2d' % (self.hour, self.minute, self.second)\n",
    "        \n",
    "    def time_to_int(self):\n",
    "        '''Returns the current time in seconds'''\n",
    "        minutes = self.hour * 60 + self.minute\n",
    "        return minutes * 60 + self.second\n",
    "    \n",
    "    def int_to_time(self, seconds):\n",
    "        '''Resets the values for hour, minute and second to a new \n",
    "        value, given by a number of seconds\n",
    "        '''\n",
    "        self.hour, self.minute = divmod(seconds, 3600)\n",
    "        self.minute, self.second = divmod(self.minute, 60)\n",
    "    \n",
    "    def is_after(self, other):\n",
    "        '''Compares two time classes'''\n",
    "        if isinstance(other, Time):\n",
    "            return self.time_to_int() > other.time_to_int()"
   ]
  },
  {
   "cell_type": "code",
   "execution_count": 59,
   "metadata": {
    "collapsed": false,
    "slideshow": {
     "slide_type": "slide"
    }
   },
   "outputs": [
    {
     "name": "stdout",
     "output_type": "stream",
     "text": [
      "09:15:00\n"
     ]
    }
   ],
   "source": [
    "morning = Time(9, 15, 0)\n",
    "print morning"
   ]
  },
  {
   "cell_type": "code",
   "execution_count": 60,
   "metadata": {
    "collapsed": false,
    "slideshow": {
     "slide_type": "fragment"
    }
   },
   "outputs": [
    {
     "name": "stdout",
     "output_type": "stream",
     "text": [
      "12:15:00\n"
     ]
    }
   ],
   "source": [
    "# Print afternoon\n",
    "afternoon = Time(12, 15, 0)\n",
    "print afternoon"
   ]
  },
  {
   "cell_type": "markdown",
   "metadata": {
    "slideshow": {
     "slide_type": "slide"
    }
   },
   "source": [
    "#### Practice:\n",
    "Add a method called `increment(n)` below that increases the value of time by n seconds. "
   ]
  },
  {
   "cell_type": "code",
   "execution_count": 67,
   "metadata": {
    "collapsed": true,
    "slideshow": {
     "slide_type": "slide"
    }
   },
   "outputs": [],
   "source": [
    "class Time():\n",
    "    def __init__(self, hour=0, minute=0, second=0):\n",
    "        self.hour = hour\n",
    "        self.minute = minute\n",
    "        self.second = second\n",
    "    \n",
    "    def __str__(self):\n",
    "        return '%.2d:%.2d:%.2d' % (self.hour, self.minute, self.second)\n",
    "        \n",
    "    def time_to_int(self):\n",
    "        '''Returns the current time in seconds'''\n",
    "        minutes = self.hour * 60 + self.minute\n",
    "        return minutes * 60 + self.second\n",
    "    \n",
    "    def int_to_time(self, seconds):\n",
    "        '''Resets the values for hour, minute and second to a new \n",
    "        value, given by a number of seconds\n",
    "        '''\n",
    "        self.hour, self.minute = divmod(seconds, 3600)\n",
    "        self.minute, self.second = divmod(self.minute, 60)\n",
    "    \n",
    "    def is_after(self, other):\n",
    "        '''Compares two time classes'''\n",
    "        if isinstance(other, Time):\n",
    "            return self.time_to_int() > other.time_to_int()\n",
    "        \n",
    "    # YOUR CODE HERE\n",
    " \n",
    "        "
   ]
  },
  {
   "cell_type": "code",
   "execution_count": 77,
   "metadata": {
    "collapsed": true
   },
   "outputs": [],
   "source": [
    "def increment(self, n):\n",
    "    self.totalTime = self.time_to_int()\n",
    "    self.totalTime += n\n",
    "    self.int_to_time(self.totalTime)"
   ]
  },
  {
   "cell_type": "code",
   "execution_count": 78,
   "metadata": {
    "collapsed": false
   },
   "outputs": [
    {
     "name": "stdout",
     "output_type": "stream",
     "text": [
      "None\n"
     ]
    }
   ],
   "source": [
    "morning = Time() #define the class\n",
    "morning.hour = 9 #set the attributes\n",
    "morning.minute = 15\n",
    "morning.second = 0\n",
    "print increment(morning, 5)"
   ]
  },
  {
   "cell_type": "markdown",
   "metadata": {
    "slideshow": {
     "slide_type": "slide"
    }
   },
   "source": [
    "Then, define an instance of time at 11:46pm. \n",
    "\n",
    "Write a for-loop to add one minute to the instance at a time. Print out the time at each point.\n",
    "\n",
    "When the clock reaches midnight, print \"Happy New Year\""
   ]
  },
  {
   "cell_type": "code",
   "execution_count": 79,
   "metadata": {
    "collapsed": false
   },
   "outputs": [
    {
     "ename": "SyntaxError",
     "evalue": "invalid syntax (<ipython-input-79-a1068ef55952>, line 9)",
     "output_type": "error",
     "traceback": [
      "\u001b[0;36m  File \u001b[0;32m\"<ipython-input-79-a1068ef55952>\"\u001b[0;36m, line \u001b[0;32m9\u001b[0m\n\u001b[0;31m    if self.hour = 24:\u001b[0m\n\u001b[0m                 ^\u001b[0m\n\u001b[0;31mSyntaxError\u001b[0m\u001b[0;31m:\u001b[0m invalid syntax\n"
     ]
    }
   ],
   "source": [
    "NewYears = Time()\n",
    "NewYears.hour = 23\n",
    "NewYears.minute = 46\n",
    "NewYears.second = 0\n",
    "\n",
    "for m in self.minute:\n",
    "    if m <= 59: \n",
    "        print m + 1\n",
    "    if self.hour = 24:\n",
    "        print 'Happy New Year'\n",
    "        \n",
    "    "
   ]
  },
  {
   "cell_type": "code",
   "execution_count": null,
   "metadata": {
    "collapsed": true
   },
   "outputs": [],
   "source": [
    "t = Time()"
   ]
  },
  {
   "cell_type": "markdown",
   "metadata": {
    "slideshow": {
     "slide_type": "slide"
    }
   },
   "source": [
    "# Classes calling classes\n",
    "In this example, we'll use classes to create a deck of cards. \n",
    "\n",
    "To do that, we'll start by creating a class called 'Card' so each card can be an instance of the same class. "
   ]
  },
  {
   "cell_type": "code",
   "execution_count": 1,
   "metadata": {
    "collapsed": true,
    "slideshow": {
     "slide_type": "fragment"
    }
   },
   "outputs": [],
   "source": [
    "class Card():\n",
    "    '''A standard playing card'''\n",
    "    \n",
    "    def __init__(self, suit=0, rank=2):\n",
    "        self.suit = suit\n",
    "        self.rank = rank"
   ]
  },
  {
   "cell_type": "markdown",
   "metadata": {
    "slideshow": {
     "slide_type": "slide"
    }
   },
   "source": [
    "Imagine we have a lookup table for each suit and rank of a card:\n",
    "- Spade = 3\n",
    "- Hearts = 2\n",
    "- Diamonds = 1\n",
    "- Clubs = 0\n",
    "\n",
    "Create a single card like this:"
   ]
  },
  {
   "cell_type": "code",
   "execution_count": 2,
   "metadata": {
    "collapsed": true,
    "slideshow": {
     "slide_type": "fragment"
    }
   },
   "outputs": [],
   "source": [
    "jack_of_hearts = Card(2, 11)"
   ]
  },
  {
   "cell_type": "code",
   "execution_count": 3,
   "metadata": {
    "collapsed": true,
    "slideshow": {
     "slide_type": "fragment"
    }
   },
   "outputs": [],
   "source": [
    "# Create a card. Maybe the 10 of spades\n",
    "\n",
    "ten_of_spades = Card(3,10)"
   ]
  },
  {
   "cell_type": "markdown",
   "metadata": {
    "slideshow": {
     "slide_type": "slide"
    }
   },
   "source": [
    "Since we need to look up the suit and rank for each card, we can define it as a **`class attribute`** instead of an instance attribute.\n",
    "\n",
    "We'll also add in a `__str__` method to print out the card"
   ]
  },
  {
   "cell_type": "code",
   "execution_count": 84,
   "metadata": {
    "collapsed": true,
    "slideshow": {
     "slide_type": "slide"
    }
   },
   "outputs": [],
   "source": [
    "class Card():\n",
    "    '''A standard playing card'''\n",
    "    \n",
    "    def __init__(self, suit=0, rank=2):\n",
    "        self.suit = suit\n",
    "        self.rank = rank\n",
    "        \n",
    "    suit_names = ['Clubs', 'Diamonds', 'Hearts', 'Spades']\n",
    "    rank_names = [None, 'Ace', '2', '3', '4', '5', '6', '7', '8', \\\n",
    "                 '9', '10', 'Jack', 'Queen', 'King']\n",
    "    \n",
    "    def __str__(self):\n",
    "        return \"%s of %s\" % (Card.rank_names[self.rank], \\\n",
    "                            Card.suit_names[self.suit])"
   ]
  },
  {
   "cell_type": "code",
   "execution_count": 87,
   "metadata": {
    "collapsed": false,
    "slideshow": {
     "slide_type": "fragment"
    }
   },
   "outputs": [
    {
     "name": "stdout",
     "output_type": "stream",
     "text": [
      "Queen of Spades\n"
     ]
    }
   ],
   "source": [
    "mystery_card = Card(3,12)\n",
    "print mystery_card"
   ]
  },
  {
   "cell_type": "code",
   "execution_count": 88,
   "metadata": {
    "collapsed": false,
    "slideshow": {
     "slide_type": "slide"
    }
   },
   "outputs": [
    {
     "name": "stdout",
     "output_type": "stream",
     "text": [
      "Ace of Spades\n"
     ]
    }
   ],
   "source": [
    "# Define another card and print it\n",
    "\n",
    "my_card = Card(3,1)\n",
    "print my_card\n"
   ]
  },
  {
   "cell_type": "markdown",
   "metadata": {
    "slideshow": {
     "slide_type": "slide"
    }
   },
   "source": [
    "Every card has its own suit and rank, but there is only one copy of the lists suit_names and rank_names. Notice how we define it without calling 'self'\n",
    "\n",
    "Let's add in one method to compare the rank of each card:"
   ]
  },
  {
   "cell_type": "code",
   "execution_count": 4,
   "metadata": {
    "collapsed": false,
    "slideshow": {
     "slide_type": "slide"
    }
   },
   "outputs": [],
   "source": [
    "class Card():\n",
    "    '''A standard playing card'''\n",
    "    \n",
    "    def __init__(self, suit=0, rank=2):\n",
    "        self.suit = suit\n",
    "        self.rank = rank\n",
    "        \n",
    "    suit_names = ['Clubs', 'Diamonds', 'Hearts', 'Spades']\n",
    "    rank_names = [None, 'Ace', '2', '3', '4', '5', '6', '7', '8', \\\n",
    "                 '9', '10', 'Jack', 'Queen', 'King']\n",
    "    \n",
    "    def __str__(self):\n",
    "        return \"%s of %s\" % (Card.rank_names[self.rank], \\\n",
    "                            Card.suit_names[self.suit])\n",
    "    \n",
    "    def greater_than(self, other):\n",
    "        if other.rank == 1:\n",
    "            return False\n",
    "        else: \n",
    "            return self.rank > other.rank\n",
    "            \n",
    "    \n",
    "        \n"
   ]
  },
  {
   "cell_type": "code",
   "execution_count": null,
   "metadata": {
    "collapsed": false
   },
   "outputs": [],
   "source": []
  },
  {
   "cell_type": "markdown",
   "metadata": {
    "slideshow": {
     "slide_type": "slide"
    }
   },
   "source": [
    "Now that we have a way to make cards, let's create a deck.\n",
    "\n",
    "Try doing this yourself before scrolling down to a solution below. Use a nested for loop to create 52 unique cards of each suit and rank. "
   ]
  },
  {
   "cell_type": "code",
   "execution_count": 5,
   "metadata": {
    "collapsed": true,
    "slideshow": {
     "slide_type": "slide"
    }
   },
   "outputs": [],
   "source": [
    "class Deck():\n",
    "    '''52 unique cards. No jokers.'''\n",
    "    \n",
    "    def __init__(self):\n",
    "        self.cards = []\n",
    "        for suit in range(4):\n",
    "            for rank in range(1, 14):\n",
    "                card = Card(suit, rank)\n",
    "                self.cards.append(card)\n",
    "                \n",
    "    def __str__(self):\n",
    "        results = []\n",
    "        for card in self.cards:\n",
    "            results.append(str(cards))\n",
    "        return '\\n'.join(results)\n",
    "        \n",
    "        "
   ]
  },
  {
   "cell_type": "code",
   "execution_count": 12,
   "metadata": {
    "collapsed": false,
    "slideshow": {
     "slide_type": "fragment"
    }
   },
   "outputs": [
    {
     "name": "stdout",
     "output_type": "stream",
     "text": [
      "3 of Clubs\n",
      "King of Hearts\n",
      "2 of Clubs\n",
      "8 of Clubs\n",
      "5 of Diamonds\n",
      "2 of Hearts\n",
      "6 of Diamonds\n",
      "King of Spades\n",
      "6 of Hearts\n",
      "Jack of Spades\n",
      "3 of Diamonds\n",
      "3 of Hearts\n",
      "9 of Clubs\n",
      "Ace of Hearts\n",
      "10 of Spades\n",
      "5 of Hearts\n",
      "9 of Hearts\n",
      "8 of Diamonds\n",
      "King of Diamonds\n",
      "4 of Diamonds\n",
      "2 of Diamonds\n",
      "10 of Hearts\n",
      "7 of Hearts\n",
      "4 of Spades\n",
      "5 of Clubs\n",
      "10 of Clubs\n",
      "Jack of Hearts\n",
      "King of Clubs\n",
      "6 of Spades\n",
      "Jack of Diamonds\n",
      "Jack of Clubs\n",
      "10 of Diamonds\n",
      "9 of Spades\n",
      "3 of Spades\n",
      "Queen of Hearts\n",
      "Queen of Clubs\n",
      "Ace of Spades\n",
      "6 of Clubs\n",
      "7 of Spades\n",
      "Queen of Diamonds\n",
      "8 of Spades\n",
      "4 of Hearts\n",
      "Queen of Spades\n",
      "5 of Spades\n",
      "9 of Diamonds\n",
      "Ace of Diamonds\n",
      "4 of Clubs\n",
      "7 of Clubs\n",
      "7 of Diamonds\n",
      "2 of Spades\n",
      "Ace of Clubs\n"
     ]
    }
   ],
   "source": [
    "# Your output should look like this:\n",
    "\n",
    "bicycle = Deck()\n",
    "for card in royal.cards:\n",
    "    print card"
   ]
  },
  {
   "cell_type": "markdown",
   "metadata": {
    "slideshow": {
     "slide_type": "slide"
    }
   },
   "source": [
    "\n",
    "Now, let's add in a __str__ method to print them out:"
   ]
  },
  {
   "cell_type": "code",
   "execution_count": 6,
   "metadata": {
    "collapsed": true,
    "slideshow": {
     "slide_type": "slide"
    }
   },
   "outputs": [],
   "source": [
    "class Deck():\n",
    "    '''52 unique cards. No jokers.'''\n",
    "    \n",
    "    def __init__(self):\n",
    "        self.cards = []\n",
    "        for suit in range(4):\n",
    "            for rank in range(1,14):\n",
    "                card = Card(suit, rank)\n",
    "                self.cards.append(card)\n",
    "                \n",
    "    def __str__(self):\n",
    "        results = []\n",
    "        for card in self.cards:\n",
    "            results.append(str(card))\n",
    "        return '\\n'.join(results)"
   ]
  },
  {
   "cell_type": "code",
   "execution_count": null,
   "metadata": {
    "collapsed": true
   },
   "outputs": [],
   "source": []
  },
  {
   "cell_type": "code",
   "execution_count": 8,
   "metadata": {
    "collapsed": false,
    "slideshow": {
     "slide_type": "slide"
    }
   },
   "outputs": [
    {
     "name": "stdout",
     "output_type": "stream",
     "text": [
      "Ace of Clubs\n",
      "2 of Clubs\n",
      "3 of Clubs\n",
      "4 of Clubs\n",
      "5 of Clubs\n",
      "6 of Clubs\n",
      "7 of Clubs\n",
      "8 of Clubs\n",
      "9 of Clubs\n",
      "10 of Clubs\n",
      "Jack of Clubs\n",
      "Queen of Clubs\n",
      "King of Clubs\n",
      "Ace of Diamonds\n",
      "2 of Diamonds\n",
      "3 of Diamonds\n",
      "4 of Diamonds\n",
      "5 of Diamonds\n",
      "6 of Diamonds\n",
      "7 of Diamonds\n",
      "8 of Diamonds\n",
      "9 of Diamonds\n",
      "10 of Diamonds\n",
      "Jack of Diamonds\n",
      "Queen of Diamonds\n",
      "King of Diamonds\n",
      "Ace of Hearts\n",
      "2 of Hearts\n",
      "3 of Hearts\n",
      "4 of Hearts\n",
      "5 of Hearts\n",
      "6 of Hearts\n",
      "7 of Hearts\n",
      "8 of Hearts\n",
      "9 of Hearts\n",
      "10 of Hearts\n",
      "Jack of Hearts\n",
      "Queen of Hearts\n",
      "King of Hearts\n",
      "Ace of Spades\n",
      "2 of Spades\n",
      "3 of Spades\n",
      "4 of Spades\n",
      "5 of Spades\n",
      "6 of Spades\n",
      "7 of Spades\n",
      "8 of Spades\n",
      "9 of Spades\n",
      "10 of Spades\n",
      "Jack of Spades\n",
      "Queen of Spades\n",
      "King of Spades\n"
     ]
    }
   ],
   "source": [
    "print Deck()"
   ]
  },
  {
   "cell_type": "markdown",
   "metadata": {
    "slideshow": {
     "slide_type": "slide"
    }
   },
   "source": [
    "Add in some methods that let you add cards, draw cards, shuffle and sort the deck:"
   ]
  },
  {
   "cell_type": "code",
   "execution_count": 9,
   "metadata": {
    "collapsed": true,
    "slideshow": {
     "slide_type": "fragment"
    }
   },
   "outputs": [],
   "source": [
    "class Deck():\n",
    "    '''52 unique cards. No jokers.'''\n",
    "    \n",
    "    def __init__(self):\n",
    "        self.cards = []\n",
    "        for suit in range(4):\n",
    "            for rank in range(1,14):\n",
    "                card = Card(suit, rank)\n",
    "                self.cards.append(card)\n",
    "                \n",
    "    def __str__(self):\n",
    "        results = []\n",
    "        for card in self.cards:\n",
    "            results.append(str(card))\n",
    "        return '\\n'.join(results)\n",
    "    \n",
    "    def draw_card(self):\n",
    "        '''Draws a random card'''\n",
    "        import random\n",
    "        c = random.choice(self.cards)\n",
    "        self.cards.remove(c)\n",
    "        return c\n",
    "    \n",
    "    def add_card(self, card):\n",
    "        '''Puts a card object back in the deck'''\n",
    "        self.cards.append(card)            \n",
    "    \n",
    "    def shuffle(self):\n",
    "        '''Shuffles the deck'''\n",
    "        import random\n",
    "        random.shuffle(self.cards)\n",
    "        \n",
    "    def sort(self):\n",
    "        '''Sorts the deck'''\n",
    "        self.cards.sort()"
   ]
  },
  {
   "cell_type": "code",
   "execution_count": 10,
   "metadata": {
    "collapsed": false
   },
   "outputs": [
    {
     "data": {
      "text/plain": [
       "52"
      ]
     },
     "execution_count": 10,
     "metadata": {},
     "output_type": "execute_result"
    }
   ],
   "source": [
    "a = Deck()\n",
    "type(a.cards)\n",
    "len(a.cards)"
   ]
  },
  {
   "cell_type": "code",
   "execution_count": 19,
   "metadata": {
    "collapsed": false,
    "slideshow": {
     "slide_type": "slide"
    }
   },
   "outputs": [
    {
     "name": "stdout",
     "output_type": "stream",
     "text": [
      "10 of Diamonds\n"
     ]
    }
   ],
   "source": [
    "bicycle = Deck()\n",
    "bicycle.shuffle()\n",
    "print royal.draw_card()"
   ]
  },
  {
   "cell_type": "markdown",
   "metadata": {
    "slideshow": {
     "slide_type": "slide"
    }
   },
   "source": [
    "## Inheritance\n",
    "One of the most useful things about classes is that you can create a new class that contains all the same methods as its parent class. For example, here's a new class called Hand:"
   ]
  },
  {
   "cell_type": "code",
   "execution_count": 20,
   "metadata": {
    "collapsed": true,
    "slideshow": {
     "slide_type": "slide"
    }
   },
   "outputs": [],
   "source": [
    "class Hand(Deck):\n",
    "    '''Empty for now'''"
   ]
  },
  {
   "cell_type": "markdown",
   "metadata": {
    "slideshow": {
     "slide_type": "fragment"
    }
   },
   "source": [
    "Hand 'inherits' all the methods from Deck, and now contains all the same methods that Deck does:"
   ]
  },
  {
   "cell_type": "code",
   "execution_count": 21,
   "metadata": {
    "collapsed": false,
    "slideshow": {
     "slide_type": "fragment"
    }
   },
   "outputs": [
    {
     "data": {
      "text/plain": [
       "['__doc__',\n",
       " '__init__',\n",
       " '__module__',\n",
       " '__str__',\n",
       " 'add_card',\n",
       " 'cards',\n",
       " 'draw_card',\n",
       " 'shuffle',\n",
       " 'sort']"
      ]
     },
     "execution_count": 21,
     "metadata": {},
     "output_type": "execute_result"
    }
   ],
   "source": [
    "dir(Hand())"
   ]
  },
  {
   "cell_type": "markdown",
   "metadata": {
    "slideshow": {
     "slide_type": "slide"
    }
   },
   "source": [
    "The difference is, we can overwrite the methods of the parent class with new methods. \n",
    "\n",
    "In this case we want to start with an empty hand:"
   ]
  },
  {
   "cell_type": "code",
   "execution_count": 22,
   "metadata": {
    "collapsed": true,
    "slideshow": {
     "slide_type": "fragment"
    }
   },
   "outputs": [],
   "source": [
    "class Hand(Deck):\n",
    "    '''Empty for now'''\n",
    "    def __init__(self):\n",
    "        self.cards = []"
   ]
  },
  {
   "cell_type": "markdown",
   "metadata": {
    "slideshow": {
     "slide_type": "slide"
    }
   },
   "source": [
    "But since it has the same methods as Deck does, we can add and draw cards from it. \n",
    "\n",
    "Here, let's create a hand, draw a card from the deck, and put it in the hand:"
   ]
  },
  {
   "cell_type": "code",
   "execution_count": 23,
   "metadata": {
    "collapsed": false,
    "slideshow": {
     "slide_type": "fragment"
    }
   },
   "outputs": [
    {
     "name": "stdout",
     "output_type": "stream",
     "text": [
      "10 of Diamonds\n"
     ]
    }
   ],
   "source": [
    "deck = Deck()\n",
    "hand = Hand()\n",
    "\n",
    "card = deck.draw_card()\n",
    "hand.add_card(card)\n",
    "\n",
    "print hand"
   ]
  },
  {
   "cell_type": "markdown",
   "metadata": {
    "slideshow": {
     "slide_type": "slide"
    }
   },
   "source": [
    "Now, we can set up the basic mechanics of a game. \n",
    "\n",
    "### Practice:\n",
    "Define two hands and a deck. Deal five cards to each player. Print out both hands. "
   ]
  },
  {
   "cell_type": "code",
   "execution_count": 28,
   "metadata": {
    "collapsed": false,
    "slideshow": {
     "slide_type": "fragment"
    }
   },
   "outputs": [
    {
     "name": "stdout",
     "output_type": "stream",
     "text": [
      "6 of Clubs\n",
      "3 of Diamonds\n",
      "7 of Hearts\n",
      "7 of Clubs\n",
      "Ace of Hearts\n",
      "----\n",
      "\n",
      "7 of Diamonds\n",
      "10 of Spades\n",
      "2 of Hearts\n",
      "8 of Spades\n",
      "3 of Spades\n",
      "----\n",
      "\n",
      "10 of Diamonds\n",
      "2 of Clubs\n",
      "10 of Hearts\n",
      "6 of Diamonds\n",
      "4 of Clubs\n"
     ]
    }
   ],
   "source": [
    "handOne = Hand()\n",
    "handTwo = Hand()\n",
    "handThree = Hand()\n",
    "myDeck = Deck()\n",
    "\n",
    "# 5 cards: draw one card, add it to the players hand, repeat 5 times\n",
    "# newCard = myDeck.draw_card() # Drawing 1 card\n",
    "# handOne.add_card(newCard)\n",
    "\n",
    "for i in range(5):\n",
    "    newCard = myDeck.draw_card() # Drawing 1 card\n",
    "    handOne.add_card(newCard)\n",
    "    \n",
    "    newCard = myDeck.draw_card()\n",
    "    handTwo.add_card(newCard)\n",
    "  \n",
    "    handThree.add_card(myDeck.draw_card())\n",
    "    \n",
    "print handOne\n",
    "print '----\\n'\n",
    "print handTwo\n",
    "print '----\\n'\n",
    "print handThree\n"
   ]
  },
  {
   "cell_type": "code",
   "execution_count": null,
   "metadata": {
    "collapsed": true
   },
   "outputs": [],
   "source": [
    "myDeck = Deck()\n",
    "print len(myDeck.cards)\n",
    "\n",
    "newCard = "
   ]
  },
  {
   "cell_type": "markdown",
   "metadata": {
    "slideshow": {
     "slide_type": "slide"
    }
   },
   "source": [
    "## Group Activity: War\n",
    "As a class, let's build a class that builds on Card(), Deck() and Hand() to play the card game War.\n",
    "\n",
    "I put in a few empty methods. It's up to us to define the rest. "
   ]
  },
  {
   "cell_type": "code",
   "execution_count": 37,
   "metadata": {
    "collapsed": true,
    "slideshow": {
     "slide_type": "slide"
    }
   },
   "outputs": [],
   "source": [
    "class War():\n",
    "    '''Would you like to play a game?'''\n",
    "    def __init__(self):\n",
    "        self.newDeck = Deck()\n",
    "        self.newDeck.shuffle()\n",
    "        \n",
    "        self.handOne = Hand()\n",
    "        self.handTwo = Hand()\n",
    "        self.tableau = Hand()\n",
    "        \n",
    "    def deal(self):\n",
    "        while len(self.newDeck.cards) > 0:\n",
    "            self.handOne.add_card(self.newDeck.draw_card())\n",
    "            self.handTwo.add_card(self.newDeck.draw_card())\n",
    "        return\n",
    "    \n",
    "    def turn(self):\n",
    "        # Each hand draw top card\n",
    "        self.cardOne = self.handOne.cards.pop(-1)\n",
    "        self.cardTwo = self.handTwo.cards.pop(-1)\n",
    "        #check if the cards are equal\n",
    "        # if true, then go to war\n",
    "        # if false then see which is greater\n",
    "        if self.cardOne.is_equal(self.cardTwo):\n",
    "            # the code for war\n",
    "            #we have draw 3 top cards from each hand\n",
    "            #then draw 4th card and compare\n",
    "            #then either repeat or add the tableau randomly to the winners hand\n",
    "            self.message = \"war!\"\n",
    "        else:\n",
    "            if self.cardOne.greater_than(self.cardTwo):\n",
    "                #giving cards to hand 1\n",
    "                self.message = \"Player 1 Wins\"\n",
    "                # add self.cardOne and self.CardTwo into self.handOne.cards\n",
    "                # they must go onto bottom of self.handOne.cards\n",
    "                # and they must go onto the bottom in random order\n",
    "            else:\n",
    "                #give cards to hand 2\n",
    "                self.message = \"Player 2 Wins\"\n",
    "                \n",
    "        return self.message\n",
    "   "
   ]
  },
  {
   "cell_type": "code",
   "execution_count": 38,
   "metadata": {
    "collapsed": false
   },
   "outputs": [
    {
     "ename": "AttributeError",
     "evalue": "Card instance has no attribute 'is_equal'",
     "output_type": "error",
     "traceback": [
      "\u001b[0;31m---------------------------------------------------------------------------\u001b[0m",
      "\u001b[0;31mAttributeError\u001b[0m                            Traceback (most recent call last)",
      "\u001b[0;32m<ipython-input-38-d646b743f819>\u001b[0m in \u001b[0;36m<module>\u001b[0;34m()\u001b[0m\n\u001b[1;32m      1\u001b[0m \u001b[0mw\u001b[0m \u001b[0;34m=\u001b[0m \u001b[0mWar\u001b[0m\u001b[0;34m(\u001b[0m\u001b[0;34m)\u001b[0m\u001b[0;34m\u001b[0m\u001b[0m\n\u001b[1;32m      2\u001b[0m \u001b[0mw\u001b[0m\u001b[0;34m.\u001b[0m\u001b[0mdeal\u001b[0m\u001b[0;34m(\u001b[0m\u001b[0;34m)\u001b[0m\u001b[0;34m\u001b[0m\u001b[0m\n\u001b[0;32m----> 3\u001b[0;31m \u001b[0mw\u001b[0m\u001b[0;34m.\u001b[0m\u001b[0mturn\u001b[0m\u001b[0;34m(\u001b[0m\u001b[0;34m)\u001b[0m\u001b[0;34m\u001b[0m\u001b[0m\n\u001b[0m",
      "\u001b[0;32m<ipython-input-37-585413aff9a6>\u001b[0m in \u001b[0;36mturn\u001b[0;34m(self)\u001b[0m\n\u001b[1;32m     21\u001b[0m         \u001b[0;31m# if true, then go to war\u001b[0m\u001b[0;34m\u001b[0m\u001b[0;34m\u001b[0m\u001b[0m\n\u001b[1;32m     22\u001b[0m         \u001b[0;31m# if false then see which is greater\u001b[0m\u001b[0;34m\u001b[0m\u001b[0;34m\u001b[0m\u001b[0m\n\u001b[0;32m---> 23\u001b[0;31m         \u001b[0;32mif\u001b[0m \u001b[0mself\u001b[0m\u001b[0;34m.\u001b[0m\u001b[0mcardOne\u001b[0m\u001b[0;34m.\u001b[0m\u001b[0mis_equal\u001b[0m\u001b[0;34m(\u001b[0m\u001b[0mself\u001b[0m\u001b[0;34m.\u001b[0m\u001b[0mcardTwo\u001b[0m\u001b[0;34m)\u001b[0m\u001b[0;34m:\u001b[0m\u001b[0;34m\u001b[0m\u001b[0m\n\u001b[0m\u001b[1;32m     24\u001b[0m             \u001b[0;31m# the code for war\u001b[0m\u001b[0;34m\u001b[0m\u001b[0;34m\u001b[0m\u001b[0m\n\u001b[1;32m     25\u001b[0m             \u001b[0mself\u001b[0m\u001b[0;34m.\u001b[0m\u001b[0mmessage\u001b[0m \u001b[0;34m=\u001b[0m \u001b[0;34m\"war!\"\u001b[0m\u001b[0;34m\u001b[0m\u001b[0m\n",
      "\u001b[0;31mAttributeError\u001b[0m: Card instance has no attribute 'is_equal'"
     ]
    }
   ],
   "source": [
    "w = War()\n",
    "w.deal()\n",
    "w.turn()"
   ]
  },
  {
   "cell_type": "code",
   "execution_count": 35,
   "metadata": {
    "collapsed": false
   },
   "outputs": [
    {
     "name": "stdout",
     "output_type": "stream",
     "text": [
      "[<__main__.Card instance at 0x106507098>, <__main__.Card instance at 0x106507170>, <__main__.Card instance at 0x10650ce60>, <__main__.Card instance at 0x106507560>, <__main__.Card instance at 0x106507a28>, <__main__.Card instance at 0x1065078c0>, <__main__.Card instance at 0x1064eab48>, <__main__.Card instance at 0x1065073f8>, <__main__.Card instance at 0x1065072d8>, <__main__.Card instance at 0x1064eae18>, <__main__.Card instance at 0x106507cf8>, <__main__.Card instance at 0x10650cdd0>, <__main__.Card instance at 0x1064eae60>, <__main__.Card instance at 0x106507ab8>, <__main__.Card instance at 0x106507bd8>, <__main__.Card instance at 0x1065074d0>, <__main__.Card instance at 0x106507128>, <__main__.Card instance at 0x106507b48>, <__main__.Card instance at 0x106507b90>, <__main__.Card instance at 0x106507c20>, <__main__.Card instance at 0x1064eab00>, <__main__.Card instance at 0x1064eac68>, <__main__.Card instance at 0x106507290>, <__main__.Card instance at 0x10650cf80>, <__main__.Card instance at 0x106507ef0>, <__main__.Card instance at 0x1064eafc8>, <__main__.Card instance at 0x1064ead40>, <__main__.Card instance at 0x1065075f0>, <__main__.Card instance at 0x1065079e0>, <__main__.Card instance at 0x106507200>, <__main__.Card instance at 0x10650ce18>, <__main__.Card instance at 0x10650cf38>, <__main__.Card instance at 0x10650cea8>, <__main__.Card instance at 0x10650cef0>, <__main__.Card instance at 0x106507950>, <__main__.Card instance at 0x106507368>, <__main__.Card instance at 0x1064eabd8>, <__main__.Card instance at 0x1065075a8>, <__main__.Card instance at 0x1065073b0>, <__main__.Card instance at 0x106507b00>, <__main__.Card instance at 0x106507878>, <__main__.Card instance at 0x1065070e0>, <__main__.Card instance at 0x106507ea8>, <__main__.Card instance at 0x106507c68>, <__main__.Card instance at 0x1064eaef0>, <__main__.Card instance at 0x106507998>, <__main__.Card instance at 0x1064ea7a0>, <__main__.Card instance at 0x1064eaab8>, <__main__.Card instance at 0x1064eadd0>, <__main__.Card instance at 0x106507320>, <__main__.Card instance at 0x106507a70>, <__main__.Card instance at 0x106507e18>]\n",
      "--\n",
      "0\n",
      "--\n",
      "0\n"
     ]
    }
   ],
   "source": [
    "w = War()\n",
    "print w.newDeck.cards\n",
    "print '--'\n",
    "print len(w.handOne.cards)\n",
    "print '--'\n",
    "print len(w.handTwo.cards)\n",
    "w.deal()"
   ]
  },
  {
   "cell_type": "code",
   "execution_count": null,
   "metadata": {
    "collapsed": true
   },
   "outputs": [],
   "source": [
    "class Card():\n",
    "    '''A standard playing card'''\n",
    "    \n",
    "    def __init__(self, suit=0, rank=2):\n",
    "        self.suit = suit\n",
    "        self.rank = rank\n",
    "        \n",
    "    suit_names = ['Clubs', 'Diamonds', 'Hearts', 'Spades']\n",
    "    rank_names = [None, '2', '3', '4', '5', '6', '7', '8', \\\n",
    "                 '9', '10', 'Jack', 'Queen', 'King', 'Ace']\n",
    "    \n",
    "    def __str__(self):\n",
    "        return \"%s of %s\" % (Card.rank_names[self.rank], \\\n",
    "                            Card.suit_names[self.suit])\n",
    "    \n",
    "    def greater_than(self, other):\n",
    "        if other.rank == 1:\n",
    "            return False\n",
    "        else: \n",
    "            return self.rank > other.rank\n",
    "    def is_equal(self, other):\n",
    "        "
   ]
  },
  {
   "cell_type": "code",
   "execution_count": null,
   "metadata": {
    "collapsed": true
   },
   "outputs": [],
   "source": []
  },
  {
   "cell_type": "markdown",
   "metadata": {
    "slideshow": {
     "slide_type": "slide"
    }
   },
   "source": [
    "## Interlude: SKlearn\n",
    "You've seen classes before. Think about what happens when you import and fit a model in sklearn. Which of the following are classes, which are methods, and which are attribute variables?\n",
    "- sklearn.linear_model.LinearRegression\n",
    "- LinearRegression.fit()\n",
    "- LinearRegression.predict()\n",
    "- LinearRegression.score()\n",
    "- LinearRegression.coef`_`\n",
    "- LinearRegression.intercept`_`\n",
    "\n",
    "Can you guess if any of these are inherited classes? You can always look at the source code to see for yourself. Just be careful not to delete anything. \n"
   ]
  },
  {
   "cell_type": "code",
   "execution_count": null,
   "metadata": {
    "collapsed": true,
    "slideshow": {
     "slide_type": "fragment"
    }
   },
   "outputs": [],
   "source": []
  },
  {
   "cell_type": "markdown",
   "metadata": {
    "slideshow": {
     "slide_type": "slide"
    }
   },
   "source": [
    "## Pair Program: Go Fish\n",
    "Find a partner and write a game class that plays Go Fish against a computer. \n",
    "\n",
    "Here are the [rules](http://www.dltk-kids.com/games/go-fish.htm) if you need a refresher.\n",
    "\n",
    "Remember to think about:\n",
    "- How you'll deal cards\n",
    "- What it means to win a game\n",
    "- How to check if the game has been won or lost\n",
    "- What happens during each turn\n"
   ]
  },
  {
   "cell_type": "code",
   "execution_count": null,
   "metadata": {
    "collapsed": true
   },
   "outputs": [],
   "source": []
  },
  {
   "cell_type": "code",
   "execution_count": null,
   "metadata": {
    "collapsed": true
   },
   "outputs": [],
   "source": []
  },
  {
   "cell_type": "code",
   "execution_count": null,
   "metadata": {
    "collapsed": true
   },
   "outputs": [],
   "source": []
  },
  {
   "cell_type": "markdown",
   "metadata": {
    "slideshow": {
     "slide_type": "skip"
    }
   },
   "source": [
    "## Further reading\n",
    "\n",
    "Adapted from *Think Python* (Allen Dowley, 2015), chapters 17 + 18\n",
    "http://greenteapress.com/thinkpython2/thinkpython2.pdf\n",
    "\n",
    "Python documentation on classes: https://docs.python.org/2/tutorial/classes.html"
   ]
  }
 ],
 "metadata": {
  "anaconda-cloud": {},
  "celltoolbar": "Slideshow",
  "kernelspec": {
   "display_name": "Python [default]",
   "language": "python",
   "name": "python2"
  },
  "language_info": {
   "codemirror_mode": {
    "name": "ipython",
    "version": 2
   },
   "file_extension": ".py",
   "mimetype": "text/x-python",
   "name": "python",
   "nbconvert_exporter": "python",
   "pygments_lexer": "ipython2",
   "version": "2.7.12"
  }
 },
 "nbformat": 4,
 "nbformat_minor": 0
}
