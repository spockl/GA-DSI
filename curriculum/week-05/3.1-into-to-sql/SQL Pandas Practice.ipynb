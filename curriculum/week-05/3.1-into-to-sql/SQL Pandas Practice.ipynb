{
 "cells": [
  {
   "cell_type": "code",
   "execution_count": 3,
   "metadata": {
    "collapsed": true
   },
   "outputs": [],
   "source": [
    "import sqlite3\n",
    "import pandas as pd\n",
    "import numpy as np"
   ]
  },
  {
   "cell_type": "code",
   "execution_count": 6,
   "metadata": {
    "collapsed": true
   },
   "outputs": [],
   "source": [
    "sqlite_db = 'likes-db.sqlite'\n",
    "conn = sqlite3.connect(sqlite_db)\n",
    "c2 = conn.cursor()"
   ]
  },
  {
   "cell_type": "code",
   "execution_count": 10,
   "metadata": {
    "collapsed": false
   },
   "outputs": [],
   "source": [
    "c2.execute('CREATE TABLE likes\\\n",
    "(field1 INTEGER PRIMARY KEY, name TEXT,\\\n",
    "fav_color TEXT, fave_num INTEGER);')\n",
    "\n",
    "conn.commit()"
   ]
  },
  {
   "cell_type": "code",
   "execution_count": 13,
   "metadata": {
    "collapsed": false
   },
   "outputs": [],
   "source": [
    "students = [\n",
    "    (None, 'Jocelyn', 'Red', 20),\n",
    "    (None, 'Michael', 'Blue', 18),\n",
    "    (None, 'Kristen', 'Blue', 7),\n",
    "    (None, 'Andrew', 'Black', 8),\n",
    "    (None, 'Sara', 'Purple', 3),\n",
    "]\n",
    "\n",
    "c2.executemany('INSERT INTO likes VALUES (?, ?, ?, ?)', students)\n",
    "\n",
    "conn.commit()"
   ]
  },
  {
   "cell_type": "code",
   "execution_count": null,
   "metadata": {
    "collapsed": true
   },
   "outputs": [],
   "source": []
  }
 ],
 "metadata": {
  "kernelspec": {
   "display_name": "Python [default]",
   "language": "python",
   "name": "python2"
  },
  "language_info": {
   "codemirror_mode": {
    "name": "ipython",
    "version": 2
   },
   "file_extension": ".py",
   "mimetype": "text/x-python",
   "name": "python",
   "nbconvert_exporter": "python",
   "pygments_lexer": "ipython2",
   "version": "2.7.12"
  }
 },
 "nbformat": 4,
 "nbformat_minor": 1
}
