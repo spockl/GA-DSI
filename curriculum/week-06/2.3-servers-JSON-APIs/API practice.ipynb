{
 "cells": [
  {
   "cell_type": "code",
   "execution_count": 3,
   "metadata": {
    "collapsed": false
   },
   "outputs": [
    {
     "name": "stdout",
     "output_type": "stream",
     "text": [
      "Flatiron Building, 175, 5th Avenue, Flatiron, Manhattan, New York County, NYC, New York, 10010, United States of America\n",
      "(40.7410861, -73.9896297241625)\n",
      "{u'display_name': u'Flatiron Building, 175, 5th Avenue, Flatiron, Manhattan, New York County, NYC, New York, 10010, United States of America', u'importance': 0.68300331552197, u'place_id': u'125392758', u'lon': u'-73.9896297241625', u'lat': u'40.7410861', u'osm_type': u'way', u'licence': u'Data \\xa9 OpenStreetMap contributors, ODbL 1.0. http://www.openstreetmap.org/copyright', u'osm_id': u'264768896', u'boundingbox': [u'40.7407597', u'40.7413004', u'-73.9898714', u'-73.9895013'], u'type': u'attraction', u'class': u'tourism', u'icon': u'https://nominatim.openstreetmap.org/images/mapicons/poi_point_of_interest.p.20.png'}\n"
     ]
    }
   ],
   "source": [
    "from geopy.geocoders import Nominatim\n",
    "geolocator = Nominatim()\n",
    "location = geolocator.geocode(\"175 5th Avenue NYC\")\n",
    "print(location.address)\n",
    "\n",
    "print((location.latitude, location.longitude))\n",
    "\n",
    "print(location.raw)\n"
   ]
  },
  {
   "cell_type": "code",
   "execution_count": 6,
   "metadata": {
    "collapsed": false
   },
   "outputs": [
    {
     "name": "stdout",
     "output_type": "stream",
     "text": [
      "3, Thatcher Court, Edison, Middlesex County, New Jersey, 08820, United States of America\n",
      "(40.5585643061224, -74.3863515510204)\n",
      "{u'display_name': u'3, Thatcher Court, Edison, Middlesex County, New Jersey, 08820, United States of America', u'importance': 0.211, u'place_id': u'180264539', u'lon': u'-74.3863515510204', u'lat': u'40.5585643061224', u'osm_type': u'tiger', u'licence': u'Data \\xa9 OpenStreetMap contributors, ODbL 1.0. http://www.openstreetmap.org/copyright', u'osm_id': u'180264539', u'boundingbox': [u'40.558514306122', u'40.558614306122', u'-74.38640155102', u'-74.38630155102'], u'type': u'house', u'class': u'place'}\n"
     ]
    }
   ],
   "source": [
    "from geopy.geocoders import Nominatim\n",
    "geolocator = Nominatim()\n",
    "location = geolocator.geocode(\"3 Thatcher Ct Edison, NJ\")\n",
    "print(location.address)\n",
    "\n",
    "print((location.latitude, location.longitude))\n",
    "\n",
    "print(location.raw)"
   ]
  },
  {
   "cell_type": "code",
   "execution_count": null,
   "metadata": {
    "collapsed": true
   },
   "outputs": [],
   "source": []
  }
 ],
 "metadata": {
  "kernelspec": {
   "display_name": "Python [default]",
   "language": "python",
   "name": "python2"
  },
  "language_info": {
   "codemirror_mode": {
    "name": "ipython",
    "version": 2
   },
   "file_extension": ".py",
   "mimetype": "text/x-python",
   "name": "python",
   "nbconvert_exporter": "python",
   "pygments_lexer": "ipython2",
   "version": "2.7.12"
  }
 },
 "nbformat": 4,
 "nbformat_minor": 1
}
