{
 "cells": [
  {
   "cell_type": "code",
   "execution_count": 1,
   "metadata": {
    "collapsed": false
   },
   "outputs": [
    {
     "data": {
      "text/plain": [
       "[2, 2, 0, 4, 4, 1]"
      ]
     },
     "execution_count": 1,
     "metadata": {},
     "output_type": "execute_result"
    }
   ],
   "source": [
    "def answer(s):\n",
    "    q = len(s)\n",
    "    if q == 0:\n",
    "        return 0\n",
    "    for z in range(q):\n",
    "        y = \"\"\n",
    "        for x in range(q/len(s[0:z+1])):\n",
    "            y = y + s[0:z+1]\n",
    "        if y == s:\n",
    "                return q/len(s[0:z+1])\n",
    "    return 1\n",
    "    \n",
    "    \n",
    "    \n",
    "test = [\"aa\", \"ghjghj\", \"\", \"testestestes\", \"abababab\", \"ab\"]\n",
    "[answer(x) for x in test]"
   ]
  },
  {
   "cell_type": "code",
   "execution_count": null,
   "metadata": {
    "collapsed": true
   },
   "outputs": [],
   "source": []
  }
 ],
 "metadata": {
  "anaconda-cloud": {},
  "kernelspec": {
   "display_name": "Python [conda root]",
   "language": "python",
   "name": "conda-root-py"
  },
  "language_info": {
   "codemirror_mode": {
    "name": "ipython",
    "version": 2
   },
   "file_extension": ".py",
   "mimetype": "text/x-python",
   "name": "python",
   "nbconvert_exporter": "python",
   "pygments_lexer": "ipython2",
   "version": "2.7.12"
  }
 },
 "nbformat": 4,
 "nbformat_minor": 1
}
