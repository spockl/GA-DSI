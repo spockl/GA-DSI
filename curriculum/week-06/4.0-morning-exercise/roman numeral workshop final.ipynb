{
 "cells": [
  {
   "cell_type": "code",
   "execution_count": 11,
   "metadata": {
    "collapsed": false
   },
   "outputs": [
    {
     "ename": "SyntaxError",
     "evalue": "invalid syntax (<ipython-input-11-0fc1f818f60f>, line 18)",
     "output_type": "error",
     "traceback": [
      "\u001b[0;36m  File \u001b[0;32m\"<ipython-input-11-0fc1f818f60f>\"\u001b[0;36m, line \u001b[0;32m18\u001b[0m\n\u001b[0;31m    \u001b[0m\n\u001b[0m    ^\u001b[0m\n\u001b[0;31mSyntaxError\u001b[0m\u001b[0;31m:\u001b[0m invalid syntax\n"
     ]
    }
   ],
   "source": [
    "def int_to_roman(raw_input):\n",
    "\n",
    "    nums = ['M', 'D', 'C', 'L', 'X', 'V', 'I']\n",
    "    ints = [1000, 500, 100, 50,  10,  5,   1]\n",
    "try:\n",
    "    number = int(raw_input(\"Enter number:\"))\n",
    "    if not (0 < n < 1001):\n",
    "        print('number too high(nust be 1-1000)')\n",
    "    if int(n) != (n):\n",
    "        print('can not be float')\n",
    "    result = \"\"\n",
    "    for i in range(len(ints)):\n",
    "        count = int(input / ints[i])\n",
    "        result += nums[i] * count\n",
    "        input -= ints[i] * count\n",
    "    return result\n",
    "\n",
    "   "
   ]
  },
  {
   "cell_type": "code",
   "execution_count": 53,
   "metadata": {
    "collapsed": false
   },
   "outputs": [
    {
     "name": "stdout",
     "output_type": "stream",
     "text": [
      "Enter number:-3\n",
      "Nice try, number out of range :)\n"
     ]
    }
   ],
   "source": [
    "def int_to_roman(n):\n",
    "\n",
    "    answer=''\n",
    "    table=[['M',1000],['CM',900],['D',500],['CD',400],['C',100],['XC',90],['L',50],['XL',40],['X',10],['IX',9],['V',5],['IV',4],['I',1]]\n",
    "\n",
    "    for pair in table:\n",
    "\n",
    "        while n-pair[1]>=0:\n",
    "\n",
    "            n-=pair[1]\n",
    "            answer+=pair[0]\n",
    "\n",
    "    return answer\n",
    "\n",
    "n = int(raw_input(\"Enter number:\"))\n",
    "\n",
    "if (n > 1) and ( n < 1001):\n",
    "    print int_to_roman(n)\n",
    "else: \n",
    "    print \"Nice try, number out of range :)\""
   ]
  },
  {
   "cell_type": "code",
   "execution_count": 33,
   "metadata": {
    "collapsed": false
   },
   "outputs": [
    {
     "data": {
      "text/plain": [
       "'XXXV'"
      ]
     },
     "execution_count": 33,
     "metadata": {},
     "output_type": "execute_result"
    }
   ],
   "source": [
    "int_to_roman (35)"
   ]
  },
  {
   "cell_type": "code",
   "execution_count": 51,
   "metadata": {
    "collapsed": false
   },
   "outputs": [
    {
     "name": "stdout",
     "output_type": "stream",
     "text": [
      "Enter number:5\n",
      "V\n"
     ]
    }
   ],
   "source": [
    "n = int(raw_input(\"Enter number:\"))\n",
    "\n",
    "if (n > 1) and ( n < 1001):\n",
    "    print int_to_roman(n)\n",
    "else: \n",
    "    print \"Nice try, number out of range :)\"\n",
    "        \n",
    "       \n",
    "        \n",
    "         \n",
    "        "
   ]
  },
  {
   "cell_type": "code",
   "execution_count": null,
   "metadata": {
    "collapsed": true
   },
   "outputs": [],
   "source": [
    "import roman"
   ]
  },
  {
   "cell_type": "code",
   "execution_count": null,
   "metadata": {
    "collapsed": true
   },
   "outputs": [],
   "source": [
    " count = int(input / ints[i])\n",
    "      result += nums[i] * count\n",
    "      input -= ints[i] * count\n",
    "   return result\n",
    "def int_to_roman(i):\n",
    "    result = []\n",
    "    for integer, numeral in numeral_map:\n",
    "        count = int(i / integer)\n",
    "        result.append(numeral * count)\n",
    "        i -= integer * count\n",
    "    return ''.join(result)\n",
    "\n",
    "def roman_to_int(n):\n",
    "    n = unicode(n).upper()\n",
    "\n",
    "    i = result = 0\n",
    "    for integer, numeral in numeral_map:\n",
    "        while n[i:i + len(numeral)] == numeral:\n",
    "            result += integer\n",
    "            i += len(numeral)\n",
    "    return result"
   ]
  }
 ],
 "metadata": {
  "kernelspec": {
   "display_name": "Python [default]",
   "language": "python",
   "name": "python2"
  },
  "language_info": {
   "codemirror_mode": {
    "name": "ipython",
    "version": 2
   },
   "file_extension": ".py",
   "mimetype": "text/x-python",
   "name": "python",
   "nbconvert_exporter": "python",
   "pygments_lexer": "ipython2",
   "version": "2.7.12"
  }
 },
 "nbformat": 4,
 "nbformat_minor": 1
}
