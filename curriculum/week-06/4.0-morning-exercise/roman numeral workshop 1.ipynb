{
 "cells": [
  {
   "cell_type": "code",
   "execution_count": null,
   "metadata": {
    "collapsed": true
   },
   "outputs": [],
   "source": [
    "def raw_input"
   ]
  },
  {
   "cell_type": "code",
   "execution_count": null,
   "metadata": {
    "collapsed": true
   },
   "outputs": [],
   "source": [
    "def int_to_roman\n",
    "try:\n",
    "    orig_number = int(raw_input(\"Enter number:\"))\n",
    "except: \n",
    "    print \"Error: Roman numerals must be positive integers.\"\n",
    "    quit()\n",
    "def numeral(number):\n",
    "    if number <=0:\n",
    "        print \"Roman numerals can only be positive integers\"\n",
    "        return number\n",
    "    if number > 1999:\n",
    "        print (\"I can't count that high!\")\n",
    "        return number\n",
    "    result = \"\"\n",
    "    values = [1000, 900, 500, 400, 100, 90, 50, 40, 10, 9, 5, 4, 1]\n",
    "    numerals = [ \"M\", \"CM\", \"D\", \"CD\", \"C\", \"XC\", \"L\", \"XL\", \"X\", \"IX\", \"V\", \"IV\", \"I\" ]\n",
    "    for n in range(len(values)):\n",
    "       while n >= values[n]:\n",
    "           number -= values[n]\n",
    "           result += numerals[n]\n",
    "    \n",
    "    return result\n",
    "print numeral(orig_number)"
   ]
  },
  {
   "cell_type": "code",
   "execution_count": 3,
   "metadata": {
    "collapsed": false
   },
   "outputs": [],
   "source": [
    "romans = ['M', 'CM', 'D', 'CD', 'C', 'XC', 'L', 'XL', 'X', 'IX', 'V', 'IV', 'I']\n",
    "integers = [1000, 900, 500, 600, 100, 90, 50, 40, 10, 9, 5, 4, 1]\n",
    "numbers_list = zip(integers,romans)\n",
    "\n",
    "def to_roman2(i):\n",
    "    solution = []\n",
    "    for integer, roman in numbers_list:\n",
    "        count = int(i / integer)\n",
    "        solution.append(roman * count)\n",
    "        i -= integer * count\n",
    "    return''.join(solution)\n",
    "\n",
    "def to_roman(i):\n",
    "    result = []\n",
    "    if i == 0:\n",
    "        print \"Need number greater than 0\"\n",
    "    elif i < 0:\n",
    "        i = -1*i\n",
    "        return to_roman2(i)\n",
    "    else:\n",
    "        return to_roman2(i)"
   ]
  },
  {
   "cell_type": "code",
   "execution_count": 6,
   "metadata": {
    "collapsed": false
   },
   "outputs": [
    {
     "name": "stdout",
     "output_type": "stream",
     "text": [
      "LXXVI\n"
     ]
    }
   ],
   "source": [
    "print to_roman2(76)"
   ]
  },
  {
   "cell_type": "code",
   "execution_count": null,
   "metadata": {
    "collapsed": true
   },
   "outputs": [],
   "source": [
    "def int_to_roman\n",
    "try:\n",
    "    number = int(raw_input(\"Enter number:\"))\n",
    "    return\n"
   ]
  },
  {
   "cell_type": "code",
   "execution_count": null,
   "metadata": {
    "collapsed": true
   },
   "outputs": [],
   "source": [
    "ints = (1000, 900,  500, 400, 100,  90, 50,  40, 10,  9,   5,  4,   1)\n",
    "   nums = ('M',  'CM', 'D', 'CD','C', 'XC','L','XL','X','IX','V','IV','I')\n",
    "   result = \"\"\n",
    "   for i in range(len(ints)):\n",
    "      count = int(input / ints[i])\n",
    "      result += nums[i] * count\n",
    "      input -= ints[i] * count\n",
    "   return result\n",
    "\n",
    "\n",
    "\n",
    "def roman_to_int(input):\n",
    "   \"\"\"\n",
    "   Convert a roman numeral to an integer.\n",
    "   \n",
    "   >>> r = range(1, 4000)\n",
    "   >>> nums = [int_to_roman(i) for i in r]\n",
    "   >>> ints = [roman_to_int(n) for n in nums]\n",
    "   >>> print r == ints\n",
    "   1\n",
    "\n",
    "   >>> roman_to_int('VVVIV')\n",
    "   Traceback (most recent call last):\n",
    "    ...\n",
    "   ValueError: input is not a valid roman numeral: VVVIV\n",
    "   >>> roman_to_int(1)\n",
    "   Traceback (most recent call last):\n",
    "    ...\n",
    "   TypeError: expected string, got <type 'int'>\n",
    "   >>> roman_to_int('a')\n",
    "   Traceback (most recent call last):\n",
    "    ...\n",
    "   ValueError: input is not a valid roman numeral: A\n",
    "   >>> roman_to_int('IL')\n",
    "   Traceback (most recent call last):\n",
    "    ...\n",
    "   ValueError: input is not a valid roman numeral: IL\n",
    "   \"\"\"\n",
    "   if type(input) != type(\"\"):\n",
    "      raise TypeError, \"expected string, got %s\" % type(input)\n",
    "   input = input.upper()\n",
    "   nums = ['M', 'D', 'C', 'L', 'X', 'V', 'I']\n",
    "   ints = [1000, 500, 100, 50,  10,  5,   1]\n",
    "   places = []\n",
    "   for c in input:\n",
    "      if not c in nums:\n",
    "         raise ValueError, \"input is not a valid roman numeral: %s\" % input\n",
    "   for i in range(len(input)):\n",
    "      c = input[i]\n",
    "      value = ints[nums.index(c)]\n",
    "      # If the next place holds a larger number, this value is negative.\n",
    "      try:\n",
    "         nextvalue = ints[nums.index(input[i +1])]\n",
    "         if nextvalue > value:\n",
    "            value *= -1\n",
    "      except IndexError:\n",
    "         # there is no next place.\n",
    "         pass\n",
    "      places.append(value)\n",
    "   sum = 0\n",
    "   for n in places: sum += n\n",
    "   # Easiest test for validity...\n",
    "   if int_to_roman(sum) == input:\n",
    "      return sum\n",
    "   else:\n",
    "      raise ValueError, 'input is not a valid roman numeral: %s' % input\n"
   ]
  },
  {
   "cell_type": "code",
   "execution_count": null,
   "metadata": {
    "collapsed": true
   },
   "outputs": [],
   "source": []
  },
  {
   "cell_type": "code",
   "execution_count": null,
   "metadata": {
    "collapsed": true
   },
   "outputs": [],
   "source": []
  },
  {
   "cell_type": "code",
   "execution_count": null,
   "metadata": {
    "collapsed": true
   },
   "outputs": [],
   "source": []
  },
  {
   "cell_type": "code",
   "execution_count": null,
   "metadata": {
    "collapsed": true
   },
   "outputs": [],
   "source": []
  },
  {
   "cell_type": "code",
   "execution_count": null,
   "metadata": {
    "collapsed": true
   },
   "outputs": [],
   "source": []
  },
  {
   "cell_type": "code",
   "execution_count": null,
   "metadata": {
    "collapsed": true
   },
   "outputs": [],
   "source": []
  },
  {
   "cell_type": "code",
   "execution_count": 2,
   "metadata": {
    "collapsed": false
   },
   "outputs": [
    {
     "ename": "ImportError",
     "evalue": "No module named roman",
     "output_type": "error",
     "traceback": [
      "\u001b[0;31m---------------------------------------------------------------------------\u001b[0m",
      "\u001b[0;31mImportError\u001b[0m                               Traceback (most recent call last)",
      "\u001b[0;32m<ipython-input-2-0acf208fb7e1>\u001b[0m in \u001b[0;36m<module>\u001b[0;34m()\u001b[0m\n\u001b[0;32m----> 1\u001b[0;31m \u001b[0;32mimport\u001b[0m \u001b[0mroman\u001b[0m\u001b[0;34m;\u001b[0m\u001b[0;34m\u001b[0m\u001b[0m\n\u001b[0m\u001b[1;32m      2\u001b[0m \u001b[0mn\u001b[0m\u001b[0;34m=\u001b[0m\u001b[0mroman\u001b[0m\u001b[0;34m.\u001b[0m\u001b[0mfromRoman\u001b[0m\u001b[0;34m(\u001b[0m\u001b[0;34m\"X\"\u001b[0m\u001b[0;34m)\u001b[0m\u001b[0;34m;\u001b[0m \u001b[0;31m#n becomes 10\u001b[0m\u001b[0;34m\u001b[0m\u001b[0m\n",
      "\u001b[0;31mImportError\u001b[0m: No module named roman"
     ]
    }
   ],
   "source": [
    "import roman;\n",
    "n=roman.fromRoman(\"X\"); #n becomes 10"
   ]
  },
  {
   "cell_type": "code",
   "execution_count": null,
   "metadata": {
    "collapsed": true
   },
   "outputs": [],
   "source": []
  }
 ],
 "metadata": {
  "kernelspec": {
   "display_name": "Python [default]",
   "language": "python",
   "name": "python2"
  },
  "language_info": {
   "codemirror_mode": {
    "name": "ipython",
    "version": 2
   },
   "file_extension": ".py",
   "mimetype": "text/x-python",
   "name": "python",
   "nbconvert_exporter": "python",
   "pygments_lexer": "ipython2",
   "version": "2.7.12"
  }
 },
 "nbformat": 4,
 "nbformat_minor": 1
}
