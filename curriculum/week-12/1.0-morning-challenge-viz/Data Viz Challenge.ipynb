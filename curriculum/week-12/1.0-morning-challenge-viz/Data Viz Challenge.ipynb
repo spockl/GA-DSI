{
 "cells": [
  {
   "cell_type": "code",
   "execution_count": 1,
   "metadata": {
    "collapsed": true
   },
   "outputs": [],
   "source": [
    "import pandas as pd"
   ]
  },
  {
   "cell_type": "code",
   "execution_count": 5,
   "metadata": {
    "collapsed": false
   },
   "outputs": [],
   "source": [
    "balance = pd.read_csv('/Users/macbook/GA-DSI/curriculum/week-12/1.0-morning-challenge-viz/balance.csv')"
   ]
  },
  {
   "cell_type": "code",
   "execution_count": 6,
   "metadata": {
    "collapsed": true
   },
   "outputs": [],
   "source": [
    "filled = pd.read_csv('/Users/macbook/GA-DSI/curriculum/week-12/1.0-morning-challenge-viz/filled.csv')"
   ]
  },
  {
   "cell_type": "code",
   "execution_count": 7,
   "metadata": {
    "collapsed": true
   },
   "outputs": [],
   "source": [
    "not_filled = pd.read_csv('/Users/macbook/GA-DSI/curriculum/week-12/1.0-morning-challenge-viz/not_filled.csv')"
   ]
  },
  {
   "cell_type": "code",
   "execution_count": 9,
   "metadata": {
    "collapsed": false
   },
   "outputs": [],
   "source": [
    "recharges = pd.read_csv('/Users/macbook/GA-DSI/curriculum/week-12/1.0-morning-challenge-viz/recharges.csv')"
   ]
  },
  {
   "cell_type": "code",
   "execution_count": 10,
   "metadata": {
    "collapsed": true
   },
   "outputs": [],
   "source": [
    "usage = pd.read_csv('/Users/macbook/GA-DSI/curriculum/week-12/1.0-morning-challenge-viz/usage.csv')"
   ]
  },
  {
   "cell_type": "code",
   "execution_count": 17,
   "metadata": {
    "collapsed": false
   },
   "outputs": [
    {
     "data": {
      "text/html": [
       "<div>\n",
       "<table border=\"1\" class=\"dataframe\">\n",
       "  <thead>\n",
       "    <tr style=\"text-align: right;\">\n",
       "      <th></th>\n",
       "      <th>timestamp</th>\n",
       "      <th>balance</th>\n",
       "    </tr>\n",
       "  </thead>\n",
       "  <tbody>\n",
       "    <tr>\n",
       "      <th>0</th>\n",
       "      <td>2013-05-01 05:00:01</td>\n",
       "      <td>28.559999</td>\n",
       "    </tr>\n",
       "    <tr>\n",
       "      <th>1</th>\n",
       "      <td>2013-05-02 05:00:01</td>\n",
       "      <td>23.209999</td>\n",
       "    </tr>\n",
       "    <tr>\n",
       "      <th>2</th>\n",
       "      <td>2013-05-03 05:00:01</td>\n",
       "      <td>18.450001</td>\n",
       "    </tr>\n",
       "    <tr>\n",
       "      <th>3</th>\n",
       "      <td>2013-05-04 00:33:44</td>\n",
       "      <td>8.920000</td>\n",
       "    </tr>\n",
       "    <tr>\n",
       "      <th>4</th>\n",
       "      <td>2013-05-04 00:33:45</td>\n",
       "      <td>58.919998</td>\n",
       "    </tr>\n",
       "  </tbody>\n",
       "</table>\n",
       "</div>"
      ],
      "text/plain": [
       "             timestamp    balance\n",
       "0  2013-05-01 05:00:01  28.559999\n",
       "1  2013-05-02 05:00:01  23.209999\n",
       "2  2013-05-03 05:00:01  18.450001\n",
       "3  2013-05-04 00:33:44   8.920000\n",
       "4  2013-05-04 00:33:45  58.919998"
      ]
     },
     "execution_count": 17,
     "metadata": {},
     "output_type": "execute_result"
    }
   ],
   "source": [
    "balance.head()"
   ]
  },
  {
   "cell_type": "code",
   "execution_count": 15,
   "metadata": {
    "collapsed": false
   },
   "outputs": [
    {
     "data": {
      "text/html": [
       "<div>\n",
       "<table border=\"1\" class=\"dataframe\">\n",
       "  <thead>\n",
       "    <tr style=\"text-align: right;\">\n",
       "      <th></th>\n",
       "      <th>timestamp</th>\n",
       "      <th>rc_amount</th>\n",
       "      <th>offerUnits</th>\n",
       "      <th>offerAmount</th>\n",
       "      <th>qualifying_rc_date</th>\n",
       "      <th>adjustment_date</th>\n",
       "      <th>days_to_adjust</th>\n",
       "      <th>expiryDate</th>\n",
       "    </tr>\n",
       "  </thead>\n",
       "  <tbody>\n",
       "    <tr>\n",
       "      <th>0</th>\n",
       "      <td>2013-06-14 05:48:16</td>\n",
       "      <td>30.0</td>\n",
       "      <td>credit</td>\n",
       "      <td>8.0</td>\n",
       "      <td>2013-06-14 18:53:32</td>\n",
       "      <td>2013-06-20 12:20:21</td>\n",
       "      <td>5</td>\n",
       "      <td>2013-06-19 05:48:16</td>\n",
       "    </tr>\n",
       "    <tr>\n",
       "      <th>1</th>\n",
       "      <td>2013-06-20 07:11:31</td>\n",
       "      <td>50.0</td>\n",
       "      <td>credit</td>\n",
       "      <td>15.0</td>\n",
       "      <td>2013-06-20 19:18:46</td>\n",
       "      <td>2013-06-30 13:52:36</td>\n",
       "      <td>9</td>\n",
       "      <td>2013-06-25 07:11:31</td>\n",
       "    </tr>\n",
       "    <tr>\n",
       "      <th>2</th>\n",
       "      <td>2013-06-27 07:19:29</td>\n",
       "      <td>20.0</td>\n",
       "      <td>credit</td>\n",
       "      <td>5.0</td>\n",
       "      <td>2013-06-27 09:24:36</td>\n",
       "      <td>2013-07-04 16:37:55</td>\n",
       "      <td>7</td>\n",
       "      <td>2013-07-12 07:19:29</td>\n",
       "    </tr>\n",
       "    <tr>\n",
       "      <th>3</th>\n",
       "      <td>2013-07-15 06:09:24</td>\n",
       "      <td>20.0</td>\n",
       "      <td>credit</td>\n",
       "      <td>5.0</td>\n",
       "      <td>2013-07-15 16:03:32</td>\n",
       "      <td>2013-07-19 12:33:46</td>\n",
       "      <td>3</td>\n",
       "      <td>2013-07-30 06:09:24</td>\n",
       "    </tr>\n",
       "    <tr>\n",
       "      <th>4</th>\n",
       "      <td>2013-08-19 06:21:39</td>\n",
       "      <td>50.0</td>\n",
       "      <td>sms</td>\n",
       "      <td>15.0</td>\n",
       "      <td>2013-08-19 13:53:37</td>\n",
       "      <td>2013-08-22 19:41:10</td>\n",
       "      <td>3</td>\n",
       "      <td>2013-08-24 06:21:39</td>\n",
       "    </tr>\n",
       "    <tr>\n",
       "      <th>5</th>\n",
       "      <td>2013-09-21 05:52:28</td>\n",
       "      <td>30.0</td>\n",
       "      <td>sms</td>\n",
       "      <td>10.0</td>\n",
       "      <td>2013-09-23 19:32:44</td>\n",
       "      <td>2013-09-26 21:49:17</td>\n",
       "      <td>3</td>\n",
       "      <td>2013-09-26 05:52:28</td>\n",
       "    </tr>\n",
       "  </tbody>\n",
       "</table>\n",
       "</div>"
      ],
      "text/plain": [
       "             timestamp  rc_amount offerUnits  offerAmount  \\\n",
       "0  2013-06-14 05:48:16       30.0     credit          8.0   \n",
       "1  2013-06-20 07:11:31       50.0     credit         15.0   \n",
       "2  2013-06-27 07:19:29       20.0     credit          5.0   \n",
       "3  2013-07-15 06:09:24       20.0     credit          5.0   \n",
       "4  2013-08-19 06:21:39       50.0        sms         15.0   \n",
       "5  2013-09-21 05:52:28       30.0        sms         10.0   \n",
       "\n",
       "    qualifying_rc_date      adjustment_date  days_to_adjust  \\\n",
       "0  2013-06-14 18:53:32  2013-06-20 12:20:21               5   \n",
       "1  2013-06-20 19:18:46  2013-06-30 13:52:36               9   \n",
       "2  2013-06-27 09:24:36  2013-07-04 16:37:55               7   \n",
       "3  2013-07-15 16:03:32  2013-07-19 12:33:46               3   \n",
       "4  2013-08-19 13:53:37  2013-08-22 19:41:10               3   \n",
       "5  2013-09-23 19:32:44  2013-09-26 21:49:17               3   \n",
       "\n",
       "            expiryDate  \n",
       "0  2013-06-19 05:48:16  \n",
       "1  2013-06-25 07:11:31  \n",
       "2  2013-07-12 07:19:29  \n",
       "3  2013-07-30 06:09:24  \n",
       "4  2013-08-24 06:21:39  \n",
       "5  2013-09-26 05:52:28  "
      ]
     },
     "execution_count": 15,
     "metadata": {},
     "output_type": "execute_result"
    }
   ],
   "source": [
    "filled"
   ]
  },
  {
   "cell_type": "code",
   "execution_count": 14,
   "metadata": {
    "collapsed": false
   },
   "outputs": [
    {
     "data": {
      "text/html": [
       "<div>\n",
       "<table border=\"1\" class=\"dataframe\">\n",
       "  <thead>\n",
       "    <tr style=\"text-align: right;\">\n",
       "      <th></th>\n",
       "      <th>timestamp</th>\n",
       "      <th>rc_amount</th>\n",
       "      <th>offerUnits</th>\n",
       "      <th>offerAmount</th>\n",
       "      <th>qualifying_recharge</th>\n",
       "      <th>expiryDate</th>\n",
       "    </tr>\n",
       "  </thead>\n",
       "  <tbody>\n",
       "    <tr>\n",
       "      <th>0</th>\n",
       "      <td>2013-08-01 05:50:36</td>\n",
       "      <td>20.0</td>\n",
       "      <td>credit</td>\n",
       "      <td>5.0</td>\n",
       "      <td>True</td>\n",
       "      <td>2013-08-16 05:50:36</td>\n",
       "    </tr>\n",
       "  </tbody>\n",
       "</table>\n",
       "</div>"
      ],
      "text/plain": [
       "             timestamp  rc_amount offerUnits  offerAmount qualifying_recharge  \\\n",
       "0  2013-08-01 05:50:36       20.0     credit          5.0                True   \n",
       "\n",
       "            expiryDate  \n",
       "0  2013-08-16 05:50:36  "
      ]
     },
     "execution_count": 14,
     "metadata": {},
     "output_type": "execute_result"
    }
   ],
   "source": [
    "not_filled"
   ]
  },
  {
   "cell_type": "code",
   "execution_count": 20,
   "metadata": {
    "collapsed": false
   },
   "outputs": [
    {
     "data": {
      "text/html": [
       "<div>\n",
       "<table border=\"1\" class=\"dataframe\">\n",
       "  <thead>\n",
       "    <tr style=\"text-align: right;\">\n",
       "      <th></th>\n",
       "      <th>timestamp</th>\n",
       "      <th>voucher_label</th>\n",
       "      <th>voucher_value</th>\n",
       "    </tr>\n",
       "  </thead>\n",
       "  <tbody>\n",
       "    <tr>\n",
       "      <th>0</th>\n",
       "      <td>2013-05-04 00:32:16</td>\n",
       "      <td>SELLER</td>\n",
       "      <td>50.0</td>\n",
       "    </tr>\n",
       "    <tr>\n",
       "      <th>1</th>\n",
       "      <td>2013-05-09 02:14:26</td>\n",
       "      <td>BODCELU</td>\n",
       "      <td>20.0</td>\n",
       "    </tr>\n",
       "    <tr>\n",
       "      <th>2</th>\n",
       "      <td>2013-05-11 21:32:55</td>\n",
       "      <td>SELLER</td>\n",
       "      <td>50.0</td>\n",
       "    </tr>\n",
       "    <tr>\n",
       "      <th>3</th>\n",
       "      <td>2013-05-18 16:11:50</td>\n",
       "      <td>WALTMART</td>\n",
       "      <td>50.0</td>\n",
       "    </tr>\n",
       "    <tr>\n",
       "      <th>4</th>\n",
       "      <td>2013-05-20 14:43:52</td>\n",
       "      <td>SELLER</td>\n",
       "      <td>50.0</td>\n",
       "    </tr>\n",
       "  </tbody>\n",
       "</table>\n",
       "</div>"
      ],
      "text/plain": [
       "             timestamp voucher_label  voucher_value\n",
       "0  2013-05-04 00:32:16    SELLER               50.0\n",
       "1  2013-05-09 02:14:26       BODCELU           20.0\n",
       "2  2013-05-11 21:32:55    SELLER               50.0\n",
       "3  2013-05-18 16:11:50      WALTMART           50.0\n",
       "4  2013-05-20 14:43:52    SELLER               50.0"
      ]
     },
     "execution_count": 20,
     "metadata": {},
     "output_type": "execute_result"
    }
   ],
   "source": [
    "recharges.head()"
   ]
  },
  {
   "cell_type": "code",
   "execution_count": null,
   "metadata": {
    "collapsed": true
   },
   "outputs": [],
   "source": []
  }
 ],
 "metadata": {
  "anaconda-cloud": {},
  "kernelspec": {
   "display_name": "Python [default]",
   "language": "python",
   "name": "python2"
  },
  "language_info": {
   "codemirror_mode": {
    "name": "ipython",
    "version": 2
   },
   "file_extension": ".py",
   "mimetype": "text/x-python",
   "name": "python",
   "nbconvert_exporter": "python",
   "pygments_lexer": "ipython2",
   "version": "2.7.12"
  }
 },
 "nbformat": 4,
 "nbformat_minor": 1
}
