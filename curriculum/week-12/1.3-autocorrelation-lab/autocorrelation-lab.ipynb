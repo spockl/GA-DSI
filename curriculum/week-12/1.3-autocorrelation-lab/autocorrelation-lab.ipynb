{
 "cells": [
  {
   "cell_type": "code",
   "execution_count": 15,
   "metadata": {
    "collapsed": true
   },
   "outputs": [],
   "source": [
    "import pandas as pd\n",
    "%matplotlib inline\n",
    "import matplotlib as plt\n",
    "plt.rcParams['figure.figsize'] = (16.0, 8.0)\n",
    "from datetime import datetime"
   ]
  },
  {
   "cell_type": "code",
   "execution_count": 2,
   "metadata": {
    "collapsed": true
   },
   "outputs": [],
   "source": [
    "santander = pd.read_csv('/Users/macbook/GA-DSI/curriculum/week-12/1.3-autocorrelation-lab/san.csv')"
   ]
  },
  {
   "cell_type": "code",
   "execution_count": 9,
   "metadata": {
    "collapsed": false
   },
   "outputs": [
    {
     "data": {
      "text/html": [
       "<div>\n",
       "<table border=\"1\" class=\"dataframe\">\n",
       "  <thead>\n",
       "    <tr style=\"text-align: right;\">\n",
       "      <th></th>\n",
       "      <th>﻿Date</th>\n",
       "      <th>Open</th>\n",
       "      <th>High</th>\n",
       "      <th>Low</th>\n",
       "      <th>Close</th>\n",
       "      <th>Volume</th>\n",
       "    </tr>\n",
       "  </thead>\n",
       "  <tbody>\n",
       "    <tr>\n",
       "      <th>0</th>\n",
       "      <td>2-Dec-16</td>\n",
       "      <td>4.53</td>\n",
       "      <td>4.56</td>\n",
       "      <td>4.50</td>\n",
       "      <td>4.52</td>\n",
       "      <td>6382650</td>\n",
       "    </tr>\n",
       "    <tr>\n",
       "      <th>1</th>\n",
       "      <td>1-Dec-16</td>\n",
       "      <td>4.55</td>\n",
       "      <td>4.59</td>\n",
       "      <td>4.54</td>\n",
       "      <td>4.58</td>\n",
       "      <td>6221367</td>\n",
       "    </tr>\n",
       "    <tr>\n",
       "      <th>2</th>\n",
       "      <td>30-Nov-16</td>\n",
       "      <td>4.51</td>\n",
       "      <td>4.55</td>\n",
       "      <td>4.50</td>\n",
       "      <td>4.52</td>\n",
       "      <td>4276541</td>\n",
       "    </tr>\n",
       "    <tr>\n",
       "      <th>3</th>\n",
       "      <td>29-Nov-16</td>\n",
       "      <td>4.47</td>\n",
       "      <td>4.51</td>\n",
       "      <td>4.44</td>\n",
       "      <td>4.48</td>\n",
       "      <td>5383333</td>\n",
       "    </tr>\n",
       "    <tr>\n",
       "      <th>4</th>\n",
       "      <td>28-Nov-16</td>\n",
       "      <td>4.46</td>\n",
       "      <td>4.48</td>\n",
       "      <td>4.40</td>\n",
       "      <td>4.41</td>\n",
       "      <td>4708096</td>\n",
       "    </tr>\n",
       "  </tbody>\n",
       "</table>\n",
       "</div>"
      ],
      "text/plain": [
       "       ﻿Date  Open  High   Low  Close   Volume\n",
       "0   2-Dec-16  4.53  4.56  4.50   4.52  6382650\n",
       "1   1-Dec-16  4.55  4.59  4.54   4.58  6221367\n",
       "2  30-Nov-16  4.51  4.55  4.50   4.52  4276541\n",
       "3  29-Nov-16  4.47  4.51  4.44   4.48  5383333\n",
       "4  28-Nov-16  4.46  4.48  4.40   4.41  4708096"
      ]
     },
     "execution_count": 9,
     "metadata": {},
     "output_type": "execute_result"
    }
   ],
   "source": [
    "santander.head()"
   ]
  },
  {
   "cell_type": "code",
   "execution_count": 3,
   "metadata": {
    "collapsed": true
   },
   "outputs": [],
   "source": [
    "starbux = pd.read_csv('/Users/macbook/GA-DSI/curriculum/week-12/1.3-autocorrelation-lab/sbux.csv')"
   ]
  },
  {
   "cell_type": "code",
   "execution_count": 10,
   "metadata": {
    "collapsed": false
   },
   "outputs": [
    {
     "data": {
      "text/html": [
       "<div>\n",
       "<table border=\"1\" class=\"dataframe\">\n",
       "  <thead>\n",
       "    <tr style=\"text-align: right;\">\n",
       "      <th></th>\n",
       "      <th>﻿Date</th>\n",
       "      <th>Open</th>\n",
       "      <th>High</th>\n",
       "      <th>Low</th>\n",
       "      <th>Close</th>\n",
       "      <th>Volume</th>\n",
       "    </tr>\n",
       "  </thead>\n",
       "  <tbody>\n",
       "    <tr>\n",
       "      <th>0</th>\n",
       "      <td>2-Dec-16</td>\n",
       "      <td>56.65</td>\n",
       "      <td>57.75</td>\n",
       "      <td>56.57</td>\n",
       "      <td>57.21</td>\n",
       "      <td>16869957</td>\n",
       "    </tr>\n",
       "    <tr>\n",
       "      <th>1</th>\n",
       "      <td>1-Dec-16</td>\n",
       "      <td>57.34</td>\n",
       "      <td>58.52</td>\n",
       "      <td>57.20</td>\n",
       "      <td>58.51</td>\n",
       "      <td>12381607</td>\n",
       "    </tr>\n",
       "    <tr>\n",
       "      <th>2</th>\n",
       "      <td>30-Nov-16</td>\n",
       "      <td>58.19</td>\n",
       "      <td>58.25</td>\n",
       "      <td>57.86</td>\n",
       "      <td>57.97</td>\n",
       "      <td>9527959</td>\n",
       "    </tr>\n",
       "    <tr>\n",
       "      <th>3</th>\n",
       "      <td>29-Nov-16</td>\n",
       "      <td>57.64</td>\n",
       "      <td>58.21</td>\n",
       "      <td>57.50</td>\n",
       "      <td>58.17</td>\n",
       "      <td>10582850</td>\n",
       "    </tr>\n",
       "    <tr>\n",
       "      <th>4</th>\n",
       "      <td>28-Nov-16</td>\n",
       "      <td>57.00</td>\n",
       "      <td>57.86</td>\n",
       "      <td>56.76</td>\n",
       "      <td>57.59</td>\n",
       "      <td>8750925</td>\n",
       "    </tr>\n",
       "  </tbody>\n",
       "</table>\n",
       "</div>"
      ],
      "text/plain": [
       "       ﻿Date   Open   High    Low  Close    Volume\n",
       "0   2-Dec-16  56.65  57.75  56.57  57.21  16869957\n",
       "1   1-Dec-16  57.34  58.52  57.20  58.51  12381607\n",
       "2  30-Nov-16  58.19  58.25  57.86  57.97   9527959\n",
       "3  29-Nov-16  57.64  58.21  57.50  58.17  10582850\n",
       "4  28-Nov-16  57.00  57.86  56.76  57.59   8750925"
      ]
     },
     "execution_count": 10,
     "metadata": {},
     "output_type": "execute_result"
    }
   ],
   "source": [
    "starbux.head()"
   ]
  },
  {
   "cell_type": "code",
   "execution_count": 4,
   "metadata": {
    "collapsed": true
   },
   "outputs": [],
   "source": [
    "sirius = pd.read_csv('/Users/macbook/GA-DSI/curriculum/week-12/1.3-autocorrelation-lab/siri.csv')"
   ]
  },
  {
   "cell_type": "code",
   "execution_count": 11,
   "metadata": {
    "collapsed": false
   },
   "outputs": [
    {
     "data": {
      "text/html": [
       "<div>\n",
       "<table border=\"1\" class=\"dataframe\">\n",
       "  <thead>\n",
       "    <tr style=\"text-align: right;\">\n",
       "      <th></th>\n",
       "      <th>﻿Date</th>\n",
       "      <th>Open</th>\n",
       "      <th>High</th>\n",
       "      <th>Low</th>\n",
       "      <th>Close</th>\n",
       "      <th>Volume</th>\n",
       "    </tr>\n",
       "  </thead>\n",
       "  <tbody>\n",
       "    <tr>\n",
       "      <th>0</th>\n",
       "      <td>2-Dec-16</td>\n",
       "      <td>4.53</td>\n",
       "      <td>4.60</td>\n",
       "      <td>4.22</td>\n",
       "      <td>4.30</td>\n",
       "      <td>93331520</td>\n",
       "    </tr>\n",
       "    <tr>\n",
       "      <th>1</th>\n",
       "      <td>1-Dec-16</td>\n",
       "      <td>4.57</td>\n",
       "      <td>4.61</td>\n",
       "      <td>4.51</td>\n",
       "      <td>4.56</td>\n",
       "      <td>30968272</td>\n",
       "    </tr>\n",
       "    <tr>\n",
       "      <th>2</th>\n",
       "      <td>30-Nov-16</td>\n",
       "      <td>4.62</td>\n",
       "      <td>4.65</td>\n",
       "      <td>4.56</td>\n",
       "      <td>4.57</td>\n",
       "      <td>31387372</td>\n",
       "    </tr>\n",
       "    <tr>\n",
       "      <th>3</th>\n",
       "      <td>29-Nov-16</td>\n",
       "      <td>4.56</td>\n",
       "      <td>4.63</td>\n",
       "      <td>4.55</td>\n",
       "      <td>4.61</td>\n",
       "      <td>36473120</td>\n",
       "    </tr>\n",
       "    <tr>\n",
       "      <th>4</th>\n",
       "      <td>28-Nov-16</td>\n",
       "      <td>4.58</td>\n",
       "      <td>4.61</td>\n",
       "      <td>4.54</td>\n",
       "      <td>4.54</td>\n",
       "      <td>21318391</td>\n",
       "    </tr>\n",
       "  </tbody>\n",
       "</table>\n",
       "</div>"
      ],
      "text/plain": [
       "       ﻿Date  Open  High   Low  Close    Volume\n",
       "0   2-Dec-16  4.53  4.60  4.22   4.30  93331520\n",
       "1   1-Dec-16  4.57  4.61  4.51   4.56  30968272\n",
       "2  30-Nov-16  4.62  4.65  4.56   4.57  31387372\n",
       "3  29-Nov-16  4.56  4.63  4.55   4.61  36473120\n",
       "4  28-Nov-16  4.58  4.61  4.54   4.54  21318391"
      ]
     },
     "execution_count": 11,
     "metadata": {},
     "output_type": "execute_result"
    }
   ],
   "source": [
    "sirius.head()"
   ]
  },
  {
   "cell_type": "code",
   "execution_count": 6,
   "metadata": {
    "collapsed": false
   },
   "outputs": [],
   "source": [
    "target = pd.read_csv('/Users/macbook/GA-DSI/curriculum/week-12/1.3-autocorrelation-lab/tgt.csv')"
   ]
  },
  {
   "cell_type": "code",
   "execution_count": 12,
   "metadata": {
    "collapsed": false
   },
   "outputs": [
    {
     "data": {
      "text/html": [
       "<div>\n",
       "<table border=\"1\" class=\"dataframe\">\n",
       "  <thead>\n",
       "    <tr style=\"text-align: right;\">\n",
       "      <th></th>\n",
       "      <th>﻿Date</th>\n",
       "      <th>Open</th>\n",
       "      <th>High</th>\n",
       "      <th>Low</th>\n",
       "      <th>Close</th>\n",
       "      <th>Volume</th>\n",
       "    </tr>\n",
       "  </thead>\n",
       "  <tbody>\n",
       "    <tr>\n",
       "      <th>0</th>\n",
       "      <td>2-Dec-16</td>\n",
       "      <td>77.24</td>\n",
       "      <td>78.40</td>\n",
       "      <td>76.83</td>\n",
       "      <td>77.94</td>\n",
       "      <td>7523696</td>\n",
       "    </tr>\n",
       "    <tr>\n",
       "      <th>1</th>\n",
       "      <td>1-Dec-16</td>\n",
       "      <td>76.86</td>\n",
       "      <td>78.58</td>\n",
       "      <td>76.59</td>\n",
       "      <td>77.82</td>\n",
       "      <td>6685299</td>\n",
       "    </tr>\n",
       "    <tr>\n",
       "      <th>2</th>\n",
       "      <td>30-Nov-16</td>\n",
       "      <td>77.73</td>\n",
       "      <td>78.04</td>\n",
       "      <td>77.06</td>\n",
       "      <td>77.24</td>\n",
       "      <td>5819108</td>\n",
       "    </tr>\n",
       "    <tr>\n",
       "      <th>3</th>\n",
       "      <td>29-Nov-16</td>\n",
       "      <td>78.00</td>\n",
       "      <td>78.69</td>\n",
       "      <td>77.75</td>\n",
       "      <td>78.41</td>\n",
       "      <td>4693985</td>\n",
       "    </tr>\n",
       "    <tr>\n",
       "      <th>4</th>\n",
       "      <td>28-Nov-16</td>\n",
       "      <td>78.37</td>\n",
       "      <td>78.94</td>\n",
       "      <td>77.50</td>\n",
       "      <td>77.72</td>\n",
       "      <td>5405472</td>\n",
       "    </tr>\n",
       "  </tbody>\n",
       "</table>\n",
       "</div>"
      ],
      "text/plain": [
       "       ﻿Date   Open   High    Low  Close   Volume\n",
       "0   2-Dec-16  77.24  78.40  76.83  77.94  7523696\n",
       "1   1-Dec-16  76.86  78.58  76.59  77.82  6685299\n",
       "2  30-Nov-16  77.73  78.04  77.06  77.24  5819108\n",
       "3  29-Nov-16  78.00  78.69  77.75  78.41  4693985\n",
       "4  28-Nov-16  78.37  78.94  77.50  77.72  5405472"
      ]
     },
     "execution_count": 12,
     "metadata": {},
     "output_type": "execute_result"
    }
   ],
   "source": [
    "target.head()"
   ]
  },
  {
   "cell_type": "code",
   "execution_count": 7,
   "metadata": {
    "collapsed": true
   },
   "outputs": [],
   "source": [
    "samsung = pd.read_csv('/Users/macbook/GA-DSI/curriculum/week-12/1.3-autocorrelation-lab/ssnlf.csv')"
   ]
  },
  {
   "cell_type": "code",
   "execution_count": 13,
   "metadata": {
    "collapsed": false
   },
   "outputs": [
    {
     "data": {
      "text/html": [
       "<div>\n",
       "<table border=\"1\" class=\"dataframe\">\n",
       "  <thead>\n",
       "    <tr style=\"text-align: right;\">\n",
       "      <th></th>\n",
       "      <th>﻿Date</th>\n",
       "      <th>Open</th>\n",
       "      <th>High</th>\n",
       "      <th>Low</th>\n",
       "      <th>Close</th>\n",
       "      <th>Volume</th>\n",
       "    </tr>\n",
       "  </thead>\n",
       "  <tbody>\n",
       "    <tr>\n",
       "      <th>0</th>\n",
       "      <td>19-Oct-16</td>\n",
       "      <td>1250.0</td>\n",
       "      <td>1450.0</td>\n",
       "      <td>1250.0</td>\n",
       "      <td>1250.0</td>\n",
       "      <td>138</td>\n",
       "    </tr>\n",
       "    <tr>\n",
       "      <th>1</th>\n",
       "      <td>13-Oct-16</td>\n",
       "      <td>1425.0</td>\n",
       "      <td>1425.0</td>\n",
       "      <td>1425.0</td>\n",
       "      <td>1425.0</td>\n",
       "      <td>102</td>\n",
       "    </tr>\n",
       "    <tr>\n",
       "      <th>2</th>\n",
       "      <td>10-Oct-16</td>\n",
       "      <td>1350.0</td>\n",
       "      <td>1350.0</td>\n",
       "      <td>1350.0</td>\n",
       "      <td>1350.0</td>\n",
       "      <td>14</td>\n",
       "    </tr>\n",
       "    <tr>\n",
       "      <th>3</th>\n",
       "      <td>7-Oct-16</td>\n",
       "      <td>1350.0</td>\n",
       "      <td>1350.0</td>\n",
       "      <td>1350.0</td>\n",
       "      <td>1350.0</td>\n",
       "      <td>812</td>\n",
       "    </tr>\n",
       "    <tr>\n",
       "      <th>4</th>\n",
       "      <td>5-Oct-16</td>\n",
       "      <td>1600.0</td>\n",
       "      <td>1600.0</td>\n",
       "      <td>1600.0</td>\n",
       "      <td>1600.0</td>\n",
       "      <td>101</td>\n",
       "    </tr>\n",
       "  </tbody>\n",
       "</table>\n",
       "</div>"
      ],
      "text/plain": [
       "       ﻿Date    Open    High     Low   Close  Volume\n",
       "0  19-Oct-16  1250.0  1450.0  1250.0  1250.0     138\n",
       "1  13-Oct-16  1425.0  1425.0  1425.0  1425.0     102\n",
       "2  10-Oct-16  1350.0  1350.0  1350.0  1350.0      14\n",
       "3   7-Oct-16  1350.0  1350.0  1350.0  1350.0     812\n",
       "4   5-Oct-16  1600.0  1600.0  1600.0  1600.0     101"
      ]
     },
     "execution_count": 13,
     "metadata": {},
     "output_type": "execute_result"
    }
   ],
   "source": [
    "samsung.head()"
   ]
  },
  {
   "cell_type": "code",
   "execution_count": 8,
   "metadata": {
    "collapsed": true
   },
   "outputs": [],
   "source": [
    "mmj = pd.read_csv('/Users/macbook/GA-DSI/curriculum/week-12/1.3-autocorrelation-lab/cbis.csv')"
   ]
  },
  {
   "cell_type": "code",
   "execution_count": 14,
   "metadata": {
    "collapsed": false
   },
   "outputs": [
    {
     "data": {
      "text/html": [
       "<div>\n",
       "<table border=\"1\" class=\"dataframe\">\n",
       "  <thead>\n",
       "    <tr style=\"text-align: right;\">\n",
       "      <th></th>\n",
       "      <th>﻿Date</th>\n",
       "      <th>Open</th>\n",
       "      <th>High</th>\n",
       "      <th>Low</th>\n",
       "      <th>Close</th>\n",
       "      <th>Volume</th>\n",
       "    </tr>\n",
       "  </thead>\n",
       "  <tbody>\n",
       "    <tr>\n",
       "      <th>0</th>\n",
       "      <td>2-Dec-16</td>\n",
       "      <td>0.04</td>\n",
       "      <td>0.04</td>\n",
       "      <td>0.04</td>\n",
       "      <td>0.04</td>\n",
       "      <td>11988239</td>\n",
       "    </tr>\n",
       "    <tr>\n",
       "      <th>1</th>\n",
       "      <td>1-Dec-16</td>\n",
       "      <td>0.04</td>\n",
       "      <td>0.04</td>\n",
       "      <td>0.03</td>\n",
       "      <td>0.04</td>\n",
       "      <td>10241813</td>\n",
       "    </tr>\n",
       "    <tr>\n",
       "      <th>2</th>\n",
       "      <td>30-Nov-16</td>\n",
       "      <td>0.04</td>\n",
       "      <td>0.04</td>\n",
       "      <td>0.03</td>\n",
       "      <td>0.04</td>\n",
       "      <td>13240839</td>\n",
       "    </tr>\n",
       "    <tr>\n",
       "      <th>3</th>\n",
       "      <td>29-Nov-16</td>\n",
       "      <td>0.04</td>\n",
       "      <td>0.04</td>\n",
       "      <td>0.03</td>\n",
       "      <td>0.03</td>\n",
       "      <td>25569072</td>\n",
       "    </tr>\n",
       "    <tr>\n",
       "      <th>4</th>\n",
       "      <td>28-Nov-16</td>\n",
       "      <td>0.04</td>\n",
       "      <td>0.04</td>\n",
       "      <td>0.04</td>\n",
       "      <td>0.04</td>\n",
       "      <td>30781099</td>\n",
       "    </tr>\n",
       "  </tbody>\n",
       "</table>\n",
       "</div>"
      ],
      "text/plain": [
       "       ﻿Date  Open  High   Low  Close    Volume\n",
       "0   2-Dec-16  0.04  0.04  0.04   0.04  11988239\n",
       "1   1-Dec-16  0.04  0.04  0.03   0.04  10241813\n",
       "2  30-Nov-16  0.04  0.04  0.03   0.04  13240839\n",
       "3  29-Nov-16  0.04  0.04  0.03   0.03  25569072\n",
       "4  28-Nov-16  0.04  0.04  0.04   0.04  30781099"
      ]
     },
     "execution_count": 14,
     "metadata": {},
     "output_type": "execute_result"
    }
   ],
   "source": [
    "mmj.head()"
   ]
  },
  {
   "cell_type": "code",
   "execution_count": null,
   "metadata": {
    "collapsed": true
   },
   "outputs": [],
   "source": []
  }
 ],
 "metadata": {
  "kernelspec": {
   "display_name": "Python [default]",
   "language": "python",
   "name": "python2"
  },
  "language_info": {
   "codemirror_mode": {
    "name": "ipython",
    "version": 2
   },
   "file_extension": ".py",
   "mimetype": "text/x-python",
   "name": "python",
   "nbconvert_exporter": "python",
   "pygments_lexer": "ipython2",
   "version": "2.7.12"
  }
 },
 "nbformat": 4,
 "nbformat_minor": 1
}
