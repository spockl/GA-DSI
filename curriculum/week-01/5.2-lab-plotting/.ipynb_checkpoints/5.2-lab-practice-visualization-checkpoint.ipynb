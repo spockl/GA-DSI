{
 "cells": [
  {
   "cell_type": "markdown",
   "metadata": {},
   "source": [
    "# 5.2 Plotting Lab\n",
    "\n",
    "Practice visualizing datasets with Python libraries.\n"
   ]
  },
  {
   "cell_type": "markdown",
   "metadata": {},
   "source": [
    "### Load required packages"
   ]
  },
  {
   "cell_type": "code",
   "execution_count": 1,
   "metadata": {
    "collapsed": false
   },
   "outputs": [
    {
     "ename": "ImportError",
     "evalue": "No module named plotly",
     "output_type": "error",
     "traceback": [
      "\u001b[0;31m---------------------------------------------------------------------------\u001b[0m",
      "\u001b[0;31mImportError\u001b[0m                               Traceback (most recent call last)",
      "\u001b[0;32m<ipython-input-1-823761d68a7e>\u001b[0m in \u001b[0;36m<module>\u001b[0;34m()\u001b[0m\n\u001b[1;32m      9\u001b[0m \u001b[0;32mimport\u001b[0m \u001b[0mmatplotlib\u001b[0m\u001b[0;34m.\u001b[0m\u001b[0mpyplot\u001b[0m \u001b[0;32mas\u001b[0m \u001b[0mplt\u001b[0m\u001b[0;34m\u001b[0m\u001b[0m\n\u001b[1;32m     10\u001b[0m \u001b[0;32mimport\u001b[0m \u001b[0mseaborn\u001b[0m \u001b[0;32mas\u001b[0m \u001b[0msns\u001b[0m\u001b[0;34m\u001b[0m\u001b[0m\n\u001b[0;32m---> 11\u001b[0;31m \u001b[0;32mimport\u001b[0m \u001b[0mplotly\u001b[0m\u001b[0;34m\u001b[0m\u001b[0m\n\u001b[0m\u001b[1;32m     12\u001b[0m \u001b[0;32mimport\u001b[0m \u001b[0mplotly\u001b[0m\u001b[0;34m.\u001b[0m\u001b[0mplotly\u001b[0m \u001b[0;32mas\u001b[0m \u001b[0mpy\u001b[0m\u001b[0;34m\u001b[0m\u001b[0m\n\u001b[1;32m     13\u001b[0m \u001b[0;32mimport\u001b[0m \u001b[0mplotly\u001b[0m\u001b[0;34m.\u001b[0m\u001b[0mgraph_objs\u001b[0m \u001b[0;32mas\u001b[0m \u001b[0mgo\u001b[0m\u001b[0;34m\u001b[0m\u001b[0m\n",
      "\u001b[0;31mImportError\u001b[0m: No module named plotly"
     ]
    }
   ],
   "source": [
    "# Numeric and statistics packages:\n",
    "import numpy as np\n",
    "import scipy.stats as stats\n",
    "\n",
    "# Pandas handles dataset loading and manipulation:\n",
    "import pandas as pd\n",
    "\n",
    "# import the plotting functions:\n",
    "import matplotlib.pyplot as plt\n",
    "import seaborn as sns\n",
    "import plotly\n",
    "import plotly.plotly as py\n",
    "import plotly.graph_objs as go\n",
    "\n",
    "# Initialize plotly notebook mode:\n",
    "plotly.offline.init_notebook_mode()\n",
    "\n",
    "# Setup matplotlib to display in notebook:\n",
    "%matplotlib inline"
   ]
  },
  {
   "cell_type": "markdown",
   "metadata": {},
   "source": [
    "## Load datasets with pandas\n",
    "\n",
    "The datasets are in the assets/datasets folder. They are:\n",
    "\n",
    "```\n",
    "salary.csv\n",
    "sales_info.csv\n",
    "```\n",
    "    \n",
    "We have used these before. You should also load up the dataset we use in Project 1! Finding the path is up to you for these datasets for practice.\n",
    "\n",
    "The pandas pattern for loading datasets is:\n",
    "\n",
    "```python\n",
    "salary = pd.read_csv({salary_csv_path})\n",
    "```\n",
    "\n",
    "You may want to rename the columns, especially for salary. The pattern for this would be:\n",
    "\n",
    "```python\n",
    "salary.columns = ['gender', 'professor_rank', 'years_in_job', \n",
    "                  'degree_level', 'years_since_degree', 'yearly_salary']\n",
    "```\n",
    "    \n",
    "Which essentialy sets the columns to a list of strings. Pandas is pretty nice!\n",
    "\n",
    "Use the ```.head()``` command on each DataFrame object to make sure that it looks ok.\n",
    "\n",
    "Some plotting functions take arrays or lists, others take pandas DataFrame objects. It's up to you to look this up in the documentation to practice reading documentation for info on plotting. Getting arrays for columns out of a pandas DataFrame is:\n",
    "\n",
    "```python\n",
    "gender = salary.gender.values\n",
    "```\n",
    "\n",
    "As you can see, columns are also referenced easily with the .column syntax. They can also be accessed like:\n",
    "\n",
    "```python\n",
    "gender = salary[['gender']].values\n",
    "```\n",
    "    \n"
   ]
  },
  {
   "cell_type": "markdown",
   "metadata": {},
   "source": [
    "## seaborn documentation\n",
    "\n",
    "I highly recommend looking at the gallery section for examples!\n",
    "\n",
    "- The website: https://stanford.edu/~mwaskom/software/seaborn/\n",
    "- Check out the gallery of examples: https://stanford.edu/~mwaskom/software/seaborn/examples/index.html\n",
    "- The API documentation has full info: https://stanford.edu/~mwaskom/software/seaborn/api.html"
   ]
  },
  {
   "cell_type": "markdown",
   "metadata": {},
   "source": [
    "### 1. Load in your datasets with pandas and examine them."
   ]
  },
  {
   "cell_type": "code",
   "execution_count": null,
   "metadata": {
    "collapsed": true
   },
   "outputs": [],
   "source": []
  },
  {
   "cell_type": "markdown",
   "metadata": {},
   "source": [
    "### 2. Use a seaborn .pairplot() on variables from two of your three datasets."
   ]
  },
  {
   "cell_type": "code",
   "execution_count": null,
   "metadata": {
    "collapsed": true
   },
   "outputs": [],
   "source": []
  },
  {
   "cell_type": "markdown",
   "metadata": {},
   "source": [
    "### Use a seaborn .jointplot() on variables from two of your three datasets."
   ]
  },
  {
   "cell_type": "code",
   "execution_count": null,
   "metadata": {
    "collapsed": true
   },
   "outputs": [],
   "source": []
  },
  {
   "cell_type": "markdown",
   "metadata": {},
   "source": [
    "### 3. Use a new seaborn function to plot variables from two of your three datasets."
   ]
  },
  {
   "cell_type": "code",
   "execution_count": null,
   "metadata": {
    "collapsed": true
   },
   "outputs": [],
   "source": []
  },
  {
   "cell_type": "markdown",
   "metadata": {},
   "source": [
    "## plotly (optional)\n",
    "\n",
    "Check out the plotly documentation and look back on the code I wrote for a guide to the syntax. Don't worry if plotly isn't intuitive at first. It takes practice.\n",
    "\n",
    "- website: https://plot.ly/\n",
    "- documentation and examples for plotting in python: https://plot.ly/python/"
   ]
  },
  {
   "cell_type": "markdown",
   "metadata": {},
   "source": [
    "### 4. Use a plotly scatterplot to plot variables from two of your three datasets."
   ]
  },
  {
   "cell_type": "code",
   "execution_count": null,
   "metadata": {
    "collapsed": true
   },
   "outputs": [],
   "source": []
  },
  {
   "cell_type": "markdown",
   "metadata": {},
   "source": [
    "### 5. Try a new plotly function to plot variables from one of your datasets."
   ]
  },
  {
   "cell_type": "code",
   "execution_count": null,
   "metadata": {
    "collapsed": true
   },
   "outputs": [],
   "source": []
  }
 ],
 "metadata": {
  "anaconda-cloud": {},
  "kernelspec": {
   "display_name": "Python [Root]",
   "language": "python",
   "name": "Python [Root]"
  },
  "language_info": {
   "codemirror_mode": {
    "name": "ipython",
    "version": 2
   },
   "file_extension": ".py",
   "mimetype": "text/x-python",
   "name": "python",
   "nbconvert_exporter": "python",
   "pygments_lexer": "ipython2",
   "version": "2.7.12"
  }
 },
 "nbformat": 4,
 "nbformat_minor": 0
}
