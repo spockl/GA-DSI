{
 "cells": [
  {
   "cell_type": "code",
   "execution_count": 1,
   "metadata": {
    "collapsed": false
   },
   "outputs": [
    {
     "name": "stdout",
     "output_type": "stream",
     "text": [
      "promt?75\n"
     ]
    }
   ],
   "source": [
    "weight = float(input('promt?'))"
   ]
  },
  {
   "cell_type": "code",
   "execution_count": 3,
   "metadata": {
    "collapsed": false
   },
   "outputs": [
    {
     "name": "stdout",
     "output_type": "stream",
     "text": [
      "There is a $25 charge for luggage that heavy\n",
      "Thank you for your business\n"
     ]
    }
   ],
   "source": [
    "if weight > 50 :\n",
    "    print (\"There is a $25 charge for luggage that heavy\")\n",
    "    print (\"Thank you for your business\")"
   ]
  },
  {
   "cell_type": "markdown",
   "metadata": {},
   "source": [
    "43"
   ]
  },
  {
   "cell_type": "code",
   "execution_count": 5,
   "metadata": {
    "collapsed": true
   },
   "outputs": [],
   "source": [
    "if w > 50 :\n",
    "    print (\"There is a $25 charge for luggage that heavy\")\n",
    "    print ( \"Thank you for your business\")"
   ]
  },
  {
   "cell_type": "code",
   "execution_count": 8,
   "metadata": {
    "collapsed": false
   },
   "outputs": [
    {
     "name": "stdout",
     "output_type": "stream",
     "text": [
      "what is the temperature?65\n",
      "wear long pants.\n",
      "get some exercise\n"
     ]
    }
   ],
   "source": [
    "temperature = float (input('what is the temperature?'))\n",
    "if temperature > 70:\n",
    "    print ('wear shorts')\n",
    "else:\n",
    "    print ('wear long pants.')\n",
    "print (\"get some exercise\")"
   ]
  },
  {
   "cell_type": "code",
   "execution_count": 14,
   "metadata": {
    "collapsed": false
   },
   "outputs": [
    {
     "name": "stdout",
     "output_type": "stream",
     "text": [
      "Please enter an integer:0\n",
      "Zero\n"
     ]
    }
   ],
   "source": [
    "x = int(input(\"Please enter an integer:\"))\n",
    "if x < 0:\n",
    "    x=0\n",
    "    print ('Negative changed to zero')\n",
    "elif x == 0:\n",
    "    print ('Zero')\n",
    "elif x == 1:\n",
    "    print ('Single')\n",
    "else:\n",
    "    print ('More')\n",
    "    "
   ]
  },
  {
   "cell_type": "code",
   "execution_count": 30,
   "metadata": {
    "collapsed": false
   },
   "outputs": [
    {
     "name": "stdout",
     "output_type": "stream",
     "text": [
      "cat 3\n",
      "window 6\n",
      "defenestrate 12\n"
     ]
    }
   ],
   "source": [
    "\n",
    "words = ['cat', 'window', 'defenestrate']\n",
    "for w in words :\n",
    "    print (w,len (w)) "
   ]
  },
  {
   "cell_type": "code",
   "execution_count": 20,
   "metadata": {
    "collapsed": false
   },
   "outputs": [],
   "source": [
    "def printme (s):\n",
    "    print (s)\n",
    "    return"
   ]
  },
  {
   "cell_type": "markdown",
   "metadata": {},
   "source": [
    "printme (\"Beltway traffic makes my head hurt.\")\n",
    "printme (\"It looks like a parking lot out there!)"
   ]
  },
  {
   "cell_type": "code",
   "execution_count": 22,
   "metadata": {
    "collapsed": false
   },
   "outputs": [
    {
     "name": "stdout",
     "output_type": "stream",
     "text": [
      "Beltway traffic makes my head hurt.\n"
     ]
    }
   ],
   "source": [
    "printme (\"Beltway traffic makes my head hurt.\") "
   ]
  },
  {
   "cell_type": "code",
   "execution_count": null,
   "metadata": {
    "collapsed": true
   },
   "outputs": [],
   "source": []
  }
 ],
 "metadata": {
  "kernelspec": {
   "display_name": "Python [Root]",
   "language": "python",
   "name": "Python [Root]"
  },
  "language_info": {
   "codemirror_mode": {
    "name": "ipython",
    "version": 3
   },
   "file_extension": ".py",
   "mimetype": "text/x-python",
   "name": "python",
   "nbconvert_exporter": "python",
   "pygments_lexer": "ipython3",
   "version": "3.5.2"
  }
 },
 "nbformat": 4,
 "nbformat_minor": 0
}
