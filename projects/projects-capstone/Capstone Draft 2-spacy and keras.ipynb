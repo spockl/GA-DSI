{
 "cells": [
  {
   "cell_type": "markdown",
   "metadata": {
    "collapsed": true
   },
   "source": [
    "## Run Twitter API to collect tweets"
   ]
  },
  {
   "cell_type": "code",
   "execution_count": 1,
   "metadata": {
    "collapsed": false
   },
   "outputs": [
    {
     "name": "stderr",
     "output_type": "stream",
     "text": [
      "Using TensorFlow backend.\n"
     ]
    }
   ],
   "source": [
    "import json\n",
    "import pandas as pd\n",
    "import matplotlib.pyplot as plt\n",
    "import numpy as np\n",
    "import re\n",
    "import spacy\n",
    "nlp = spacy.load('en')\n",
    "import tensorflow as tf\n",
    "from keras.models import Sequential\n",
    "from keras.layers import Dense, Activation\n",
    "import nltk\n"
   ]
  },
  {
   "cell_type": "markdown",
   "metadata": {},
   "source": [
    "## Loading data from txt file generated through twitter API\n",
    "\n",
    "### This is a smaller amount of practice data to perfect my code. \n",
    "\n",
    "```It also took forever to get the tweets to load without errors```"
   ]
  },
  {
   "cell_type": "code",
   "execution_count": 2,
   "metadata": {
    "collapsed": false
   },
   "outputs": [
    {
     "name": "stderr",
     "output_type": "stream",
     "text": [
      "Skipping line 439: expected 1 fields, saw 2\n",
      "Skipping line 632: expected 1 fields, saw 2\n",
      "Skipping line 1045: expected 1 fields, saw 2\n",
      "Skipping line 2276: expected 1 fields, saw 2\n",
      "Skipping line 2788: expected 1 fields, saw 2\n",
      "Skipping line 2943: expected 1 fields, saw 2\n",
      "Skipping line 3259: expected 1 fields, saw 2\n",
      "Skipping line 3285: expected 1 fields, saw 2\n",
      "Skipping line 3376: expected 1 fields, saw 2\n",
      "Skipping line 3405: expected 1 fields, saw 2\n",
      "Skipping line 3427: expected 1 fields, saw 2\n",
      "Skipping line 3751: expected 1 fields, saw 2\n",
      "\n"
     ]
    }
   ],
   "source": [
    "tweets = pd.read_csv('/Users/macbook/GA-DSI/projects/projects-capstone/captured-tweets.txt', sep='\\n', header = None, error_bad_lines=False)"
   ]
  },
  {
   "cell_type": "code",
   "execution_count": 3,
   "metadata": {
    "collapsed": false
   },
   "outputs": [
    {
     "data": {
      "text/html": [
       "<div>\n",
       "<table border=\"1\" class=\"dataframe\">\n",
       "  <thead>\n",
       "    <tr style=\"text-align: right;\">\n",
       "      <th></th>\n",
       "      <th>0</th>\n",
       "    </tr>\n",
       "  </thead>\n",
       "  <tbody>\n",
       "    <tr>\n",
       "      <th>0</th>\n",
       "      <td>RT @HENDRIXNASH: Premiered by @NoiseyMusic. - ...</td>\n",
       "    </tr>\n",
       "    <tr>\n",
       "      <th>1</th>\n",
       "      <td>RT @GamingAnarchist: https://t.co/ByrvubKPH4</td>\n",
       "    </tr>\n",
       "    <tr>\n",
       "      <th>2</th>\n",
       "      <td>This is literally the same discredited Jack Th...</td>\n",
       "    </tr>\n",
       "    <tr>\n",
       "      <th>3</th>\n",
       "      <td>http…</td>\n",
       "    </tr>\n",
       "    <tr>\n",
       "      <th>4</th>\n",
       "      <td>When/if Presidential election coverage returns...</td>\n",
       "    </tr>\n",
       "    <tr>\n",
       "      <th>5</th>\n",
       "      <td>Trump supporters really need to grasp that the...</td>\n",
       "    </tr>\n",
       "    <tr>\n",
       "      <th>6</th>\n",
       "      <td>RT @krglick: Congrats to my good friend @plwil...</td>\n",
       "    </tr>\n",
       "    <tr>\n",
       "      <th>7</th>\n",
       "      <td>RT @tagaq: @julytalk our sister debilitated wa...</td>\n",
       "    </tr>\n",
       "    <tr>\n",
       "      <th>8</th>\n",
       "      <td>RT @billboard: Watch Miranda Lambert rock out ...</td>\n",
       "    </tr>\n",
       "    <tr>\n",
       "      <th>9</th>\n",
       "      <td>RT @GamingAnarchist: https://t.co/ByrvubKPH4</td>\n",
       "    </tr>\n",
       "  </tbody>\n",
       "</table>\n",
       "</div>"
      ],
      "text/plain": [
       "                                                   0\n",
       "0  RT @HENDRIXNASH: Premiered by @NoiseyMusic. - ...\n",
       "1       RT @GamingAnarchist: https://t.co/ByrvubKPH4\n",
       "2  This is literally the same discredited Jack Th...\n",
       "3                                              http…\n",
       "4  When/if Presidential election coverage returns...\n",
       "5  Trump supporters really need to grasp that the...\n",
       "6  RT @krglick: Congrats to my good friend @plwil...\n",
       "7  RT @tagaq: @julytalk our sister debilitated wa...\n",
       "8  RT @billboard: Watch Miranda Lambert rock out ...\n",
       "9       RT @GamingAnarchist: https://t.co/ByrvubKPH4"
      ]
     },
     "execution_count": 3,
     "metadata": {},
     "output_type": "execute_result"
    }
   ],
   "source": [
    "tweets.head(10)"
   ]
  },
  {
   "cell_type": "markdown",
   "metadata": {},
   "source": [
    "## Cleaning data and preparing for NLP\n",
    "Each area specified as subject will be switched out for specific subject to be run"
   ]
  },
  {
   "cell_type": "code",
   "execution_count": 4,
   "metadata": {
    "collapsed": true
   },
   "outputs": [],
   "source": [
    "# removing punctuation\n",
    "import string\n",
    "\n",
    "def normalize_string(s):\n",
    "    for p in string.punctuation:\n",
    "        s = s.replace(p, ' ')\n",
    "    s = s.lower().strip()\n",
    "    return s"
   ]
  },
  {
   "cell_type": "code",
   "execution_count": 5,
   "metadata": {
    "collapsed": false
   },
   "outputs": [],
   "source": [
    "# Changing column name from 0 to original tweets\n",
    "tweets['original_tweet'] = tweets[0]\n",
    "del tweets[0]"
   ]
  },
  {
   "cell_type": "code",
   "execution_count": 6,
   "metadata": {
    "collapsed": true
   },
   "outputs": [],
   "source": [
    "tweets['original_tweet'] = tweets['original_tweet'].apply(normalize_string)"
   ]
  },
  {
   "cell_type": "code",
   "execution_count": 7,
   "metadata": {
    "collapsed": false
   },
   "outputs": [
    {
     "data": {
      "text/html": [
       "<div>\n",
       "<table border=\"1\" class=\"dataframe\">\n",
       "  <thead>\n",
       "    <tr style=\"text-align: right;\">\n",
       "      <th></th>\n",
       "      <th>original_tweet</th>\n",
       "    </tr>\n",
       "  </thead>\n",
       "  <tbody>\n",
       "    <tr>\n",
       "      <th>0</th>\n",
       "      <td>rt  hendrixnash  premiered by  noiseymusic    ...</td>\n",
       "    </tr>\n",
       "    <tr>\n",
       "      <th>1</th>\n",
       "      <td>rt  gaminganarchist  https   t co byrvubkph4</td>\n",
       "    </tr>\n",
       "    <tr>\n",
       "      <th>2</th>\n",
       "      <td>this is literally the same discredited jack th...</td>\n",
       "    </tr>\n",
       "    <tr>\n",
       "      <th>3</th>\n",
       "      <td>http…</td>\n",
       "    </tr>\n",
       "    <tr>\n",
       "      <th>4</th>\n",
       "      <td>when if presidential election coverage returns...</td>\n",
       "    </tr>\n",
       "  </tbody>\n",
       "</table>\n",
       "</div>"
      ],
      "text/plain": [
       "                                      original_tweet\n",
       "0  rt  hendrixnash  premiered by  noiseymusic    ...\n",
       "1       rt  gaminganarchist  https   t co byrvubkph4\n",
       "2  this is literally the same discredited jack th...\n",
       "3                                              http…\n",
       "4  when if presidential election coverage returns..."
      ]
     },
     "execution_count": 7,
     "metadata": {},
     "output_type": "execute_result"
    }
   ],
   "source": [
    "tweets.head()"
   ]
  },
  {
   "cell_type": "code",
   "execution_count": 8,
   "metadata": {
    "collapsed": true
   },
   "outputs": [],
   "source": [
    "# create column for show subject using branded hashtags\n",
    "# Create column for updates\n",
    "def find_bronson(x):\n",
    "    res = re.search('(trump)', x)\n",
    "    if res:\n",
    "        return res.group()\n",
    "    else:\n",
    "        return pd.np.nan"
   ]
  },
  {
   "cell_type": "code",
   "execution_count": 9,
   "metadata": {
    "collapsed": true
   },
   "outputs": [],
   "source": [
    "tweets['bronson'] = tweets['original_tweet'].apply(find_bronson)"
   ]
  },
  {
   "cell_type": "code",
   "execution_count": 10,
   "metadata": {
    "collapsed": false
   },
   "outputs": [
    {
     "data": {
      "text/plain": [
       "<bound method Series.value_counts of 0         NaN\n",
       "1         NaN\n",
       "2         NaN\n",
       "3         NaN\n",
       "4         NaN\n",
       "5       trump\n",
       "6         NaN\n",
       "7         NaN\n",
       "8         NaN\n",
       "9         NaN\n",
       "10        NaN\n",
       "11        NaN\n",
       "12        NaN\n",
       "13        NaN\n",
       "14        NaN\n",
       "15        NaN\n",
       "16        NaN\n",
       "17        NaN\n",
       "18        NaN\n",
       "19        NaN\n",
       "20        NaN\n",
       "21      trump\n",
       "22        NaN\n",
       "23      trump\n",
       "24      trump\n",
       "25        NaN\n",
       "26        NaN\n",
       "27        NaN\n",
       "28      trump\n",
       "29        NaN\n",
       "        ...  \n",
       "3595      NaN\n",
       "3596      NaN\n",
       "3597      NaN\n",
       "3598      NaN\n",
       "3599      NaN\n",
       "3600      NaN\n",
       "3601      NaN\n",
       "3602      NaN\n",
       "3603      NaN\n",
       "3604      NaN\n",
       "3605    trump\n",
       "3606      NaN\n",
       "3607    trump\n",
       "3608    trump\n",
       "3609      NaN\n",
       "3610      NaN\n",
       "3611      NaN\n",
       "3612      NaN\n",
       "3613    trump\n",
       "3614      NaN\n",
       "3615    trump\n",
       "3616      NaN\n",
       "3617      NaN\n",
       "3618      NaN\n",
       "3619      NaN\n",
       "3620      NaN\n",
       "3621      NaN\n",
       "3622      NaN\n",
       "3623      NaN\n",
       "3624      NaN\n",
       "Name: bronson, dtype: object>"
      ]
     },
     "execution_count": 10,
     "metadata": {},
     "output_type": "execute_result"
    }
   ],
   "source": [
    "tweets['bronson'].value_counts"
   ]
  },
  {
   "cell_type": "code",
   "execution_count": 11,
   "metadata": {
    "collapsed": false
   },
   "outputs": [
    {
     "data": {
      "text/html": [
       "<div>\n",
       "<table border=\"1\" class=\"dataframe\">\n",
       "  <thead>\n",
       "    <tr style=\"text-align: right;\">\n",
       "      <th></th>\n",
       "      <th>original_tweet</th>\n",
       "      <th>bronson</th>\n",
       "    </tr>\n",
       "  </thead>\n",
       "  <tbody>\n",
       "    <tr>\n",
       "      <th>0</th>\n",
       "      <td>rt  hendrixnash  premiered by  noiseymusic    ...</td>\n",
       "      <td>NaN</td>\n",
       "    </tr>\n",
       "    <tr>\n",
       "      <th>1</th>\n",
       "      <td>rt  gaminganarchist  https   t co byrvubkph4</td>\n",
       "      <td>NaN</td>\n",
       "    </tr>\n",
       "    <tr>\n",
       "      <th>2</th>\n",
       "      <td>this is literally the same discredited jack th...</td>\n",
       "      <td>NaN</td>\n",
       "    </tr>\n",
       "    <tr>\n",
       "      <th>3</th>\n",
       "      <td>http…</td>\n",
       "      <td>NaN</td>\n",
       "    </tr>\n",
       "    <tr>\n",
       "      <th>4</th>\n",
       "      <td>when if presidential election coverage returns...</td>\n",
       "      <td>NaN</td>\n",
       "    </tr>\n",
       "    <tr>\n",
       "      <th>5</th>\n",
       "      <td>trump supporters really need to grasp that the...</td>\n",
       "      <td>trump</td>\n",
       "    </tr>\n",
       "    <tr>\n",
       "      <th>6</th>\n",
       "      <td>rt  krglick  congrats to my good friend  plwil...</td>\n",
       "      <td>NaN</td>\n",
       "    </tr>\n",
       "    <tr>\n",
       "      <th>7</th>\n",
       "      <td>rt  tagaq   julytalk our sister debilitated wa...</td>\n",
       "      <td>NaN</td>\n",
       "    </tr>\n",
       "    <tr>\n",
       "      <th>8</th>\n",
       "      <td>rt  billboard  watch miranda lambert rock out ...</td>\n",
       "      <td>NaN</td>\n",
       "    </tr>\n",
       "    <tr>\n",
       "      <th>9</th>\n",
       "      <td>rt  gaminganarchist  https   t co byrvubkph4</td>\n",
       "      <td>NaN</td>\n",
       "    </tr>\n",
       "  </tbody>\n",
       "</table>\n",
       "</div>"
      ],
      "text/plain": [
       "                                      original_tweet bronson\n",
       "0  rt  hendrixnash  premiered by  noiseymusic    ...     NaN\n",
       "1       rt  gaminganarchist  https   t co byrvubkph4     NaN\n",
       "2  this is literally the same discredited jack th...     NaN\n",
       "3                                              http…     NaN\n",
       "4  when if presidential election coverage returns...     NaN\n",
       "5  trump supporters really need to grasp that the...   trump\n",
       "6  rt  krglick  congrats to my good friend  plwil...     NaN\n",
       "7  rt  tagaq   julytalk our sister debilitated wa...     NaN\n",
       "8  rt  billboard  watch miranda lambert rock out ...     NaN\n",
       "9       rt  gaminganarchist  https   t co byrvubkph4     NaN"
      ]
     },
     "execution_count": 11,
     "metadata": {},
     "output_type": "execute_result"
    }
   ],
   "source": [
    "tweets.head(10)"
   ]
  },
  {
   "cell_type": "markdown",
   "metadata": {},
   "source": [
    "## Following codes don't completely work yet"
   ]
  },
  {
   "cell_type": "code",
   "execution_count": 12,
   "metadata": {
    "collapsed": false
   },
   "outputs": [
    {
     "data": {
      "text/html": [
       "<div>\n",
       "<table border=\"1\" class=\"dataframe\">\n",
       "  <thead>\n",
       "    <tr style=\"text-align: right;\">\n",
       "      <th></th>\n",
       "      <th>original_tweet</th>\n",
       "      <th>bronson</th>\n",
       "    </tr>\n",
       "  </thead>\n",
       "  <tbody>\n",
       "    <tr>\n",
       "      <th>5</th>\n",
       "      <td>trump supporters really need to grasp that the...</td>\n",
       "      <td>trump</td>\n",
       "    </tr>\n",
       "    <tr>\n",
       "      <th>21</th>\n",
       "      <td>rt  iamrashidajones  trump supporters really n...</td>\n",
       "      <td>trump</td>\n",
       "    </tr>\n",
       "    <tr>\n",
       "      <th>23</th>\n",
       "      <td>rt  iamrashidajones  trump supporters really n...</td>\n",
       "      <td>trump</td>\n",
       "    </tr>\n",
       "    <tr>\n",
       "      <th>24</th>\n",
       "      <td>when  trumppence16 becomes  potus2016 hopefull...</td>\n",
       "      <td>trump</td>\n",
       "    </tr>\n",
       "    <tr>\n",
       "      <th>28</th>\n",
       "      <td>rt  iamrashidajones  trump supporters really n...</td>\n",
       "      <td>trump</td>\n",
       "    </tr>\n",
       "    <tr>\n",
       "      <th>31</th>\n",
       "      <td>rt  iamrashidajones  trump supporters really n...</td>\n",
       "      <td>trump</td>\n",
       "    </tr>\n",
       "    <tr>\n",
       "      <th>35</th>\n",
       "      <td>rt  iamrashidajones  trump supporters really n...</td>\n",
       "      <td>trump</td>\n",
       "    </tr>\n",
       "    <tr>\n",
       "      <th>39</th>\n",
       "      <td>rt  mradamscott  impossible to overstate how i...</td>\n",
       "      <td>trump</td>\n",
       "    </tr>\n",
       "    <tr>\n",
       "      <th>41</th>\n",
       "      <td>rt  mradamscott  impossible to overstate how i...</td>\n",
       "      <td>trump</td>\n",
       "    </tr>\n",
       "    <tr>\n",
       "      <th>44</th>\n",
       "      <td>rt  mradamscott  impossible to overstate how i...</td>\n",
       "      <td>trump</td>\n",
       "    </tr>\n",
       "    <tr>\n",
       "      <th>47</th>\n",
       "      <td>rt  iamrashidajones  trump supporters really n...</td>\n",
       "      <td>trump</td>\n",
       "    </tr>\n",
       "    <tr>\n",
       "      <th>48</th>\n",
       "      <td>rt  iamrashidajones  trump supporters really n...</td>\n",
       "      <td>trump</td>\n",
       "    </tr>\n",
       "    <tr>\n",
       "      <th>49</th>\n",
       "      <td>rt  iamrashidajones  trump supporters really n...</td>\n",
       "      <td>trump</td>\n",
       "    </tr>\n",
       "    <tr>\n",
       "      <th>53</th>\n",
       "      <td>rt  mradamscott  impossible to overstate how i...</td>\n",
       "      <td>trump</td>\n",
       "    </tr>\n",
       "    <tr>\n",
       "      <th>56</th>\n",
       "      <td>rt  mradamscott  impossible to overstate how i...</td>\n",
       "      <td>trump</td>\n",
       "    </tr>\n",
       "    <tr>\n",
       "      <th>60</th>\n",
       "      <td>rt  mradamscott  impossible to overstate how i...</td>\n",
       "      <td>trump</td>\n",
       "    </tr>\n",
       "    <tr>\n",
       "      <th>62</th>\n",
       "      <td>rt  erinmcunningham  trump transition team is ...</td>\n",
       "      <td>trump</td>\n",
       "    </tr>\n",
       "    <tr>\n",
       "      <th>64</th>\n",
       "      <td>getting warmer… trump and putin are already ta...</td>\n",
       "      <td>trump</td>\n",
       "    </tr>\n",
       "    <tr>\n",
       "      <th>75</th>\n",
       "      <td>the latest  trump pence backed ryan  vice pres...</td>\n",
       "      <td>trump</td>\n",
       "    </tr>\n",
       "    <tr>\n",
       "      <th>77</th>\n",
       "      <td>we have complete trust in  presidenttrump and ...</td>\n",
       "      <td>trump</td>\n",
       "    </tr>\n",
       "    <tr>\n",
       "      <th>85</th>\n",
       "      <td>rt  erinmcunningham  trump transition team is ...</td>\n",
       "      <td>trump</td>\n",
       "    </tr>\n",
       "    <tr>\n",
       "      <th>95</th>\n",
       "      <td>rt  danscavino  vice president elect  mike pen...</td>\n",
       "      <td>trump</td>\n",
       "    </tr>\n",
       "    <tr>\n",
       "      <th>97</th>\n",
       "      <td>rt  erinmcunningham  trump transition team is ...</td>\n",
       "      <td>trump</td>\n",
       "    </tr>\n",
       "    <tr>\n",
       "      <th>99</th>\n",
       "      <td>rt  danscavino  vice president elect  mike pen...</td>\n",
       "      <td>trump</td>\n",
       "    </tr>\n",
       "    <tr>\n",
       "      <th>101</th>\n",
       "      <td>rt  erinmcunningham  trump transition team is ...</td>\n",
       "      <td>trump</td>\n",
       "    </tr>\n",
       "    <tr>\n",
       "      <th>105</th>\n",
       "      <td>rt  freedomofpress  12  a vice reporter was ar...</td>\n",
       "      <td>trump</td>\n",
       "    </tr>\n",
       "    <tr>\n",
       "      <th>106</th>\n",
       "      <td>rt  erinmcunningham  trump transition team is ...</td>\n",
       "      <td>trump</td>\n",
       "    </tr>\n",
       "    <tr>\n",
       "      <th>114</th>\n",
       "      <td>rt  danscavino  vice president elect  mike pen...</td>\n",
       "      <td>trump</td>\n",
       "    </tr>\n",
       "    <tr>\n",
       "      <th>123</th>\n",
       "      <td>rt  splcenter  meet kris kobach  the right win...</td>\n",
       "      <td>trump</td>\n",
       "    </tr>\n",
       "    <tr>\n",
       "      <th>137</th>\n",
       "      <td>rt  splcenter  meet kris kobach  the right win...</td>\n",
       "      <td>trump</td>\n",
       "    </tr>\n",
       "    <tr>\n",
       "      <th>...</th>\n",
       "      <td>...</td>\n",
       "      <td>...</td>\n",
       "    </tr>\n",
       "    <tr>\n",
       "      <th>3356</th>\n",
       "      <td>rt  govmikehuckabee  why trump was elected  mi...</td>\n",
       "      <td>trump</td>\n",
       "    </tr>\n",
       "    <tr>\n",
       "      <th>3364</th>\n",
       "      <td>rt  danscavino  president elect donald j  trum...</td>\n",
       "      <td>trump</td>\n",
       "    </tr>\n",
       "    <tr>\n",
       "      <th>3365</th>\n",
       "      <td>rt  biafranforreal  oh fantastic  amp  wonderf...</td>\n",
       "      <td>trump</td>\n",
       "    </tr>\n",
       "    <tr>\n",
       "      <th>3370</th>\n",
       "      <td>rt  govmikehuckabee  why trump was elected  mi...</td>\n",
       "      <td>trump</td>\n",
       "    </tr>\n",
       "    <tr>\n",
       "      <th>3375</th>\n",
       "      <td>rt  govmikehuckabee  why trump was elected  mi...</td>\n",
       "      <td>trump</td>\n",
       "    </tr>\n",
       "    <tr>\n",
       "      <th>3397</th>\n",
       "      <td>vice president biden  senate democrats redoubl...</td>\n",
       "      <td>trump</td>\n",
       "    </tr>\n",
       "    <tr>\n",
       "      <th>3399</th>\n",
       "      <td>rt  govmikehuckabee  why trump was elected  mi...</td>\n",
       "      <td>trump</td>\n",
       "    </tr>\n",
       "    <tr>\n",
       "      <th>3428</th>\n",
       "      <td>rt  splcenter  meet kris kobach  the right win...</td>\n",
       "      <td>trump</td>\n",
       "    </tr>\n",
       "    <tr>\n",
       "      <th>3431</th>\n",
       "      <td>rt  biafranforreal  oh fantastic  amp  wonderf...</td>\n",
       "      <td>trump</td>\n",
       "    </tr>\n",
       "    <tr>\n",
       "      <th>3443</th>\n",
       "      <td>something i ve been wrestling with since trump...</td>\n",
       "      <td>trump</td>\n",
       "    </tr>\n",
       "    <tr>\n",
       "      <th>3452</th>\n",
       "      <td>rt  vice  undocumented college students are pr...</td>\n",
       "      <td>trump</td>\n",
       "    </tr>\n",
       "    <tr>\n",
       "      <th>3470</th>\n",
       "      <td>what s  presidenttrump going to do with all th...</td>\n",
       "      <td>trump</td>\n",
       "    </tr>\n",
       "    <tr>\n",
       "      <th>3476</th>\n",
       "      <td>meet kris kobach  the right wing  extremist  w...</td>\n",
       "      <td>trump</td>\n",
       "    </tr>\n",
       "    <tr>\n",
       "      <th>3492</th>\n",
       "      <td>rt  govmikehuckabee  why trump was elected  mi...</td>\n",
       "      <td>trump</td>\n",
       "    </tr>\n",
       "    <tr>\n",
       "      <th>3496</th>\n",
       "      <td>rt  govmikehuckabee  why trump was elected  mi...</td>\n",
       "      <td>trump</td>\n",
       "    </tr>\n",
       "    <tr>\n",
       "      <th>3501</th>\n",
       "      <td>rt  govmikehuckabee  why trump was elected  mi...</td>\n",
       "      <td>trump</td>\n",
       "    </tr>\n",
       "    <tr>\n",
       "      <th>3513</th>\n",
       "      <td>rt  tzipimazuz  president elect donald j  trum...</td>\n",
       "      <td>trump</td>\n",
       "    </tr>\n",
       "    <tr>\n",
       "      <th>3527</th>\n",
       "      <td>rt  latinaafortrump    0zwiththebeard  vicenew...</td>\n",
       "      <td>trump</td>\n",
       "    </tr>\n",
       "    <tr>\n",
       "      <th>3537</th>\n",
       "      <td>oregon sen  ron wyden threatens to filibuster ...</td>\n",
       "      <td>trump</td>\n",
       "    </tr>\n",
       "    <tr>\n",
       "      <th>3543</th>\n",
       "      <td>rt  lindasuhler  president elect donald j  tru...</td>\n",
       "      <td>trump</td>\n",
       "    </tr>\n",
       "    <tr>\n",
       "      <th>3545</th>\n",
       "      <td>rt  biafranforreal  oh fantastic  amp  wonderf...</td>\n",
       "      <td>trump</td>\n",
       "    </tr>\n",
       "    <tr>\n",
       "      <th>3559</th>\n",
       "      <td>rt  splcenter  meet kris kobach  the right win...</td>\n",
       "      <td>trump</td>\n",
       "    </tr>\n",
       "    <tr>\n",
       "      <th>3567</th>\n",
       "      <td>rt  splcenter  meet kris kobach  the right win...</td>\n",
       "      <td>trump</td>\n",
       "    </tr>\n",
       "    <tr>\n",
       "      <th>3572</th>\n",
       "      <td>rt  splcenter  meet kris kobach  the right win...</td>\n",
       "      <td>trump</td>\n",
       "    </tr>\n",
       "    <tr>\n",
       "      <th>3583</th>\n",
       "      <td>rt  lindasuhler  president elect donald j  tru...</td>\n",
       "      <td>trump</td>\n",
       "    </tr>\n",
       "    <tr>\n",
       "      <th>3605</th>\n",
       "      <td>rt  govmikehuckabee  why trump was elected  mi...</td>\n",
       "      <td>trump</td>\n",
       "    </tr>\n",
       "    <tr>\n",
       "      <th>3607</th>\n",
       "      <td>rt  govmikehuckabee  why trump was elected  mi...</td>\n",
       "      <td>trump</td>\n",
       "    </tr>\n",
       "    <tr>\n",
       "      <th>3608</th>\n",
       "      <td>rt  lindasuhler  president elect donald j  tru...</td>\n",
       "      <td>trump</td>\n",
       "    </tr>\n",
       "    <tr>\n",
       "      <th>3613</th>\n",
       "      <td>rt  biafranforreal  oh fantastic  amp  wonderf...</td>\n",
       "      <td>trump</td>\n",
       "    </tr>\n",
       "    <tr>\n",
       "      <th>3615</th>\n",
       "      <td>rt  govmikehuckabee  why trump was elected  mi...</td>\n",
       "      <td>trump</td>\n",
       "    </tr>\n",
       "  </tbody>\n",
       "</table>\n",
       "<p>453 rows × 2 columns</p>\n",
       "</div>"
      ],
      "text/plain": [
       "                                         original_tweet bronson\n",
       "5     trump supporters really need to grasp that the...   trump\n",
       "21    rt  iamrashidajones  trump supporters really n...   trump\n",
       "23    rt  iamrashidajones  trump supporters really n...   trump\n",
       "24    when  trumppence16 becomes  potus2016 hopefull...   trump\n",
       "28    rt  iamrashidajones  trump supporters really n...   trump\n",
       "31    rt  iamrashidajones  trump supporters really n...   trump\n",
       "35    rt  iamrashidajones  trump supporters really n...   trump\n",
       "39    rt  mradamscott  impossible to overstate how i...   trump\n",
       "41    rt  mradamscott  impossible to overstate how i...   trump\n",
       "44    rt  mradamscott  impossible to overstate how i...   trump\n",
       "47    rt  iamrashidajones  trump supporters really n...   trump\n",
       "48    rt  iamrashidajones  trump supporters really n...   trump\n",
       "49    rt  iamrashidajones  trump supporters really n...   trump\n",
       "53    rt  mradamscott  impossible to overstate how i...   trump\n",
       "56    rt  mradamscott  impossible to overstate how i...   trump\n",
       "60    rt  mradamscott  impossible to overstate how i...   trump\n",
       "62    rt  erinmcunningham  trump transition team is ...   trump\n",
       "64    getting warmer… trump and putin are already ta...   trump\n",
       "75    the latest  trump pence backed ryan  vice pres...   trump\n",
       "77    we have complete trust in  presidenttrump and ...   trump\n",
       "85    rt  erinmcunningham  trump transition team is ...   trump\n",
       "95    rt  danscavino  vice president elect  mike pen...   trump\n",
       "97    rt  erinmcunningham  trump transition team is ...   trump\n",
       "99    rt  danscavino  vice president elect  mike pen...   trump\n",
       "101   rt  erinmcunningham  trump transition team is ...   trump\n",
       "105   rt  freedomofpress  12  a vice reporter was ar...   trump\n",
       "106   rt  erinmcunningham  trump transition team is ...   trump\n",
       "114   rt  danscavino  vice president elect  mike pen...   trump\n",
       "123   rt  splcenter  meet kris kobach  the right win...   trump\n",
       "137   rt  splcenter  meet kris kobach  the right win...   trump\n",
       "...                                                 ...     ...\n",
       "3356  rt  govmikehuckabee  why trump was elected  mi...   trump\n",
       "3364  rt  danscavino  president elect donald j  trum...   trump\n",
       "3365  rt  biafranforreal  oh fantastic  amp  wonderf...   trump\n",
       "3370  rt  govmikehuckabee  why trump was elected  mi...   trump\n",
       "3375  rt  govmikehuckabee  why trump was elected  mi...   trump\n",
       "3397  vice president biden  senate democrats redoubl...   trump\n",
       "3399  rt  govmikehuckabee  why trump was elected  mi...   trump\n",
       "3428  rt  splcenter  meet kris kobach  the right win...   trump\n",
       "3431  rt  biafranforreal  oh fantastic  amp  wonderf...   trump\n",
       "3443  something i ve been wrestling with since trump...   trump\n",
       "3452  rt  vice  undocumented college students are pr...   trump\n",
       "3470  what s  presidenttrump going to do with all th...   trump\n",
       "3476  meet kris kobach  the right wing  extremist  w...   trump\n",
       "3492  rt  govmikehuckabee  why trump was elected  mi...   trump\n",
       "3496  rt  govmikehuckabee  why trump was elected  mi...   trump\n",
       "3501  rt  govmikehuckabee  why trump was elected  mi...   trump\n",
       "3513  rt  tzipimazuz  president elect donald j  trum...   trump\n",
       "3527  rt  latinaafortrump    0zwiththebeard  vicenew...   trump\n",
       "3537  oregon sen  ron wyden threatens to filibuster ...   trump\n",
       "3543  rt  lindasuhler  president elect donald j  tru...   trump\n",
       "3545  rt  biafranforreal  oh fantastic  amp  wonderf...   trump\n",
       "3559  rt  splcenter  meet kris kobach  the right win...   trump\n",
       "3567  rt  splcenter  meet kris kobach  the right win...   trump\n",
       "3572  rt  splcenter  meet kris kobach  the right win...   trump\n",
       "3583  rt  lindasuhler  president elect donald j  tru...   trump\n",
       "3605  rt  govmikehuckabee  why trump was elected  mi...   trump\n",
       "3607  rt  govmikehuckabee  why trump was elected  mi...   trump\n",
       "3608  rt  lindasuhler  president elect donald j  tru...   trump\n",
       "3613  rt  biafranforreal  oh fantastic  amp  wonderf...   trump\n",
       "3615  rt  govmikehuckabee  why trump was elected  mi...   trump\n",
       "\n",
       "[453 rows x 2 columns]"
      ]
     },
     "execution_count": 12,
     "metadata": {},
     "output_type": "execute_result"
    }
   ],
   "source": [
    "# Df with only tweets containing subject\n",
    "df_bronson = tweets[tweets['bronson'] == 'trump']\n",
    "df_bronson"
   ]
  },
  {
   "cell_type": "code",
   "execution_count": 13,
   "metadata": {
    "collapsed": false
   },
   "outputs": [
    {
     "data": {
      "text/html": [
       "<div>\n",
       "<table border=\"1\" class=\"dataframe\">\n",
       "  <thead>\n",
       "    <tr style=\"text-align: right;\">\n",
       "      <th></th>\n",
       "      <th>original_tweet</th>\n",
       "      <th>bronson</th>\n",
       "    </tr>\n",
       "  </thead>\n",
       "  <tbody>\n",
       "    <tr>\n",
       "      <th>5</th>\n",
       "      <td>trump supporters really need to grasp that the...</td>\n",
       "      <td>trump</td>\n",
       "    </tr>\n",
       "    <tr>\n",
       "      <th>21</th>\n",
       "      <td>rt  iamrashidajones  trump supporters really n...</td>\n",
       "      <td>trump</td>\n",
       "    </tr>\n",
       "    <tr>\n",
       "      <th>23</th>\n",
       "      <td>rt  iamrashidajones  trump supporters really n...</td>\n",
       "      <td>trump</td>\n",
       "    </tr>\n",
       "    <tr>\n",
       "      <th>24</th>\n",
       "      <td>when  trumppence16 becomes  potus2016 hopefull...</td>\n",
       "      <td>trump</td>\n",
       "    </tr>\n",
       "    <tr>\n",
       "      <th>28</th>\n",
       "      <td>rt  iamrashidajones  trump supporters really n...</td>\n",
       "      <td>trump</td>\n",
       "    </tr>\n",
       "  </tbody>\n",
       "</table>\n",
       "</div>"
      ],
      "text/plain": [
       "                                       original_tweet bronson\n",
       "5   trump supporters really need to grasp that the...   trump\n",
       "21  rt  iamrashidajones  trump supporters really n...   trump\n",
       "23  rt  iamrashidajones  trump supporters really n...   trump\n",
       "24  when  trumppence16 becomes  potus2016 hopefull...   trump\n",
       "28  rt  iamrashidajones  trump supporters really n...   trump"
      ]
     },
     "execution_count": 13,
     "metadata": {},
     "output_type": "execute_result"
    }
   ],
   "source": [
    "df_bronson.head()"
   ]
  },
  {
   "cell_type": "code",
   "execution_count": 14,
   "metadata": {
    "collapsed": false
   },
   "outputs": [
    {
     "name": "stderr",
     "output_type": "stream",
     "text": [
      "/Users/macbook/anaconda/lib/python2.7/site-packages/ipykernel/__main__.py:2: SettingWithCopyWarning: \n",
      "A value is trying to be set on a copy of a slice from a DataFrame.\n",
      "Try using .loc[row_indexer,col_indexer] = value instead\n",
      "\n",
      "See the caveats in the documentation: http://pandas.pydata.org/pandas-docs/stable/indexing.html#indexing-view-versus-copy\n",
      "  from ipykernel import kernelapp as app\n"
     ]
    }
   ],
   "source": [
    "\n",
    "df_bronson['original_tweet'] = df_bronson.loc[:,('original_tweet')].map(lambda x: x.decode('unicode_escape').encode('ascii', 'ignore').strip())"
   ]
  },
  {
   "cell_type": "code",
   "execution_count": 15,
   "metadata": {
    "collapsed": false
   },
   "outputs": [],
   "source": [
    "df_bronson_o = df_bronson[['original_tweet']]"
   ]
  },
  {
   "cell_type": "code",
   "execution_count": 20,
   "metadata": {
    "collapsed": false
   },
   "outputs": [],
   "source": [
    "df_bronson_sp = \" \".join(df_bronson_o.as_matrix().flatten())"
   ]
  },
  {
   "cell_type": "code",
   "execution_count": null,
   "metadata": {
    "collapsed": true
   },
   "outputs": [],
   "source": [
    "df_bronson.to_csv('capstone_test1.csv')"
   ]
  },
  {
   "cell_type": "code",
   "execution_count": null,
   "metadata": {
    "collapsed": true
   },
   "outputs": [],
   "source": [
    "def count_entity_sentiment(nlp, texts):\n",
    "    '''Compute the net document sentiment for each entity in the texts.'''\n",
    "    entity_sentiments = collections.Counter(float)\n",
    "    for doc in nlp.pipe(texts, batch_size=1000, n_threads=4):\n",
    "        for ent in doc.ents:\n",
    "            entity_sentiments[ent.text] += doc.sentiment\n",
    "    return entity_sentiments"
   ]
  },
  {
   "cell_type": "code",
   "execution_count": 21,
   "metadata": {
    "collapsed": false
   },
   "outputs": [
    {
     "ename": "NameError",
     "evalue": "name 'df_brondon_sp' is not defined",
     "output_type": "error",
     "traceback": [
      "\u001b[0;31m---------------------------------------------------------------------------\u001b[0m",
      "\u001b[0;31mNameError\u001b[0m                                 Traceback (most recent call last)",
      "\u001b[0;32m<ipython-input-21-c55442bb8322>\u001b[0m in \u001b[0;36m<module>\u001b[0;34m()\u001b[0m\n\u001b[1;32m      1\u001b[0m \u001b[0;32mimport\u001b[0m \u001b[0mspacy\u001b[0m                         \u001b[0;31m# See \"Installing spaCy\"\u001b[0m\u001b[0;34m\u001b[0m\u001b[0m\n\u001b[1;32m      2\u001b[0m \u001b[0mnlp\u001b[0m \u001b[0;34m=\u001b[0m \u001b[0mspacy\u001b[0m\u001b[0;34m.\u001b[0m\u001b[0mload\u001b[0m\u001b[0;34m(\u001b[0m\u001b[0;34m'en'\u001b[0m\u001b[0;34m)\u001b[0m               \u001b[0;31m# You are here.\u001b[0m\u001b[0;34m\u001b[0m\u001b[0m\n\u001b[0;32m----> 3\u001b[0;31m \u001b[0mdoc\u001b[0m \u001b[0;34m=\u001b[0m \u001b[0mnlp\u001b[0m\u001b[0;34m(\u001b[0m\u001b[0mdf_brondon_sp\u001b[0m\u001b[0;34m)\u001b[0m\u001b[0;34m\u001b[0m\u001b[0m\n\u001b[0m",
      "\u001b[0;31mNameError\u001b[0m: name 'df_brondon_sp' is not defined"
     ]
    }
   ],
   "source": [
    "import spacy                         # See \"Installing spaCy\"\n",
    "nlp = spacy.load('en')               # You are here.\n",
    "doc = nlp(df_brondon_sp)         \n"
   ]
  },
  {
   "cell_type": "code",
   "execution_count": null,
   "metadata": {
    "collapsed": false
   },
   "outputs": [],
   "source": [
    "def read_file(file_name):\n",
    "    with open(read_file, 'r') as file:\n",
    "        return file.read().decode('utf-8')"
   ]
  },
  {
   "cell_type": "code",
   "execution_count": null,
   "metadata": {
    "collapsed": false
   },
   "outputs": [],
   "source": [
    "def read_file(file_name):\n",
    "    with open(read_file, 'r') as file:\n",
    "        return file.read()"
   ]
  },
  {
   "cell_type": "code",
   "execution_count": null,
   "metadata": {
    "collapsed": false
   },
   "outputs": [],
   "source": [
    "import spacy                         # See \"Installing spaCy\"\n",
    "nlp = spacy.load('en')     \n",
    "text = read_file('/Users/macbook/GA-DSI/projects/projects-capstone/captured-tweets.txt')\n",
    "processed_text = nlp(text)"
   ]
  },
  {
   "cell_type": "code",
   "execution_count": null,
   "metadata": {
    "collapsed": true
   },
   "outputs": [],
   "source": []
  },
  {
   "cell_type": "code",
   "execution_count": null,
   "metadata": {
    "collapsed": true
   },
   "outputs": [],
   "source": []
  },
  {
   "cell_type": "code",
   "execution_count": null,
   "metadata": {
    "collapsed": true
   },
   "outputs": [],
   "source": []
  },
  {
   "cell_type": "code",
   "execution_count": null,
   "metadata": {
    "collapsed": true
   },
   "outputs": [],
   "source": []
  },
  {
   "cell_type": "code",
   "execution_count": null,
   "metadata": {
    "collapsed": true
   },
   "outputs": [],
   "source": []
  },
  {
   "cell_type": "code",
   "execution_count": null,
   "metadata": {
    "collapsed": true
   },
   "outputs": [],
   "source": []
  },
  {
   "cell_type": "code",
   "execution_count": null,
   "metadata": {
    "collapsed": true
   },
   "outputs": [],
   "source": []
  },
  {
   "cell_type": "code",
   "execution_count": null,
   "metadata": {
    "collapsed": true
   },
   "outputs": [],
   "source": []
  },
  {
   "cell_type": "code",
   "execution_count": null,
   "metadata": {
    "collapsed": false
   },
   "outputs": [],
   "source": [
    "# tokenized  and stemmed subject\n",
    "df_bronson['tokenized_bronson'] = df_bronson.apply(lambda row: nltk.word_tokenize(row['original_tweet']), axis=1)\n",
    "a = df_bronson.loc[:,'tokenized_bronson']\n",
    "lancaster = nltk.LancasterStemmer()\n",
    "stems = [lancaster.stem(i) for i in a]\n",
    "print stems"
   ]
  },
  {
   "cell_type": "code",
   "execution_count": null,
   "metadata": {
    "collapsed": true
   },
   "outputs": [],
   "source": [
    "# Import the stop word list\n",
    "from nltk.corpus import stopwords \n",
    "stop = stopwords.words('english')\n",
    "\n",
    "df_bronson['tokenized_bronson'] = df_bronson['tokenized_bronson'].apply(lambda x: [item for item in x if item not in stop])\n",
    "\n",
    "\n",
    "stop = stopwords.words('english')"
   ]
  },
  {
   "cell_type": "markdown",
   "metadata": {},
   "source": [
    "### Attempting LDA. Possibly Abandoning"
   ]
  },
  {
   "cell_type": "code",
   "execution_count": null,
   "metadata": {
    "collapsed": false
   },
   "outputs": [],
   "source": [
    "from gensim import corpora, models\n",
    "\n",
    "dictionary = corpora.Dictionary(tweets)\n"
   ]
  },
  {
   "cell_type": "markdown",
   "metadata": {},
   "source": [
    "### Just got tensorflow fully up and running Thursday night. Practicing models via Keras."
   ]
  },
  {
   "cell_type": "code",
   "execution_count": null,
   "metadata": {
    "collapsed": false
   },
   "outputs": [],
   "source": [
    "tweets.head()"
   ]
  },
  {
   "cell_type": "code",
   "execution_count": null,
   "metadata": {
    "collapsed": true
   },
   "outputs": [],
   "source": [
    "# Keras Model for guidance and reference\n",
    "# for a single-input model with 2 classes (binary):\n",
    "\n",
    "model = Sequential()\n",
    "model.add(Dense(1, input_dim=784, activation='sigmoid'))\n",
    "model.compile(optimizer='rmsprop',\n",
    "              loss='binary_crossentropy',\n",
    "              metrics=['accuracy'])\n",
    "\n",
    "# generate dummy data\n",
    "import numpy as np\n",
    "data = np.random.random((1000, 784))\n",
    "labels = np.random.randint(2, size=(1000, 1))\n",
    "\n",
    "# train the model, iterating on the data in batches\n",
    "# of 32 samples\n",
    "model.fit(data, labels, nb_epoch=10, batch_size=32)"
   ]
  },
  {
   "cell_type": "code",
   "execution_count": null,
   "metadata": {
    "collapsed": true
   },
   "outputs": [],
   "source": []
  },
  {
   "cell_type": "code",
   "execution_count": null,
   "metadata": {
    "collapsed": true
   },
   "outputs": [],
   "source": []
  },
  {
   "cell_type": "code",
   "execution_count": null,
   "metadata": {
    "collapsed": true
   },
   "outputs": [],
   "source": []
  },
  {
   "cell_type": "markdown",
   "metadata": {},
   "source": [
    "## Once data is finished, I am planning on using Naive Bayse"
   ]
  },
  {
   "cell_type": "markdown",
   "metadata": {},
   "source": [
    "### Below this point are code snippets that I am not using yet but are possible"
   ]
  },
  {
   "cell_type": "code",
   "execution_count": null,
   "metadata": {
    "collapsed": false
   },
   "outputs": [],
   "source": [
    "\n",
    "\n",
    "tweets_data = []\n",
    "tweets_file = tweets\n",
    "for line in tweets_file:\n",
    "    try:\n",
    "        tweet = json.loads(line)\n",
    "        tweets_data.append(tweet)\n",
    "    except:\n",
    "        continue"
   ]
  },
  {
   "cell_type": "code",
   "execution_count": null,
   "metadata": {
    "collapsed": true
   },
   "outputs": [],
   "source": [
    "def get_words_in_tweets(df):\n",
    "    all_words = []\n",
    "    for (words, sentiment) in tweets:\n",
    "        all_words.extend(words)\n",
    "        return all_words\n"
   ]
  },
  {
   "cell_type": "code",
   "execution_count": null,
   "metadata": {
    "collapsed": false
   },
   "outputs": [],
   "source": [
    "get_words_in_tweets(tweets)"
   ]
  },
  {
   "cell_type": "code",
   "execution_count": null,
   "metadata": {
    "collapsed": false
   },
   "outputs": [],
   "source": [
    "from textblob import TextBlob\n",
    "sentiment = [i for i in tweets]\n",
    "sentiment"
   ]
  },
  {
   "cell_type": "code",
   "execution_count": null,
   "metadata": {
    "collapsed": true
   },
   "outputs": [],
   "source": [
    "# Spacy deep learning code. Not mine. Here for guidance\n",
    "\n",
    "def count_entity_sentiment(nlp, texts):\n",
    "    '''Compute the net document sentiment for each entity in the texts.'''\n",
    "    entity_sentiments = collections.Counter(float)\n",
    "    for doc in nlp.pipe(texts, batch_size=1000, n_threads=4):\n",
    "        for ent in doc.ents:\n",
    "            entity_sentiments[ent.text] += doc.sentiment\n",
    "    return entity_sentiments\n",
    "\n",
    "def load_nlp(lstm_path, lang_id='en'):\n",
    "    def create_pipeline(nlp):\n",
    "        return [nlp.tagger, nlp.entity, SentimentAnalyser.load(lstm_path, nlp)]\n",
    "    return spacy.load(lang_id, create_pipeline=create_pipeline)"
   ]
  }
 ],
 "metadata": {
  "anaconda-cloud": {},
  "kernelspec": {
   "display_name": "Python [default]",
   "language": "python",
   "name": "python2"
  },
  "language_info": {
   "codemirror_mode": {
    "name": "ipython",
    "version": 2
   },
   "file_extension": ".py",
   "mimetype": "text/x-python",
   "name": "python",
   "nbconvert_exporter": "python",
   "pygments_lexer": "ipython2",
   "version": "2.7.12"
  }
 },
 "nbformat": 4,
 "nbformat_minor": 1
}
