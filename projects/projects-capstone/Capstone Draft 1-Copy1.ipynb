{
 "cells": [
  {
   "cell_type": "markdown",
   "metadata": {
    "collapsed": true
   },
   "source": [
    "## Run Twitter API to collect tweets"
   ]
  },
  {
   "cell_type": "code",
   "execution_count": 1,
   "metadata": {
    "collapsed": true
   },
   "outputs": [],
   "source": [
    "import json\n",
    "import pandas as pd\n",
    "import matplotlib.pyplot as plt\n",
    "import numpy as np\n",
    "import re\n",
    "\n"
   ]
  },
  {
   "cell_type": "markdown",
   "metadata": {},
   "source": [
    "## Loading data from txt file generated through twitter API"
   ]
  },
  {
   "cell_type": "code",
   "execution_count": 2,
   "metadata": {
    "collapsed": false
   },
   "outputs": [
    {
     "name": "stderr",
     "output_type": "stream",
     "text": [
      "Skipping line 439: expected 1 fields, saw 2\n",
      "Skipping line 632: expected 1 fields, saw 2\n",
      "Skipping line 1045: expected 1 fields, saw 2\n",
      "Skipping line 2276: expected 1 fields, saw 2\n",
      "Skipping line 2788: expected 1 fields, saw 2\n",
      "Skipping line 2943: expected 1 fields, saw 2\n",
      "Skipping line 3259: expected 1 fields, saw 2\n",
      "Skipping line 3285: expected 1 fields, saw 2\n",
      "Skipping line 3376: expected 1 fields, saw 2\n",
      "Skipping line 3405: expected 1 fields, saw 2\n",
      "Skipping line 3427: expected 1 fields, saw 2\n",
      "Skipping line 3751: expected 1 fields, saw 2\n",
      "\n"
     ]
    }
   ],
   "source": [
    "tweets = pd.read_csv('/Users/macbook/GA-DSI/projects/projects-capstone/captured-tweets.txt', sep='\\n', header = None, error_bad_lines=False)"
   ]
  },
  {
   "cell_type": "code",
   "execution_count": 3,
   "metadata": {
    "collapsed": false
   },
   "outputs": [
    {
     "data": {
      "text/html": [
       "<div>\n",
       "<table border=\"1\" class=\"dataframe\">\n",
       "  <thead>\n",
       "    <tr style=\"text-align: right;\">\n",
       "      <th></th>\n",
       "      <th>0</th>\n",
       "    </tr>\n",
       "  </thead>\n",
       "  <tbody>\n",
       "    <tr>\n",
       "      <th>0</th>\n",
       "      <td>RT @HENDRIXNASH: Premiered by @NoiseyMusic. - ...</td>\n",
       "    </tr>\n",
       "    <tr>\n",
       "      <th>1</th>\n",
       "      <td>RT @GamingAnarchist: https://t.co/ByrvubKPH4</td>\n",
       "    </tr>\n",
       "    <tr>\n",
       "      <th>2</th>\n",
       "      <td>This is literally the same discredited Jack Th...</td>\n",
       "    </tr>\n",
       "    <tr>\n",
       "      <th>3</th>\n",
       "      <td>http…</td>\n",
       "    </tr>\n",
       "    <tr>\n",
       "      <th>4</th>\n",
       "      <td>When/if Presidential election coverage returns...</td>\n",
       "    </tr>\n",
       "    <tr>\n",
       "      <th>5</th>\n",
       "      <td>Trump supporters really need to grasp that the...</td>\n",
       "    </tr>\n",
       "    <tr>\n",
       "      <th>6</th>\n",
       "      <td>RT @krglick: Congrats to my good friend @plwil...</td>\n",
       "    </tr>\n",
       "    <tr>\n",
       "      <th>7</th>\n",
       "      <td>RT @tagaq: @julytalk our sister debilitated wa...</td>\n",
       "    </tr>\n",
       "    <tr>\n",
       "      <th>8</th>\n",
       "      <td>RT @billboard: Watch Miranda Lambert rock out ...</td>\n",
       "    </tr>\n",
       "    <tr>\n",
       "      <th>9</th>\n",
       "      <td>RT @GamingAnarchist: https://t.co/ByrvubKPH4</td>\n",
       "    </tr>\n",
       "  </tbody>\n",
       "</table>\n",
       "</div>"
      ],
      "text/plain": [
       "                                                   0\n",
       "0  RT @HENDRIXNASH: Premiered by @NoiseyMusic. - ...\n",
       "1       RT @GamingAnarchist: https://t.co/ByrvubKPH4\n",
       "2  This is literally the same discredited Jack Th...\n",
       "3                                              http…\n",
       "4  When/if Presidential election coverage returns...\n",
       "5  Trump supporters really need to grasp that the...\n",
       "6  RT @krglick: Congrats to my good friend @plwil...\n",
       "7  RT @tagaq: @julytalk our sister debilitated wa...\n",
       "8  RT @billboard: Watch Miranda Lambert rock out ...\n",
       "9       RT @GamingAnarchist: https://t.co/ByrvubKPH4"
      ]
     },
     "execution_count": 3,
     "metadata": {},
     "output_type": "execute_result"
    }
   ],
   "source": [
    "tweets.head(10)"
   ]
  },
  {
   "cell_type": "markdown",
   "metadata": {},
   "source": [
    "## Cleaning data and preparing for NLP\n",
    "Each area specified as subject will be switched out for specific subject to be run"
   ]
  },
  {
   "cell_type": "code",
   "execution_count": 4,
   "metadata": {
    "collapsed": true
   },
   "outputs": [],
   "source": [
    "# removing punctuation\n",
    "import string\n",
    "\n",
    "def normalize_string(s):\n",
    "    for p in string.punctuation:\n",
    "        s = s.replace(p, ' ')\n",
    "    s = s.lower().strip()\n",
    "    return s"
   ]
  },
  {
   "cell_type": "code",
   "execution_count": 5,
   "metadata": {
    "collapsed": false
   },
   "outputs": [],
   "source": [
    "# Changing column name from 0 to original tweets\n",
    "tweets['original_tweet'] = tweets[0]\n",
    "del tweets[0]"
   ]
  },
  {
   "cell_type": "code",
   "execution_count": 27,
   "metadata": {
    "collapsed": false
   },
   "outputs": [
    {
     "data": {
      "text/html": [
       "<div>\n",
       "<table border=\"1\" class=\"dataframe\">\n",
       "  <thead>\n",
       "    <tr style=\"text-align: right;\">\n",
       "      <th></th>\n",
       "      <th>original_tweet</th>\n",
       "    </tr>\n",
       "  </thead>\n",
       "  <tbody>\n",
       "    <tr>\n",
       "      <th>0</th>\n",
       "      <td>RT @HENDRIXNASH: Premiered by @NoiseyMusic. - ...</td>\n",
       "    </tr>\n",
       "    <tr>\n",
       "      <th>1</th>\n",
       "      <td>RT @GamingAnarchist: https://t.co/ByrvubKPH4</td>\n",
       "    </tr>\n",
       "    <tr>\n",
       "      <th>2</th>\n",
       "      <td>This is literally the same discredited Jack Th...</td>\n",
       "    </tr>\n",
       "    <tr>\n",
       "      <th>3</th>\n",
       "      <td>http…</td>\n",
       "    </tr>\n",
       "    <tr>\n",
       "      <th>4</th>\n",
       "      <td>When/if Presidential election coverage returns...</td>\n",
       "    </tr>\n",
       "  </tbody>\n",
       "</table>\n",
       "</div>"
      ],
      "text/plain": [
       "                                      original_tweet\n",
       "0  RT @HENDRIXNASH: Premiered by @NoiseyMusic. - ...\n",
       "1       RT @GamingAnarchist: https://t.co/ByrvubKPH4\n",
       "2  This is literally the same discredited Jack Th...\n",
       "3                                              http…\n",
       "4  When/if Presidential election coverage returns..."
      ]
     },
     "execution_count": 27,
     "metadata": {},
     "output_type": "execute_result"
    }
   ],
   "source": [
    "tweets.head()"
   ]
  },
  {
   "cell_type": "code",
   "execution_count": 11,
   "metadata": {
    "collapsed": true
   },
   "outputs": [],
   "source": [
    "# create column for show subject using branded hashtags\n",
    "# Create column for updates\n",
    "def find_bronson(x):\n",
    "    res = re.search('(Trump)', x)\n",
    "    if res:\n",
    "        return res.group()\n",
    "    else:\n",
    "        return pd.np.nan"
   ]
  },
  {
   "cell_type": "code",
   "execution_count": 12,
   "metadata": {
    "collapsed": true
   },
   "outputs": [],
   "source": [
    "tweets['bronson'] = tweets['original_tweet'].apply(find_bronson)"
   ]
  },
  {
   "cell_type": "code",
   "execution_count": 13,
   "metadata": {
    "collapsed": false
   },
   "outputs": [
    {
     "data": {
      "text/plain": [
       "<bound method Series.value_counts of 0         NaN\n",
       "1         NaN\n",
       "2         NaN\n",
       "3         NaN\n",
       "4         NaN\n",
       "5       Trump\n",
       "6         NaN\n",
       "7         NaN\n",
       "8         NaN\n",
       "9         NaN\n",
       "10        NaN\n",
       "11        NaN\n",
       "12        NaN\n",
       "13        NaN\n",
       "14        NaN\n",
       "15        NaN\n",
       "16        NaN\n",
       "17        NaN\n",
       "18        NaN\n",
       "19        NaN\n",
       "20        NaN\n",
       "21      Trump\n",
       "22        NaN\n",
       "23      Trump\n",
       "24      Trump\n",
       "25        NaN\n",
       "26        NaN\n",
       "27        NaN\n",
       "28      Trump\n",
       "29        NaN\n",
       "        ...  \n",
       "3595      NaN\n",
       "3596      NaN\n",
       "3597      NaN\n",
       "3598      NaN\n",
       "3599      NaN\n",
       "3600      NaN\n",
       "3601      NaN\n",
       "3602      NaN\n",
       "3603      NaN\n",
       "3604      NaN\n",
       "3605    Trump\n",
       "3606      NaN\n",
       "3607    Trump\n",
       "3608    Trump\n",
       "3609      NaN\n",
       "3610      NaN\n",
       "3611      NaN\n",
       "3612      NaN\n",
       "3613    Trump\n",
       "3614      NaN\n",
       "3615    Trump\n",
       "3616      NaN\n",
       "3617      NaN\n",
       "3618      NaN\n",
       "3619      NaN\n",
       "3620      NaN\n",
       "3621      NaN\n",
       "3622      NaN\n",
       "3623      NaN\n",
       "3624      NaN\n",
       "Name: bronson, dtype: object>"
      ]
     },
     "execution_count": 13,
     "metadata": {},
     "output_type": "execute_result"
    }
   ],
   "source": [
    "tweets['bronson'].value_counts"
   ]
  },
  {
   "cell_type": "code",
   "execution_count": 15,
   "metadata": {
    "collapsed": false
   },
   "outputs": [
    {
     "data": {
      "text/html": [
       "<div>\n",
       "<table border=\"1\" class=\"dataframe\">\n",
       "  <thead>\n",
       "    <tr style=\"text-align: right;\">\n",
       "      <th></th>\n",
       "      <th>original_tweet</th>\n",
       "      <th>bronson</th>\n",
       "    </tr>\n",
       "  </thead>\n",
       "  <tbody>\n",
       "    <tr>\n",
       "      <th>0</th>\n",
       "      <td>RT @HENDRIXNASH: Premiered by @NoiseyMusic. - ...</td>\n",
       "      <td>NaN</td>\n",
       "    </tr>\n",
       "    <tr>\n",
       "      <th>1</th>\n",
       "      <td>RT @GamingAnarchist: https://t.co/ByrvubKPH4</td>\n",
       "      <td>NaN</td>\n",
       "    </tr>\n",
       "    <tr>\n",
       "      <th>2</th>\n",
       "      <td>This is literally the same discredited Jack Th...</td>\n",
       "      <td>NaN</td>\n",
       "    </tr>\n",
       "    <tr>\n",
       "      <th>3</th>\n",
       "      <td>http…</td>\n",
       "      <td>NaN</td>\n",
       "    </tr>\n",
       "    <tr>\n",
       "      <th>4</th>\n",
       "      <td>When/if Presidential election coverage returns...</td>\n",
       "      <td>NaN</td>\n",
       "    </tr>\n",
       "    <tr>\n",
       "      <th>5</th>\n",
       "      <td>Trump supporters really need to grasp that the...</td>\n",
       "      <td>Trump</td>\n",
       "    </tr>\n",
       "    <tr>\n",
       "      <th>6</th>\n",
       "      <td>RT @krglick: Congrats to my good friend @plwil...</td>\n",
       "      <td>NaN</td>\n",
       "    </tr>\n",
       "    <tr>\n",
       "      <th>7</th>\n",
       "      <td>RT @tagaq: @julytalk our sister debilitated wa...</td>\n",
       "      <td>NaN</td>\n",
       "    </tr>\n",
       "    <tr>\n",
       "      <th>8</th>\n",
       "      <td>RT @billboard: Watch Miranda Lambert rock out ...</td>\n",
       "      <td>NaN</td>\n",
       "    </tr>\n",
       "    <tr>\n",
       "      <th>9</th>\n",
       "      <td>RT @GamingAnarchist: https://t.co/ByrvubKPH4</td>\n",
       "      <td>NaN</td>\n",
       "    </tr>\n",
       "  </tbody>\n",
       "</table>\n",
       "</div>"
      ],
      "text/plain": [
       "                                      original_tweet bronson\n",
       "0  RT @HENDRIXNASH: Premiered by @NoiseyMusic. - ...     NaN\n",
       "1       RT @GamingAnarchist: https://t.co/ByrvubKPH4     NaN\n",
       "2  This is literally the same discredited Jack Th...     NaN\n",
       "3                                              http…     NaN\n",
       "4  When/if Presidential election coverage returns...     NaN\n",
       "5  Trump supporters really need to grasp that the...   Trump\n",
       "6  RT @krglick: Congrats to my good friend @plwil...     NaN\n",
       "7  RT @tagaq: @julytalk our sister debilitated wa...     NaN\n",
       "8  RT @billboard: Watch Miranda Lambert rock out ...     NaN\n",
       "9       RT @GamingAnarchist: https://t.co/ByrvubKPH4     NaN"
      ]
     },
     "execution_count": 15,
     "metadata": {},
     "output_type": "execute_result"
    }
   ],
   "source": [
    "tweets.head(10)"
   ]
  },
  {
   "cell_type": "code",
   "execution_count": null,
   "metadata": {
    "collapsed": true
   },
   "outputs": [],
   "source": [
    "# Df with only tweets containing subject\n",
    "\n",
    "df_bronson = df.dropna\n",
    "df_bronson"
   ]
  },
  {
   "cell_type": "code",
   "execution_count": null,
   "metadata": {
    "collapsed": true
   },
   "outputs": [],
   "source": [
    "# tokenized  and stemmed subject\n",
    "tweets['tokenized_bronson'] = tweets.apply(lambda row: nltk.word_tokenize(row['bronson']), axis=1)\n",
    "a = tweets.loc[2,'tokenized_bronson']\n",
    "lancaster = nltk.LancasterStemmer()\n",
    "stems = [lancaster.stem(i) for i in a]\n",
    "print stems"
   ]
  },
  {
   "cell_type": "code",
   "execution_count": null,
   "metadata": {
    "collapsed": true
   },
   "outputs": [],
   "source": []
  },
  {
   "cell_type": "code",
   "execution_count": null,
   "metadata": {
    "collapsed": true
   },
   "outputs": [],
   "source": []
  },
  {
   "cell_type": "code",
   "execution_count": null,
   "metadata": {
    "collapsed": true
   },
   "outputs": [],
   "source": []
  },
  {
   "cell_type": "code",
   "execution_count": 28,
   "metadata": {
    "collapsed": false
   },
   "outputs": [],
   "source": [
    "\n",
    "\n",
    "tweets_data = []\n",
    "tweets_file = tweets\n",
    "for line in tweets_file:\n",
    "    try:\n",
    "        tweet = json.loads(line)\n",
    "        tweets_data.append(tweet)\n",
    "    except:\n",
    "        continue"
   ]
  },
  {
   "cell_type": "code",
   "execution_count": null,
   "metadata": {
    "collapsed": true
   },
   "outputs": [],
   "source": []
  },
  {
   "cell_type": "code",
   "execution_count": null,
   "metadata": {
    "collapsed": true
   },
   "outputs": [],
   "source": []
  },
  {
   "cell_type": "code",
   "execution_count": null,
   "metadata": {
    "collapsed": false
   },
   "outputs": [],
   "source": []
  },
  {
   "cell_type": "code",
   "execution_count": 20,
   "metadata": {
    "collapsed": true
   },
   "outputs": [],
   "source": [
    "def get_words_in_tweets(df):\n",
    "    all_words = []\n",
    "    for (words, sentiment) in tweets:\n",
    "        all_words.extend(words)\n",
    "        return all_words\n"
   ]
  },
  {
   "cell_type": "code",
   "execution_count": 21,
   "metadata": {
    "collapsed": false
   },
   "outputs": [],
   "source": [
    "get_words_in_tweets(tweets)"
   ]
  },
  {
   "cell_type": "code",
   "execution_count": null,
   "metadata": {
    "collapsed": false
   },
   "outputs": [],
   "source": [
    "from textblob import TextBlob\n",
    "sentiment = [i for i in tweets]\n",
    "sentiment"
   ]
  },
  {
   "cell_type": "code",
   "execution_count": null,
   "metadata": {
    "collapsed": true
   },
   "outputs": [],
   "source": []
  }
 ],
 "metadata": {
  "anaconda-cloud": {},
  "kernelspec": {
   "display_name": "Python [default]",
   "language": "python",
   "name": "python2"
  },
  "language_info": {
   "codemirror_mode": {
    "name": "ipython",
    "version": 2
   },
   "file_extension": ".py",
   "mimetype": "text/x-python",
   "name": "python",
   "nbconvert_exporter": "python",
   "pygments_lexer": "ipython2",
   "version": "2.7.12"
  }
 },
 "nbformat": 4,
 "nbformat_minor": 1
}
