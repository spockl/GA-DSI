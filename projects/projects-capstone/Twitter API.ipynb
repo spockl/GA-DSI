{
 "cells": [
  {
   "cell_type": "code",
   "execution_count": null,
   "metadata": {
    "collapsed": true
   },
   "outputs": [],
   "source": [
    "## Instructions for capturing tweets\n",
    "\n",
    "\n",
    "### Setting up Twitter API credentials\n",
    "\n",
    "1. Go to https://apps.twitter.com/\n",
    "2. Sign In, and then follow the instructions below:\n",
    "3. Press \"Create New App\"\n",
    "4. Fill in form (you can enter your website or any website in the 'website' field i.e. http://google.com)\n",
    "5. Press 'Create application'\n",
    "6. Press 'Manage keys ...'\n",
    "1. Press 'Create access tokens'\n",
    "8. Find and save four values\n",
    "    - Consumer Key\n",
    "    - Consumer Secret\n",
    "    - Access Token Key\n",
    "    - Access Token Secret\n",
    "\n",
    "### Running the code\n",
    "\n",
    "1. Install TwitterAPI: `pip install TwitterAPI`\n",
    "2. Substitute the four values saved from 'Setting up Twitter API credentials' in `twitter.py` in\n",
    "\n",
    "```python\n",
    "access_token_key = \"<ENTER ACCESS TOKEN KEY>\"\n",
    "access_token_secret = \"<ENTER ACCESS TOKEN SECRET>\"\n",
    "\n",
    "api_key = \"<ENTER CONSUMER KEY>\"\n",
    "api_secret = \"<ENTER CONSUMER SECRET>\"\n",
    "\n",
    "```\n",
    "\n",
    "3. Run `python capture-tweets.py <topic>` to save tweets to file called `captured-tweets.txt` related to `<topic>`. I.e.: `python capture-tweets.py Google` or `python capture-tweets.py Iran`"
   ]
  },
  {
   "cell_type": "code",
   "execution_count": 1,
   "metadata": {
    "collapsed": true
   },
   "outputs": [],
   "source": [
    "from TwitterAPI import TwitterAPI\n",
    "\n",
    "access_token_key = \"3189245622-XZ7Fhhb4gd8jgILBkNOA50t5fg8thhOCwWGWMs5\"\n",
    "access_token_secret = \"qweMqvvBCumzF798JCIhsAZR79zP6h5xKVa99JvMYNebO\"\n",
    "\n",
    "api_key = \"XrgIouVA8jErX30qFJdU0VVJD\"\n",
    "api_secret = \"cwf1BteB4wIEO3p5v41WZnGd1FnWlQZ61clj8pjYtzDWfvKuUw\"\n",
    "\n",
    "_debug = 0\n",
    "\n",
    "\n",
    "api = TwitterAPI(api_key, api_secret, access_token_key, access_token_secret)\n",
    "\n",
    "'''\n",
    "Construct, sign, and open a twitter request\n",
    "using the hard-coded credentials above.\n",
    "'''\n",
    "\n",
    "def retrieve_tweets(topic, \n",
    "                    url=\"https://stream.twitter.com/1/statuses/filter.json\", \n",
    "                    method=\"GET\", ):\n",
    "    \"\"\"\n",
    "\n",
    "    Params:\n",
    "    topic - must be in this format \"#topic\" or '@handle\"\n",
    "    Returns\n",
    "    \"\"\"\n",
    "    response = api.request('statuses/filter', {'track': topic})\n",
    "    if response.status_code != 200:\n",
    "        raise ValueError(\"Unable to retrieve tweets, please check your API credentials\")\n",
    "    for x in response:\n",
    "        try:\n",
    "            yield x\n",
    "        except UnicodeError as unicode_error:\n",
    "            continue"
   ]
  },
  {
   "cell_type": "code",
   "execution_count": 9,
   "metadata": {
    "collapsed": false
   },
   "outputs": [
    {
     "data": {
      "text/plain": [
       "<generator object retrieve_tweets at 0x107d56d70>"
      ]
     },
     "execution_count": 9,
     "metadata": {},
     "output_type": "execute_result"
    }
   ],
   "source": [
    "retrieve_tweets('#vice', url=\"https://stream.twitter.com/1/statuses/filter.json\", method='GET', )"
   ]
  },
  {
   "cell_type": "code",
   "execution_count": null,
   "metadata": {
    "collapsed": true
   },
   "outputs": [],
   "source": []
  }
 ],
 "metadata": {
  "anaconda-cloud": {},
  "kernelspec": {
   "display_name": "Python [default]",
   "language": "python",
   "name": "python2"
  },
  "language_info": {
   "codemirror_mode": {
    "name": "ipython",
    "version": 2
   },
   "file_extension": ".py",
   "mimetype": "text/x-python",
   "name": "python",
   "nbconvert_exporter": "python",
   "pygments_lexer": "ipython2",
   "version": "2.7.12"
  }
 },
 "nbformat": 4,
 "nbformat_minor": 1
}
