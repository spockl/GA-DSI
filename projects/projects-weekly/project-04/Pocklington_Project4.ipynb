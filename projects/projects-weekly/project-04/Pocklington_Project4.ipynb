{
 "cells": [
  {
   "cell_type": "code",
   "execution_count": 2,
   "metadata": {
    "collapsed": true
   },
   "outputs": [],
   "source": [
    "# Import neccesary programs\n",
    "import requests\n",
    "import bs4\n",
    "from bs4 import BeautifulSoup\n",
    "from lxml import html\n",
    "import numpy as np\n",
    "import pandas as pd\n",
    "import matplotlib.pyplot as plt\n",
    "%matplotlib inline\n",
    "import numpy as np\n",
    "from sklearn.metrics import classification_report, confusion_matrix, accuracy_score\n",
    "from sklearn.cross_validation import train_test_split, cross_val_score\n",
    "from sklearn.linear_model import LogisticRegression, LogisticRegressionCV\n",
    "from sklearn.grid_search import GridSearchCV\n",
    "from sklearn.metrics import classification_report\n",
    "from sklearn.metrics import roc_auc_score\n",
    "from sklearn.metrics import roc_curve\n",
    "from sklearn.metrics import auc\n",
    "from sklearn.metrics import confusion_matrix"
   ]
  },
  {
   "cell_type": "markdown",
   "metadata": {},
   "source": [
    "### Webscraping Functions"
   ]
  },
  {
   "cell_type": "code",
   "execution_count": 3,
   "metadata": {
    "collapsed": true
   },
   "outputs": [],
   "source": [
    "# function for getting location from indeed\n",
    "\n",
    "def extract_location_from_result(loc):\n",
    "    try:\n",
    "        for n in loc.findAll(class_='location'):\n",
    "            return n.text.strip()\n",
    "    except:\n",
    "        return 'None'\n"
   ]
  },
  {
   "cell_type": "code",
   "execution_count": 4,
   "metadata": {
    "collapsed": true
   },
   "outputs": [],
   "source": [
    "# function for getting company from indeed\n",
    "\n",
    "def extract_company_from_result(comp):\n",
    "    try:\n",
    "        for n in comp.findAll(class_='company'):\n",
    "            return n.text.strip()\n",
    "    except:\n",
    "        return 'None' "
   ]
  },
  {
   "cell_type": "code",
   "execution_count": 5,
   "metadata": {
    "collapsed": true
   },
   "outputs": [],
   "source": [
    "# function for getting job title from indeed\n",
    "\n",
    "def extract_jobtitle_from_result(jobtitle):\n",
    "    try:\n",
    "        for n in jobtitle.findAll(class_='jobtitle'):\n",
    "            return n.text.strip()\n",
    "    except:\n",
    "        return 'None'   "
   ]
  },
  {
   "cell_type": "code",
   "execution_count": 6,
   "metadata": {
    "collapsed": true
   },
   "outputs": [],
   "source": [
    "# function to get salary from indeed\n",
    "\n",
    "def extract_salary_from_result(sal):\n",
    "    try:\n",
    "        for n in sal.findAll('td', class_='snip'):\n",
    "            return n.nobr\n",
    "    except:\n",
    "        return 'None' "
   ]
  },
  {
   "cell_type": "code",
   "execution_count": 7,
   "metadata": {
    "collapsed": true
   },
   "outputs": [],
   "source": [
    "# function to get summary/description from indeed\n",
    "\n",
    "def extract_summary_from_result(desc):\n",
    "    try:\n",
    "        for n in desc.findAll('span', class_='summary'):\n",
    "            return n.text.strip()\n",
    "    except:\n",
    "        return 'None' "
   ]
  },
  {
   "cell_type": "markdown",
   "metadata": {},
   "source": [
    "### Select Website "
   ]
  },
  {
   "cell_type": "code",
   "execution_count": 8,
   "metadata": {
    "collapsed": false
   },
   "outputs": [],
   "source": [
    "Location = []\n",
    "Job_Title = []\n",
    "Company = []\n",
    "Salary = []\n",
    "Description = []\n",
    "\n",
    "url_template = \"http://www.indeed.com/jobs?q=data+scientist+%2420%2C000&l={}&start={}\"\n",
    "max_results_per_city = 800\n",
    "cities = ['New+York', 'Chicago', 'Boston', 'San+Francisco', 'Los+Angeles', 'Austin', 'Atlanta']\n",
    "results = []\n",
    "for city in set(cities):\n",
    "    for start in range(0, max_results_per_city, 10):\n",
    "        url = url_template.format(city,start)\n",
    "        ru = requests.get(url)\n",
    "        indeed = BeautifulSoup(ru.content, \"lxml\")\n",
    "        for item in indeed.findAll('div', class_='result'):\n",
    "            Location.append(extract_location_from_result(item))\n",
    "            Job_Title.append(extract_jobtitle_from_result(item))\n",
    "            Company.append(extract_company_from_result(item))\n",
    "            Salary.append(extract_salary_from_result(item))\n",
    "            Description.append(extract_summary_from_result(item))"
   ]
  },
  {
   "cell_type": "code",
   "execution_count": 9,
   "metadata": {
    "collapsed": false
   },
   "outputs": [],
   "source": [
    "# Create dataframe and name columns. Include Cities\n",
    "df = pd.DataFrame([Location,Job_Title,Company,Salary,Description]).T \n",
    "  \n",
    "df.columns= ['Location','Job_Title','Company','Salary','Description']"
   ]
  },
  {
   "cell_type": "code",
   "execution_count": 10,
   "metadata": {
    "collapsed": true
   },
   "outputs": [],
   "source": [
    "df['City'] = df['Location'].apply(lambda x: x.split(',')[0])"
   ]
  },
  {
   "cell_type": "code",
   "execution_count": 11,
   "metadata": {
    "collapsed": false
   },
   "outputs": [],
   "source": [
    "# Add city column\n",
    "df = df[['City', 'Location', 'Job_Title', 'Company', 'Salary','Description']]"
   ]
  },
  {
   "cell_type": "code",
   "execution_count": 12,
   "metadata": {
    "collapsed": false
   },
   "outputs": [
    {
     "data": {
      "text/html": [
       "<div>\n",
       "<table border=\"1\" class=\"dataframe\">\n",
       "  <thead>\n",
       "    <tr style=\"text-align: right;\">\n",
       "      <th></th>\n",
       "      <th>City</th>\n",
       "      <th>Location</th>\n",
       "      <th>Job_Title</th>\n",
       "      <th>Company</th>\n",
       "      <th>Salary</th>\n",
       "      <th>Description</th>\n",
       "    </tr>\n",
       "  </thead>\n",
       "  <tbody>\n",
       "    <tr>\n",
       "      <th>0</th>\n",
       "      <td>Austin</td>\n",
       "      <td>Austin, TX 78731</td>\n",
       "      <td>Data Engineer</td>\n",
       "      <td>Indeed</td>\n",
       "      <td>None</td>\n",
       "      <td>Work closely with stakeholders on the data dem...</td>\n",
       "    </tr>\n",
       "    <tr>\n",
       "      <th>1</th>\n",
       "      <td>Austin</td>\n",
       "      <td>Austin, TX 78759</td>\n",
       "      <td>Senior Data Scientist - Geospatial Analytics</td>\n",
       "      <td>MaxPoint</td>\n",
       "      <td>None</td>\n",
       "      <td>Senior Data Scientist – Geospatial Analytics. ...</td>\n",
       "    </tr>\n",
       "    <tr>\n",
       "      <th>2</th>\n",
       "      <td>Austin</td>\n",
       "      <td>Austin, TX 78731</td>\n",
       "      <td>Data Scientist</td>\n",
       "      <td>Indeed</td>\n",
       "      <td>None</td>\n",
       "      <td>How a Data Scientist works. As a Data Scientis...</td>\n",
       "    </tr>\n",
       "    <tr>\n",
       "      <th>3</th>\n",
       "      <td>Austin</td>\n",
       "      <td>Austin, TX</td>\n",
       "      <td>Research Scientist</td>\n",
       "      <td>University of Texas at Austin</td>\n",
       "      <td>&lt;nobr&gt;$4,584 a month&lt;/nobr&gt;</td>\n",
       "      <td>Provide statistical support on research and su...</td>\n",
       "    </tr>\n",
       "    <tr>\n",
       "      <th>4</th>\n",
       "      <td>Austin</td>\n",
       "      <td>Austin, TX</td>\n",
       "      <td>Staff Data Scientist</td>\n",
       "      <td>HomeAway</td>\n",
       "      <td>None</td>\n",
       "      <td>Experience in processing and analyzing Big dat...</td>\n",
       "    </tr>\n",
       "  </tbody>\n",
       "</table>\n",
       "</div>"
      ],
      "text/plain": [
       "     City          Location                                     Job_Title  \\\n",
       "0  Austin  Austin, TX 78731                                 Data Engineer   \n",
       "1  Austin  Austin, TX 78759  Senior Data Scientist - Geospatial Analytics   \n",
       "2  Austin  Austin, TX 78731                                Data Scientist   \n",
       "3  Austin        Austin, TX                            Research Scientist   \n",
       "4  Austin        Austin, TX                          Staff Data Scientist   \n",
       "\n",
       "                         Company                       Salary  \\\n",
       "0                         Indeed                         None   \n",
       "1                       MaxPoint                         None   \n",
       "2                         Indeed                         None   \n",
       "3  University of Texas at Austin  <nobr>$4,584 a month</nobr>   \n",
       "4                       HomeAway                         None   \n",
       "\n",
       "                                         Description  \n",
       "0  Work closely with stakeholders on the data dem...  \n",
       "1  Senior Data Scientist – Geospatial Analytics. ...  \n",
       "2  How a Data Scientist works. As a Data Scientis...  \n",
       "3  Provide statistical support on research and su...  \n",
       "4  Experience in processing and analyzing Big dat...  "
      ]
     },
     "execution_count": 12,
     "metadata": {},
     "output_type": "execute_result"
    }
   ],
   "source": [
    "df.head()"
   ]
  },
  {
   "cell_type": "code",
   "execution_count": 13,
   "metadata": {
    "collapsed": false
   },
   "outputs": [
    {
     "data": {
      "text/plain": [
       "City           object\n",
       "Location       object\n",
       "Job_Title      object\n",
       "Company        object\n",
       "Salary         object\n",
       "Description    object\n",
       "dtype: object"
      ]
     },
     "execution_count": 13,
     "metadata": {},
     "output_type": "execute_result"
    }
   ],
   "source": [
    "df.dtypes"
   ]
  },
  {
   "cell_type": "markdown",
   "metadata": {},
   "source": [
    "### Cleaning Salary Data"
   ]
  },
  {
   "cell_type": "code",
   "execution_count": 14,
   "metadata": {
    "collapsed": false
   },
   "outputs": [
    {
     "data": {
      "text/plain": [
       "array([None, <nobr>$4,584 a month</nobr>,\n",
       "       <nobr>$6,250 - $10,833 a month</nobr>,\n",
       "       <nobr>$4,599 - $6,066 a month</nobr>, <nobr>$6,667 a month</nobr>,\n",
       "       <nobr>$5,541 a month</nobr>, <nobr>$5,400 - $6,500 a month</nobr>,\n",
       "       <nobr>$4,000 a month</nobr>, <nobr>$3,520 - $4,600 a month</nobr>,\n",
       "       <nobr>$5,259 - $8,624 a month</nobr>,\n",
       "       <nobr>$140,000 - $160,000 a year</nobr>,\n",
       "       <nobr>$23.44 - $29.80 an hour</nobr>,\n",
       "       <nobr>$5,259 - $6,941 a month</nobr>,\n",
       "       <nobr>$45,000 - $55,000 a year</nobr>,\n",
       "       <nobr>$4,500 - $4,900 a month</nobr>,\n",
       "       <nobr>$120,000 - $150,000 a year</nobr>,\n",
       "       <nobr>$60,000 - $80,000 a year</nobr>, <nobr>$130,000 a year</nobr>,\n",
       "       <nobr>$90,000 a year</nobr>, <nobr>$5,500 - $7,500 a month</nobr>,\n",
       "       <nobr>$3,519 a month</nobr>, <nobr>$80,000 - $110,000 a year</nobr>,\n",
       "       <nobr>$180,000 a year</nobr>, <nobr>$150,000 a year</nobr>,\n",
       "       <nobr>$110,000 a year</nobr>,\n",
       "       <nobr>$104,674 - $151,358 a year</nobr>,\n",
       "       <nobr>$105,000 a year</nobr>,\n",
       "       <nobr>$135,000 - $165,000 a year</nobr>,\n",
       "       <nobr>$110,000 - $155,000 a year</nobr>,\n",
       "       <nobr>$93,257 - $137,114 a year</nobr>,\n",
       "       <nobr>$75,000 - $90,000 a year</nobr>, <nobr>$140,000 a year</nobr>,\n",
       "       <nobr>$75,000 - $100,000 a year</nobr>, <nobr>$90 an hour</nobr>,\n",
       "       <nobr>$100,000 - $120,000 a year</nobr>,\n",
       "       <nobr>$100,000 - $130,000 a year</nobr>,\n",
       "       <nobr>$125,000 a year</nobr>, <nobr>$75,000 - $95,000 a year</nobr>,\n",
       "       <nobr>$145,000 a year</nobr>, <nobr>$20 an hour</nobr>,\n",
       "       <nobr>$50,000 a year</nobr>, <nobr>$80,000 a year</nobr>,\n",
       "       <nobr>$60,000 - $75,000 a year</nobr>,\n",
       "       <nobr>$130,000 - $180,000 a year</nobr>,\n",
       "       <nobr>$70,000 a year</nobr>, <nobr>$200,000 a year</nobr>,\n",
       "       <nobr>$125,000 - $175,000 a year</nobr>,\n",
       "       <nobr>$70,000 - $105,000 a year</nobr>, <nobr>$27.61 an hour</nobr>,\n",
       "       <nobr>$70,000 - $100,000 a year</nobr>,\n",
       "       <nobr>$24 - $30 an hour</nobr>, <nobr>$14 - $19 an hour</nobr>,\n",
       "       <nobr>$100,000 - $150,000 a year</nobr>, <nobr>$1,250 a week</nobr>,\n",
       "       <nobr>$34,142 a year</nobr>,\n",
       "       <nobr>$140,000 - $180,000 a year</nobr>,\n",
       "       <nobr>$150,000 - $190,000 a year</nobr>,\n",
       "       <nobr>$110,000 - $180,000 a year</nobr>,\n",
       "       <nobr>$120,000 a year</nobr>,\n",
       "       <nobr>$150,000 - $180,000 a year</nobr>,\n",
       "       <nobr>$6,730 - $7,395 a month</nobr>,\n",
       "       <nobr>$93,000 - $135,000 a year</nobr>, <nobr>$30 an hour</nobr>,\n",
       "       <nobr>$130,000 - $150,000 a year</nobr>,\n",
       "       <nobr>$25.77 - $39.22 an hour</nobr>, <nobr>$100,000 a year</nobr>,\n",
       "       <nobr>$170,000 - $190,000 a year</nobr>,\n",
       "       <nobr>$130,000 - $160,000 a year</nobr>, <nobr>$23 an hour</nobr>,\n",
       "       <nobr>$200,000 - $300,000 a year</nobr>,\n",
       "       <nobr>$120,000 - $170,000 a year</nobr>, <nobr>$19 an hour</nobr>,\n",
       "       <nobr>$54,800 - $70,900 a year</nobr>,\n",
       "       <nobr>$67,500 - $85,000 a year</nobr>,\n",
       "       <nobr>$120,000 - $160,000 a year</nobr>,\n",
       "       <nobr>$60,000 a year</nobr>, <nobr>$55 an hour</nobr>,\n",
       "       <nobr>$47,860 - $67,712 a year</nobr>,\n",
       "       <nobr>$90,000 - $135,000 a year</nobr>, <nobr>$68 an hour</nobr>,\n",
       "       <nobr>$160,000 a year</nobr>,\n",
       "       <nobr>$110,000 - $170,000 a year</nobr>,\n",
       "       <nobr>$45 - $55 an hour</nobr>,\n",
       "       <nobr>$108,900 - $161,000 a year</nobr>,\n",
       "       <nobr>$65,232 - $92,625 a year</nobr>,\n",
       "       <nobr>$110,000 - $140,000 a year</nobr>, <nobr>$42 an hour</nobr>,\n",
       "       <nobr>$75,000 - $120,000 a year</nobr>,\n",
       "       <nobr>$98,800 - $126,700 a year</nobr>,\n",
       "       <nobr>$90,000 - $140,000 a year</nobr>,\n",
       "       <nobr>$35,000 - $50,000 a year</nobr>,\n",
       "       <nobr>$90,000 - $130,000 a year</nobr>, <nobr>$28 an hour</nobr>,\n",
       "       <nobr>$60 an hour</nobr>, <nobr>$90,000 - $120,000 a year</nobr>,\n",
       "       <nobr>$95,000 a year</nobr>,\n",
       "       <nobr>$175,000 - $250,000 a year</nobr>,\n",
       "       <nobr>$110,000 - $150,000 a year</nobr>,\n",
       "       <nobr>$95,000 - $137,000 a year</nobr>, <nobr>$56,000 a year</nobr>,\n",
       "       <nobr>$50,000 - $60,000 a year</nobr>,\n",
       "       <nobr>$50,010 - $62,134 a year</nobr>,\n",
       "       <nobr>$4,585 - $6,877 a month</nobr>,\n",
       "       <nobr>$175,000 - $195,000 a year</nobr>,\n",
       "       <nobr>$76,804 - $100,726 a year</nobr>, <nobr>$45 an hour</nobr>,\n",
       "       <nobr>$73,107 - $95,884 a year</nobr>, <nobr>$13 an hour</nobr>,\n",
       "       <nobr>$90,598 - $118,819 a year</nobr>, <nobr>$94,900 a year</nobr>,\n",
       "       <nobr>$25.52 - $34.65 an hour</nobr>,\n",
       "       <nobr>$36,339 - $48,794 a year</nobr>,\n",
       "       <nobr>$73,286 - $86,231 a year</nobr>,\n",
       "       <nobr>$6,249 - $10,857 a month</nobr>,\n",
       "       <nobr>$25.25 - $36.00 an hour</nobr>,\n",
       "       <nobr>$5,988 - $6,322 a month</nobr>, <nobr>$6,322 a month</nobr>,\n",
       "       <nobr>$104,349 - $135,656 a year</nobr>,\n",
       "       <nobr>$88,305 - $114,802 a year</nobr>, <nobr>$24 an hour</nobr>,\n",
       "       <nobr>$150,000 - $205,000 a year</nobr>,\n",
       "       <nobr>$30,000 - $32,000 a year</nobr>, <nobr>$69,900 a year</nobr>,\n",
       "       <nobr>$100,000 - $125,000 a year</nobr>,\n",
       "       <nobr>$90,000 - $102,000 a year</nobr>, <nobr>$51,706 a year</nobr>,\n",
       "       <nobr>$25 an hour</nobr>, <nobr>$10,000 a year</nobr>,\n",
       "       <nobr>$13 - $18 an hour</nobr>, <nobr>$66,700 a year</nobr>,\n",
       "       <nobr>$60,000 - $70,000 a year</nobr>,\n",
       "       <nobr>$30,000 - $39,999 a year</nobr>,\n",
       "       <nobr>$55,000 - $70,000 a year</nobr>, <nobr>$220,000 a year</nobr>,\n",
       "       <nobr>$100,000 - $140,000 a year</nobr>,\n",
       "       <nobr>$80,000 - $90,000 a year</nobr>,\n",
       "       <nobr>$80,000 - $120,000 a year</nobr>,\n",
       "       <nobr>$95,000 - $105,000 a year</nobr>,\n",
       "       <nobr>$150,000 - $300,000 a year</nobr>,\n",
       "       <nobr>$70,286 - $85,664 a year</nobr>,\n",
       "       <nobr>$130,000 - $165,000 a year</nobr>,\n",
       "       <nobr>$110,000 - $120,000 a year</nobr>,\n",
       "       <nobr>$199,000 a year</nobr>,\n",
       "       <nobr>$150,000 - $250,000 a year</nobr>,\n",
       "       <nobr>$71,764 a year</nobr>,\n",
       "       <nobr>$100,000 - $200,000 a year</nobr>,\n",
       "       <nobr>$70,000 - $90,000 a year</nobr>,\n",
       "       <nobr>$200,000 - $230,000 a year</nobr>,\n",
       "       <nobr>$61,000 - $62,000 a year</nobr>,\n",
       "       <nobr>$115,000 - $200,000 a year</nobr>,\n",
       "       <nobr>$68,239 - $78,475 a year</nobr>,\n",
       "       <nobr>$88,305 - $146,570 a year</nobr>, <nobr>$68,239 a year</nobr>,\n",
       "       <nobr>$53,000 - $63,000 a year</nobr>, <nobr>$1,088 a week</nobr>,\n",
       "       <nobr>$76,340 - $100,322 a year</nobr>,\n",
       "       <nobr>$44,000 - $47,250 a year</nobr>,\n",
       "       <nobr>$150,000 - $200,000 a year</nobr>,\n",
       "       <nobr>$40,480 a year</nobr>,\n",
       "       <nobr>$175,000 - $215,000 a year</nobr>,\n",
       "       <nobr>$55,000 - $65,000 a year</nobr>,\n",
       "       <nobr>$115,000 - $140,000 a year</nobr>,\n",
       "       <nobr>$110,000 - $130,000 a year</nobr>, <nobr>$788 a week</nobr>,\n",
       "       <nobr>$95,000 - $120,000 a year</nobr>, <nobr>$26,143 a year</nobr>], dtype=object)"
      ]
     },
     "execution_count": 14,
     "metadata": {},
     "output_type": "execute_result"
    }
   ],
   "source": [
    "df['Salary'].unique()"
   ]
  },
  {
   "cell_type": "code",
   "execution_count": 15,
   "metadata": {
    "collapsed": true
   },
   "outputs": [],
   "source": [
    "# Remove rows with no salary\n",
    "df = df[df.Salary.notnull()]"
   ]
  },
  {
   "cell_type": "code",
   "execution_count": 16,
   "metadata": {
    "collapsed": false
   },
   "outputs": [],
   "source": [
    "# Remove excess salary info. Convert to string\n",
    "df['Salary'] = df['Salary'].apply(lambda x: str(x))\n",
    "df['Salary'] = df['Salary'].apply(lambda x: x.replace('$',''))\n",
    "df['Salary'] = df['Salary'].apply(lambda x: x.replace(',',''))\n",
    "df['Salary'] = df['Salary'].apply(lambda x: x.replace('<nobr>',''))\n",
    "df['Salary'] = df['Salary'].apply(lambda x: x.replace('</nobr>',''))\n",
    "\n"
   ]
  },
  {
   "cell_type": "code",
   "execution_count": 17,
   "metadata": {
    "collapsed": true
   },
   "outputs": [],
   "source": [
    "# Reset index\n",
    "\n",
    "df = df.reset_index(drop=True)"
   ]
  },
  {
   "cell_type": "code",
   "execution_count": 18,
   "metadata": {
    "collapsed": true
   },
   "outputs": [],
   "source": [
    "# Parse yearly, monthly, hourly salaries\n",
    "df['hourly_sal'] = df['Salary'].map(lambda x: 1 if 'hour' in x else 0)\n",
    "\n",
    "df['monthly_sal'] = df['Salary'].map(lambda x: 1 if 'month' in x else 0)\n",
    "\n",
    "df['yearly_sal'] = df['Salary'].map(lambda x: 1 if 'year' in x else 0)\n",
    "\n"
   ]
  },
  {
   "cell_type": "code",
   "execution_count": 19,
   "metadata": {
    "collapsed": false
   },
   "outputs": [
    {
     "name": "stderr",
     "output_type": "stream",
     "text": [
      "/Users/macbook/anaconda/lib/python2.7/site-packages/ipykernel/__main__.py:3: UserWarning: Boolean Series key will be reindexed to match DataFrame index.\n",
      "  app.launch_new_instance()\n"
     ]
    }
   ],
   "source": [
    "# Drop monthly and hourly salaries\n",
    "df_year1 = df[df.monthly_sal != 1]\n",
    "df_year = df_year1[df.hourly_sal !=1]\n"
   ]
  },
  {
   "cell_type": "code",
   "execution_count": 20,
   "metadata": {
    "collapsed": false
   },
   "outputs": [
    {
     "data": {
      "text/html": [
       "<div>\n",
       "<table border=\"1\" class=\"dataframe\">\n",
       "  <thead>\n",
       "    <tr style=\"text-align: right;\">\n",
       "      <th></th>\n",
       "      <th>City</th>\n",
       "      <th>Location</th>\n",
       "      <th>Job_Title</th>\n",
       "      <th>Company</th>\n",
       "      <th>Salary</th>\n",
       "      <th>Description</th>\n",
       "      <th>hourly_sal</th>\n",
       "      <th>monthly_sal</th>\n",
       "      <th>yearly_sal</th>\n",
       "    </tr>\n",
       "  </thead>\n",
       "  <tbody>\n",
       "    <tr>\n",
       "      <th>10</th>\n",
       "      <td>Austin</td>\n",
       "      <td>Austin, TX</td>\n",
       "      <td>Senior Machine Learning Data Scientist</td>\n",
       "      <td>All-In Analytics</td>\n",
       "      <td>140000 - 160000 a year</td>\n",
       "      <td>Machine Learning Data Scientist. Forecasting, ...</td>\n",
       "      <td>0</td>\n",
       "      <td>0</td>\n",
       "      <td>1</td>\n",
       "    </tr>\n",
       "    <tr>\n",
       "      <th>14</th>\n",
       "      <td>Austin</td>\n",
       "      <td>Austin, TX 78701 (Downtown area)</td>\n",
       "      <td>JIRA Business System Analyst</td>\n",
       "      <td>JE Compliance</td>\n",
       "      <td>45000 - 55000 a year</td>\n",
       "      <td>Ability to interact with many different types ...</td>\n",
       "      <td>0</td>\n",
       "      <td>0</td>\n",
       "      <td>1</td>\n",
       "    </tr>\n",
       "    <tr>\n",
       "      <th>17</th>\n",
       "      <td>Austin</td>\n",
       "      <td>Austin, TX</td>\n",
       "      <td>Machine Learning Engineer</td>\n",
       "      <td>Volt Workforce Solutions</td>\n",
       "      <td>120000 - 150000 a year</td>\n",
       "      <td>Data mining competition experience preferred (...</td>\n",
       "      <td>0</td>\n",
       "      <td>0</td>\n",
       "      <td>1</td>\n",
       "    </tr>\n",
       "    <tr>\n",
       "      <th>18</th>\n",
       "      <td>Austin</td>\n",
       "      <td>Austin, TX</td>\n",
       "      <td>LCMS Certifying Scientist</td>\n",
       "      <td>Lighthouse Recruiting</td>\n",
       "      <td>60000 - 80000 a year</td>\n",
       "      <td>Join our Medical Laboratory Scientists Groups:...</td>\n",
       "      <td>0</td>\n",
       "      <td>0</td>\n",
       "      <td>1</td>\n",
       "    </tr>\n",
       "    <tr>\n",
       "      <th>19</th>\n",
       "      <td>Austin</td>\n",
       "      <td>Austin, TX</td>\n",
       "      <td>Sr. .Net Developer</td>\n",
       "      <td>Interactive Resources LLC</td>\n",
       "      <td>130000 a year</td>\n",
       "      <td>We are looking for a collaborative, self-start...</td>\n",
       "      <td>0</td>\n",
       "      <td>0</td>\n",
       "      <td>1</td>\n",
       "    </tr>\n",
       "  </tbody>\n",
       "</table>\n",
       "</div>"
      ],
      "text/plain": [
       "      City                          Location  \\\n",
       "10  Austin                        Austin, TX   \n",
       "14  Austin  Austin, TX 78701 (Downtown area)   \n",
       "17  Austin                        Austin, TX   \n",
       "18  Austin                        Austin, TX   \n",
       "19  Austin                        Austin, TX   \n",
       "\n",
       "                                 Job_Title                    Company  \\\n",
       "10  Senior Machine Learning Data Scientist           All-In Analytics   \n",
       "14            JIRA Business System Analyst              JE Compliance   \n",
       "17               Machine Learning Engineer   Volt Workforce Solutions   \n",
       "18               LCMS Certifying Scientist      Lighthouse Recruiting   \n",
       "19                      Sr. .Net Developer  Interactive Resources LLC   \n",
       "\n",
       "                    Salary                                        Description  \\\n",
       "10  140000 - 160000 a year  Machine Learning Data Scientist. Forecasting, ...   \n",
       "14    45000 - 55000 a year  Ability to interact with many different types ...   \n",
       "17  120000 - 150000 a year  Data mining competition experience preferred (...   \n",
       "18    60000 - 80000 a year  Join our Medical Laboratory Scientists Groups:...   \n",
       "19           130000 a year  We are looking for a collaborative, self-start...   \n",
       "\n",
       "    hourly_sal  monthly_sal  yearly_sal  \n",
       "10           0            0           1  \n",
       "14           0            0           1  \n",
       "17           0            0           1  \n",
       "18           0            0           1  \n",
       "19           0            0           1  "
      ]
     },
     "execution_count": 20,
     "metadata": {},
     "output_type": "execute_result"
    }
   ],
   "source": [
    "df_year.head()"
   ]
  },
  {
   "cell_type": "code",
   "execution_count": 21,
   "metadata": {
    "collapsed": false
   },
   "outputs": [],
   "source": [
    "# drop columns hourly_sal, monthly_sal, and yearly_sal\n",
    "df_year = df_year.drop('hourly_sal', axis=1)\n",
    "df_year = df_year.drop('monthly_sal', axis=1)\n",
    "df_year = df_year.drop('yearly_sal', axis=1)"
   ]
  },
  {
   "cell_type": "code",
   "execution_count": 22,
   "metadata": {
    "collapsed": false
   },
   "outputs": [
    {
     "data": {
      "text/plain": [
       "<bound method Series.unique of 10     140000 - 160000 a year\n",
       "14       45000 - 55000 a year\n",
       "17     120000 - 150000 a year\n",
       "18       60000 - 80000 a year\n",
       "19              130000 a year\n",
       "22               90000 a year\n",
       "151     80000 - 110000 a year\n",
       "152             180000 a year\n",
       "153             150000 a year\n",
       "154             110000 a year\n",
       "155    104674 - 151358 a year\n",
       "156             105000 a year\n",
       "157    135000 - 165000 a year\n",
       "158    110000 - 155000 a year\n",
       "159     93257 - 137114 a year\n",
       "160      75000 - 90000 a year\n",
       "161             140000 a year\n",
       "162     75000 - 100000 a year\n",
       "164    100000 - 120000 a year\n",
       "165    100000 - 130000 a year\n",
       "166             125000 a year\n",
       "167      75000 - 95000 a year\n",
       "168             145000 a year\n",
       "170              50000 a year\n",
       "171             110000 a year\n",
       "172              80000 a year\n",
       "173      60000 - 75000 a year\n",
       "174    130000 - 180000 a year\n",
       "175      75000 - 90000 a year\n",
       "176              70000 a year\n",
       "                ...          \n",
       "405             150000 a year\n",
       "406    100000 - 200000 a year\n",
       "407    115000 - 200000 a year\n",
       "408     95000 - 105000 a year\n",
       "409      68239 - 78475 a year\n",
       "410     88305 - 146570 a year\n",
       "411      70000 - 90000 a year\n",
       "412              68239 a year\n",
       "413             110000 a year\n",
       "414      53000 - 63000 a year\n",
       "415               1088 a week\n",
       "416     76340 - 100322 a year\n",
       "417      44000 - 47250 a year\n",
       "418    150000 - 200000 a year\n",
       "419             200000 a year\n",
       "420              40480 a year\n",
       "421      50000 - 60000 a year\n",
       "422    175000 - 215000 a year\n",
       "423      55000 - 65000 a year\n",
       "424    115000 - 140000 a year\n",
       "425    110000 - 130000 a year\n",
       "426                788 a week\n",
       "427    150000 - 200000 a year\n",
       "428    100000 - 150000 a year\n",
       "429    110000 - 130000 a year\n",
       "430             100000 a year\n",
       "431    130000 - 150000 a year\n",
       "432     95000 - 120000 a year\n",
       "433     75000 - 120000 a year\n",
       "434              26143 a year\n",
       "Name: Salary, dtype: object>"
      ]
     },
     "execution_count": 22,
     "metadata": {},
     "output_type": "execute_result"
    }
   ],
   "source": [
    "# Check for unique Salary values\n",
    "df_year['Salary'].unique"
   ]
  },
  {
   "cell_type": "code",
   "execution_count": 23,
   "metadata": {
    "collapsed": true
   },
   "outputs": [],
   "source": [
    "# reset index and set dataframe to df\n",
    "df = df_year.reset_index(drop=True)"
   ]
  },
  {
   "cell_type": "code",
   "execution_count": 24,
   "metadata": {
    "collapsed": false
   },
   "outputs": [],
   "source": [
    "# Remove non-numeric Salary elements\n",
    "df['Salary'] = df['Salary'].str.replace('a year', '')\n",
    "df['Salary'] = df['Salary'].str.replace('-', ',')\n"
   ]
  },
  {
   "cell_type": "code",
   "execution_count": 25,
   "metadata": {
    "collapsed": false
   },
   "outputs": [
    {
     "data": {
      "text/plain": [
       "array(['140000 , 160000 ', '45000 , 55000 ', '120000 , 150000 ',\n",
       "       '60000 , 80000 ', '130000 ', '90000 ', '80000 , 110000 ', '180000 ',\n",
       "       '150000 ', '110000 ', '104674 , 151358 ', '105000 ',\n",
       "       '135000 , 165000 ', '110000 , 155000 ', '93257 , 137114 ',\n",
       "       '75000 , 90000 ', '140000 ', '75000 , 100000 ', '100000 , 120000 ',\n",
       "       '100000 , 130000 ', '125000 ', '75000 , 95000 ', '145000 ',\n",
       "       '50000 ', '80000 ', '60000 , 75000 ', '130000 , 180000 ', '70000 ',\n",
       "       '200000 ', '125000 , 175000 ', '70000 , 105000 ', '70000 , 100000 ',\n",
       "       '100000 , 150000 ', '1250 a week', '34142 ', '140000 , 180000 ',\n",
       "       '150000 , 190000 ', '110000 , 180000 ', '120000 ',\n",
       "       '150000 , 180000 ', '93000 , 135000 ', '130000 , 150000 ',\n",
       "       '100000 ', '170000 , 190000 ', '130000 , 160000 ',\n",
       "       '200000 , 300000 ', '120000 , 170000 ', '54800 , 70900 ',\n",
       "       '67500 , 85000 ', '120000 , 160000 ', '60000 ', '47860 , 67712 ',\n",
       "       '90000 , 135000 ', '160000 ', '110000 , 170000 ',\n",
       "       '108900 , 161000 ', '65232 , 92625 ', '110000 , 140000 ',\n",
       "       '75000 , 120000 ', '98800 , 126700 ', '90000 , 140000 ',\n",
       "       '35000 , 50000 ', '90000 , 130000 ', '90000 , 120000 ', '95000 ',\n",
       "       '175000 , 250000 ', '110000 , 150000 ', '95000 , 137000 ', '56000 ',\n",
       "       '50000 , 60000 ', '50010 , 62134 ', '175000 , 195000 ',\n",
       "       '76804 , 100726 ', '73107 , 95884 ', '90598 , 118819 ', '94900 ',\n",
       "       '36339 , 48794 ', '73286 , 86231 ', '104349 , 135656 ',\n",
       "       '88305 , 114802 ', '150000 , 205000 ', '30000 , 32000 ', '69900 ',\n",
       "       '100000 , 125000 ', '90000 , 102000 ', '51706 ', '10000 ', '66700 ',\n",
       "       '60000 , 70000 ', '30000 , 39999 ', '55000 , 70000 ', '220000 ',\n",
       "       '100000 , 140000 ', '80000 , 90000 ', '80000 , 120000 ',\n",
       "       '95000 , 105000 ', '150000 , 300000 ', '70286 , 85664 ',\n",
       "       '130000 , 165000 ', '110000 , 120000 ', '199000 ',\n",
       "       '150000 , 250000 ', '71764 ', '100000 , 200000 ', '70000 , 90000 ',\n",
       "       '200000 , 230000 ', '61000 , 62000 ', '115000 , 200000 ',\n",
       "       '68239 , 78475 ', '88305 , 146570 ', '68239 ', '53000 , 63000 ',\n",
       "       '1088 a week', '76340 , 100322 ', '44000 , 47250 ',\n",
       "       '150000 , 200000 ', '40480 ', '175000 , 215000 ', '55000 , 65000 ',\n",
       "       '115000 , 140000 ', '110000 , 130000 ', '788 a week',\n",
       "       '95000 , 120000 ', '26143 '], dtype=object)"
      ]
     },
     "execution_count": 25,
     "metadata": {},
     "output_type": "execute_result"
    }
   ],
   "source": [
    "# check for other non-numeric values\n",
    "df['Salary'].unique()"
   ]
  },
  {
   "cell_type": "code",
   "execution_count": 26,
   "metadata": {
    "collapsed": false
   },
   "outputs": [
    {
     "data": {
      "text/plain": [
       "array(['140000 , 160000 ', '45000 , 55000 ', '120000 , 150000 ',\n",
       "       '60000 , 80000 ', '130000 ', '90000 ', '80000 , 110000 ', '180000 ',\n",
       "       '150000 ', '110000 ', '104674 , 151358 ', '105000 ',\n",
       "       '135000 , 165000 ', '110000 , 155000 ', '93257 , 137114 ',\n",
       "       '75000 , 90000 ', '140000 ', '75000 , 100000 ', '100000 , 120000 ',\n",
       "       '100000 , 130000 ', '75000 , 95000 ', '145000 ', '50000 ', '80000 ',\n",
       "       '60000 , 75000 ', '130000 , 180000 ', '70000 ', '200000 ',\n",
       "       '70000 , 105000 ', '70000 , 100000 ', '100000 , 150000 ', '34142 ',\n",
       "       '140000 , 180000 ', '150000 , 190000 ', '110000 , 180000 ',\n",
       "       '120000 ', '150000 , 180000 ', '93000 , 135000 ',\n",
       "       '130000 , 150000 ', '100000 ', '170000 , 190000 ',\n",
       "       '130000 , 160000 ', '200000 , 300000 ', '120000 , 170000 ',\n",
       "       '54800 , 70900 ', '67500 , 85000 ', '120000 , 160000 ', '60000 ',\n",
       "       '47860 , 67712 ', '90000 , 135000 ', '160000 ', '110000 , 170000 ',\n",
       "       '108900 , 161000 ', '65232 , 92625 ', '110000 , 140000 ',\n",
       "       '75000 , 120000 ', '98800 , 126700 ', '90000 , 140000 ',\n",
       "       '35000 , 50000 ', '90000 , 130000 ', '90000 , 120000 ', '95000 ',\n",
       "       '175000 , 250000 ', '110000 , 150000 ', '95000 , 137000 ', '56000 ',\n",
       "       '50000 , 60000 ', '50010 , 62134 ', '175000 , 195000 ',\n",
       "       '76804 , 100726 ', '73107 , 95884 ', '90598 , 118819 ', '94900 ',\n",
       "       '36339 , 48794 ', '73286 , 86231 ', '104349 , 135656 ',\n",
       "       '88305 , 114802 ', '150000 , 205000 ', '30000 , 32000 ', '69900 ',\n",
       "       '90000 , 102000 ', '51706 ', '10000 ', '66700 ', '60000 , 70000 ',\n",
       "       '30000 , 39999 ', '55000 , 70000 ', '220000 ', '100000 , 140000 ',\n",
       "       '80000 , 90000 ', '80000 , 120000 ', '95000 , 105000 ',\n",
       "       '150000 , 300000 ', '70286 , 85664 ', '130000 , 165000 ',\n",
       "       '110000 , 120000 ', '199000 ', '150000 , 250000 ', '71764 ',\n",
       "       '100000 , 200000 ', '70000 , 90000 ', '200000 , 230000 ',\n",
       "       '61000 , 62000 ', '115000 , 200000 ', '68239 , 78475 ',\n",
       "       '88305 , 146570 ', '68239 ', '53000 , 63000 ', '1088 a week',\n",
       "       '76340 , 100322 ', '44000 , 47250 ', '150000 , 200000 ', '40480 ',\n",
       "       '175000 , 215000 ', '55000 , 65000 ', '115000 , 140000 ',\n",
       "       '110000 , 130000 ', '788 a week', '95000 , 120000 ', '26143 '], dtype=object)"
      ]
     },
     "execution_count": 26,
     "metadata": {},
     "output_type": "execute_result"
    }
   ],
   "source": [
    "# remove '1250 a week'\n",
    "\n",
    "df = df[df.Salary.str.contains('1250') == False]\n",
    "df['Salary'].unique()"
   ]
  },
  {
   "cell_type": "code",
   "execution_count": 27,
   "metadata": {
    "collapsed": false
   },
   "outputs": [],
   "source": [
    "# Create seperate columns for columns with dual salaries (Salary 1 and Salary 2)\n",
    "\n",
    "df['Salary1'] = df['Salary'].apply(lambda x: x.split()[0])\n",
    "df['Salary2'] = df['Salary'].apply(lambda x: x.split()[-1])"
   ]
  },
  {
   "cell_type": "code",
   "execution_count": 28,
   "metadata": {
    "collapsed": false
   },
   "outputs": [
    {
     "name": "stdout",
     "output_type": "stream",
     "text": [
      "int64\n",
      "float64\n"
     ]
    }
   ],
   "source": [
    "# Transform string type to int types\n",
    "\n",
    "df['Salary1'] = pd.to_numeric(df['Salary1'], errors = 'coerce')\n",
    "df['Salary2'] = pd.to_numeric(df['Salary2'], errors = 'coerce')\n",
    "\n",
    "print df['Salary1'].dtype\n",
    "print df['Salary2'].dtype"
   ]
  },
  {
   "cell_type": "code",
   "execution_count": 29,
   "metadata": {
    "collapsed": true
   },
   "outputs": [],
   "source": [
    "# Convert Salary column into mean of dual salaries (Salary 1 & Salary 2)\n",
    "df['Salary'] = (df[\"Salary1\"] + df[\"Salary2\"])/2"
   ]
  },
  {
   "cell_type": "code",
   "execution_count": 30,
   "metadata": {
    "collapsed": true
   },
   "outputs": [],
   "source": [
    "# Delete columns Salary1 and Salary2\n",
    "del df['Salary1']\n",
    "del df['Salary2']"
   ]
  },
  {
   "cell_type": "code",
   "execution_count": 31,
   "metadata": {
    "collapsed": false
   },
   "outputs": [],
   "source": [
    "df.to_csv('webscrapingds.csv', encoding='utf-8') "
   ]
  },
  {
   "cell_type": "code",
   "execution_count": 32,
   "metadata": {
    "collapsed": true
   },
   "outputs": [],
   "source": [
    "# Create binary for Salary\n",
    "df['Salary_Y'] = df['Salary'].apply(lambda x: 1 if x > 80000 else 0)"
   ]
  },
  {
   "cell_type": "markdown",
   "metadata": {},
   "source": [
    "### Running Predictions"
   ]
  },
  {
   "cell_type": "code",
   "execution_count": 33,
   "metadata": {
    "collapsed": false,
    "scrolled": true
   },
   "outputs": [],
   "source": [
    "# Dummy variables\n",
    "df1 = pd.get_dummies(df,columns = ['City','Job_Title','Company'])\n"
   ]
  },
  {
   "cell_type": "code",
   "execution_count": 34,
   "metadata": {
    "collapsed": false
   },
   "outputs": [],
   "source": [
    "del df1['Location']\n",
    "del df1['Description']"
   ]
  },
  {
   "cell_type": "code",
   "execution_count": 35,
   "metadata": {
    "collapsed": false
   },
   "outputs": [
    {
     "data": {
      "text/plain": [
       "Salary                                                          float64\n",
       "Salary_Y                                                          int64\n",
       "City_Alpharetta                                                 float64\n",
       "City_Atlanta                                                    float64\n",
       "City_Austin                                                     float64\n",
       "City_Bedford                                                    float64\n",
       "City_Berkeley                                                   float64\n",
       "City_Boston                                                     float64\n",
       "City_Brisbane                                                   float64\n",
       "City_Brooklyn                                                   float64\n",
       "City_Cambridge                                                  float64\n",
       "City_Chatsworth                                                 float64\n",
       "City_Chicago                                                    float64\n",
       "City_Des Plaines                                                float64\n",
       "City_Duluth                                                     float64\n",
       "City_Emeryville                                                 float64\n",
       "City_Evanston                                                   float64\n",
       "City_Hopkinton                                                  float64\n",
       "City_Long Island City                                           float64\n",
       "City_Los Angeles                                                float64\n",
       "City_New York                                                   float64\n",
       "City_Norcross                                                   float64\n",
       "City_Oakland                                                    float64\n",
       "City_Orangeburg                                                 float64\n",
       "City_Pasadena                                                   float64\n",
       "City_Redwood City                                               float64\n",
       "City_Roswell                                                    float64\n",
       "City_San Francisco                                              float64\n",
       "City_Santa Monica                                               float64\n",
       "City_Smyrna                                                     float64\n",
       "                                                                 ...   \n",
       "Company_RAZR Recruiting + Consulting                            float64\n",
       "Company_Research Foundation of The City University of New...    float64\n",
       "Company_S.C. International                                      float64\n",
       "Company_SearchBankingJobs                                       float64\n",
       "Company_Selby Jennings                                          float64\n",
       "Company_Smith Hanley Associates                                 float64\n",
       "Company_Soothe                                                  float64\n",
       "Company_Spencer Ogden                                           float64\n",
       "Company_Stackfolio                                              float64\n",
       "Company_Strategic Employment Partners                           float64\n",
       "Company_StreetID                                                float64\n",
       "Company_Synergy Search Group                                    float64\n",
       "Company_TW Staffing Solutions                                   float64\n",
       "Company_Talon                                                   float64\n",
       "Company_Tessie Cleveland Community Service Corporation          float64\n",
       "Company_The Bivium Group                                        float64\n",
       "Company_The Centrics Group                                      float64\n",
       "Company_The Hagan-Ricci Group, Inc.                             float64\n",
       "Company_The LaSalle Network                                     float64\n",
       "Company_US Engineering Technical Services                       float64\n",
       "Company_University of California Berkeley                       float64\n",
       "Company_Univision communications inc                            float64\n",
       "Company_VROOM                                                   float64\n",
       "Company_Volt Workforce Solutions                                float64\n",
       "Company_Wade & Wendy                                            float64\n",
       "Company_Workbridge Associates                                   float64\n",
       "Company_XOR Data Exchange                                       float64\n",
       "Company_eHire, LLC                                              float64\n",
       "Company_ingenium                                                float64\n",
       "Company_kWh Analytics                                           float64\n",
       "dtype: object"
      ]
     },
     "execution_count": 35,
     "metadata": {},
     "output_type": "execute_result"
    }
   ],
   "source": [
    "df1.dtypes"
   ]
  },
  {
   "cell_type": "code",
   "execution_count": 36,
   "metadata": {
    "collapsed": false
   },
   "outputs": [
    {
     "data": {
      "text/html": [
       "<div>\n",
       "<table border=\"1\" class=\"dataframe\">\n",
       "  <thead>\n",
       "    <tr style=\"text-align: right;\">\n",
       "      <th></th>\n",
       "      <th>Salary</th>\n",
       "      <th>Salary_Y</th>\n",
       "      <th>City_Alpharetta</th>\n",
       "      <th>City_Atlanta</th>\n",
       "      <th>City_Austin</th>\n",
       "      <th>City_Bedford</th>\n",
       "      <th>City_Berkeley</th>\n",
       "      <th>City_Boston</th>\n",
       "      <th>City_Brisbane</th>\n",
       "      <th>City_Brooklyn</th>\n",
       "      <th>...</th>\n",
       "      <th>Company_University of California Berkeley</th>\n",
       "      <th>Company_Univision communications inc</th>\n",
       "      <th>Company_VROOM</th>\n",
       "      <th>Company_Volt Workforce Solutions</th>\n",
       "      <th>Company_Wade &amp; Wendy</th>\n",
       "      <th>Company_Workbridge Associates</th>\n",
       "      <th>Company_XOR Data Exchange</th>\n",
       "      <th>Company_eHire, LLC</th>\n",
       "      <th>Company_ingenium</th>\n",
       "      <th>Company_kWh Analytics</th>\n",
       "    </tr>\n",
       "  </thead>\n",
       "  <tbody>\n",
       "    <tr>\n",
       "      <th>0</th>\n",
       "      <td>150000.0</td>\n",
       "      <td>1</td>\n",
       "      <td>0.0</td>\n",
       "      <td>0.0</td>\n",
       "      <td>1.0</td>\n",
       "      <td>0.0</td>\n",
       "      <td>0.0</td>\n",
       "      <td>0.0</td>\n",
       "      <td>0.0</td>\n",
       "      <td>0.0</td>\n",
       "      <td>...</td>\n",
       "      <td>0.0</td>\n",
       "      <td>0.0</td>\n",
       "      <td>0.0</td>\n",
       "      <td>0.0</td>\n",
       "      <td>0.0</td>\n",
       "      <td>0.0</td>\n",
       "      <td>0.0</td>\n",
       "      <td>0.0</td>\n",
       "      <td>0.0</td>\n",
       "      <td>0.0</td>\n",
       "    </tr>\n",
       "    <tr>\n",
       "      <th>1</th>\n",
       "      <td>50000.0</td>\n",
       "      <td>0</td>\n",
       "      <td>0.0</td>\n",
       "      <td>0.0</td>\n",
       "      <td>1.0</td>\n",
       "      <td>0.0</td>\n",
       "      <td>0.0</td>\n",
       "      <td>0.0</td>\n",
       "      <td>0.0</td>\n",
       "      <td>0.0</td>\n",
       "      <td>...</td>\n",
       "      <td>0.0</td>\n",
       "      <td>0.0</td>\n",
       "      <td>0.0</td>\n",
       "      <td>0.0</td>\n",
       "      <td>0.0</td>\n",
       "      <td>0.0</td>\n",
       "      <td>0.0</td>\n",
       "      <td>0.0</td>\n",
       "      <td>0.0</td>\n",
       "      <td>0.0</td>\n",
       "    </tr>\n",
       "    <tr>\n",
       "      <th>2</th>\n",
       "      <td>135000.0</td>\n",
       "      <td>1</td>\n",
       "      <td>0.0</td>\n",
       "      <td>0.0</td>\n",
       "      <td>1.0</td>\n",
       "      <td>0.0</td>\n",
       "      <td>0.0</td>\n",
       "      <td>0.0</td>\n",
       "      <td>0.0</td>\n",
       "      <td>0.0</td>\n",
       "      <td>...</td>\n",
       "      <td>0.0</td>\n",
       "      <td>0.0</td>\n",
       "      <td>0.0</td>\n",
       "      <td>1.0</td>\n",
       "      <td>0.0</td>\n",
       "      <td>0.0</td>\n",
       "      <td>0.0</td>\n",
       "      <td>0.0</td>\n",
       "      <td>0.0</td>\n",
       "      <td>0.0</td>\n",
       "    </tr>\n",
       "    <tr>\n",
       "      <th>3</th>\n",
       "      <td>70000.0</td>\n",
       "      <td>0</td>\n",
       "      <td>0.0</td>\n",
       "      <td>0.0</td>\n",
       "      <td>1.0</td>\n",
       "      <td>0.0</td>\n",
       "      <td>0.0</td>\n",
       "      <td>0.0</td>\n",
       "      <td>0.0</td>\n",
       "      <td>0.0</td>\n",
       "      <td>...</td>\n",
       "      <td>0.0</td>\n",
       "      <td>0.0</td>\n",
       "      <td>0.0</td>\n",
       "      <td>0.0</td>\n",
       "      <td>0.0</td>\n",
       "      <td>0.0</td>\n",
       "      <td>0.0</td>\n",
       "      <td>0.0</td>\n",
       "      <td>0.0</td>\n",
       "      <td>0.0</td>\n",
       "    </tr>\n",
       "    <tr>\n",
       "      <th>4</th>\n",
       "      <td>130000.0</td>\n",
       "      <td>1</td>\n",
       "      <td>0.0</td>\n",
       "      <td>0.0</td>\n",
       "      <td>1.0</td>\n",
       "      <td>0.0</td>\n",
       "      <td>0.0</td>\n",
       "      <td>0.0</td>\n",
       "      <td>0.0</td>\n",
       "      <td>0.0</td>\n",
       "      <td>...</td>\n",
       "      <td>0.0</td>\n",
       "      <td>0.0</td>\n",
       "      <td>0.0</td>\n",
       "      <td>0.0</td>\n",
       "      <td>0.0</td>\n",
       "      <td>0.0</td>\n",
       "      <td>0.0</td>\n",
       "      <td>0.0</td>\n",
       "      <td>0.0</td>\n",
       "      <td>0.0</td>\n",
       "    </tr>\n",
       "  </tbody>\n",
       "</table>\n",
       "<p>5 rows × 292 columns</p>\n",
       "</div>"
      ],
      "text/plain": [
       "     Salary  Salary_Y  City_Alpharetta  City_Atlanta  City_Austin  \\\n",
       "0  150000.0         1              0.0           0.0          1.0   \n",
       "1   50000.0         0              0.0           0.0          1.0   \n",
       "2  135000.0         1              0.0           0.0          1.0   \n",
       "3   70000.0         0              0.0           0.0          1.0   \n",
       "4  130000.0         1              0.0           0.0          1.0   \n",
       "\n",
       "   City_Bedford  City_Berkeley  City_Boston  City_Brisbane  City_Brooklyn  \\\n",
       "0           0.0            0.0          0.0            0.0            0.0   \n",
       "1           0.0            0.0          0.0            0.0            0.0   \n",
       "2           0.0            0.0          0.0            0.0            0.0   \n",
       "3           0.0            0.0          0.0            0.0            0.0   \n",
       "4           0.0            0.0          0.0            0.0            0.0   \n",
       "\n",
       "           ...            Company_University of California Berkeley  \\\n",
       "0          ...                                                  0.0   \n",
       "1          ...                                                  0.0   \n",
       "2          ...                                                  0.0   \n",
       "3          ...                                                  0.0   \n",
       "4          ...                                                  0.0   \n",
       "\n",
       "   Company_Univision communications inc  Company_VROOM  \\\n",
       "0                                   0.0            0.0   \n",
       "1                                   0.0            0.0   \n",
       "2                                   0.0            0.0   \n",
       "3                                   0.0            0.0   \n",
       "4                                   0.0            0.0   \n",
       "\n",
       "   Company_Volt Workforce Solutions  Company_Wade & Wendy  \\\n",
       "0                               0.0                   0.0   \n",
       "1                               0.0                   0.0   \n",
       "2                               1.0                   0.0   \n",
       "3                               0.0                   0.0   \n",
       "4                               0.0                   0.0   \n",
       "\n",
       "   Company_Workbridge Associates  Company_XOR Data Exchange  \\\n",
       "0                            0.0                        0.0   \n",
       "1                            0.0                        0.0   \n",
       "2                            0.0                        0.0   \n",
       "3                            0.0                        0.0   \n",
       "4                            0.0                        0.0   \n",
       "\n",
       "   Company_eHire, LLC  Company_ingenium  Company_kWh Analytics  \n",
       "0                 0.0               0.0                    0.0  \n",
       "1                 0.0               0.0                    0.0  \n",
       "2                 0.0               0.0                    0.0  \n",
       "3                 0.0               0.0                    0.0  \n",
       "4                 0.0               0.0                    0.0  \n",
       "\n",
       "[5 rows x 292 columns]"
      ]
     },
     "execution_count": 36,
     "metadata": {},
     "output_type": "execute_result"
    }
   ],
   "source": [
    "df1.head()"
   ]
  },
  {
   "cell_type": "code",
   "execution_count": 37,
   "metadata": {
    "collapsed": false
   },
   "outputs": [],
   "source": [
    "y=df['Salary_Y'].copy()\n",
    "del df1['Salary']\n",
    "\n"
   ]
  },
  {
   "cell_type": "code",
   "execution_count": 38,
   "metadata": {
    "collapsed": false
   },
   "outputs": [],
   "source": [
    "del df1['Salary_Y']\n",
    "X=df1"
   ]
  },
  {
   "cell_type": "code",
   "execution_count": 39,
   "metadata": {
    "collapsed": false
   },
   "outputs": [],
   "source": [
    "# Train/test\n",
    "X_train, X_test, y_train, y_test = train_test_split(X, y, test_size = 0.33, random_state = 77)"
   ]
  },
  {
   "cell_type": "code",
   "execution_count": 40,
   "metadata": {
    "collapsed": false
   },
   "outputs": [
    {
     "data": {
      "text/plain": [
       "LogisticRegression(C=1.0, class_weight=None, dual=False, fit_intercept=True,\n",
       "          intercept_scaling=1, max_iter=100, multi_class='ovr', n_jobs=1,\n",
       "          penalty='l2', random_state=None, solver='liblinear', tol=0.0001,\n",
       "          verbose=0, warm_start=False)"
      ]
     },
     "execution_count": 40,
     "metadata": {},
     "output_type": "execute_result"
    }
   ],
   "source": [
    "model = LogisticRegression()\n",
    "model.fit(X_train, y_train)"
   ]
  },
  {
   "cell_type": "code",
   "execution_count": 41,
   "metadata": {
    "collapsed": true
   },
   "outputs": [],
   "source": [
    "y_pred = model.predict(X_test)\n",
    "y_score = model.decision_function(X_test)"
   ]
  },
  {
   "cell_type": "code",
   "execution_count": 42,
   "metadata": {
    "collapsed": true
   },
   "outputs": [],
   "source": [
    "logreg = LogisticRegression(solver='liblinear')\n",
    "C_vals = [0.0001, 0.001, 0.01, 0.1, .15, .25, .275, .33, 0.5, .66, 0.75, 1.0, 2.5, 5.0, 10.0, 100.0, 1000.0]\n",
    "penalties = ['l1','l2']"
   ]
  },
  {
   "cell_type": "code",
   "execution_count": 43,
   "metadata": {
    "collapsed": false
   },
   "outputs": [
    {
     "data": {
      "text/plain": [
       "GridSearchCV(cv=3, error_score='raise',\n",
       "       estimator=LogisticRegression(C=1.0, class_weight=None, dual=False, fit_intercept=True,\n",
       "          intercept_scaling=1, max_iter=100, multi_class='ovr', n_jobs=1,\n",
       "          penalty='l2', random_state=None, solver='liblinear', tol=0.0001,\n",
       "          verbose=0, warm_start=False),\n",
       "       fit_params={}, iid=True, n_jobs=1,\n",
       "       param_grid={'penalty': ['l1', 'l2'], 'C': [0.0001, 0.001, 0.01, 0.1, 0.15, 0.25, 0.275, 0.33, 0.5, 0.66, 0.75, 1.0, 2.5, 5.0, 10.0, 100.0, 1000.0]},\n",
       "       pre_dispatch='2*n_jobs', refit=True, scoring=None, verbose=False)"
      ]
     },
     "execution_count": 43,
     "metadata": {},
     "output_type": "execute_result"
    }
   ],
   "source": [
    "gs = GridSearchCV(logreg, {'penalty': penalties, 'C': C_vals}, verbose=False, cv=3)\n",
    "gs.fit(X_train, y_train)"
   ]
  },
  {
   "cell_type": "code",
   "execution_count": 44,
   "metadata": {
    "collapsed": false
   },
   "outputs": [
    {
     "data": {
      "text/plain": [
       "{'C': 5.0, 'penalty': 'l2'}"
      ]
     },
     "execution_count": 44,
     "metadata": {},
     "output_type": "execute_result"
    }
   ],
   "source": [
    "gs.best_params_"
   ]
  },
  {
   "cell_type": "code",
   "execution_count": 45,
   "metadata": {
    "collapsed": false
   },
   "outputs": [
    {
     "data": {
      "text/plain": [
       "LogisticRegression(C=5.0, class_weight=None, dual=False, fit_intercept=True,\n",
       "          intercept_scaling=1, max_iter=100, multi_class='ovr', n_jobs=1,\n",
       "          penalty='l2', random_state=None, solver='liblinear', tol=0.0001,\n",
       "          verbose=0, warm_start=False)"
      ]
     },
     "execution_count": 45,
     "metadata": {},
     "output_type": "execute_result"
    }
   ],
   "source": [
    "gs.best_estimator_"
   ]
  },
  {
   "cell_type": "code",
   "execution_count": 46,
   "metadata": {
    "collapsed": false
   },
   "outputs": [
    {
     "name": "stdout",
     "output_type": "stream",
     "text": [
      "            predicted_over100k  predicted_under100k\n",
      "over_100k                   53                    1\n",
      "under_100k                   8                   21\n",
      "             precision    recall  f1-score   support\n",
      "\n",
      "          0       0.95      0.72      0.82        29\n",
      "          1       0.87      0.98      0.92        54\n",
      "\n",
      "avg / total       0.90      0.89      0.89        83\n",
      "\n"
     ]
    },
    {
     "data": {
      "image/png": "[encoded data removed]",
      "text/plain": [
       "<matplotlib.figure.Figure at 0x141f3f610>"
      ]
     },
     "metadata": {},
     "output_type": "display_data"
    }
   ],
   "source": [
    "conmat = np.array(confusion_matrix(y_test, y_pred, labels=[1,0]))\n",
    "confusion = pd.DataFrame(conmat, index=['over_100k', 'under_100k'],\n",
    "                            columns=['predicted_over100k','predicted_under100k'])\n",
    "print(confusion)\n",
    "print classification_report(y_test,y_pred)\n",
    "roc_auc_score(y_test, y_score)\n",
    "FPR = dict()\n",
    "TPR = dict()\n",
    "ROC_AUC = dict()\n",
    "# For class 1, find the area under the curve\n",
    "FPR[1], TPR[1], _ = roc_curve(y_test, y_score)\n",
    "ROC_AUC[1] = auc(FPR[1], TPR[1])\n",
    "# Plot of a ROC curve for class 1 (has_cancer)\n",
    "plt.figure(figsize=[11,9])\n",
    "plt.plot(FPR[1], TPR[1], label='ROC curve (area = %0.2f)' % ROC_AUC[1], linewidth=4)\n",
    "plt.plot([0, 1], [0, 1], 'k--', linewidth=4)\n",
    "plt.xlim([0.0, 1.0])\n",
    "plt.ylim([0.0, 1.05])\n",
    "plt.xlabel('False Positive Rate', fontsize=18)\n",
    "plt.ylabel('True Positive Rate', fontsize=18)\n",
    "plt.title('Receiver operating characteristic for high/low income', fontsize=18)\n",
    "plt.legend(loc=\"lower right\")\n",
    "plt.show()"
   ]
  },
  {
   "cell_type": "code",
   "execution_count": null,
   "metadata": {
    "collapsed": true
   },
   "outputs": [],
   "source": [
    "#y = sub_df['income'].copy()\n",
    "#del df1['income']\n",
    "#del df1['country']\n",
    "X_sub = df_sub\n",
    "X_sub\n",
    "\n",
    "\n",
    "sub_y_pred = cv_model.predict(X_sub)\n",
    "y_score_sub = cv_model.decision_function(X_sub)\n",
    "y_score_sub"
   ]
  },
  {
   "cell_type": "code",
   "execution_count": null,
   "metadata": {
    "collapsed": true
   },
   "outputs": [],
   "source": [
    "y_score_sub.reshape((len(y_score_sub),1))"
   ]
  },
  {
   "cell_type": "code",
   "execution_count": null,
   "metadata": {
    "collapsed": true
   },
   "outputs": [],
   "source": [
    "X.shape"
   ]
  },
  {
   "cell_type": "code",
   "execution_count": null,
   "metadata": {
    "collapsed": true
   },
   "outputs": [],
   "source": [
    "coef = pd.DataFrame([X.columns.values.tolist(), lr.coef_[0].tolist()], index=['features', 'coef']).T\n",
    "coef.sort_values(by='coef', ascending=False)"
   ]
  }
 ],
 "metadata": {
  "anaconda-cloud": {},
  "kernelspec": {
   "display_name": "Python [default]",
   "language": "python",
   "name": "python2"
  },
  "language_info": {
   "codemirror_mode": {
    "name": "ipython",
    "version": 2
   },
   "file_extension": ".py",
   "mimetype": "text/x-python",
   "name": "python",
   "nbconvert_exporter": "python",
   "pygments_lexer": "ipython2",
   "version": "2.7.12"
  }
 },
 "nbformat": 4,
 "nbformat_minor": 1
}
