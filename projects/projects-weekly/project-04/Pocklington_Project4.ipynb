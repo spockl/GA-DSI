{
 "cells": [
  {
   "cell_type": "markdown",
   "metadata": {},
   "source": [
    "### Select Websites "
   ]
  },
  {
   "cell_type": "code",
   "execution_count": 2,
   "metadata": {
    "collapsed": true
   },
   "outputs": [],
   "source": [
    "# Import neccesary programs\n",
    "import requests\n",
    "import bs4\n",
    "from bs4 import BeautifulSoup\n",
    "from lxml import html\n",
    "import numpy as np"
   ]
  },
  {
   "cell_type": "code",
   "execution_count": 3,
   "metadata": {
    "collapsed": false
   },
   "outputs": [],
   "source": [
    "# Indeed URL. Loop through pages.\n",
    "\n",
    "url_template = \"http://www.indeed.com/jobs?q=data+scientist+%2420%2C000&l=*&start=\"\n",
    "url_list = url_template.split('*')\n",
    "cities = ['New+York', 'Chicago', 'San+Francisco', 'Austin', 'Atlanta']\n",
    "max_results_per_city = 100\n",
    "\n",
    "results = []\n",
    "\n",
    "for city in set(cities):\n",
    "    for start in range(0, max_results_per_city, 10):\n",
    "       \n",
    "    url = url_list[0] + city + url_list[1] + str(start)"
   ]
  },
  {
   "cell_type": "code",
   "execution_count": 4,
   "metadata": {
    "collapsed": true
   },
   "outputs": [],
   "source": [
    "# Run through Beautiful Soup\n",
    "\n",
    "insoup = BeautifulSoup(indeed.content, 'lxml')"
   ]
  },
  {
   "cell_type": "markdown",
   "metadata": {},
   "source": [
    "### Webscraping Functions"
   ]
  },
  {
   "cell_type": "code",
   "execution_count": 5,
   "metadata": {
    "collapsed": true
   },
   "outputs": [],
   "source": [
    "# Define functions for extracting\n",
    "\n",
    "def extract_company_from_result(comp):\n",
    "    try:\n",
    "        company = comp.findAll('span', class_='company')\n",
    "    except:\n",
    "        company = ''\n",
    "    return company\n"
   ]
  },
  {
   "cell_type": "code",
   "execution_count": 6,
   "metadata": {
    "collapsed": true
   },
   "outputs": [],
   "source": [
    "def extract_location_from_result(loc):\n",
    "   try:\n",
    "       return loc.findAll(class_='location')\n",
    "   except:\n",
    "       return np.nan"
   ]
  },
  {
   "cell_type": "code",
   "execution_count": 16,
   "metadata": {
    "collapsed": true
   },
   "outputs": [],
   "source": [
    "def extract_title_from_result(title):\n",
    "    try:\n",
    "        job_title = title.findAll('a', class_='jobtitle')\n",
    "    except:\n",
    "            job_title = ''\n",
    "    return job_title"
   ]
  },
  {
   "cell_type": "code",
   "execution_count": 14,
   "metadata": {
    "collapsed": false
   },
   "outputs": [],
   "source": [
    "def extract_salary_from_result(sal):\n",
    "    try: \n",
    "        salary = sal.findAll('td', class_ ='snip')\n",
    "        return salary\n",
    "    except:\n",
    "        return np.nan\n",
    "\n",
    "  "
   ]
  },
  {
   "cell_type": "code",
   "execution_count": 17,
   "metadata": {
    "collapsed": false
   },
   "outputs": [
    {
     "name": "stdout",
     "output_type": "stream",
     "text": [
      "Bloomberg\n",
      "\n",
      "\n",
      "Indeed\n",
      "\n",
      "\n",
      "VISITING NURSE SERVICE OF NEW YORK\n",
      "\n",
      "\n",
      "SoundCloud\n",
      "\n",
      "\n",
      "MediaMath\n",
      "\n",
      "\n",
      "Dataiku\n",
      "\n",
      "\n",
      "VaynerMedia LLC\n",
      "\n",
      "\n",
      "Barclays\n",
      "\n",
      "\n",
      "KOCH MINERALS\n",
      "\n",
      "\n",
      "Aetna\n",
      "\n",
      "\n",
      "Schrodinger\n",
      "\n",
      "\n",
      "Countr\n",
      "\n",
      "\n",
      "Inficare\n",
      "\n",
      "\n",
      "WorkFusion\n",
      "\n",
      "\n",
      "Collabera\n",
      "\n",
      "\n",
      "New York, NY\n",
      "\n",
      "\n",
      "New York, NY 10036\n",
      "\n",
      "\n",
      "Manhattan, NY\n",
      "\n",
      "\n",
      "New York, NY 10003 (Greenwich Village area)\n",
      "\n",
      "\n",
      "New York, NY\n",
      "\n",
      "\n",
      "New York, NY\n",
      "\n",
      "\n",
      "New York, NY\n",
      "\n",
      "\n",
      "New York, NY\n",
      "\n",
      "\n",
      "New York, NY\n",
      "\n",
      "\n",
      "New York, NY 10010 (Gramercy area)\n",
      "\n",
      "\n",
      "New York, NY\n",
      "\n",
      "\n",
      "New York, NY\n",
      "\n",
      "\n",
      "New York, NY\n",
      "\n",
      "\n",
      "New York, NY\n",
      "\n",
      "\n",
      "Basking Ridge, NJ\n",
      "\n",
      "\n",
      "Machine Learning Quantitative Analyst\n",
      "\n",
      "\n",
      "Data Engineer\n",
      "\n",
      "\n",
      "Senior Research Scientist\n",
      "\n",
      "\n",
      "Deep Learning Data Scientist\n",
      "\n",
      "\n",
      "Data Scientist\n",
      "\n",
      "\n",
      "None\n",
      "\n",
      "\n",
      "None\n",
      "\n",
      "\n",
      "None\n",
      "\n",
      "\n",
      "None\n",
      "\n",
      "\n",
      "None\n",
      "\n",
      "\n",
      "None\n",
      "\n",
      "\n",
      "None\n",
      "\n",
      "\n",
      "None\n",
      "\n",
      "\n",
      "None\n",
      "\n",
      "\n",
      "None\n",
      "\n",
      "\n",
      "None\n",
      "\n",
      "\n",
      "None\n",
      "\n",
      "\n",
      "None\n",
      "\n",
      "\n",
      "None\n",
      "\n",
      "\n",
      "None\n",
      "\n",
      "\n"
     ]
    }
   ],
   "source": [
    "for c in extract_company_from_result(insoup):\n",
    "    print c.text.strip()\n",
    "    print('\\n')\n",
    "    \n",
    "for d in extract_location_from_result(insoup):\n",
    "   print d.text.strip()\n",
    "   print('\\n')\n",
    "    \n",
    "for n in extract_title_from_result(insoup):\n",
    "    print n.text.strip()\n",
    "    print ('\\n')\n",
    "    \n",
    "for d in extract_salary_from_result(insoup):\n",
    "    print d.nobr\n",
    "    print ('\\n')\n"
   ]
  },
  {
   "cell_type": "code",
   "execution_count": null,
   "metadata": {
    "collapsed": true
   },
   "outputs": [],
   "source": []
  }
 ],
 "metadata": {
  "anaconda-cloud": {},
  "kernelspec": {
   "display_name": "Python [default]",
   "language": "python",
   "name": "python2"
  },
  "language_info": {
   "codemirror_mode": {
    "name": "ipython",
    "version": 2
   },
   "file_extension": ".py",
   "mimetype": "text/x-python",
   "name": "python",
   "nbconvert_exporter": "python",
   "pygments_lexer": "ipython2",
   "version": "2.7.12"
  }
 },
 "nbformat": 4,
 "nbformat_minor": 1
}
