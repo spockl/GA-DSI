{
 "cells": [
  {
   "cell_type": "code",
   "execution_count": 1,
   "metadata": {
    "collapsed": true
   },
   "outputs": [],
   "source": [
    "# Import neccesary programs\n",
    "import requests\n",
    "import bs4\n",
    "from bs4 import BeautifulSoup\n",
    "from lxml import html\n",
    "import numpy as np\n",
    "import pandas as pd"
   ]
  },
  {
   "cell_type": "markdown",
   "metadata": {},
   "source": [
    "### Webscraping Functions"
   ]
  },
  {
   "cell_type": "code",
   "execution_count": 2,
   "metadata": {
    "collapsed": true
   },
   "outputs": [],
   "source": [
    "# function for getting location from indeed\n",
    "\n",
    "def extract_location_from_result(loc):\n",
    "    try:\n",
    "        for n in loc.findAll(class_='location'):\n",
    "            return n.text.strip()\n",
    "    except:\n",
    "        return 'None'\n"
   ]
  },
  {
   "cell_type": "code",
   "execution_count": 3,
   "metadata": {
    "collapsed": true
   },
   "outputs": [],
   "source": [
    "# function for getting company from indeed\n",
    "\n",
    "def extract_company_from_result(comp):\n",
    "    try:\n",
    "        for n in comp.findAll(class_='company'):\n",
    "            return n.text.strip()\n",
    "    except:\n",
    "        return 'None' "
   ]
  },
  {
   "cell_type": "code",
   "execution_count": 4,
   "metadata": {
    "collapsed": true
   },
   "outputs": [],
   "source": [
    "# function for getting job title from indeed\n",
    "\n",
    "def extract_jobtitle_from_result(jobtitle):\n",
    "    try:\n",
    "        for n in jobtitle.findAll(class_='jobtitle'):\n",
    "            return n.text.strip()\n",
    "    except:\n",
    "        return 'None'   "
   ]
  },
  {
   "cell_type": "code",
   "execution_count": 5,
   "metadata": {
    "collapsed": true
   },
   "outputs": [],
   "source": [
    "# function to get salary from indeed\n",
    "\n",
    "def extract_salary_from_result(sal):\n",
    "    try:\n",
    "        for n in sal.findAll('td', class_='snip'):\n",
    "            return n.nobr\n",
    "    except:\n",
    "        return 'None' "
   ]
  },
  {
   "cell_type": "code",
   "execution_count": 6,
   "metadata": {
    "collapsed": true
   },
   "outputs": [],
   "source": [
    "# function to get summary/description from indeed\n",
    "\n",
    "def extract_summary_from_result(desc):\n",
    "    try:\n",
    "        for n in desc.findAll('span', class_='summary'):\n",
    "            return n.text.strip()\n",
    "    except:\n",
    "        return 'None' "
   ]
  },
  {
   "cell_type": "markdown",
   "metadata": {},
   "source": [
    "### Select Website "
   ]
  },
  {
   "cell_type": "code",
   "execution_count": 7,
   "metadata": {
    "collapsed": false
   },
   "outputs": [],
   "source": [
    "Location = []\n",
    "Job_Title = []\n",
    "Company = []\n",
    "Salary = []\n",
    "Description = []\n",
    "\n",
    "url_template = \"http://www.indeed.com/jobs?q=data+scientist+%2420%2C000&l={}&start={}\"\n",
    "max_results_per_city = 100\n",
    "cities = ['New+York', 'Chicago', 'Boston', 'San+Francisco', 'Los+Angeles', 'Austin', 'Atlanta']\n",
    "results = []\n",
    "for city in set(cities):\n",
    "    for start in range(0, max_results_per_city, 10):\n",
    "        url = url_template.format(city,start)\n",
    "        ru = requests.get(url)\n",
    "        indeed = BeautifulSoup(ru.content, \"lxml\")\n",
    "        for item in indeed.findAll('div', class_='result'):\n",
    "            Location.append(extract_location_from_result(item))\n",
    "            Job_Title.append(extract_jobtitle_from_result(item))\n",
    "            Company.append(extract_company_from_result(item))\n",
    "            Salary.append(extract_salary_from_result(item))\n",
    "            Description.append(extract_summary_from_result(item))"
   ]
  },
  {
   "cell_type": "code",
   "execution_count": 8,
   "metadata": {
    "collapsed": false
   },
   "outputs": [],
   "source": [
    "# Create datafram and name columns. Include Cities\n",
    "df = pd.DataFrame([Location,Job_Title,Company,Salary,Description]).T \n",
    "  \n",
    "df.columns= ['Location','Job_Title','Company','Salary','Description']"
   ]
  },
  {
   "cell_type": "code",
   "execution_count": 9,
   "metadata": {
    "collapsed": false
   },
   "outputs": [
    {
     "data": {
      "text/html": [
       "<div>\n",
       "<table border=\"1\" class=\"dataframe\">\n",
       "  <thead>\n",
       "    <tr style=\"text-align: right;\">\n",
       "      <th></th>\n",
       "      <th>Location</th>\n",
       "      <th>Job_Title</th>\n",
       "      <th>Company</th>\n",
       "      <th>Salary</th>\n",
       "      <th>Description</th>\n",
       "    </tr>\n",
       "  </thead>\n",
       "  <tbody>\n",
       "    <tr>\n",
       "      <th>0</th>\n",
       "      <td>Austin, TX 78730</td>\n",
       "      <td>Data Scientist</td>\n",
       "      <td>Cognitive Scale</td>\n",
       "      <td>None</td>\n",
       "      <td>This position is specifically for people with ...</td>\n",
       "    </tr>\n",
       "    <tr>\n",
       "      <th>1</th>\n",
       "      <td>Austin, TX 78730</td>\n",
       "      <td>Software Engineer - Machine Learning</td>\n",
       "      <td>Cognitive Scale</td>\n",
       "      <td>None</td>\n",
       "      <td>The convergence of data and technology is tran...</td>\n",
       "    </tr>\n",
       "    <tr>\n",
       "      <th>2</th>\n",
       "      <td>Austin, TX</td>\n",
       "      <td>Software Engineer I</td>\n",
       "      <td>CDK Global</td>\n",
       "      <td>None</td>\n",
       "      <td>From data scientists to sales and operations e...</td>\n",
       "    </tr>\n",
       "    <tr>\n",
       "      <th>3</th>\n",
       "      <td>Austin, TX</td>\n",
       "      <td>Research Scientist</td>\n",
       "      <td>University of Texas at Austin</td>\n",
       "      <td>&lt;nobr&gt;$4,584 a month&lt;/nobr&gt;</td>\n",
       "      <td>Provide statistical support on research and su...</td>\n",
       "    </tr>\n",
       "    <tr>\n",
       "      <th>4</th>\n",
       "      <td>Austin, TX</td>\n",
       "      <td>Staff Data Scientist</td>\n",
       "      <td>HomeAway</td>\n",
       "      <td>None</td>\n",
       "      <td>Experience in processing and analyzing Big dat...</td>\n",
       "    </tr>\n",
       "  </tbody>\n",
       "</table>\n",
       "</div>"
      ],
      "text/plain": [
       "           Location                             Job_Title  \\\n",
       "0  Austin, TX 78730                        Data Scientist   \n",
       "1  Austin, TX 78730  Software Engineer - Machine Learning   \n",
       "2        Austin, TX                   Software Engineer I   \n",
       "3        Austin, TX                    Research Scientist   \n",
       "4        Austin, TX                  Staff Data Scientist   \n",
       "\n",
       "                         Company                       Salary  \\\n",
       "0                Cognitive Scale                         None   \n",
       "1                Cognitive Scale                         None   \n",
       "2                     CDK Global                         None   \n",
       "3  University of Texas at Austin  <nobr>$4,584 a month</nobr>   \n",
       "4                       HomeAway                         None   \n",
       "\n",
       "                                         Description  \n",
       "0  This position is specifically for people with ...  \n",
       "1  The convergence of data and technology is tran...  \n",
       "2  From data scientists to sales and operations e...  \n",
       "3  Provide statistical support on research and su...  \n",
       "4  Experience in processing and analyzing Big dat...  "
      ]
     },
     "execution_count": 9,
     "metadata": {},
     "output_type": "execute_result"
    }
   ],
   "source": [
    "df.head()"
   ]
  },
  {
   "cell_type": "code",
   "execution_count": 10,
   "metadata": {
    "collapsed": false
   },
   "outputs": [
    {
     "data": {
      "text/plain": [
       "Location       object\n",
       "Job_Title      object\n",
       "Company        object\n",
       "Salary         object\n",
       "Description    object\n",
       "dtype: object"
      ]
     },
     "execution_count": 10,
     "metadata": {},
     "output_type": "execute_result"
    }
   ],
   "source": [
    "df.dtypes"
   ]
  },
  {
   "cell_type": "code",
   "execution_count": null,
   "metadata": {
    "collapsed": false
   },
   "outputs": [],
   "source": [
    "\n"
   ]
  },
  {
   "cell_type": "code",
   "execution_count": null,
   "metadata": {
    "collapsed": false
   },
   "outputs": [],
   "source": []
  },
  {
   "cell_type": "markdown",
   "metadata": {},
   "source": [
    "### Cleaning Salary Data"
   ]
  },
  {
   "cell_type": "code",
   "execution_count": 11,
   "metadata": {
    "collapsed": false
   },
   "outputs": [
    {
     "data": {
      "text/plain": [
       "array([None, <nobr>$4,584 a month</nobr>,\n",
       "       <nobr>$6,250 - $10,833 a month</nobr>,\n",
       "       <nobr>$4,599 - $6,066 a month</nobr>, <nobr>$6,667 a month</nobr>,\n",
       "       <nobr>$5,541 a month</nobr>, <nobr>$5,400 - $6,500 a month</nobr>,\n",
       "       <nobr>$4,000 a month</nobr>, <nobr>$3,520 - $4,600 a month</nobr>,\n",
       "       <nobr>$4,916 a month</nobr>, <nobr>$5,259 - $8,624 a month</nobr>,\n",
       "       <nobr>$140,000 - $160,000 a year</nobr>,\n",
       "       <nobr>$23.44 - $29.80 an hour</nobr>,\n",
       "       <nobr>$5,259 - $6,941 a month</nobr>,\n",
       "       <nobr>$4,500 - $4,900 a month</nobr>,\n",
       "       <nobr>$120,000 - $150,000 a year</nobr>,\n",
       "       <nobr>$120,000 a year</nobr>,\n",
       "       <nobr>$80,000 - $110,000 a year</nobr>,\n",
       "       <nobr>$180,000 a year</nobr>, <nobr>$110,000 a year</nobr>,\n",
       "       <nobr>$104,674 - $151,358 a year</nobr>,\n",
       "       <nobr>$105,000 a year</nobr>,\n",
       "       <nobr>$135,000 - $165,000 a year</nobr>,\n",
       "       <nobr>$110,000 - $155,000 a year</nobr>,\n",
       "       <nobr>$100,000 - $150,000 a year</nobr>,\n",
       "       <nobr>$34,142 a year</nobr>, <nobr>$60,000 a year</nobr>,\n",
       "       <nobr>$47,860 - $67,712 a year</nobr>, <nobr>$55 an hour</nobr>,\n",
       "       <nobr>$90,000 - $135,000 a year</nobr>, <nobr>$68 an hour</nobr>,\n",
       "       <nobr>$56,000 a year</nobr>, <nobr>$50,000 - $60,000 a year</nobr>,\n",
       "       <nobr>$88,305 - $114,802 a year</nobr>,\n",
       "       <nobr>$104,349 - $135,656 a year</nobr>,\n",
       "       <nobr>$80,000 a year</nobr>, <nobr>$150,000 a year</nobr>,\n",
       "       <nobr>$150,000 - $205,000 a year</nobr>,\n",
       "       <nobr>$130,000 a year</nobr>, <nobr>$30,000 - $32,000 a year</nobr>,\n",
       "       <nobr>$220,000 a year</nobr>], dtype=object)"
      ]
     },
     "execution_count": 11,
     "metadata": {},
     "output_type": "execute_result"
    }
   ],
   "source": [
    "df['Salary'].unique()"
   ]
  },
  {
   "cell_type": "code",
   "execution_count": 12,
   "metadata": {
    "collapsed": true
   },
   "outputs": [],
   "source": [
    "# Remove rows with no salary\n",
    "df = df[df.Salary.notnull()]"
   ]
  },
  {
   "cell_type": "code",
   "execution_count": 13,
   "metadata": {
    "collapsed": false
   },
   "outputs": [],
   "source": [
    "# Remove excess salary info\n",
    "df['Salary'] = df['Salary'].apply(lambda x: str(x))\n",
    "df['Salary'] = df['Salary'].apply(lambda x: x.replace('$',''))\n",
    "df['Salary'] = df['Salary'].apply(lambda x: x.replace(',',''))\n",
    "df['Salary'] = df['Salary'].apply(lambda x: x.replace('<nobr>',''))\n",
    "df['Salary'] = df['Salary'].apply(lambda x: x.replace('</nobr>',''))\n",
    "\n"
   ]
  },
  {
   "cell_type": "code",
   "execution_count": 14,
   "metadata": {
    "collapsed": true
   },
   "outputs": [],
   "source": [
    "# Parse yearly, monthly, hourly salaries\n",
    "df['hourly_sal'] = df['Salary'].map(lambda x: 1 if 'hour' in x else 0)\n",
    "\n",
    "df['monthly_sal'] = df['Salary'].map(lambda x: 1 if 'month' in x else 0)\n",
    "\n",
    "df['yearly_sal'] = df['Salary'].map(lambda x: 1 if 'year' in x else 0)\n",
    "\n"
   ]
  },
  {
   "cell_type": "code",
   "execution_count": 19,
   "metadata": {
    "collapsed": false
   },
   "outputs": [],
   "source": [
    "# Drop monthly and hourly salaries\n",
    "df_year1 = df[df.monthly_sal != 1]\n",
    "\n"
   ]
  },
  {
   "cell_type": "code",
   "execution_count": 21,
   "metadata": {
    "collapsed": false
   },
   "outputs": [
    {
     "name": "stderr",
     "output_type": "stream",
     "text": [
      "/Users/macbook/anaconda/lib/python2.7/site-packages/ipykernel/__main__.py:1: UserWarning: Boolean Series key will be reindexed to match DataFrame index.\n",
      "  if __name__ == '__main__':\n"
     ]
    }
   ],
   "source": [
    "df_year = df_year1[df.hourly_sal !=1]"
   ]
  },
  {
   "cell_type": "code",
   "execution_count": 23,
   "metadata": {
    "collapsed": false
   },
   "outputs": [
    {
     "data": {
      "text/html": [
       "<div>\n",
       "<table border=\"1\" class=\"dataframe\">\n",
       "  <thead>\n",
       "    <tr style=\"text-align: right;\">\n",
       "      <th></th>\n",
       "      <th>Location</th>\n",
       "      <th>Job_Title</th>\n",
       "      <th>Company</th>\n",
       "      <th>Salary</th>\n",
       "      <th>Description</th>\n",
       "      <th>hourly_sal</th>\n",
       "      <th>monthly_sal</th>\n",
       "      <th>yearly_sal</th>\n",
       "    </tr>\n",
       "  </thead>\n",
       "  <tbody>\n",
       "    <tr>\n",
       "      <th>72</th>\n",
       "      <td>Austin, TX</td>\n",
       "      <td>Senior Machine Learning Data Scientist</td>\n",
       "      <td>All-In Analytics</td>\n",
       "      <td>140000 - 160000 a year</td>\n",
       "      <td>Machine Learning Data Scientist. Forecasting, ...</td>\n",
       "      <td>0</td>\n",
       "      <td>0</td>\n",
       "      <td>1</td>\n",
       "    </tr>\n",
       "    <tr>\n",
       "      <th>142</th>\n",
       "      <td>Austin, TX</td>\n",
       "      <td>Machine Learning Engineer</td>\n",
       "      <td>Volt Workforce Solutions</td>\n",
       "      <td>120000 - 150000 a year</td>\n",
       "      <td>Data mining competition experience preferred (...</td>\n",
       "      <td>0</td>\n",
       "      <td>0</td>\n",
       "      <td>1</td>\n",
       "    </tr>\n",
       "    <tr>\n",
       "      <th>232</th>\n",
       "      <td>Chicago, IL</td>\n",
       "      <td>Data Scientist -Fitness/Wellness Firm</td>\n",
       "      <td>Hirewell</td>\n",
       "      <td>120000 a year</td>\n",
       "      <td>Bring structure to large quantities of data - ...</td>\n",
       "      <td>0</td>\n",
       "      <td>0</td>\n",
       "      <td>1</td>\n",
       "    </tr>\n",
       "    <tr>\n",
       "      <th>245</th>\n",
       "      <td>Chicago, IL</td>\n",
       "      <td>Data Scientist</td>\n",
       "      <td>Workbridge Associates</td>\n",
       "      <td>80000 - 110000 a year</td>\n",
       "      <td>Big data with Hadoop is a plus. A well-respect...</td>\n",
       "      <td>0</td>\n",
       "      <td>0</td>\n",
       "      <td>1</td>\n",
       "    </tr>\n",
       "    <tr>\n",
       "      <th>259</th>\n",
       "      <td>Chicago, IL</td>\n",
       "      <td>Quantitative Research Analyst</td>\n",
       "      <td>GinasTechJobs.com</td>\n",
       "      <td>180000 a year</td>\n",
       "      <td>Define and implement data collection and data ...</td>\n",
       "      <td>0</td>\n",
       "      <td>0</td>\n",
       "      <td>1</td>\n",
       "    </tr>\n",
       "  </tbody>\n",
       "</table>\n",
       "</div>"
      ],
      "text/plain": [
       "        Location                               Job_Title  \\\n",
       "72    Austin, TX  Senior Machine Learning Data Scientist   \n",
       "142   Austin, TX               Machine Learning Engineer   \n",
       "232  Chicago, IL   Data Scientist -Fitness/Wellness Firm   \n",
       "245  Chicago, IL                          Data Scientist   \n",
       "259  Chicago, IL           Quantitative Research Analyst   \n",
       "\n",
       "                      Company                  Salary  \\\n",
       "72           All-In Analytics  140000 - 160000 a year   \n",
       "142  Volt Workforce Solutions  120000 - 150000 a year   \n",
       "232                  Hirewell           120000 a year   \n",
       "245     Workbridge Associates   80000 - 110000 a year   \n",
       "259         GinasTechJobs.com           180000 a year   \n",
       "\n",
       "                                           Description  hourly_sal  \\\n",
       "72   Machine Learning Data Scientist. Forecasting, ...           0   \n",
       "142  Data mining competition experience preferred (...           0   \n",
       "232  Bring structure to large quantities of data - ...           0   \n",
       "245  Big data with Hadoop is a plus. A well-respect...           0   \n",
       "259  Define and implement data collection and data ...           0   \n",
       "\n",
       "     monthly_sal  yearly_sal  \n",
       "72             0           1  \n",
       "142            0           1  \n",
       "232            0           1  \n",
       "245            0           1  \n",
       "259            0           1  "
      ]
     },
     "execution_count": 23,
     "metadata": {},
     "output_type": "execute_result"
    }
   ],
   "source": [
    "df_year.head()"
   ]
  },
  {
   "cell_type": "code",
   "execution_count": 25,
   "metadata": {
    "collapsed": false
   },
   "outputs": [],
   "source": [
    "df_year = df_year.drop('hourly_sal', axis=1)"
   ]
  },
  {
   "cell_type": "code",
   "execution_count": 26,
   "metadata": {
    "collapsed": true
   },
   "outputs": [],
   "source": [
    "df_year = df_year.drop('monthly_sal', axis=1)"
   ]
  },
  {
   "cell_type": "code",
   "execution_count": 28,
   "metadata": {
    "collapsed": false
   },
   "outputs": [],
   "source": [
    "df_year = df_year.drop('yearly_sal', axis=1)"
   ]
  },
  {
   "cell_type": "code",
   "execution_count": 32,
   "metadata": {
    "collapsed": false
   },
   "outputs": [
    {
     "data": {
      "text/plain": [
       "<bound method Series.unique of 72      140000 - 160000 a year\n",
       "142     120000 - 150000 a year\n",
       "232              120000 a year\n",
       "245      80000 - 110000 a year\n",
       "259              180000 a year\n",
       "273              110000 a year\n",
       "274     104674 - 151358 a year\n",
       "276              105000 a year\n",
       "279     135000 - 165000 a year\n",
       "297     110000 - 155000 a year\n",
       "395     100000 - 150000 a year\n",
       "441               34142 a year\n",
       "489               60000 a year\n",
       "492     120000 - 150000 a year\n",
       "507       47860 - 67712 a year\n",
       "559      90000 - 135000 a year\n",
       "668               56000 a year\n",
       "715              120000 a year\n",
       "723       50000 - 60000 a year\n",
       "755      88305 - 114802 a year\n",
       "758      88305 - 114802 a year\n",
       "760     104349 - 135656 a year\n",
       "777               80000 a year\n",
       "792              150000 a year\n",
       "832     104349 - 135656 a year\n",
       "858     150000 - 205000 a year\n",
       "878              130000 a year\n",
       "891       30000 - 32000 a year\n",
       "895      88305 - 114802 a year\n",
       "1032             150000 a year\n",
       "1040             220000 a year\n",
       "Name: Salary, dtype: object>"
      ]
     },
     "execution_count": 32,
     "metadata": {},
     "output_type": "execute_result"
    }
   ],
   "source": [
    "df_year['Salary'].unique"
   ]
  },
  {
   "cell_type": "code",
   "execution_count": 35,
   "metadata": {
    "collapsed": false
   },
   "outputs": [],
   "source": [
    "# Change Salary values to floats\n",
    "df_year['Salary'] = df_year['Salary'].str.replace('a year', '')\n",
    "df_year['Salary'] = df_year['Salary'].str.replace('-', ',')\n",
    "df_year['Salary'] = pd.to_numeric(df_year['Salary'], errors = 'coerce')"
   ]
  },
  {
   "cell_type": "code",
   "execution_count": 38,
   "metadata": {
    "collapsed": false
   },
   "outputs": [
    {
     "data": {
      "text/plain": [
       "Location        object\n",
       "Job_Title       object\n",
       "Company         object\n",
       "Salary         float64\n",
       "Description     object\n",
       "dtype: object"
      ]
     },
     "execution_count": 38,
     "metadata": {},
     "output_type": "execute_result"
    }
   ],
   "source": [
    "df_year.dtypes"
   ]
  },
  {
   "cell_type": "code",
   "execution_count": null,
   "metadata": {
    "collapsed": true
   },
   "outputs": [],
   "source": [
    "# Replace salary ranges with means\n",
    "df_year['Salary'] = df_year['Salary'].apply(lambda s: s.replace(value))"
   ]
  },
  {
   "cell_type": "code",
   "execution_count": 39,
   "metadata": {
    "collapsed": false
   },
   "outputs": [
    {
     "data": {
      "text/plain": [
       "72           NaN\n",
       "142          NaN\n",
       "232     120000.0\n",
       "245          NaN\n",
       "259     180000.0\n",
       "273     110000.0\n",
       "274          NaN\n",
       "276     105000.0\n",
       "279          NaN\n",
       "297          NaN\n",
       "395          NaN\n",
       "441      34142.0\n",
       "489      60000.0\n",
       "492          NaN\n",
       "507          NaN\n",
       "559          NaN\n",
       "668      56000.0\n",
       "715     120000.0\n",
       "723          NaN\n",
       "755          NaN\n",
       "758          NaN\n",
       "760          NaN\n",
       "777      80000.0\n",
       "792     150000.0\n",
       "832          NaN\n",
       "858          NaN\n",
       "878     130000.0\n",
       "891          NaN\n",
       "895          NaN\n",
       "1032    150000.0\n",
       "1040    220000.0\n",
       "Name: Salary, dtype: float64"
      ]
     },
     "execution_count": 39,
     "metadata": {},
     "output_type": "execute_result"
    }
   ],
   "source": [
    "df_year['Salary'].map(np.mean)"
   ]
  },
  {
   "cell_type": "markdown",
   "metadata": {},
   "source": [
    "### Running Predictions"
   ]
  },
  {
   "cell_type": "code",
   "execution_count": null,
   "metadata": {
    "collapsed": true
   },
   "outputs": [],
   "source": [
    "\n",
    "df = pd.get_dummies(df,columns = ['Location','Job_Title','Company'])\n",
    "X_train, X_test, y_train, y_test = train_test_split(X, y, test_size = 0.33, random_state = 77) ## create train-test out of the data given\n",
    "\"\"\" Fit a binary classification predictor.\"\"\"\n",
    "logreg = LogisticRegression(solver='liblinear')\n",
    "C_vals = [0.0001, 0.001, 0.01, 0.1, .15, .25, .275, .33, 0.5, .66, 0.75, 1.0, 2.5, 5.0, 10.0, 100.0, 1000.0]\n",
    "penalties = ['l1','l2']\n",
    "\n",
    "gs = GridSearchCV(logreg, {'penalty': penalties, 'C': C_vals}, verbose=False, cv=3)\n",
    "gs.fit(X_train, y_train)\n",
    "\n",
    "lr = LogisticRegressionCV(Cs=10, cv=5)\n",
    "cv_model = logreg.fit(X_train, y_train)\n",
    "cv_pred = cv_model.predict(X_test)\n",
    "\n",
    "y_pred = lr.predict(X_test)\n",
    "y_score = lr.decision_function(X_test) # Submit these response, the output of mode"
   ]
  },
  {
   "cell_type": "code",
   "execution_count": null,
   "metadata": {
    "collapsed": true
   },
   "outputs": [],
   "source": [
    "conmat = np.array(confusion_matrix(Y_test, y_pred, labels=[1,0]))\n",
    "confusion = pd.DataFrame(conmat, index=['over_50k', 'under_50k'],\n",
    "                            columns=['predicted_over50k','predicted_under50k'])\n",
    "\n",
    "print(confusion)\n",
    "print classification_report(Y_test,y_pred)\n",
    "roc_auc_score(Y_test, y_score)"
   ]
  },
  {
   "cell_type": "code",
   "execution_count": null,
   "metadata": {
    "collapsed": true
   },
   "outputs": [],
   "source": [
    "coef = pd.DataFrame([X.columns.values.tolist(), lr.coef_[0].tolist()], index=['features', 'coef']).T\n",
    "coef.sort_values(by='coef', ascending=False)"
   ]
  }
 ],
 "metadata": {
  "anaconda-cloud": {},
  "kernelspec": {
   "display_name": "Python [default]",
   "language": "python",
   "name": "python2"
  },
  "language_info": {
   "codemirror_mode": {
    "name": "ipython",
    "version": 2
   },
   "file_extension": ".py",
   "mimetype": "text/x-python",
   "name": "python",
   "nbconvert_exporter": "python",
   "pygments_lexer": "ipython2",
   "version": "2.7.12"
  }
 },
 "nbformat": 4,
 "nbformat_minor": 1
}
