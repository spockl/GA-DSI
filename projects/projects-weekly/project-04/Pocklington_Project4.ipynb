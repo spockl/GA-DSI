{
 "cells": [
  {
   "cell_type": "code",
   "execution_count": 1,
   "metadata": {
    "collapsed": true
   },
   "outputs": [],
   "source": [
    "# Import neccesary programs\n",
    "import requests\n",
    "import bs4\n",
    "from bs4 import BeautifulSoup\n",
    "from lxml import html\n",
    "import numpy as np"
   ]
  },
  {
   "cell_type": "markdown",
   "metadata": {},
   "source": [
    "### Webscraping Functions"
   ]
  },
  {
   "cell_type": "code",
   "execution_count": 2,
   "metadata": {
    "collapsed": true
   },
   "outputs": [],
   "source": [
    "# Define functions for extracting information\n",
    "\n",
    "def extract_location_from_result(loc):\n",
    "    try:\n",
    "        location = []\n",
    "        for n in loc.findAll(class_='location'):\n",
    "            location.append(n.text.strip())\n",
    "        return location\n",
    "    except:\n",
    "        return np.nan   \n",
    "\n"
   ]
  },
  {
   "cell_type": "code",
   "execution_count": 3,
   "metadata": {
    "collapsed": true
   },
   "outputs": [],
   "source": [
    "def extract_company_from_result(comp):\n",
    "    try:\n",
    "        company = []\n",
    "        for c in comp.findAll('span', class_='company'):\n",
    "            company.append(c.text.strip())\n",
    "        return company\n",
    "    except:\n",
    "        return np.nan"
   ]
  },
  {
   "cell_type": "code",
   "execution_count": 4,
   "metadata": {
    "collapsed": true
   },
   "outputs": [],
   "source": [
    "def extract_jobtitle_from_result(jobtitle):\n",
    "    try:\n",
    "        jobtitle = []\n",
    "        for j in jobtitle.findAll(class_='jobtitle'):\n",
    "            jobtitle.append(j.text.strip())\n",
    "        return jobtitle\n",
    "    except:\n",
    "        return np.nan  "
   ]
  },
  {
   "cell_type": "code",
   "execution_count": 5,
   "metadata": {
    "collapsed": true
   },
   "outputs": [],
   "source": [
    "def extract_salary_from_result(sal):\n",
    "    try: \n",
    "        salary = []\n",
    "        for s in sal.findAll(class_='snip'):\n",
    "            sal.append(s.nobr())\n",
    "        return salary\n",
    "    except:\n",
    "        return np.nan\n"
   ]
  },
  {
   "cell_type": "code",
   "execution_count": 6,
   "metadata": {
    "collapsed": true
   },
   "outputs": [],
   "source": [
    "def extract_summary_from_results(desc):\n",
    "    try:\n",
    "        summary = []\n",
    "        for m in desc.find('span', class_='summary'):\n",
    "            desc.append(m.text.strip())\n",
    "        return summary\n",
    "    except:\n",
    "        return np.nan"
   ]
  },
  {
   "cell_type": "markdown",
   "metadata": {},
   "source": [
    "### Select Website "
   ]
  },
  {
   "cell_type": "code",
   "execution_count": 8,
   "metadata": {
    "collapsed": false
   },
   "outputs": [],
   "source": [
    "# Run loop to get multiple results. Pass functions through results\n",
    "Location = []\n",
    "Job_Title = []\n",
    "Company = []\n",
    "Salary = []\n",
    "url_template = \"http://www.indeed.com/jobs?q=data+scientist+%2420%2C000&l={}&start={}\"\n",
    "max_results_per_city = 100\n",
    "cities = ['New+York', 'Chicago', 'Boston', 'San+Francisco', 'Los+Angeles', 'Austin', 'Atlanta']\n",
    "results = []\n",
    "for city in set(cities):\n",
    "    for start in range(0, max_results_per_city, 10):\n",
    "        url = url_template.format(city,start)\n",
    "        ru = requests.get(url)\n",
    "        indeed = BeautifulSoup(ru.content, \"lxml\")\n",
    "        for item in indeed.findAll('div', class_='result'):\n",
    "            Location.append(extract_location_from_result(item))\n",
    "            Job_Title.append(extract_jobtitle_from_result(item))\n",
    "            Company.append(extract_company_from_result(item))\n",
    "            Salary.append(extract_salary_from_result(item))"
   ]
  },
  {
   "cell_type": "code",
   "execution_count": null,
   "metadata": {
    "collapsed": true
   },
   "outputs": [],
   "source": [
    "city_list =[]\n",
    "for city in set(cities):\n",
    "    for i in range(city_count[city_count[\"city\"]==city][\"result_count\"]):\n",
    "        city_list.append(city)"
   ]
  },
  {
   "cell_type": "code",
   "execution_count": null,
   "metadata": {
    "collapsed": true
   },
   "outputs": [],
   "source": [
    "# Create df of all search results\n",
    "\n",
    "df = pd.DataFrame(zip(city_list, location, company, title, salary, description))\n",
    "df.columns = [\"city\", \"location\", \"company\", \"title\", \"salary\", \"description\"]\n",
    "print df.shape\n",
    "df.tail()"
   ]
  },
  {
   "cell_type": "markdown",
   "metadata": {},
   "source": [
    "### Cleaning Salary Data"
   ]
  },
  {
   "cell_type": "code",
   "execution_count": null,
   "metadata": {
    "collapsed": true
   },
   "outputs": [],
   "source": []
  }
 ],
 "metadata": {
  "anaconda-cloud": {},
  "kernelspec": {
   "display_name": "Python [default]",
   "language": "python",
   "name": "python2"
  },
  "language_info": {
   "codemirror_mode": {
    "name": "ipython",
    "version": 2
   },
   "file_extension": ".py",
   "mimetype": "text/x-python",
   "name": "python",
   "nbconvert_exporter": "python",
   "pygments_lexer": "ipython2",
   "version": "2.7.12"
  }
 },
 "nbformat": 4,
 "nbformat_minor": 1
}
