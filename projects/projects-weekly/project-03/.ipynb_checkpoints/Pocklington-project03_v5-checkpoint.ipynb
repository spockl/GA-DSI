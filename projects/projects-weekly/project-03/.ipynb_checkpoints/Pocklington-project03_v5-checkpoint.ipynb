{
 "cells": [
  {
   "cell_type": "markdown",
   "metadata": {},
   "source": [
    "# Getting started\n",
    "\n",
    "Once you've chosen your scenario, download the data from [the Iowa website](https://data.iowa.gov/Economy/Iowa-Liquor-Sales/m3tr-qhgy) in csv format. Start by loading the data with pandas. You may need to parse the date columns appropriately."
   ]
  },
  {
   "cell_type": "code",
   "execution_count": 1,
   "metadata": {
    "collapsed": false
   },
   "outputs": [],
   "source": [
    "#import libraries\n",
    "import pandas as pd\n",
    "import numpy as np\n",
    "import seaborn as sns\n",
    "import matplotlib as plt\n",
    "%matplotlib inline \n",
    "\n",
    "from sklearn import datasets\n",
    "from sklearn import linear_model\n",
    "from sklearn.metrics import r2_score\n",
    "from sklearn.cross_validation import train_test_split\n",
    "from sklearn.cross_validation import cross_val_score\n",
    "from sklearn.cross_validation import cross_val_predict\n",
    "from sklearn.metrics import r2_score\n",
    "from sklearn.metrics import mean_squared_error"
   ]
  },
  {
   "cell_type": "code",
   "execution_count": 2,
   "metadata": {
    "collapsed": false
   },
   "outputs": [],
   "source": [
    "## Load the data into a DataFrame\n",
    "Iowa = pd.read_csv('/Users/macbook/GA-DSI/projects/projects-weekly/project-03/Iowa_Liquor_sales_sample_10pct.csv')"
   ]
  },
  {
   "cell_type": "code",
   "execution_count": 3,
   "metadata": {
    "collapsed": false
   },
   "outputs": [
    {
     "ename": "NameError",
     "evalue": "name 'iowa' is not defined",
     "output_type": "error",
     "traceback": [
      "\u001b[0;31m---------------------------------------------------------------------------\u001b[0m",
      "\u001b[0;31mNameError\u001b[0m                                 Traceback (most recent call last)",
      "\u001b[0;32m<ipython-input-3-74a05cf9dbc4>\u001b[0m in \u001b[0;36m<module>\u001b[0;34m()\u001b[0m\n\u001b[0;32m----> 1\u001b[0;31m \u001b[0miowa\u001b[0m\u001b[0;34m.\u001b[0m\u001b[0mhead\u001b[0m\u001b[0;34m(\u001b[0m\u001b[0;36m3\u001b[0m\u001b[0;34m)\u001b[0m\u001b[0;34m\u001b[0m\u001b[0m\n\u001b[0m",
      "\u001b[0;31mNameError\u001b[0m: name 'iowa' is not defined"
     ]
    }
   ],
   "source": [
    "iowa.head(3)"
   ]
  },
  {
   "cell_type": "code",
   "execution_count": null,
   "metadata": {
    "collapsed": false
   },
   "outputs": [],
   "source": [
    "iowa.dtypes"
   ]
  },
  {
   "cell_type": "code",
   "execution_count": null,
   "metadata": {
    "collapsed": false
   },
   "outputs": [],
   "source": [
    "print iowa.columns\n",
    "print iowa.shape"
   ]
  },
  {
   "cell_type": "markdown",
   "metadata": {},
   "source": [
    "# Clean Data"
   ]
  },
  {
   "cell_type": "markdown",
   "metadata": {},
   "source": [
    "### Drop duplicate (unnecessary) columns"
   ]
  },
  {
   "cell_type": "code",
   "execution_count": null,
   "metadata": {
    "collapsed": false
   },
   "outputs": [],
   "source": [
    "# Drop cols that contain same info as another col\n",
    "iowa.drop(['County Number', 'Item Number', 'Volume Sold (Gallons)'], axis=1, inplace=True)"
   ]
  },
  {
   "cell_type": "code",
   "execution_count": null,
   "metadata": {
    "collapsed": false
   },
   "outputs": [],
   "source": [
    "# Made a separate df for category to category name mapping for future reference\n",
    "category_df = pd.pivot_table(iowa, index=['Category', 'Category Name'], values=['Bottles Sold'])\n",
    "category_df.drop('Bottles Sold', axis=1, inplace=True)\n",
    "category_df.head(2)"
   ]
  },
  {
   "cell_type": "markdown",
   "metadata": {},
   "source": [
    "### Clean column names"
   ]
  },
  {
   "cell_type": "code",
   "execution_count": null,
   "metadata": {
    "collapsed": false
   },
   "outputs": [],
   "source": [
    "# Clean column name 1: Rename columns\n",
    "iowa.rename(columns={'Store Number':'Store', 'Bottle Volume (ml)':'Bottle Volume', 'Sale (Dollars)':'Sales', \\\n",
    "               'Volume Sold (Liters)':'Volume Sold'}, inplace=True)\n",
    "\n",
    "# Clean column names 2: Change all column names to lowercase letters\n",
    "iowa.rename(columns=lambda x: x.lower(), inplace=True)\n",
    "\n",
    "# Clean column names 3: Replace ' ' with '_'\n",
    "iowa.rename(columns=lambda x: x.replace(\" \",\"_\"), inplace=True)"
   ]
  },
  {
   "cell_type": "markdown",
   "metadata": {},
   "source": [
    "\n",
    "### Clean values in columns with currency and date"
   ]
  },
  {
   "cell_type": "code",
   "execution_count": null,
   "metadata": {
    "collapsed": false
   },
   "outputs": [],
   "source": [
    "# Convert columns with dollar amounts from object to numeric float\n",
    "currency = ['sales', 'state_bottle_cost', 'state_bottle_retail']\n",
    "iowa[currency] = iowa[currency].apply(lambda x: x.str.replace('$',''))\n",
    "iowa[currency] = iowa[currency].apply(lambda x: x.str.replace(',',''))\n",
    "iowa[currency] = iowa[currency].apply(lambda x: pd.to_numeric(x))"
   ]
  },
  {
   "cell_type": "code",
   "execution_count": null,
   "metadata": {
    "collapsed": false
   },
   "outputs": [],
   "source": [
    "# Convert date from object to datetime\n",
    "iowa['date'] = pd.to_datetime(iowa['date'])\n",
    "%timeit "
   ]
  },
  {
   "cell_type": "code",
   "execution_count": null,
   "metadata": {
    "collapsed": true
   },
   "outputs": [],
   "source": [
    "# Convert zip code to int\n",
    "print iowa['zip_code'].nunique()\n",
    "print iowa['zip_code'].unique()\n",
    "# One problematic value: 712-2"
   ]
  },
  {
   "cell_type": "code",
   "execution_count": null,
   "metadata": {
    "collapsed": false
   },
   "outputs": [],
   "source": [
    "# Drop problematic zip code and convert rest to int\n",
    "iowa['zip_code'] = pd.to_numeric(iowa[\"zip_code\"], errors='coerce')\n",
    "iowa.fillna(np.nan)\n",
    "iowa['zip_code'].dropna().astype(int)\n",
    "iowa['zip_code'].head(2)"
   ]
  },
  {
   "cell_type": "code",
   "execution_count": null,
   "metadata": {
    "collapsed": false
   },
   "outputs": [],
   "source": [
    "iowa.info()"
   ]
  },
  {
   "cell_type": "markdown",
   "metadata": {},
   "source": [
    "### Convert dtype object to str"
   ]
  },
  {
   "cell_type": "code",
   "execution_count": null,
   "metadata": {
    "collapsed": true
   },
   "outputs": [],
   "source": [
    "iowa['city'] = iowa['city'].astype(str)\n",
    "iowa['county'] = iowa['county'].astype(str)\n",
    "iowa['category_name'] = iowa['category_name'].astype(str)\n",
    "iowa['item_description'] = iowa['item_description'].astype(str)"
   ]
  },
  {
   "cell_type": "markdown",
   "metadata": {},
   "source": [
    "### Extract dates into year, quarter and month"
   ]
  },
  {
   "cell_type": "code",
   "execution_count": null,
   "metadata": {
    "collapsed": false
   },
   "outputs": [],
   "source": [
    "def extract_month(x):\n",
    "    month = str('{:02d}'.format(x.month)) + \"-\" + str((x.year))\n",
    "    return month\n",
    "def extract_quarter(x):\n",
    "    quarter = \"Q\" + str(x.quarter) + \"-\" + str(x.year)\n",
    "    return quarter\n",
    "\n",
    "iowa[\"year\"] = iowa[\"date\"].dt.year\n",
    "iowa[\"quarter\"] = iowa[\"date\"].apply(extract_quarter)\n",
    "iowa[\"month\"] = iowa[\"date\"].apply(extract_month)"
   ]
  },
  {
   "cell_type": "markdown",
   "metadata": {},
   "source": [
    "### Check for and replace NaNs"
   ]
  },
  {
   "cell_type": "code",
   "execution_count": null,
   "metadata": {
    "collapsed": true
   },
   "outputs": [],
   "source": [
    "iowa.isnull().sum()\n",
    "#Will leave zip_code NaNs as I filled problematic zip code with np.nan above"
   ]
  },
  {
   "cell_type": "markdown",
   "metadata": {},
   "source": [
    "### Remove Duplicate County Names & Fill in Missing Counties"
   ]
  },
  {
   "cell_type": "code",
   "execution_count": null,
   "metadata": {
    "collapsed": false
   },
   "outputs": [],
   "source": [
    "# Match missing County with City\n",
    "df_county = pd.pivot_table(iowa, index=['city', 'county'], values=['sales'], aggfunc=sum)\n",
    "df_county.drop('sales', axis=1, inplace=True)\n",
    "df_county.reset_index(inplace=True)\n",
    "df_county.head()"
   ]
  },
  {
   "cell_type": "code",
   "execution_count": null,
   "metadata": {
    "collapsed": false
   },
   "outputs": [],
   "source": [
    "print df_county['city'].duplicated().sum()\n",
    "a = df_county[df_county['city'].duplicated() == True].index.tolist()\n",
    "df_county['city'].loc[a]"
   ]
  },
  {
   "cell_type": "code",
   "execution_count": null,
   "metadata": {
    "collapsed": false
   },
   "outputs": [],
   "source": [
    "# Did not use drop_duplicates() because I did not want to automatically drop the second duplicate\n",
    "# So I checked the counties of duplicate cities and dropped incorrect city-county mappings\n",
    "# It also turns out some towns (Ackley, Clive, and West Des Moines are located in multiple counties)\n",
    "# Remove from iowa dataframe: index [32, 74, 134, 260, 263, 276, 288, 336]\n",
    "\n",
    "b = [i+1 for i in a]\n",
    "c = [i-1 for i in a]\n",
    "d = a + b + c\n",
    "e = sorted(d)\n",
    "\n",
    "df_county.loc[e, :]\n",
    "county_dict = {'bettendorf':'scott', 'corning':'adams', 'fort dodge': 'webster','newton':'jasper', \\\n",
    "               'north libery':'johnson', 'OSKALOOSA': 'mahaska', 'PERRY':'dallas', 'STATE CENTER': 'marshall'}"
   ]
  },
  {
   "cell_type": "code",
   "execution_count": null,
   "metadata": {
    "collapsed": false
   },
   "outputs": [],
   "source": [
    "# Remove from iowa dataframe: index [32, 74, 134, 260, 263, 276, 288, 336]\n",
    "df_county.drop([32, 74, 134, 260, 263, 276, 288, 336], inplace=True)\n",
    "\n",
    "# Rename Ackley, Clive, and West Des Moines to account for parts of town in different counties\n",
    "df_county.set_value([1,66,380], 'city', ['ACKLEY_WEBSTER', 'CLIVE_POLK', 'WEST_DES_MOINES_POLK'])"
   ]
  },
  {
   "cell_type": "code",
   "execution_count": null,
   "metadata": {
    "collapsed": false
   },
   "outputs": [],
   "source": [
    "# Merge df_county into original iowa df\n",
    "# Note: Original \"county\" renamed \"county_x\" and new \"county_y\" col created\n",
    "iowa = pd.merge(iowa,df_county, on = 'city', how = 'left')\n",
    "iowa.head(3)"
   ]
  },
  {
   "cell_type": "code",
   "execution_count": null,
   "metadata": {
    "collapsed": true
   },
   "outputs": [],
   "source": [
    "# Fill missing county names in \"county_x\" with county names from \"county_y\"\n",
    "iowa['county_x'].fillna(iowa['county_y'], inplace=True)\n",
    "iowa.isnull().sum()"
   ]
  },
  {
   "cell_type": "code",
   "execution_count": null,
   "metadata": {
    "collapsed": false
   },
   "outputs": [],
   "source": [
    "# Check for remaining missing counties\n",
    "iowa[iowa[\"county_x\"].isnull()]['city'].unique()"
   ]
  },
  {
   "cell_type": "code",
   "execution_count": null,
   "metadata": {
    "collapsed": false
   },
   "outputs": [],
   "source": [
    "# Fill in missing counties by mapping to city\n",
    "def county_name(city):\n",
    "    if city == \"TABOR\":\n",
    "        return \"Fremont\"\n",
    "    elif city == \"SEYMOUR\":\n",
    "        return \"Wayne\"\n",
    "    elif city == \"RUNNELLS\":\n",
    "        return \"Polk\"\n",
    "    else:\n",
    "        pass\n",
    "\n",
    "iowa['county_y'] = iowa['city'].apply(county_name)\n",
    "iowa['county_x'].fillna(iowa['county_y'], inplace=True)"
   ]
  },
  {
   "cell_type": "code",
   "execution_count": null,
   "metadata": {
    "collapsed": false
   },
   "outputs": [],
   "source": [
    "iowa.isnull().sum()"
   ]
  },
  {
   "cell_type": "markdown",
   "metadata": {},
   "source": [
    "### Drop Missing Values in \"category_name\""
   ]
  },
  {
   "cell_type": "code",
   "execution_count": null,
   "metadata": {
    "collapsed": false
   },
   "outputs": [],
   "source": [
    "# Find duplicates in category name\n",
    "df_category_name = pd.pivot_table(iowa,index = ['item_description','category_name'], \\\n",
    "                                  values = ['sales'], aggfunc = sum)\n",
    "df_category_name.reset_index(inplace = True)\n",
    "df_category_name.drop('sales', axis=1, inplace=True)\n",
    "df_category_name.duplicated().sum()\n",
    "# No duplicates"
   ]
  },
  {
   "cell_type": "code",
   "execution_count": null,
   "metadata": {
    "collapsed": false
   },
   "outputs": [],
   "source": [
    "# Drop rows with NaN in \"category_name\" col as it is only 0.233% of total \n",
    "# Did not have the time (as I did for counties above) to go through the 632 NaN rows\n",
    "null_cat_percent = (iowa['category_name'].isnull().sum())/ \\\n",
    "                    float(len(iowa['category_name']))*100\n",
    "print str(round(null_cat_percent, 3)) + '% of total rows ' + 'is null'\n",
    "print 'These 632 rows will be dropped from analysis'\n",
    "\n",
    "iowa.dropna(subset=[['category_name']], inplace=True)\n",
    "iowa[['category_name']].head(3)"
   ]
  },
  {
   "cell_type": "code",
   "execution_count": null,
   "metadata": {
    "collapsed": false
   },
   "outputs": [],
   "source": [
    "iowa.isnull().sum()"
   ]
  },
  {
   "cell_type": "code",
   "execution_count": null,
   "metadata": {
    "collapsed": false
   },
   "outputs": [],
   "source": [
    "# Drop county_y column and rename county_x as county\n",
    "iowa.drop('county_y', axis=1, inplace=True)\n",
    "iowa.rename(columns={'county_x':'county'}, inplace=True)"
   ]
  },
  {
   "cell_type": "markdown",
   "metadata": {},
   "source": [
    "### Create new columns with metrics"
   ]
  },
  {
   "cell_type": "code",
   "execution_count": null,
   "metadata": {
    "collapsed": false
   },
   "outputs": [],
   "source": [
    "# Just checking to make that that the 'sales' columns represents total revenue\n",
    "iowa['sales_check'] = iowa['state_bottle_retail'] * iowa['bottles_sold']\n",
    "print sum(iowa['sales_check']-iowa['sales'])\n",
    "iowa.drop('sales_check', axis=1, inplace=True)"
   ]
  },
  {
   "cell_type": "code",
   "execution_count": null,
   "metadata": {
    "collapsed": false
   },
   "outputs": [],
   "source": [
    "# New metrics added to iowa\n",
    "iowa['profit'] = (iowa['state_bottle_retail'] - iowa['state_bottle_cost']) * iowa['bottles_sold']\n",
    "iowa['rev_per_ml'] = iowa['sales'] / iowa['volume_sold']\n",
    "iowa['price_per_ml'] = iowa['state_bottle_retail'] / iowa['volume_sold']\n",
    "iowa['margin_percent'] = iowa['profit'] / iowa['sales']\n",
    "iowa['profit_per_ml'] = iowa['profit'] / iowa['volume_sold']\n",
    "iowa['profit_%_per_ml'] = iowa['profit_per_ml'] / iowa['rev_per_ml']"
   ]
  },
  {
   "cell_type": "code",
   "execution_count": null,
   "metadata": {
    "collapsed": false
   },
   "outputs": [],
   "source": [
    "print 'Iowa is a \"control state\", meaning the state has direct control over the wholesale alcohol \\\n",
    "market. The state dictates retail prices at a set margin of 33.3%.'\n",
    "print 'See Iowa Alcoholic Beverages Division for more info.'\n",
    "iowa.iloc[:3,11:28]"
   ]
  },
  {
   "cell_type": "code",
   "execution_count": null,
   "metadata": {
    "collapsed": false
   },
   "outputs": [],
   "source": [
    "# Drop margin % columns (they are constant and will not affect model)\n",
    "iowa.drop(['margin_percent', 'profit_%_per_ml'], inplace=True,axis=1)\n",
    "\n",
    "# Add $margin per bottle as this is not a constant measure\n",
    "iowa['profit_per_bottle'] = iowa['state_bottle_retail'] - iowa['state_bottle_cost']\n",
    "iowa.iloc[:2,11:28]"
   ]
  },
  {
   "cell_type": "markdown",
   "metadata": {},
   "source": [
    "### Drop stores that were only partially open in 2015"
   ]
  },
  {
   "cell_type": "code",
   "execution_count": null,
   "metadata": {
    "collapsed": false
   },
   "outputs": [],
   "source": [
    "# Check for stores that were not open for the full year or closed during the year\n",
    "dates_open = iowa.groupby([\"store\"])[\"date\"].agg([min, max])\n",
    "dates_open.reset_index(inplace=True)\n",
    "dates_open.tail(3)"
   ]
  },
  {
   "cell_type": "code",
   "execution_count": null,
   "metadata": {
    "collapsed": false
   },
   "outputs": [],
   "source": [
    "def open_date(x):\n",
    "    if x > pd.to_datetime('2015-03-31'):\n",
    "        return 1\n",
    "    else:\n",
    "        return 0\n",
    "    \n",
    "def close_date(x):\n",
    "    if x <= pd.to_datetime('2015-12-31'):\n",
    "        return 1\n",
    "    else:\n",
    "        return 0\n",
    "    \n",
    "dates_open[\"closed\"] = dates_open[\"max\"].apply(close_date)\n",
    "dates_open[\"opened\"] = dates_open[\"min\"].apply(open_date)\n",
    "dates_open[\"partial_year\"] = dates_open[\"closed\"] + dates_open[\"opened\"]"
   ]
  },
  {
   "cell_type": "code",
   "execution_count": null,
   "metadata": {
    "collapsed": false
   },
   "outputs": [],
   "source": [
    "dates_open.tail(3)"
   ]
  },
  {
   "cell_type": "code",
   "execution_count": null,
   "metadata": {
    "collapsed": false
   },
   "outputs": [],
   "source": [
    "# List of 217 stores not open full year in 2015\n",
    "partial_stores = list(dates_open[dates_open[\"partial_year\"]!=0][\"store\"].values)\n",
    "print 'Number of stores not open for full year 2015: ' + str(len(partial_stores))\n",
    "\n",
    "open_stores = list(dates_open[dates_open['partial_year'] == 0]['store'].values)\n",
    "print 'Total stores: '+ str(len(partial_stores) + len(open_stores))\n",
    "print 'Total stores open all of 2015: ' + str(len(open_stores))\n"
   ]
  },
  {
   "cell_type": "code",
   "execution_count": null,
   "metadata": {
    "collapsed": false
   },
   "outputs": [],
   "source": [
    "# Amount of revenue generated by stores only partially open in 2015\n",
    "partial_rev = sum(iowa[iowa['store'].isin(partial_stores)]['sales']) / sum(iowa['sales']) \n",
    "print 'Only ' + str(round(partial_rev*100,2)) + '% of sales from stores partially open in 2015'\n",
    "print 'Sales from these 217 stores will be dropped from analysis'"
   ]
  },
  {
   "cell_type": "markdown",
   "metadata": {},
   "source": [
    "## Create a new df with only stores open for full year 2015"
   ]
  },
  {
   "cell_type": "code",
   "execution_count": null,
   "metadata": {
    "collapsed": false
   },
   "outputs": [],
   "source": [
    "# Create new df consisting only of stores open for full year 2015\n",
    "idf = iowa[iowa['store'].isin(open_stores)]"
   ]
  },
  {
   "cell_type": "markdown",
   "metadata": {},
   "source": [
    "## Create a new df summarizing 2015 data only"
   ]
  },
  {
   "cell_type": "code",
   "execution_count": null,
   "metadata": {
    "collapsed": false
   },
   "outputs": [],
   "source": [
    "# Create a df summarizing total sales and revenues in 2015 at store-level\n",
    "sum_metrics = ['sales', 'profit']\n",
    "iowa_sum_2015 = idf[idf['year'] == 2015].groupby(['store'])[sum_metrics].agg(np.sum)\n",
    "iowa_sum_2015.columns = ['2015_total_revenue','2015_profit']\n",
    "iowa_sum_2015.reset_index(inplace=True)\n",
    "print len(iowa_sum_2015)\n",
    "iowa_sum_2015.describe(include='all')"
   ]
  },
  {
   "cell_type": "code",
   "execution_count": null,
   "metadata": {
    "collapsed": false
   },
   "outputs": [],
   "source": [
    "# Create a df summarizing mean metrics for 2015 at store-level\n",
    "mean_metrics = ['sales', 'profit', 'price_per_ml', 'profit_per_ml', 'profit_per_bottle']\n",
    "iowa_mean_2015 = idf[idf['year'] == 2015].groupby(['store'])[mean_metrics].agg(np.mean)\n",
    "iowa_mean_2015.columns = ['2015_avg_rev','2015_avg_profit','2015_avg_price_per_ml', \\\n",
    "                         '2015_avg_profit_per_ml', '2015_avg_profit_per_bottle']\n",
    "iowa_mean_2015.reset_index(inplace=True)\n",
    "print len(iowa_mean_2015)\n",
    "iowa_mean_2015.describe(include='all')"
   ]
  },
  {
   "cell_type": "code",
   "execution_count": null,
   "metadata": {
    "collapsed": false
   },
   "outputs": [],
   "source": [
    "# Create a df showing all days with sales for each store\n",
    "\n",
    "idf_open = idf.loc[:,['store', 'date', 'year', 'quarter']]\n",
    "idf_open.drop_duplicates(['store', 'date'], inplace=True)\n",
    "idf.sort_values('store').head()\n",
    "\n",
    "days_open_15 = idf_open[idf_open['year'] == 2015].groupby(['store'])[['date']].agg(len)\n",
    "days_open_15.reset_index(inplace=True)\n",
    "days_open_15.columns = ['store', 'days_open_15']\n",
    "days_open_15['days_open_15'] = days_open_15['days_open_15'].astype(int)"
   ]
  },
  {
   "cell_type": "code",
   "execution_count": null,
   "metadata": {
    "collapsed": false
   },
   "outputs": [],
   "source": [
    "# Create daily metrics (rev_per_day and profit_per_day) with days_open data \n",
    "iowa_sum_2015['2015_rev_per_day'] = iowa_sum_2015['2015_total_revenue'] / days_open_15['days_open_15']\n",
    "iowa_sum_2015['2015_profit_per_day'] = iowa_sum_2015['2015_profit'] / days_open_15['days_open_15']\n",
    "iowa_sum_2015.head()"
   ]
  },
  {
   "cell_type": "code",
   "execution_count": null,
   "metadata": {
    "collapsed": false
   },
   "outputs": [],
   "source": [
    "# Create df of categorical variables only \n",
    "idf_category = idf.loc[:,['store', 'city', 'county', 'zip_code']].drop_duplicates()\n",
    "\n",
    "# Merge (left join) iowa_sum, iowa_mean and days_open_15 to create df of all stores for 2015 data \n",
    "idf_2015 = pd.merge(idf_category, days_open_15, how='left', on='store'). \\\n",
    "merge(iowa_sum_2015, how='left', on='store').merge(iowa_mean_2015, how='left', on='store')\n",
    "print len(idf_2015)\n",
    "print 'Note: discrepancy between len(idf) and len(idf_2015) result of 2 stores each counted twice. No time to remove.'\n",
    "idf_2015.head(3)"
   ]
  },
  {
   "cell_type": "markdown",
   "metadata": {},
   "source": [
    "## Create a new df summarzing Q1-2015 data only"
   ]
  },
  {
   "cell_type": "code",
   "execution_count": null,
   "metadata": {
    "collapsed": false
   },
   "outputs": [],
   "source": [
    "# Create a df summarizing total sales and revenues in 2015 at store-level\n",
    "sum_metrics = ['sales', 'profit']\n",
    "iowa_sum_2015Q1 = idf[idf['quarter'] == 'Q1-2015'].groupby(['store'])[sum_metrics].agg(np.sum)\n",
    "iowa_sum_2015Q1.columns = ['Q1-15_total_revenue','Q1-15_profit']\n",
    "iowa_sum_2015Q1.reset_index(inplace=True)\n",
    "print len(iowa_sum_2015Q1)\n",
    "\n",
    "# Create a df summarizing mean metrics\n",
    "mean_metrics = ['sales', 'profit', 'price_per_ml', 'profit_per_ml', 'profit_per_bottle']\n",
    "iowa_mean_2015Q1 = idf[idf['quarter'] == 'Q1-2015'].groupby(['store'])[mean_metrics].agg(np.mean)\n",
    "iowa_mean_2015Q1.columns = ['Q1-15_avg_rev','Q1-15_avg_profit','Q1-15_avg_price_per_ml', \\\n",
    "                         'Q1-15_avg_profit_per_ml', 'Q1-15_avg_profit_per_bottle']\n",
    "iowa_mean_2015Q1.reset_index(inplace=True)\n",
    "print len(iowa_mean_2015Q1)\n",
    "\n",
    "# Create days_open df for Q1-2015\n",
    "days_open_15Q1 = idf_open[idf_open['quarter'] == 'Q1-2015'].groupby(['store'])[['date']].agg(len)\n",
    "days_open_15Q1.reset_index(inplace=True)\n",
    "days_open_15Q1.columns = ['store', 'days_open_15Q1']\n",
    "days_open_15Q1['days_open_15Q1'] = days_open_15Q1['days_open_15Q1'].astype(int)"
   ]
  },
  {
   "cell_type": "code",
   "execution_count": null,
   "metadata": {
    "collapsed": false
   },
   "outputs": [],
   "source": [
    "# Create daily metrics (rev_per_day and profit_per_day) with days_open data \n",
    "iowa_sum_2015Q1['rev_per_day'] = iowa_sum_2015Q1['Q1-15_total_revenue'] / days_open_15Q1['days_open_15Q1']\n",
    "iowa_sum_2015Q1['profit_per_day'] = iowa_sum_2015Q1['Q1-15_profit'] / days_open_15Q1['days_open_15Q1']\n",
    "iowa_sum_2015Q1.head()"
   ]
  },
  {
   "cell_type": "code",
   "execution_count": null,
   "metadata": {
    "collapsed": false
   },
   "outputs": [],
   "source": [
    "# Merge (left join) iowa_sum, iowa_mean and days_open_15 to create df of all stores for 2015 data \n",
    "idf_2015Q1 = pd.merge(idf_category, days_open_15Q1, how='left', on='store')\n",
    "idf_2015Q1 = pd.merge(idf_2015Q1,iowa_sum_2015Q1, how='left', on='store'). \\\n",
    "merge(iowa_mean_2015Q1, how='left', on='store')\n",
    "\n",
    "print len(idf_2015Q1)\n",
    "print 'Note: discrepancy between len(idf) and len(idf_2015) result of 2 stores each counted twice. No time to remove.'\n",
    "idf_2015Q1.head(3)"
   ]
  },
  {
   "cell_type": "code",
   "execution_count": null,
   "metadata": {
    "collapsed": false
   },
   "outputs": [],
   "source": []
  },
  {
   "cell_type": "markdown",
   "metadata": {},
   "source": [
    "## Create a new df summarzing Q1-2016 data only"
   ]
  },
  {
   "cell_type": "code",
   "execution_count": null,
   "metadata": {
    "collapsed": false
   },
   "outputs": [],
   "source": [
    "# Create a df summarizing total sales and revenues in 2016 at store-level\n",
    "sum_metrics = ['sales', 'profit']\n",
    "iowa_sum_2016Q1 = idf[idf['quarter'] == 'Q1-2016'].groupby(['store'])[sum_metrics].agg(np.sum)\n",
    "iowa_sum_2016Q1.columns = ['Q1-16_total_revenue','Q1-16_profit']\n",
    "iowa_sum_2016Q1.reset_index(inplace=True)\n",
    "print len(iowa_sum_2016Q1)\n",
    "\n",
    "# Create a df summarizing mean metrics\n",
    "mean_metrics = ['sales', 'profit', 'price_per_ml', 'profit_per_ml', 'profit_per_bottle']\n",
    "iowa_mean_2016Q1 = idf[idf['quarter'] == 'Q1-2016'].groupby(['store'])[mean_metrics].agg(np.mean)\n",
    "iowa_mean_2016Q1.columns = ['Q1-16_avg_rev','Q1-16_avg_profit','Q1-16_avg_price_per_ml', \\\n",
    "                         'Q1-16_avg_profit_per_ml', 'Q1-16_avg_profit_per_bottle']\n",
    "iowa_mean_2016Q1.reset_index(inplace=True)\n",
    "print len(iowa_mean_2016Q1)\n",
    "\n",
    "# Create days_open df for Q1-2016\n",
    "days_open_16Q1 = idf_open[idf_open['quarter'] == 'Q1-2016'].groupby(['store'])[['date']].agg(len)\n",
    "days_open_16Q1.reset_index(inplace=True)\n",
    "days_open_16Q1.columns = ['store', 'days_open']\n",
    "days_open_16Q1['days_open'] = days_open_15Q1['days_open'].astype(int)"
   ]
  },
  {
   "cell_type": "code",
   "execution_count": null,
   "metadata": {
    "collapsed": false
   },
   "outputs": [],
   "source": [
    "iowa_sum_2016Q1.head(3)"
   ]
  },
  {
   "cell_type": "code",
   "execution_count": null,
   "metadata": {
    "collapsed": false
   },
   "outputs": [],
   "source": [
    "# Create daily metrics (rev_per_day and profit_per_day) with days_open data \n",
    "iowa_sum_2016Q1['rev_per_day'] = iowa_sum_2016Q1['Q1-16_total_revenue'] / days_open_16Q1['days_open']\n",
    "iowa_sum_2016Q1['profit_per_day'] = iowa_sum_2016Q1['Q1-16_profit'] / days_open_16Q1['days_open']\n",
    "\n",
    "# Merge (left join) iowa_sum, iowa_mean and days_open_15 to create df of all stores for 2016 data \n",
    "idf_2016Q1 = pd.merge(idf_category, days_open_16Q1, how='left', on='store')\n",
    "idf_2016Q1 = pd.merge(idf_2016Q1,iowa_sum_2016Q1, how='left', on='store'). \\\n",
    "merge(iowa_mean_2016Q1, how='left', on='store')\n",
    "\n",
    "idf_2016Q1.head(3)\n",
    "print len(idf_2016Q1)\n",
    "print 'Note: discrepancy between len(idf) and len(idf_2016) result of 2 stores each counted twice. No time to remove.'\n",
    "idf_2016Q1.head(3)"
   ]
  },
  {
   "cell_type": "code",
   "execution_count": null,
   "metadata": {
    "collapsed": false
   },
   "outputs": [],
   "source": [
    "# Make sure all three new dfs are shame shape\n",
    "print idf_2015.shape\n",
    "print idf_2015Q1.shape\n",
    "print idf_2016Q1.shape"
   ]
  },
  {
   "cell_type": "code",
   "execution_count": null,
   "metadata": {
    "collapsed": true
   },
   "outputs": [],
   "source": [
    "###################################################\n",
    "a1 = idf_2015.copy()\n",
    "a2 = idf_2015Q1.copy()\n",
    "a3 = idf_2016Q1.copy()"
   ]
  },
  {
   "cell_type": "markdown",
   "metadata": {},
   "source": [
    "## Merge 2015, Q1-2015 and Q2-2015 dfs"
   ]
  },
  {
   "cell_type": "code",
   "execution_count": null,
   "metadata": {
    "collapsed": false
   },
   "outputs": [],
   "source": [
    "stores_df = idf_2015.merge(idf_2015Q1, on=['store', 'county', 'city', 'zip_code'], how ='left')\\\n",
    ".merge(idf_2016Q1, on= ['store', 'county', 'city', 'zip_code'], how =\"left\")"
   ]
  },
  {
   "cell_type": "code",
   "execution_count": null,
   "metadata": {
    "collapsed": false
   },
   "outputs": [],
   "source": [
    "print stores_df.shape\n",
    "print pd.DataFrame(stores_df.columns)\n",
    "stores_df.head(3)"
   ]
  },
  {
   "cell_type": "code",
   "execution_count": null,
   "metadata": {
    "collapsed": true
   },
   "outputs": [],
   "source": []
  },
  {
   "cell_type": "code",
   "execution_count": null,
   "metadata": {
    "collapsed": true
   },
   "outputs": [],
   "source": []
  },
  {
   "cell_type": "code",
   "execution_count": null,
   "metadata": {
    "collapsed": true
   },
   "outputs": [],
   "source": []
  },
  {
   "cell_type": "code",
   "execution_count": null,
   "metadata": {
    "collapsed": true
   },
   "outputs": [],
   "source": []
  },
  {
   "cell_type": "code",
   "execution_count": null,
   "metadata": {
    "collapsed": true
   },
   "outputs": [],
   "source": []
  },
  {
   "cell_type": "code",
   "execution_count": null,
   "metadata": {
    "collapsed": true
   },
   "outputs": [],
   "source": []
  },
  {
   "cell_type": "code",
   "execution_count": null,
   "metadata": {
    "collapsed": false
   },
   "outputs": [],
   "source": [
    "# 1: Create idf_sums\n",
    "idf_sums = idf.groupby(['store'])[['sales', 'profit', 'bottles_sold', 'volume_sold']].agg(np.sum)\n",
    "idf_sums.reset_index(inplace=True)\n",
    "idf_sums.head(3)"
   ]
  },
  {
   "cell_type": "code",
   "execution_count": null,
   "metadata": {
    "collapsed": false
   },
   "outputs": [],
   "source": [
    "# 2: Create idf_means\n",
    "idf_means = idf.groupby(['store'])[['sales', 'profit', 'bottles_sold', 'volume_sold']].agg(np.mean)\n",
    "idf_means.reset_index(inplace=True)\n",
    "idf_means.columns = ['store', 'rev_per_sale', 'prof_per_sale', 'bott_per_sale', \\\n",
    "                    'vol_per_sale']\n",
    "idf_means.head(3)"
   ]
  },
  {
   "cell_type": "code",
   "execution_count": null,
   "metadata": {
    "collapsed": false
   },
   "outputs": [],
   "source": [
    "# 3: Merge sums and means into idf_sales\n",
    "idf_sales = idf_sums.merge(idf_means, how='inner', on='store')\n",
    "idf_sales.head(3)"
   ]
  },
  {
   "cell_type": "code",
   "execution_count": null,
   "metadata": {
    "collapsed": false
   },
   "outputs": [],
   "source": [
    "iowa.head()"
   ]
  },
  {
   "cell_type": "code",
   "execution_count": null,
   "metadata": {
    "collapsed": true
   },
   "outputs": [],
   "source": [
    "# 4: Create new columns in idf for daily averages\n",
    "idf['sales_pd_15'] = idf['sales'] / idf['days_open_15']\n",
    "idf['profit_pd_15'] = idf['profit'] / idf['days_open_15']\n",
    "idf['bottl_pd_15'] = idf['bottles_sold'] / idf['days_open_15']\n",
    "idf['vol_pd_15'] = idf['volume_sold'] / idf['days_open_15']\n",
    "\n",
    "idf['sales_pd_16'] = idf['sales'] / idf['days_open_16']\n",
    "idf['profit_pd_16'] = idf['profit'] / idf['days_open_16']\n",
    "idf['bottles_pd_16'] = idf['bottles_sold'] / idf['days_open_16']\n",
    "idf['vol_pd_16'] = idf['volume_sold'] / idf['days_open_16']"
   ]
  },
  {
   "cell_type": "code",
   "execution_count": null,
   "metadata": {
    "collapsed": false
   },
   "outputs": [],
   "source": [
    "# 5: Separate daily average columns into own df\n",
    "idf_pd = idf.groupby(['store'])[['sales_pd_15', 'profit_pd_15', 'vol_pd_15']].agg(np.sum)\n",
    "idf_pd.reset_index(inplace=True)\n",
    "idf_pd.head(3)"
   ]
  },
  {
   "cell_type": "code",
   "execution_count": null,
   "metadata": {
    "collapsed": false
   },
   "outputs": [],
   "source": [
    "# 6: Merge sales and daily average dfs\n",
    "idf_metrics = idf_sales.merge(idf_pd, how='inner', on='store')\n",
    "idf_metrics.head(3)"
   ]
  },
  {
   "cell_type": "code",
   "execution_count": null,
   "metadata": {
    "collapsed": false
   },
   "outputs": [],
   "source": [
    "# 7: Create location only df\n",
    "idf_location = pd.pivot_table(idf, values=['sales'], index=['store', 'city', 'county', 'zip_code'], aggfunc=np.sum)\n",
    "idf_location.reset_index(inplace=True)\n",
    "idf_location.drop('sales', axis=1, inplace=True)\n",
    "idf_location.head(3)"
   ]
  },
  {
   "cell_type": "code",
   "execution_count": null,
   "metadata": {
    "collapsed": false
   },
   "outputs": [],
   "source": [
    "# 8: Create new df by merging metrics and location\n",
    "idf_new= idf_metrics.merge(idf_location, how='inner', on='store')\n",
    "idf_new.head(3)"
   ]
  },
  {
   "cell_type": "code",
   "execution_count": null,
   "metadata": {
    "collapsed": false
   },
   "outputs": [],
   "source": [
    "# View correlations\n",
    "col_list = idf_new.columns\n",
    "idf_new.loc[:,col_list].corr()"
   ]
  },
  {
   "cell_type": "code",
   "execution_count": null,
   "metadata": {
    "collapsed": false
   },
   "outputs": [],
   "source": [
    "idf_new.loc[:,col_list].corr()['sales']"
   ]
  },
  {
   "cell_type": "code",
   "execution_count": null,
   "metadata": {
    "collapsed": false
   },
   "outputs": [],
   "source": [
    "idf.columns"
   ]
  },
  {
   "cell_type": "code",
   "execution_count": null,
   "metadata": {
    "collapsed": false
   },
   "outputs": [],
   "source": [
    "def my_pivot(df, index, values, aggfunc, plt=False):\n",
    "    piv = pd.pivot_table(df, index=index, values=values, aggfunc=aggfunc)\n",
    "    #piv.sort_values(by = ['week'], inplace=True)\n",
    "    #print piv\n",
    "    if plt: piv.plot(title= 'Average Current Liquor Sales by County',kind='hist', figsize=(16,8),bins=40)\n",
    "\n",
    "my_pivot(idf, index=[\"county\"], values=['sales'], aggfunc=np.mean, plt=True)"
   ]
  },
  {
   "cell_type": "code",
   "execution_count": null,
   "metadata": {
    "collapsed": true
   },
   "outputs": [],
   "source": []
  },
  {
   "cell_type": "code",
   "execution_count": null,
   "metadata": {
    "collapsed": false
   },
   "outputs": [],
   "source": [
    "sns.jointplot(x=idf_new['sales_pd_15'], y=idf_new['sales'])"
   ]
  },
  {
   "cell_type": "code",
   "execution_count": null,
   "metadata": {
    "collapsed": false
   },
   "outputs": [],
   "source": [
    "sns.jointplot(x=idf_new['vol_pd_15'], y=idf_new['sales'])"
   ]
  },
  {
   "cell_type": "code",
   "execution_count": null,
   "metadata": {
    "collapsed": false
   },
   "outputs": [],
   "source": [
    "sns.jointplot(x=idf_new['vol_per_sale'], y=idf_new['sales'])"
   ]
  },
  {
   "cell_type": "code",
   "execution_count": null,
   "metadata": {
    "collapsed": false
   },
   "outputs": [],
   "source": [
    "sns.jointplot(x=idf_new['bott_per_sale'], y=idf_new['sales'])"
   ]
  },
  {
   "cell_type": "markdown",
   "metadata": {},
   "source": [
    "### Create new dataframe for Q1-2015 only"
   ]
  },
  {
   "cell_type": "code",
   "execution_count": null,
   "metadata": {
    "collapsed": false
   },
   "outputs": [],
   "source": [
    "idf15 = iowa[iowa['store'].isin(open_stores)]\n",
    "idf15 = idf[idf['quarter'] == 'Q1-2015']"
   ]
  },
  {
   "cell_type": "code",
   "execution_count": null,
   "metadata": {
    "collapsed": false
   },
   "outputs": [],
   "source": [
    "idf15.head(5)"
   ]
  },
  {
   "cell_type": "code",
   "execution_count": null,
   "metadata": {
    "collapsed": false
   },
   "outputs": [],
   "source": [
    "# 1: Create idf_sums\n",
    "idf15_sums = idf15.groupby(['store'])[['sales', 'profit', 'bottles_sold', 'volume_sold']].agg(np.sum)\n",
    "idf15_sums.reset_index(inplace=True)\n",
    "\n",
    "# 2: Create idf_means\n",
    "idf15_means = idf15.groupby(['store'])[['sales', 'profit', 'bottles_sold', 'volume_sold']].agg(np.mean)\n",
    "idf15_means.reset_index(inplace=True)\n",
    "idf15_means.columns = ['store', 'rev_per_sale', 'prof_per_sale', 'bott_per_sale', \\\n",
    "                    'vol_per_sale']\n",
    "\n",
    "# 3: Merge sums and means into idf_sales\n",
    "idf15_sales = idf15_sums.merge(idf15_means, how='inner', on='store')\n",
    "idf15_sales.head(3)"
   ]
  },
  {
   "cell_type": "code",
   "execution_count": null,
   "metadata": {
    "collapsed": false
   },
   "outputs": [],
   "source": [
    "# 4: Create new columns in idf for daily averages\n",
    "days_open_Q1_15 = idf_open[idf_open['quarter'] == 'Q1-2015'].groupby(['store'])[['date']].agg(len)\n",
    "days_open_Q1_15.reset_index(inplace=True)\n",
    "days_open_Q1_15.columns = ['store', 'days_open_Q1_15']\n",
    "days_open_Q1_15['days_open_Q1_15'] = days_open_Q1_15['days_open_Q1_15'].astype(int)\n",
    "\n",
    "idf15['sales_pd_15'] = idf15['sales'] / days_open_Q1_15['days_open_Q1_15']\n",
    "idf15['profit_pd_15'] = idf15['profit'] / days_open_Q1_15['days_open_Q1_15']\n",
    "idf15['bottl_pd_15'] = idf15['bottles_sold'] / days_open_Q1_15['days_open_Q1_15']\n",
    "idf15['vol_pd_15'] = idf15['volume_sold'] / days_open_Q1_15['days_open_Q1_15']\n",
    "\n",
    "# 5: Separate daily average columns into own df\n",
    "idf15_pd = idf.groupby(['store'])[['sales_pd_15', 'profit_pd_15', 'vol_pd_15']].agg(np.sum)\n",
    "idf15_pd.reset_index(inplace=True)\n",
    "idf15_pd.head(3)"
   ]
  },
  {
   "cell_type": "code",
   "execution_count": null,
   "metadata": {
    "collapsed": false
   },
   "outputs": [],
   "source": [
    "# 6: Merge sales and daily average dfs\n",
    "idf15_metrics = idf15_sales.merge(idf15_pd, how='inner', on='store')\n",
    "idf15_metrics.head(3)\n",
    "\n"
   ]
  },
  {
   "cell_type": "code",
   "execution_count": null,
   "metadata": {
    "collapsed": false
   },
   "outputs": [],
   "source": [
    "# 7: Create location only df\n",
    "idf_location = pd.pivot_table(idf, values=['sales'], index=['store', 'city', 'county', 'zip_code'], aggfunc=np.sum)\n",
    "idf_location.reset_index(inplace=True)\n",
    "idf_location.drop('sales', axis=1, inplace=True)\n",
    "idf_location.head(3)\n",
    "\n",
    "# 8: Create new df by merging metrics and location\n",
    "idf15_new= idf15_metrics.merge(idf_location, how='inner', on='store')\n",
    "idf15_new.head(3)"
   ]
  },
  {
   "cell_type": "code",
   "execution_count": null,
   "metadata": {
    "collapsed": false
   },
   "outputs": [],
   "source": [
    "idf15_new['sales_2Q-4Q-15'] = idf_new['sales'] - idf15_new['sales']\n",
    "idf15_new.head(3)"
   ]
  },
  {
   "cell_type": "code",
   "execution_count": null,
   "metadata": {
    "collapsed": true
   },
   "outputs": [],
   "source": [
    "iowa_2015 = iowa[iowa['year'] == 2015]\n",
    "iowa_2016 = iowa[iowa['year'] == 2016]"
   ]
  },
  {
   "cell_type": "code",
   "execution_count": null,
   "metadata": {
    "collapsed": false
   },
   "outputs": [],
   "source": [
    "idf15_new['sales_2Q-4Q-15'].shape"
   ]
  },
  {
   "cell_type": "code",
   "execution_count": null,
   "metadata": {
    "collapsed": true
   },
   "outputs": [],
   "source": []
  },
  {
   "cell_type": "code",
   "execution_count": null,
   "metadata": {
    "collapsed": false
   },
   "outputs": [],
   "source": [
    "# train all models only on data from stores with full data from 2015 (no stores which opened or closed)\n",
    "\n",
    "# base model - predict 2015 Q2-4 with just 2015Q1\n",
    "y = idf15_new['sales_2Q-4Q-15']\n",
    "X  = idf15_new['sales']\n",
    "X = pd.DataFrame(X)\n",
    "\n",
    "lm = linear_model.LinearRegression()\n",
    "base_model = lm.fit(X,y)\n",
    "\n",
    "print \"Coef:\", base_model.coef_\n",
    "print \"Intercept:\", base_model.intercept_\n",
    "print \"Score:\", base_model.score(X, y) \n",
    "print \"MSE:\", mean_squared_error(y, base_model.predict(X))"
   ]
  },
  {
   "cell_type": "code",
   "execution_count": null,
   "metadata": {
    "collapsed": false
   },
   "outputs": [],
   "source": [
    "print \"Mean cross-val R2:\",cross_val_score(lm, X, y, cv=5).mean()"
   ]
  },
  {
   "cell_type": "code",
   "execution_count": null,
   "metadata": {
    "collapsed": false
   },
   "outputs": [],
   "source": [
    "X_train, X_test, y_train, y_test = \\\n",
    "train_test_split(X, y, test_size=0.33)\n",
    "lm = linear_model.LinearRegression()\n",
    "train_base_model = lm.fit(X_train, y_train)\n",
    "predictions = lm.predict(X_test)\n",
    "\n",
    "print \"Train Test R2:\", train_base_model.score(X_test, y_test) "
   ]
  },
  {
   "cell_type": "markdown",
   "metadata": {},
   "source": [
    "### Full Year 2015"
   ]
  },
  {
   "cell_type": "code",
   "execution_count": null,
   "metadata": {
    "collapsed": true
   },
   "outputs": [],
   "source": []
  },
  {
   "cell_type": "code",
   "execution_count": null,
   "metadata": {
    "collapsed": false
   },
   "outputs": [],
   "source": [
    "# train all models only on data from stores with full data from 2015 (no stores which opened or closed)\n",
    "\n",
    "# base model - predict 2015 Q2-4 with just 2015Q1\n",
    "y = iowa[[iowa['quarter']=='Q1-2015']]\n",
    "X  = idf_new['sales']\n",
    "X = pd.DataFrame(X)\n",
    "\n",
    "lm = linear_model.LinearRegression()\n",
    "base_model = lm.fit(X,y)\n",
    "\n",
    "print \"Coef:\", base_model.coef_\n",
    "print \"Intercept:\", base_model.intercept_\n",
    "print \"Score:\", base_model.score(X, y) \n",
    "print \"MSE:\", mean_squared_error(y, base_model.predict(X))"
   ]
  },
  {
   "cell_type": "code",
   "execution_count": null,
   "metadata": {
    "collapsed": true
   },
   "outputs": [],
   "source": []
  },
  {
   "cell_type": "code",
   "execution_count": null,
   "metadata": {
    "collapsed": true
   },
   "outputs": [],
   "source": []
  },
  {
   "cell_type": "code",
   "execution_count": null,
   "metadata": {
    "collapsed": true
   },
   "outputs": [],
   "source": []
  },
  {
   "cell_type": "code",
   "execution_count": null,
   "metadata": {
    "collapsed": false
   },
   "outputs": [],
   "source": [
    "ax = idf_sales.plot(kind=\"scatter\", x='bottles_sold', y='profit', figsize=(10,6))\n",
    "ax.set_title('profit x bottles', y=1.01, fontsize=30)\n",
    "ax.set_xlabel('profit', fontsize=16)\n",
    "ax.set_ylabel('bottles', fontsize=16)\n",
    "ax.tick_params(axis='both', which='both', labelsize=16)"
   ]
  },
  {
   "cell_type": "code",
   "execution_count": null,
   "metadata": {
    "collapsed": true
   },
   "outputs": [],
   "source": []
  },
  {
   "cell_type": "markdown",
   "metadata": {},
   "source": [
    "### Dataframes by store"
   ]
  },
  {
   "cell_type": "code",
   "execution_count": null,
   "metadata": {
    "collapsed": false
   },
   "outputs": [],
   "source": [
    "#Df showing full year sales by store 2015\n",
    "print 'Nunique stores: ' + str(idf['store'].nunique())\n",
    "idf_store_2015 = idf_2015.groupby(['store']) \\\n",
    "[['sales', 'profit', 'bottles_sold', 'volume_sold']].agg(sum)\n",
    "idf_store_2015.reset_index(inplace=True)\n",
    "idf_store_2015.head(3)"
   ]
  },
  {
   "cell_type": "code",
   "execution_count": null,
   "metadata": {
    "collapsed": false
   },
   "outputs": [],
   "source": [
    "#Df showing full year sales by store 2016\n",
    "print 'Nunique stores: ' + str(idf['store'].nunique())\n",
    "idf_store_2016 = idf_2016.groupby(['store']) \\\n",
    "[['sales', 'profit', 'bottles_sold', 'volume_sold']].agg(sum)\n",
    "idf_store_2016.reset_index(inplace=True)\n",
    "idf_store_2016.head(3)"
   ]
  },
  {
   "cell_type": "code",
   "execution_count": null,
   "metadata": {
    "collapsed": false
   },
   "outputs": [],
   "source": [
    "idf_store_2016.plot(x='store', y=['profit', 'sales'], kind= 'bar')"
   ]
  },
  {
   "cell_type": "code",
   "execution_count": null,
   "metadata": {
    "collapsed": true
   },
   "outputs": [],
   "source": []
  },
  {
   "cell_type": "code",
   "execution_count": null,
   "metadata": {
    "collapsed": false
   },
   "outputs": [],
   "source": [
    "#Df showing full year sales by county 2015\n",
    "print 'Nunique counties: ' + str(idf['county'].nunique())\n",
    "idf_county_2015 = idf_2015.groupby(['county']) \\\n",
    "[['sales', 'profit', 'bottles_sold', 'volume_sold']].agg(sum)\n",
    "idf_county_2015.reset_index(inplace=True)\n",
    "idf_county_2015.tail(3)"
   ]
  },
  {
   "cell_type": "raw",
   "metadata": {},
   "source": [
    "idf_county_2015.plot(x='county', y='sales',label='total_2015_sales_by_county', kind='bar', figsize=(16,8))"
   ]
  },
  {
   "cell_type": "code",
   "execution_count": null,
   "metadata": {
    "collapsed": false
   },
   "outputs": [],
   "source": [
    "#Df showing full year sales by city 2015\n",
    "print 'Nunique cities: ' + str(idf['city'].nunique())\n",
    "idf_city_2015 = idf_2015.groupby(['city']) \\\n",
    "[['sales', 'profit', 'bottles_sold', 'volume_sold']].agg(sum)\n",
    "idf_city_2015.reset_index(inplace=True)\n",
    "idf_city_2015.tail(3)"
   ]
  },
  {
   "cell_type": "code",
   "execution_count": null,
   "metadata": {
    "collapsed": false
   },
   "outputs": [],
   "source": [
    "#Df showing full year sales by zip 2015\n",
    "print 'Nunique zip codes: ' + str(idf['zip_code'].nunique())\n",
    "idf_zip_2015 = idf_2015.groupby(['zip_code']) \\\n",
    "[['sales', 'profit', 'bottles_sold', 'volume_sold']].agg(sum)\n",
    "idf_zip_2015.reset_index(inplace=True)\n",
    "idf_zip_2015.tail(3)"
   ]
  },
  {
   "cell_type": "code",
   "execution_count": null,
   "metadata": {
    "collapsed": false
   },
   "outputs": [],
   "source": [
    "#Df showing full year sales by category\n",
    "print 'Nunique categories: ' + str(idf['category_name'].nunique())\n",
    "idf_category_2015 = idf_2015.groupby(['category_name']) \\\n",
    "[['sales', 'profit', 'bottles_sold', 'volume_sold']].agg(sum)\n",
    "idf_category_2015.reset_index(inplace=True)\n",
    "idf_category_2015.tail(3)"
   ]
  },
  {
   "cell_type": "code",
   "execution_count": null,
   "metadata": {
    "collapsed": false
   },
   "outputs": [],
   "source": [
    "quarter_sales = idf[idf[\"year\"]==2015].groupby([\"quarter\"])[\"sales\"].agg([np.sum])\n",
    "quarter_sales.columns = [\"Total Sales\"]\n",
    "quarter_sales = quarter_sales.applymap(lambda x: x/100000)\n",
    "\n",
    "ax = quarter_sales.plot(kind=\"bar\", figsize=(10,6))\n",
    "ax.set_title(\"2015 Sales by Quarter\", y=1.01, fontsize=30)\n",
    "ax.set_xlabel('Quarter', fontsize=16)\n",
    "ax.set_ylabel('Sales (in $mm)', fontsize=16)\n",
    "ax.tick_params(axis='both', which='both', labelsize=16)\n"
   ]
  },
  {
   "cell_type": "code",
   "execution_count": null,
   "metadata": {
    "collapsed": false
   },
   "outputs": [],
   "source": []
  },
  {
   "cell_type": "code",
   "execution_count": null,
   "metadata": {
    "collapsed": true
   },
   "outputs": [],
   "source": []
  },
  {
   "cell_type": "code",
   "execution_count": null,
   "metadata": {
    "collapsed": true
   },
   "outputs": [],
   "source": []
  },
  {
   "cell_type": "code",
   "execution_count": null,
   "metadata": {
    "collapsed": true
   },
   "outputs": [],
   "source": []
  },
  {
   "cell_type": "code",
   "execution_count": null,
   "metadata": {
    "collapsed": true
   },
   "outputs": [],
   "source": []
  },
  {
   "cell_type": "code",
   "execution_count": null,
   "metadata": {
    "collapsed": true
   },
   "outputs": [],
   "source": []
  },
  {
   "cell_type": "code",
   "execution_count": null,
   "metadata": {
    "collapsed": true
   },
   "outputs": [],
   "source": []
  },
  {
   "cell_type": "code",
   "execution_count": null,
   "metadata": {
    "collapsed": true
   },
   "outputs": [],
   "source": []
  },
  {
   "cell_type": "code",
   "execution_count": null,
   "metadata": {
    "collapsed": false
   },
   "outputs": [],
   "source": [
    "def my_pivot(df, index, values, aggfunc, plt=False):\n",
    "    piv = pd.pivot_table(df, index=index, values=values, aggfunc=aggfunc)\n",
    "    #piv.sort_values(by = ['week'], inplace=True)\n",
    "    #print piv\n",
    "    if plt: piv.plot(title= 'Average Current Liquor Sales by County',kind='hist', figsize=(16,8),bins=40)\n",
    "\n",
    "my_pivot(idf, index=[\"store\"], values=['sales'], aggfunc=np.mean, plt=True)"
   ]
  },
  {
   "cell_type": "code",
   "execution_count": null,
   "metadata": {
    "collapsed": true
   },
   "outputs": [],
   "source": []
  },
  {
   "cell_type": "code",
   "execution_count": null,
   "metadata": {
    "collapsed": true
   },
   "outputs": [],
   "source": []
  },
  {
   "cell_type": "code",
   "execution_count": null,
   "metadata": {
    "collapsed": true
   },
   "outputs": [],
   "source": []
  },
  {
   "cell_type": "code",
   "execution_count": null,
   "metadata": {
    "collapsed": true
   },
   "outputs": [],
   "source": []
  },
  {
   "cell_type": "code",
   "execution_count": null,
   "metadata": {
    "collapsed": true
   },
   "outputs": [],
   "source": []
  },
  {
   "cell_type": "code",
   "execution_count": null,
   "metadata": {
    "collapsed": true
   },
   "outputs": [],
   "source": []
  },
  {
   "cell_type": "code",
   "execution_count": null,
   "metadata": {
    "collapsed": true
   },
   "outputs": [],
   "source": []
  },
  {
   "cell_type": "code",
   "execution_count": null,
   "metadata": {
    "collapsed": true
   },
   "outputs": [],
   "source": []
  },
  {
   "cell_type": "code",
   "execution_count": null,
   "metadata": {
    "collapsed": true
   },
   "outputs": [],
   "source": []
  },
  {
   "cell_type": "code",
   "execution_count": null,
   "metadata": {
    "collapsed": true
   },
   "outputs": [],
   "source": []
  },
  {
   "cell_type": "code",
   "execution_count": null,
   "metadata": {
    "collapsed": true
   },
   "outputs": [],
   "source": []
  },
  {
   "cell_type": "code",
   "execution_count": null,
   "metadata": {
    "collapsed": true
   },
   "outputs": [],
   "source": []
  },
  {
   "cell_type": "code",
   "execution_count": null,
   "metadata": {
    "collapsed": false,
    "scrolled": true
   },
   "outputs": [],
   "source": [
    "sns.heatmap(iowa.corr())"
   ]
  },
  {
   "cell_type": "code",
   "execution_count": null,
   "metadata": {
    "collapsed": true
   },
   "outputs": [],
   "source": [
    "iowa_target = pd.DataFrame(iowa['sales'])"
   ]
  },
  {
   "cell_type": "code",
   "execution_count": null,
   "metadata": {
    "collapsed": false
   },
   "outputs": [],
   "source": [
    "ax = sns.regplot(y_pred, y)\n",
    "ax.figure.set_figheight(6)\n",
    "ax.figure.set_figwidth(14)\n",
    "\n",
    "ax.set_ylabel('Actual Values')\n",
    "ax.set_xlabel('Predicted Values')\n",
    "ax.set_title('Predicted vs. Actual Values');"
   ]
  },
  {
   "cell_type": "code",
   "execution_count": null,
   "metadata": {
    "collapsed": false
   },
   "outputs": [],
   "source": [
    "lr_r2 =  r2_score(y_true=y, y_pred=y_pred)\n",
    "lr_r2"
   ]
  },
  {
   "cell_type": "code",
   "execution_count": null,
   "metadata": {
    "collapsed": false
   },
   "outputs": [],
   "source": [
    "len(lr_model.coef_)"
   ]
  },
  {
   "cell_type": "code",
   "execution_count": null,
   "metadata": {
    "collapsed": false
   },
   "outputs": [],
   "source": [
    "lr_model.coef_"
   ]
  },
  {
   "cell_type": "code",
   "execution_count": null,
   "metadata": {
    "collapsed": false
   },
   "outputs": [],
   "source": [
    "iowa['bottle_volume'].unique()"
   ]
  },
  {
   "cell_type": "code",
   "execution_count": null,
   "metadata": {
    "collapsed": true
   },
   "outputs": [],
   "source": [
    "{'vodka': }\n",
    "#vodka\n",
    "#schnapps\n",
    "#whiskey\n",
    "#rum\n",
    "#scotch\n",
    "#gin\n",
    "#liqueurs\n",
    "#brandies\n",
    "#tequila\n",
    "#beer\n",
    "#other\n"
   ]
  },
  {
   "cell_type": "markdown",
   "metadata": {},
   "source": [
    "# Explore the data\n",
    "\n",
    "Perform some exploratory statistical analysis and make some plots, such as histograms of transaction totals, bottles sold, etc."
   ]
  },
  {
   "cell_type": "code",
   "execution_count": null,
   "metadata": {
    "collapsed": true
   },
   "outputs": [],
   "source": [
    "import seaborn as sns\n",
    "import matplotlib.pyplot as plt"
   ]
  },
  {
   "cell_type": "code",
   "execution_count": null,
   "metadata": {
    "collapsed": false
   },
   "outputs": [],
   "source": [
    "len(iowa['County'].value_counts())"
   ]
  },
  {
   "cell_type": "code",
   "execution_count": null,
   "metadata": {
    "collapsed": false
   },
   "outputs": [],
   "source": [
    "iowa_county = pd.pivot_table(iowa, index=iowa['County'], values=['Sale (Dollars)'])\n",
    "iowa_county.head()"
   ]
  },
  {
   "cell_type": "markdown",
   "metadata": {},
   "source": [
    "## Record your findings\n",
    "\n",
    "Be sure to write out anything observations from your exploratory analysis."
   ]
  },
  {
   "cell_type": "markdown",
   "metadata": {},
   "source": [
    "# Mine the data\n",
    "Now you are ready to compute the variables you will use for your regression from the data. For example, you may want to\n",
    "compute total sales per store from Jan to March of 2015, mean price per bottle, etc. Refer to the readme for more ideas appropriate to your scenario.\n",
    "\n",
    "Pandas is your friend for this task. Take a look at the operations [here](http://pandas.pydata.org/pandas-docs/stable/groupby.html) for ideas on how to make the best use of pandas and feel free to search for blog and Stack Overflow posts to help you group data by certain variables and compute sums, means, etc. You may find it useful to create a new data frame to house this summary data."
   ]
  },
  {
   "cell_type": "markdown",
   "metadata": {},
   "source": [
    "# Refine the data\n",
    "Look for any statistical relationships, correlations, or other relevant properties of the dataset."
   ]
  },
  {
   "cell_type": "code",
   "execution_count": null,
   "metadata": {
    "collapsed": true
   },
   "outputs": [],
   "source": []
  },
  {
   "cell_type": "markdown",
   "metadata": {},
   "source": [
    "# Build your models\n",
    "\n",
    "Using scikit-learn or statsmodels, build the necessary models for your scenario. Evaluate model fit."
   ]
  },
  {
   "cell_type": "code",
   "execution_count": null,
   "metadata": {
    "collapsed": true
   },
   "outputs": [],
   "source": [
    "from sklearn import linear_model\n"
   ]
  },
  {
   "cell_type": "markdown",
   "metadata": {},
   "source": [
    "## Plot your results\n",
    "\n",
    "Again make sure that you record any valuable information. For example, in the tax scenario, did you find the sales from the first three months of the year to be a good predictor of the total sales for the year? Plot the predictions versus the true values and discuss the successes and limitations of your models"
   ]
  },
  {
   "cell_type": "code",
   "execution_count": null,
   "metadata": {
    "collapsed": true
   },
   "outputs": [],
   "source": []
  },
  {
   "cell_type": "markdown",
   "metadata": {},
   "source": [
    "# Present the Results\n",
    "\n",
    "Present your conclusions and results. If you have more than one interesting model feel free to include more than one along with a discussion. Use your work in this notebook to prepare your write-up."
   ]
  },
  {
   "cell_type": "code",
   "execution_count": null,
   "metadata": {
    "collapsed": true
   },
   "outputs": [],
   "source": []
  }
 ],
 "metadata": {
  "anaconda-cloud": {},
  "kernelspec": {
   "display_name": "Python [default]",
   "language": "python",
   "name": "python2"
  },
  "language_info": {
   "codemirror_mode": {
    "name": "ipython",
    "version": 2
   },
   "file_extension": ".py",
   "mimetype": "text/x-python",
   "name": "python",
   "nbconvert_exporter": "python",
   "pygments_lexer": "ipython2",
   "version": "2.7.12"
  }
 },
 "nbformat": 4,
 "nbformat_minor": 0
}
