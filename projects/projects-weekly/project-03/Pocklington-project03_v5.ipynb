{
 "cells": [
  {
   "cell_type": "markdown",
   "metadata": {},
   "source": [
    "# Getting started\n",
    "\n",
    "Once you've chosen your scenario, download the data from [the Iowa website](https://data.iowa.gov/Economy/Iowa-Liquor-Sales/m3tr-qhgy) in csv format. Start by loading the data with pandas. You may need to parse the date columns appropriately."
   ]
  },
  {
   "cell_type": "code",
   "execution_count": 1,
   "metadata": {
    "collapsed": false
   },
   "outputs": [],
   "source": [
    "#import libraries\n",
    "import pandas as pd\n",
    "import numpy as np\n",
    "import seaborn as sns\n",
    "import matplotlib as plt\n",
    "%matplotlib inline \n",
    "\n",
    "from sklearn import datasets\n",
    "from sklearn import linear_model\n",
    "from sklearn.metrics import r2_score\n",
    "from sklearn.cross_validation import train_test_split\n",
    "from sklearn.cross_validation import cross_val_score\n",
    "from sklearn.cross_validation import cross_val_predict\n",
    "from sklearn.metrics import r2_score\n",
    "from sklearn.metrics import mean_squared_error"
   ]
  },
  {
   "cell_type": "code",
   "execution_count": 2,
   "metadata": {
    "collapsed": false
   },
   "outputs": [],
   "source": [
    "## Load the data into a DataFrame\n",
    "iowa = pd.read_csv('/Users/macbook/GA-DSI/projects/projects-weekly/project-03/Iowa_Liquor_sales_sample_10pct.csv')"
   ]
  },
  {
   "cell_type": "code",
   "execution_count": 3,
   "metadata": {
    "collapsed": false
   },
   "outputs": [
    {
     "data": {
      "text/html": [
       "<div>\n",
       "<table border=\"1\" class=\"dataframe\">\n",
       "  <thead>\n",
       "    <tr style=\"text-align: right;\">\n",
       "      <th></th>\n",
       "      <th>Date</th>\n",
       "      <th>Store Number</th>\n",
       "      <th>City</th>\n",
       "      <th>Zip Code</th>\n",
       "      <th>County Number</th>\n",
       "      <th>County</th>\n",
       "      <th>Category</th>\n",
       "      <th>Category Name</th>\n",
       "      <th>Vendor Number</th>\n",
       "      <th>Item Number</th>\n",
       "      <th>Item Description</th>\n",
       "      <th>Bottle Volume (ml)</th>\n",
       "      <th>State Bottle Cost</th>\n",
       "      <th>State Bottle Retail</th>\n",
       "      <th>Bottles Sold</th>\n",
       "      <th>Sale (Dollars)</th>\n",
       "      <th>Volume Sold (Liters)</th>\n",
       "      <th>Volume Sold (Gallons)</th>\n",
       "    </tr>\n",
       "  </thead>\n",
       "  <tbody>\n",
       "    <tr>\n",
       "      <th>0</th>\n",
       "      <td>11/04/2015</td>\n",
       "      <td>3717</td>\n",
       "      <td>SUMNER</td>\n",
       "      <td>50674</td>\n",
       "      <td>9.0</td>\n",
       "      <td>Bremer</td>\n",
       "      <td>1051100.0</td>\n",
       "      <td>APRICOT BRANDIES</td>\n",
       "      <td>55</td>\n",
       "      <td>54436</td>\n",
       "      <td>Mr. Boston Apricot Brandy</td>\n",
       "      <td>750</td>\n",
       "      <td>$4.50</td>\n",
       "      <td>$6.75</td>\n",
       "      <td>12</td>\n",
       "      <td>$81.00</td>\n",
       "      <td>9.0</td>\n",
       "      <td>2.38</td>\n",
       "    </tr>\n",
       "    <tr>\n",
       "      <th>1</th>\n",
       "      <td>03/02/2016</td>\n",
       "      <td>2614</td>\n",
       "      <td>DAVENPORT</td>\n",
       "      <td>52807</td>\n",
       "      <td>82.0</td>\n",
       "      <td>Scott</td>\n",
       "      <td>1011100.0</td>\n",
       "      <td>BLENDED WHISKIES</td>\n",
       "      <td>395</td>\n",
       "      <td>27605</td>\n",
       "      <td>Tin Cup</td>\n",
       "      <td>750</td>\n",
       "      <td>$13.75</td>\n",
       "      <td>$20.63</td>\n",
       "      <td>2</td>\n",
       "      <td>$41.26</td>\n",
       "      <td>1.5</td>\n",
       "      <td>0.40</td>\n",
       "    </tr>\n",
       "    <tr>\n",
       "      <th>2</th>\n",
       "      <td>02/11/2016</td>\n",
       "      <td>2106</td>\n",
       "      <td>CEDAR FALLS</td>\n",
       "      <td>50613</td>\n",
       "      <td>7.0</td>\n",
       "      <td>Black Hawk</td>\n",
       "      <td>1011200.0</td>\n",
       "      <td>STRAIGHT BOURBON WHISKIES</td>\n",
       "      <td>65</td>\n",
       "      <td>19067</td>\n",
       "      <td>Jim Beam</td>\n",
       "      <td>1000</td>\n",
       "      <td>$12.59</td>\n",
       "      <td>$18.89</td>\n",
       "      <td>24</td>\n",
       "      <td>$453.36</td>\n",
       "      <td>24.0</td>\n",
       "      <td>6.34</td>\n",
       "    </tr>\n",
       "  </tbody>\n",
       "</table>\n",
       "</div>"
      ],
      "text/plain": [
       "         Date  Store Number         City Zip Code  County Number      County  \\\n",
       "0  11/04/2015          3717       SUMNER    50674            9.0      Bremer   \n",
       "1  03/02/2016          2614    DAVENPORT    52807           82.0       Scott   \n",
       "2  02/11/2016          2106  CEDAR FALLS    50613            7.0  Black Hawk   \n",
       "\n",
       "    Category              Category Name  Vendor Number  Item Number  \\\n",
       "0  1051100.0           APRICOT BRANDIES             55        54436   \n",
       "1  1011100.0           BLENDED WHISKIES            395        27605   \n",
       "2  1011200.0  STRAIGHT BOURBON WHISKIES             65        19067   \n",
       "\n",
       "            Item Description  Bottle Volume (ml) State Bottle Cost  \\\n",
       "0  Mr. Boston Apricot Brandy                 750             $4.50   \n",
       "1                    Tin Cup                 750            $13.75   \n",
       "2                   Jim Beam                1000            $12.59   \n",
       "\n",
       "  State Bottle Retail  Bottles Sold Sale (Dollars)  Volume Sold (Liters)  \\\n",
       "0               $6.75            12         $81.00                   9.0   \n",
       "1              $20.63             2         $41.26                   1.5   \n",
       "2              $18.89            24        $453.36                  24.0   \n",
       "\n",
       "   Volume Sold (Gallons)  \n",
       "0                   2.38  \n",
       "1                   0.40  \n",
       "2                   6.34  "
      ]
     },
     "execution_count": 3,
     "metadata": {},
     "output_type": "execute_result"
    }
   ],
   "source": [
    "iowa.head(3)"
   ]
  },
  {
   "cell_type": "code",
   "execution_count": 4,
   "metadata": {
    "collapsed": false
   },
   "outputs": [
    {
     "data": {
      "text/plain": [
       "Date                      object\n",
       "Store Number               int64\n",
       "City                      object\n",
       "Zip Code                  object\n",
       "County Number            float64\n",
       "County                    object\n",
       "Category                 float64\n",
       "Category Name             object\n",
       "Vendor Number              int64\n",
       "Item Number                int64\n",
       "Item Description          object\n",
       "Bottle Volume (ml)         int64\n",
       "State Bottle Cost         object\n",
       "State Bottle Retail       object\n",
       "Bottles Sold               int64\n",
       "Sale (Dollars)            object\n",
       "Volume Sold (Liters)     float64\n",
       "Volume Sold (Gallons)    float64\n",
       "dtype: object"
      ]
     },
     "execution_count": 4,
     "metadata": {},
     "output_type": "execute_result"
    }
   ],
   "source": [
    "iowa.dtypes"
   ]
  },
  {
   "cell_type": "code",
   "execution_count": 5,
   "metadata": {
    "collapsed": false
   },
   "outputs": [
    {
     "name": "stdout",
     "output_type": "stream",
     "text": [
      "Index([u'Date', u'Store Number', u'City', u'Zip Code', u'County Number',\n",
      "       u'County', u'Category', u'Category Name', u'Vendor Number',\n",
      "       u'Item Number', u'Item Description', u'Bottle Volume (ml)',\n",
      "       u'State Bottle Cost', u'State Bottle Retail', u'Bottles Sold',\n",
      "       u'Sale (Dollars)', u'Volume Sold (Liters)', u'Volume Sold (Gallons)'],\n",
      "      dtype='object')\n",
      "(270955, 18)\n"
     ]
    }
   ],
   "source": [
    "print iowa.columns\n",
    "print iowa.shape"
   ]
  },
  {
   "cell_type": "markdown",
   "metadata": {},
   "source": [
    "# Clean Data"
   ]
  },
  {
   "cell_type": "markdown",
   "metadata": {},
   "source": [
    "### Drop duplicate (unnecessary) columns"
   ]
  },
  {
   "cell_type": "code",
   "execution_count": 6,
   "metadata": {
    "collapsed": false
   },
   "outputs": [],
   "source": [
    "# Drop cols that contain same info as another col\n",
    "iowa.drop(['County Number', 'Item Number', 'Volume Sold (Gallons)'], axis=1, inplace=True)"
   ]
  },
  {
   "cell_type": "code",
   "execution_count": 7,
   "metadata": {
    "collapsed": false
   },
   "outputs": [
    {
     "data": {
      "text/html": [
       "<div>\n",
       "<table border=\"1\" class=\"dataframe\">\n",
       "  <thead>\n",
       "    <tr style=\"text-align: right;\">\n",
       "      <th></th>\n",
       "      <th></th>\n",
       "    </tr>\n",
       "    <tr>\n",
       "      <th>Category</th>\n",
       "      <th>Category Name</th>\n",
       "    </tr>\n",
       "  </thead>\n",
       "  <tbody>\n",
       "    <tr>\n",
       "      <th>1011100.0</th>\n",
       "      <th>BLENDED WHISKIES</th>\n",
       "    </tr>\n",
       "    <tr>\n",
       "      <th>1011200.0</th>\n",
       "      <th>STRAIGHT BOURBON WHISKIES</th>\n",
       "    </tr>\n",
       "  </tbody>\n",
       "</table>\n",
       "</div>"
      ],
      "text/plain": [
       "Empty DataFrame\n",
       "Columns: []\n",
       "Index: [(1011100.0, BLENDED WHISKIES), (1011200.0, STRAIGHT BOURBON WHISKIES)]"
      ]
     },
     "execution_count": 7,
     "metadata": {},
     "output_type": "execute_result"
    }
   ],
   "source": [
    "# Made a separate df for category to category name mapping for future reference\n",
    "category_df = pd.pivot_table(iowa, index=['Category', 'Category Name'], values=['Bottles Sold'])\n",
    "category_df.drop('Bottles Sold', axis=1, inplace=True)\n",
    "category_df.head(2)"
   ]
  },
  {
   "cell_type": "markdown",
   "metadata": {},
   "source": [
    "### Clean column names"
   ]
  },
  {
   "cell_type": "code",
   "execution_count": 8,
   "metadata": {
    "collapsed": false
   },
   "outputs": [],
   "source": [
    "# Clean column name 1: Rename columns\n",
    "iowa.rename(columns={'Store Number':'Store', 'Bottle Volume (ml)':'Bottle Volume', 'Sale (Dollars)':'Sales', \\\n",
    "               'Volume Sold (Liters)':'Volume Sold'}, inplace=True)\n",
    "\n",
    "# Clean column names 2: Change all column names to lowercase letters\n",
    "iowa.rename(columns=lambda x: x.lower(), inplace=True)\n",
    "\n",
    "# Clean column names 3: Replace ' ' with '_'\n",
    "iowa.rename(columns=lambda x: x.replace(\" \",\"_\"), inplace=True)"
   ]
  },
  {
   "cell_type": "markdown",
   "metadata": {},
   "source": [
    "\n",
    "### Clean values in columns with currency and date"
   ]
  },
  {
   "cell_type": "code",
   "execution_count": 9,
   "metadata": {
    "collapsed": false
   },
   "outputs": [],
   "source": [
    "# Convert columns with dollar amounts from object to numeric float\n",
    "currency = ['sales', 'state_bottle_cost', 'state_bottle_retail']\n",
    "iowa[currency] = iowa[currency].apply(lambda x: x.str.replace('$',''))\n",
    "iowa[currency] = iowa[currency].apply(lambda x: x.str.replace(',',''))\n",
    "iowa[currency] = iowa[currency].apply(lambda x: pd.to_numeric(x))"
   ]
  },
  {
   "cell_type": "code",
   "execution_count": 10,
   "metadata": {
    "collapsed": false
   },
   "outputs": [],
   "source": [
    "# Convert date from object to datetime\n",
    "iowa['date'] = pd.to_datetime(iowa['date'])\n",
    "%timeit "
   ]
  },
  {
   "cell_type": "code",
   "execution_count": 11,
   "metadata": {
    "collapsed": false
   },
   "outputs": [
    {
     "name": "stdout",
     "output_type": "stream",
     "text": [
      "415\n",
      "['50674' '52807' '50613' '50010' '50421' '52402' '52501' '50428' '50035'\n",
      " '52332' '50265' '52577' '52806' '52656' '52241' '50703' '50208' '52342'\n",
      " '51250' '50401' '51351' '52246' '51501' '50111' '52245' '52632' '50125'\n",
      " '50501' '50311' '50317' '50124' '52804' '50320' '50651' '50129' '50021'\n",
      " '52224' '50533' '50212' '52060' '51401' '50595' '51104' '52404' '52353'\n",
      " '50616' '52057' '51201' '50009' '50588' '52802' '51503' '50638' '51106'\n",
      " '51360' '52001' '50250' '51461' '52641' '52303' '50115' '52144' '51301'\n",
      " '52761' '50851' '51555' '52240' '50126' '50511' '50310' '50263' '50314'\n",
      " '52753' '50701' '50140' '52732' '50665' '52601' '712-2' '51041' '51455'\n",
      " '51453' '52405' '52302' '50023' '50131' '50662' '52310' '50423' '52208'\n",
      " '52361' '50201' '50003' '50315' '52136' '52544' '52556' '51334' '50158'\n",
      " '52778' '51601' '52337' '51105' '51632' '50583' '50325' '50707' '51103'\n",
      " '51040' '52340' '52101' '50220' '52356' '52172' '52043' '50450' '50676'\n",
      " '50036' '52803' '50028' '50112' '50219' '52205' '52317' '50644' '50441'\n",
      " '50316' '52087' '52637' '51012' '52401' '50548' '52159' '52655' '50322'\n",
      " '50138' '52722' '51004' '52591' '50436' '51031' '50248' '51247' '51537'\n",
      " '50677' '50266' '50006' '50619' '50213' '50171' '52003' '52228' '50163'\n",
      " '51331' '51442' '52748' '50536' '51034' '50022' '51028' '52776' '51546'\n",
      " '51241' '50438' '52084' '52403' '50156' '52345' '52627' '52036' '52314'\n",
      " '51246' '50702' '50321' '50554' '52033' '51025' '50667' '52301' '52772'\n",
      " '50801' '51054' '50312' '51640' '51566' '50327' '50071' '51101' '52738'\n",
      " '50621' '52553' '50846' '50228' '52358' '51248' '50461' '50622' '52002'\n",
      " '50627' '51561' '50014' '50273' '50226' '52411' '50647' '51237' '51023'\n",
      " '50628' '52537' '50049' '51108' '52211' '50648' '50170' '52333' '52031'\n",
      " '51560' '52733' '51449' '50309' '52747' '52076' '50313' '50849' '50574'\n",
      " '52653' '50046' '52040' '51445' '50075' '52052' '50076' '50060' '50472'\n",
      " '50211' '51245' '52151' '50142' '51347' '50207' '50601' '51109' '52349'\n",
      " '51058' '50249' '50483' '51521' '50109' '51249' '50659' '52626' '52175'\n",
      " '50459' '51510' '52531' '50424' '52726' '50517' '56201' '50636' '51577'\n",
      " '52037' '51551' '52233' '50107' '51534' '50054' '52068' '50435' '50602'\n",
      " '50058' '50216' '52639' '50585' '50525' '50841' '52327' '50033' '52253'\n",
      " '50630' '50323' '52248' '50069' '50629' '52565' '51346' '50225' '52213'\n",
      " '50563' '52623' '50597' '52227' '50135' '51355' '50529' '52162' '52154'\n",
      " '52146' '52338' '51450' '51046' '52042' '52214' '51001' '50324' '50144'\n",
      " '50830' '52347' '51240' '50475' '50543' '51443' '50643' '52751' '50541'\n",
      " '50675' '50833' '52142' '52554' '50276' '50658' '51559' '51342' '50247'\n",
      " '51055' '50469' '50300' '52768' '51462' '52079' '50002' '52730' '50581'\n",
      " '51579' '50244' '50854' '50025' '50864' '50150' '50535' '50122' '51530'\n",
      " '50047' '52728' '50020' '50682' '52625' '52053' '52324' '51027' '50641'\n",
      " '51526' '50579' '51050' '50606' '52306' '52742' '50669' '51358' '50251'\n",
      " '52336' '50635' '52254' '51338' '50458' '50056' '50240' '50530' '52207'\n",
      " '50590' '50161' '50048' '50072' '50044' '50261' '50680' '52316' '52571'\n",
      " '50136' '50466' '51035' '50130' '51238' '51466' '52046' '51575' '52223'\n",
      " '50210' '50160' '50123' '52777' '52166' '50456' '51053' '50452' '50061'\n",
      " '50634' '52351' '52352' '50569' '51002' '50514' '51553' '51653' '50540'\n",
      " '51005' '50430' '52590' '52801' '52328' '50542' '51535' '51038' '50162'\n",
      " '50237']\n"
     ]
    }
   ],
   "source": [
    "# Convert zip code to int\n",
    "print iowa['zip_code'].nunique()\n",
    "print iowa['zip_code'].unique()\n",
    "# One problematic value: 712-2"
   ]
  },
  {
   "cell_type": "code",
   "execution_count": 12,
   "metadata": {
    "collapsed": false
   },
   "outputs": [
    {
     "data": {
      "text/plain": [
       "0    50674.0\n",
       "1    52807.0\n",
       "Name: zip_code, dtype: float64"
      ]
     },
     "execution_count": 12,
     "metadata": {},
     "output_type": "execute_result"
    }
   ],
   "source": [
    "# Drop problematic zip code and convert rest to int\n",
    "iowa['zip_code'] = pd.to_numeric(iowa[\"zip_code\"], errors='coerce')\n",
    "iowa.fillna(np.nan)\n",
    "iowa['zip_code'].dropna().astype(int)\n",
    "iowa['zip_code'].head(2)"
   ]
  },
  {
   "cell_type": "code",
   "execution_count": 13,
   "metadata": {
    "collapsed": false
   },
   "outputs": [
    {
     "name": "stdout",
     "output_type": "stream",
     "text": [
      "<class 'pandas.core.frame.DataFrame'>\n",
      "RangeIndex: 270955 entries, 0 to 270954\n",
      "Data columns (total 15 columns):\n",
      "date                   270955 non-null datetime64[ns]\n",
      "store                  270955 non-null int64\n",
      "city                   270955 non-null object\n",
      "zip_code               270738 non-null float64\n",
      "county                 269878 non-null object\n",
      "category               270887 non-null float64\n",
      "category_name          270323 non-null object\n",
      "vendor_number          270955 non-null int64\n",
      "item_description       270955 non-null object\n",
      "bottle_volume          270955 non-null int64\n",
      "state_bottle_cost      270955 non-null float64\n",
      "state_bottle_retail    270955 non-null float64\n",
      "bottles_sold           270955 non-null int64\n",
      "sales                  270955 non-null float64\n",
      "volume_sold            270955 non-null float64\n",
      "dtypes: datetime64[ns](1), float64(6), int64(4), object(4)\n",
      "memory usage: 31.0+ MB\n"
     ]
    }
   ],
   "source": [
    "iowa.info()"
   ]
  },
  {
   "cell_type": "markdown",
   "metadata": {},
   "source": [
    "### Convert dtype object to str"
   ]
  },
  {
   "cell_type": "code",
   "execution_count": 14,
   "metadata": {
    "collapsed": true
   },
   "outputs": [],
   "source": [
    "iowa['city'] = iowa['city'].astype(str)\n",
    "iowa['county'] = iowa['county'].astype(str)\n",
    "iowa['category_name'] = iowa['category_name'].astype(str)\n",
    "iowa['item_description'] = iowa['item_description'].astype(str)"
   ]
  },
  {
   "cell_type": "markdown",
   "metadata": {},
   "source": [
    "### Extract dates into year, quarter and month"
   ]
  },
  {
   "cell_type": "code",
   "execution_count": 15,
   "metadata": {
    "collapsed": false
   },
   "outputs": [],
   "source": [
    "def extract_month(x):\n",
    "    month = str('{:02d}'.format(x.month)) + \"-\" + str((x.year))\n",
    "    return month\n",
    "def extract_quarter(x):\n",
    "    quarter = \"Q\" + str(x.quarter) + \"-\" + str(x.year)\n",
    "    return quarter\n",
    "\n",
    "iowa[\"year\"] = iowa[\"date\"].dt.year\n",
    "iowa[\"quarter\"] = iowa[\"date\"].apply(extract_quarter)\n",
    "iowa[\"month\"] = iowa[\"date\"].apply(extract_month)"
   ]
  },
  {
   "cell_type": "markdown",
   "metadata": {},
   "source": [
    "### Check for and replace NaNs"
   ]
  },
  {
   "cell_type": "code",
   "execution_count": 16,
   "metadata": {
    "collapsed": false
   },
   "outputs": [
    {
     "data": {
      "text/plain": [
       "date                     0\n",
       "store                    0\n",
       "city                     0\n",
       "zip_code               217\n",
       "county                   0\n",
       "category                68\n",
       "category_name            0\n",
       "vendor_number            0\n",
       "item_description         0\n",
       "bottle_volume            0\n",
       "state_bottle_cost        0\n",
       "state_bottle_retail      0\n",
       "bottles_sold             0\n",
       "sales                    0\n",
       "volume_sold              0\n",
       "year                     0\n",
       "quarter                  0\n",
       "month                    0\n",
       "dtype: int64"
      ]
     },
     "execution_count": 16,
     "metadata": {},
     "output_type": "execute_result"
    }
   ],
   "source": [
    "iowa.isnull().sum()\n",
    "#Will leave zip_code NaNs as I filled problematic zip code with np.nan above"
   ]
  },
  {
   "cell_type": "markdown",
   "metadata": {},
   "source": [
    "### Remove Duplicate County Names & Fill in Missing Counties"
   ]
  },
  {
   "cell_type": "code",
   "execution_count": 17,
   "metadata": {
    "collapsed": false
   },
   "outputs": [
    {
     "data": {
      "text/html": [
       "<div>\n",
       "<table border=\"1\" class=\"dataframe\">\n",
       "  <thead>\n",
       "    <tr style=\"text-align: right;\">\n",
       "      <th></th>\n",
       "      <th>city</th>\n",
       "      <th>county</th>\n",
       "    </tr>\n",
       "  </thead>\n",
       "  <tbody>\n",
       "    <tr>\n",
       "      <th>0</th>\n",
       "      <td>ACKLEY</td>\n",
       "      <td>Hardin</td>\n",
       "    </tr>\n",
       "    <tr>\n",
       "      <th>1</th>\n",
       "      <td>ACKLEY</td>\n",
       "      <td>Webster</td>\n",
       "    </tr>\n",
       "    <tr>\n",
       "      <th>2</th>\n",
       "      <td>ACKLEY</td>\n",
       "      <td>nan</td>\n",
       "    </tr>\n",
       "    <tr>\n",
       "      <th>3</th>\n",
       "      <td>ADAIR</td>\n",
       "      <td>Adair</td>\n",
       "    </tr>\n",
       "    <tr>\n",
       "      <th>4</th>\n",
       "      <td>ADEL</td>\n",
       "      <td>Dallas</td>\n",
       "    </tr>\n",
       "  </tbody>\n",
       "</table>\n",
       "</div>"
      ],
      "text/plain": [
       "     city   county\n",
       "0  ACKLEY   Hardin\n",
       "1  ACKLEY  Webster\n",
       "2  ACKLEY      nan\n",
       "3   ADAIR    Adair\n",
       "4    ADEL   Dallas"
      ]
     },
     "execution_count": 17,
     "metadata": {},
     "output_type": "execute_result"
    }
   ],
   "source": [
    "# Match missing County with City\n",
    "df_county = pd.pivot_table(iowa, index=['city', 'county'], values=['sales'], aggfunc=sum)\n",
    "df_county.drop('sales', axis=1, inplace=True)\n",
    "df_county.reset_index(inplace=True)\n",
    "df_county.head()"
   ]
  },
  {
   "cell_type": "code",
   "execution_count": 18,
   "metadata": {
    "collapsed": false
   },
   "outputs": [
    {
     "name": "stdout",
     "output_type": "stream",
     "text": [
      "44\n"
     ]
    },
    {
     "data": {
      "text/plain": [
       "1               ACKLEY\n",
       "2               ACKLEY\n",
       "13             ALTOONA\n",
       "16             ANAMOSA\n",
       "25            ATLANTIC\n",
       "27             AUDUBON\n",
       "37             BELMOND\n",
       "39          BETTENDORF\n",
       "60        CEDAR RAPIDS\n",
       "65            CHARITON\n",
       "69            CLARINDA\n",
       "74             CLINTON\n",
       "76               CLIVE\n",
       "83          CORALVILLE\n",
       "85             CORNING\n",
       "91              CRESCO\n",
       "98           DAVENPORT\n",
       "108         DES MOINES\n",
       "113            DUBUQUE\n",
       "116             DUNLAP\n",
       "137          EVANSDALE\n",
       "152         FORT DODGE\n",
       "153         FORT DODGE\n",
       "180            HAMPTON\n",
       "182             HARLAN\n",
       "223          LARCHWOOD\n",
       "253         MASON CITY\n",
       "282             NEWTON\n",
       "286      NORTH LIBERTY\n",
       "287      NORTH LIBERTY\n",
       "290            NORWALK\n",
       "300            OSCEOLA\n",
       "302          OSKALOOSA\n",
       "314              PERRY\n",
       "317      PLEASANTVILLE\n",
       "334           ROCKWELL\n",
       "352          SIGOURNEY\n",
       "355         SIOUX CITY\n",
       "368       STATE CENTER\n",
       "401           WATERLOO\n",
       "405            WAVERLY\n",
       "410             WESLEY\n",
       "413        WEST BRANCH\n",
       "416    WEST DES MOINES\n",
       "Name: city, dtype: object"
      ]
     },
     "execution_count": 18,
     "metadata": {},
     "output_type": "execute_result"
    }
   ],
   "source": [
    "print df_county['city'].duplicated().sum()\n",
    "a = df_county[df_county['city'].duplicated() == True].index.tolist()\n",
    "df_county['city'].loc[a]"
   ]
  },
  {
   "cell_type": "code",
   "execution_count": 19,
   "metadata": {
    "collapsed": false
   },
   "outputs": [],
   "source": [
    "# Did not use drop_duplicates() because I did not want to automatically drop the second duplicate\n",
    "# So I checked the counties of duplicate cities and dropped incorrect city-county mappings\n",
    "# It also turns out some towns (Ackley, Clive, and West Des Moines are located in multiple counties)\n",
    "# Remove from iowa dataframe: index [32, 74, 134, 260, 263, 276, 288, 336]\n",
    "\n",
    "b = [i+1 for i in a]\n",
    "c = [i-1 for i in a]\n",
    "d = a + b + c\n",
    "e = sorted(d)\n",
    "\n",
    "df_county.loc[e, :]\n",
    "county_dict = {'bettendorf':'scott', 'corning':'adams', 'fort dodge': 'webster','newton':'jasper', \\\n",
    "               'north libery':'johnson', 'OSKALOOSA': 'mahaska', 'PERRY':'dallas', 'STATE CENTER': 'marshall'}"
   ]
  },
  {
   "cell_type": "code",
   "execution_count": 20,
   "metadata": {
    "collapsed": false
   },
   "outputs": [
    {
     "data": {
      "text/html": [
       "<div>\n",
       "<table border=\"1\" class=\"dataframe\">\n",
       "  <thead>\n",
       "    <tr style=\"text-align: right;\">\n",
       "      <th></th>\n",
       "      <th>city</th>\n",
       "      <th>county</th>\n",
       "    </tr>\n",
       "  </thead>\n",
       "  <tbody>\n",
       "    <tr>\n",
       "      <th>0</th>\n",
       "      <td>ACKLEY</td>\n",
       "      <td>Hardin</td>\n",
       "    </tr>\n",
       "    <tr>\n",
       "      <th>1</th>\n",
       "      <td>ACKLEY_WEBSTER</td>\n",
       "      <td>Webster</td>\n",
       "    </tr>\n",
       "    <tr>\n",
       "      <th>2</th>\n",
       "      <td>ACKLEY</td>\n",
       "      <td>nan</td>\n",
       "    </tr>\n",
       "    <tr>\n",
       "      <th>3</th>\n",
       "      <td>ADAIR</td>\n",
       "      <td>Adair</td>\n",
       "    </tr>\n",
       "    <tr>\n",
       "      <th>4</th>\n",
       "      <td>ADEL</td>\n",
       "      <td>Dallas</td>\n",
       "    </tr>\n",
       "    <tr>\n",
       "      <th>5</th>\n",
       "      <td>AFTON</td>\n",
       "      <td>Union</td>\n",
       "    </tr>\n",
       "    <tr>\n",
       "      <th>6</th>\n",
       "      <td>AKRON</td>\n",
       "      <td>Plymouth</td>\n",
       "    </tr>\n",
       "    <tr>\n",
       "      <th>7</th>\n",
       "      <td>ALBIA</td>\n",
       "      <td>Monroe</td>\n",
       "    </tr>\n",
       "    <tr>\n",
       "      <th>8</th>\n",
       "      <td>ALDEN</td>\n",
       "      <td>Hardin</td>\n",
       "    </tr>\n",
       "    <tr>\n",
       "      <th>9</th>\n",
       "      <td>ALGONA</td>\n",
       "      <td>Kossuth</td>\n",
       "    </tr>\n",
       "    <tr>\n",
       "      <th>10</th>\n",
       "      <td>ALLISON</td>\n",
       "      <td>Butler</td>\n",
       "    </tr>\n",
       "    <tr>\n",
       "      <th>11</th>\n",
       "      <td>ALTA</td>\n",
       "      <td>Buena Vista</td>\n",
       "    </tr>\n",
       "    <tr>\n",
       "      <th>12</th>\n",
       "      <td>ALTOONA</td>\n",
       "      <td>Polk</td>\n",
       "    </tr>\n",
       "    <tr>\n",
       "      <th>13</th>\n",
       "      <td>ALTOONA</td>\n",
       "      <td>nan</td>\n",
       "    </tr>\n",
       "    <tr>\n",
       "      <th>14</th>\n",
       "      <td>AMES</td>\n",
       "      <td>Story</td>\n",
       "    </tr>\n",
       "    <tr>\n",
       "      <th>15</th>\n",
       "      <td>ANAMOSA</td>\n",
       "      <td>Jones</td>\n",
       "    </tr>\n",
       "    <tr>\n",
       "      <th>16</th>\n",
       "      <td>ANAMOSA</td>\n",
       "      <td>nan</td>\n",
       "    </tr>\n",
       "    <tr>\n",
       "      <th>17</th>\n",
       "      <td>ANITA</td>\n",
       "      <td>Cass</td>\n",
       "    </tr>\n",
       "    <tr>\n",
       "      <th>18</th>\n",
       "      <td>ANKENY</td>\n",
       "      <td>Polk</td>\n",
       "    </tr>\n",
       "    <tr>\n",
       "      <th>19</th>\n",
       "      <td>ANTHON</td>\n",
       "      <td>Woodbury</td>\n",
       "    </tr>\n",
       "    <tr>\n",
       "      <th>20</th>\n",
       "      <td>ARLINGTON</td>\n",
       "      <td>Fayette</td>\n",
       "    </tr>\n",
       "    <tr>\n",
       "      <th>21</th>\n",
       "      <td>ARMSTRONG</td>\n",
       "      <td>Emmet</td>\n",
       "    </tr>\n",
       "    <tr>\n",
       "      <th>22</th>\n",
       "      <td>ARNOLD'S PARK</td>\n",
       "      <td>Dickinson</td>\n",
       "    </tr>\n",
       "    <tr>\n",
       "      <th>23</th>\n",
       "      <td>ARNOLDS PARK</td>\n",
       "      <td>Dickinson</td>\n",
       "    </tr>\n",
       "    <tr>\n",
       "      <th>24</th>\n",
       "      <td>ATLANTIC</td>\n",
       "      <td>Cass</td>\n",
       "    </tr>\n",
       "    <tr>\n",
       "      <th>25</th>\n",
       "      <td>ATLANTIC</td>\n",
       "      <td>nan</td>\n",
       "    </tr>\n",
       "    <tr>\n",
       "      <th>26</th>\n",
       "      <td>AUDUBON</td>\n",
       "      <td>Audubon</td>\n",
       "    </tr>\n",
       "    <tr>\n",
       "      <th>27</th>\n",
       "      <td>AUDUBON</td>\n",
       "      <td>nan</td>\n",
       "    </tr>\n",
       "    <tr>\n",
       "      <th>28</th>\n",
       "      <td>AURELIA</td>\n",
       "      <td>Cherokee</td>\n",
       "    </tr>\n",
       "    <tr>\n",
       "      <th>29</th>\n",
       "      <td>AVOCA</td>\n",
       "      <td>Pottawattamie</td>\n",
       "    </tr>\n",
       "    <tr>\n",
       "      <th>...</th>\n",
       "      <td>...</td>\n",
       "      <td>...</td>\n",
       "    </tr>\n",
       "    <tr>\n",
       "      <th>399</th>\n",
       "      <td>WASHINGTON</td>\n",
       "      <td>Washington</td>\n",
       "    </tr>\n",
       "    <tr>\n",
       "      <th>400</th>\n",
       "      <td>WATERLOO</td>\n",
       "      <td>Black Hawk</td>\n",
       "    </tr>\n",
       "    <tr>\n",
       "      <th>401</th>\n",
       "      <td>WATERLOO</td>\n",
       "      <td>nan</td>\n",
       "    </tr>\n",
       "    <tr>\n",
       "      <th>402</th>\n",
       "      <td>WAUKEE</td>\n",
       "      <td>Dallas</td>\n",
       "    </tr>\n",
       "    <tr>\n",
       "      <th>403</th>\n",
       "      <td>WAUKON</td>\n",
       "      <td>Allamakee</td>\n",
       "    </tr>\n",
       "    <tr>\n",
       "      <th>404</th>\n",
       "      <td>WAVERLY</td>\n",
       "      <td>Bremer</td>\n",
       "    </tr>\n",
       "    <tr>\n",
       "      <th>405</th>\n",
       "      <td>WAVERLY</td>\n",
       "      <td>nan</td>\n",
       "    </tr>\n",
       "    <tr>\n",
       "      <th>406</th>\n",
       "      <td>WEBSTER CITY</td>\n",
       "      <td>Hamilton</td>\n",
       "    </tr>\n",
       "    <tr>\n",
       "      <th>407</th>\n",
       "      <td>WELLMAN</td>\n",
       "      <td>Wapello</td>\n",
       "    </tr>\n",
       "    <tr>\n",
       "      <th>408</th>\n",
       "      <td>WELLSBURG</td>\n",
       "      <td>Grundy</td>\n",
       "    </tr>\n",
       "    <tr>\n",
       "      <th>409</th>\n",
       "      <td>WESLEY</td>\n",
       "      <td>Kossuth</td>\n",
       "    </tr>\n",
       "    <tr>\n",
       "      <th>410</th>\n",
       "      <td>WESLEY</td>\n",
       "      <td>nan</td>\n",
       "    </tr>\n",
       "    <tr>\n",
       "      <th>411</th>\n",
       "      <td>WEST BEND</td>\n",
       "      <td>Kossuth</td>\n",
       "    </tr>\n",
       "    <tr>\n",
       "      <th>412</th>\n",
       "      <td>WEST BRANCH</td>\n",
       "      <td>Cedar</td>\n",
       "    </tr>\n",
       "    <tr>\n",
       "      <th>413</th>\n",
       "      <td>WEST BRANCH</td>\n",
       "      <td>nan</td>\n",
       "    </tr>\n",
       "    <tr>\n",
       "      <th>414</th>\n",
       "      <td>WEST BURLINGTON</td>\n",
       "      <td>Des Moines</td>\n",
       "    </tr>\n",
       "    <tr>\n",
       "      <th>415</th>\n",
       "      <td>WEST DES MOINES</td>\n",
       "      <td>Dallas</td>\n",
       "    </tr>\n",
       "    <tr>\n",
       "      <th>416</th>\n",
       "      <td>WEST DES MOINES</td>\n",
       "      <td>Polk</td>\n",
       "    </tr>\n",
       "    <tr>\n",
       "      <th>417</th>\n",
       "      <td>WEST LIBERTY</td>\n",
       "      <td>Muscatine</td>\n",
       "    </tr>\n",
       "    <tr>\n",
       "      <th>418</th>\n",
       "      <td>WEST POINT</td>\n",
       "      <td>Lee</td>\n",
       "    </tr>\n",
       "    <tr>\n",
       "      <th>419</th>\n",
       "      <td>WEST UNION</td>\n",
       "      <td>Fayette</td>\n",
       "    </tr>\n",
       "    <tr>\n",
       "      <th>420</th>\n",
       "      <td>WHEATLAND</td>\n",
       "      <td>Clinton</td>\n",
       "    </tr>\n",
       "    <tr>\n",
       "      <th>421</th>\n",
       "      <td>WILLIAMSBURG</td>\n",
       "      <td>Iowa</td>\n",
       "    </tr>\n",
       "    <tr>\n",
       "      <th>422</th>\n",
       "      <td>WILTON</td>\n",
       "      <td>Muscatine</td>\n",
       "    </tr>\n",
       "    <tr>\n",
       "      <th>423</th>\n",
       "      <td>WINDSOR HEIGHTS</td>\n",
       "      <td>Polk</td>\n",
       "    </tr>\n",
       "    <tr>\n",
       "      <th>424</th>\n",
       "      <td>WINTERSET</td>\n",
       "      <td>Madison</td>\n",
       "    </tr>\n",
       "    <tr>\n",
       "      <th>425</th>\n",
       "      <td>WINTHROP</td>\n",
       "      <td>Buchanan</td>\n",
       "    </tr>\n",
       "    <tr>\n",
       "      <th>426</th>\n",
       "      <td>WOODBINE</td>\n",
       "      <td>Harrison</td>\n",
       "    </tr>\n",
       "    <tr>\n",
       "      <th>427</th>\n",
       "      <td>WOODWARD</td>\n",
       "      <td>Dallas</td>\n",
       "    </tr>\n",
       "    <tr>\n",
       "      <th>428</th>\n",
       "      <td>ZWINGLE</td>\n",
       "      <td>Jackson</td>\n",
       "    </tr>\n",
       "  </tbody>\n",
       "</table>\n",
       "<p>421 rows × 2 columns</p>\n",
       "</div>"
      ],
      "text/plain": [
       "                city         county\n",
       "0             ACKLEY         Hardin\n",
       "1     ACKLEY_WEBSTER        Webster\n",
       "2             ACKLEY            nan\n",
       "3              ADAIR          Adair\n",
       "4               ADEL         Dallas\n",
       "5              AFTON          Union\n",
       "6              AKRON       Plymouth\n",
       "7              ALBIA         Monroe\n",
       "8              ALDEN         Hardin\n",
       "9             ALGONA        Kossuth\n",
       "10           ALLISON         Butler\n",
       "11              ALTA    Buena Vista\n",
       "12           ALTOONA           Polk\n",
       "13           ALTOONA            nan\n",
       "14              AMES          Story\n",
       "15           ANAMOSA          Jones\n",
       "16           ANAMOSA            nan\n",
       "17             ANITA           Cass\n",
       "18            ANKENY           Polk\n",
       "19            ANTHON       Woodbury\n",
       "20         ARLINGTON        Fayette\n",
       "21         ARMSTRONG          Emmet\n",
       "22     ARNOLD'S PARK      Dickinson\n",
       "23      ARNOLDS PARK      Dickinson\n",
       "24          ATLANTIC           Cass\n",
       "25          ATLANTIC            nan\n",
       "26           AUDUBON        Audubon\n",
       "27           AUDUBON            nan\n",
       "28           AURELIA       Cherokee\n",
       "29             AVOCA  Pottawattamie\n",
       "..               ...            ...\n",
       "399       WASHINGTON     Washington\n",
       "400         WATERLOO     Black Hawk\n",
       "401         WATERLOO            nan\n",
       "402           WAUKEE         Dallas\n",
       "403           WAUKON      Allamakee\n",
       "404          WAVERLY         Bremer\n",
       "405          WAVERLY            nan\n",
       "406     WEBSTER CITY       Hamilton\n",
       "407          WELLMAN        Wapello\n",
       "408        WELLSBURG         Grundy\n",
       "409           WESLEY        Kossuth\n",
       "410           WESLEY            nan\n",
       "411        WEST BEND        Kossuth\n",
       "412      WEST BRANCH          Cedar\n",
       "413      WEST BRANCH            nan\n",
       "414  WEST BURLINGTON     Des Moines\n",
       "415  WEST DES MOINES         Dallas\n",
       "416  WEST DES MOINES           Polk\n",
       "417     WEST LIBERTY      Muscatine\n",
       "418       WEST POINT            Lee\n",
       "419       WEST UNION        Fayette\n",
       "420        WHEATLAND        Clinton\n",
       "421     WILLIAMSBURG           Iowa\n",
       "422           WILTON      Muscatine\n",
       "423  WINDSOR HEIGHTS           Polk\n",
       "424        WINTERSET        Madison\n",
       "425         WINTHROP       Buchanan\n",
       "426         WOODBINE       Harrison\n",
       "427         WOODWARD         Dallas\n",
       "428          ZWINGLE        Jackson\n",
       "\n",
       "[421 rows x 2 columns]"
      ]
     },
     "execution_count": 20,
     "metadata": {},
     "output_type": "execute_result"
    }
   ],
   "source": [
    "# Remove from iowa dataframe: index [32, 74, 134, 260, 263, 276, 288, 336]\n",
    "df_county.drop([32, 74, 134, 260, 263, 276, 288, 336], inplace=True)\n",
    "\n",
    "# Rename Ackley, Clive, and West Des Moines to account for parts of town in different counties\n",
    "df_county.set_value([1,66,380], 'city', ['ACKLEY_WEBSTER', 'CLIVE_POLK', 'WEST_DES_MOINES_POLK'])"
   ]
  },
  {
   "cell_type": "code",
   "execution_count": 21,
   "metadata": {
    "collapsed": false
   },
   "outputs": [
    {
     "data": {
      "text/html": [
       "<div>\n",
       "<table border=\"1\" class=\"dataframe\">\n",
       "  <thead>\n",
       "    <tr style=\"text-align: right;\">\n",
       "      <th></th>\n",
       "      <th>date</th>\n",
       "      <th>store</th>\n",
       "      <th>city</th>\n",
       "      <th>zip_code</th>\n",
       "      <th>county_x</th>\n",
       "      <th>category</th>\n",
       "      <th>category_name</th>\n",
       "      <th>vendor_number</th>\n",
       "      <th>item_description</th>\n",
       "      <th>bottle_volume</th>\n",
       "      <th>state_bottle_cost</th>\n",
       "      <th>state_bottle_retail</th>\n",
       "      <th>bottles_sold</th>\n",
       "      <th>sales</th>\n",
       "      <th>volume_sold</th>\n",
       "      <th>year</th>\n",
       "      <th>quarter</th>\n",
       "      <th>month</th>\n",
       "      <th>county_y</th>\n",
       "    </tr>\n",
       "  </thead>\n",
       "  <tbody>\n",
       "    <tr>\n",
       "      <th>0</th>\n",
       "      <td>2015-11-04</td>\n",
       "      <td>3717</td>\n",
       "      <td>SUMNER</td>\n",
       "      <td>50674.0</td>\n",
       "      <td>Bremer</td>\n",
       "      <td>1051100.0</td>\n",
       "      <td>APRICOT BRANDIES</td>\n",
       "      <td>55</td>\n",
       "      <td>Mr. Boston Apricot Brandy</td>\n",
       "      <td>750</td>\n",
       "      <td>4.50</td>\n",
       "      <td>6.75</td>\n",
       "      <td>12</td>\n",
       "      <td>81.00</td>\n",
       "      <td>9.0</td>\n",
       "      <td>2015</td>\n",
       "      <td>Q4-2015</td>\n",
       "      <td>11-2015</td>\n",
       "      <td>Bremer</td>\n",
       "    </tr>\n",
       "    <tr>\n",
       "      <th>1</th>\n",
       "      <td>2016-03-02</td>\n",
       "      <td>2614</td>\n",
       "      <td>DAVENPORT</td>\n",
       "      <td>52807.0</td>\n",
       "      <td>Scott</td>\n",
       "      <td>1011100.0</td>\n",
       "      <td>BLENDED WHISKIES</td>\n",
       "      <td>395</td>\n",
       "      <td>Tin Cup</td>\n",
       "      <td>750</td>\n",
       "      <td>13.75</td>\n",
       "      <td>20.63</td>\n",
       "      <td>2</td>\n",
       "      <td>41.26</td>\n",
       "      <td>1.5</td>\n",
       "      <td>2016</td>\n",
       "      <td>Q1-2016</td>\n",
       "      <td>03-2016</td>\n",
       "      <td>Scott</td>\n",
       "    </tr>\n",
       "    <tr>\n",
       "      <th>2</th>\n",
       "      <td>2016-03-02</td>\n",
       "      <td>2614</td>\n",
       "      <td>DAVENPORT</td>\n",
       "      <td>52807.0</td>\n",
       "      <td>Scott</td>\n",
       "      <td>1011100.0</td>\n",
       "      <td>BLENDED WHISKIES</td>\n",
       "      <td>395</td>\n",
       "      <td>Tin Cup</td>\n",
       "      <td>750</td>\n",
       "      <td>13.75</td>\n",
       "      <td>20.63</td>\n",
       "      <td>2</td>\n",
       "      <td>41.26</td>\n",
       "      <td>1.5</td>\n",
       "      <td>2016</td>\n",
       "      <td>Q1-2016</td>\n",
       "      <td>03-2016</td>\n",
       "      <td>nan</td>\n",
       "    </tr>\n",
       "  </tbody>\n",
       "</table>\n",
       "</div>"
      ],
      "text/plain": [
       "        date  store       city  zip_code county_x   category  \\\n",
       "0 2015-11-04   3717     SUMNER   50674.0   Bremer  1051100.0   \n",
       "1 2016-03-02   2614  DAVENPORT   52807.0    Scott  1011100.0   \n",
       "2 2016-03-02   2614  DAVENPORT   52807.0    Scott  1011100.0   \n",
       "\n",
       "      category_name  vendor_number           item_description  bottle_volume  \\\n",
       "0  APRICOT BRANDIES             55  Mr. Boston Apricot Brandy            750   \n",
       "1  BLENDED WHISKIES            395                    Tin Cup            750   \n",
       "2  BLENDED WHISKIES            395                    Tin Cup            750   \n",
       "\n",
       "   state_bottle_cost  state_bottle_retail  bottles_sold  sales  volume_sold  \\\n",
       "0               4.50                 6.75            12  81.00          9.0   \n",
       "1              13.75                20.63             2  41.26          1.5   \n",
       "2              13.75                20.63             2  41.26          1.5   \n",
       "\n",
       "   year  quarter    month county_y  \n",
       "0  2015  Q4-2015  11-2015   Bremer  \n",
       "1  2016  Q1-2016  03-2016    Scott  \n",
       "2  2016  Q1-2016  03-2016      nan  "
      ]
     },
     "execution_count": 21,
     "metadata": {},
     "output_type": "execute_result"
    }
   ],
   "source": [
    "# Merge df_county into original iowa df\n",
    "# Note: Original \"county\" renamed \"county_x\" and new \"county_y\" col created\n",
    "iowa = pd.merge(iowa,df_county, on = 'city', how = 'left')\n",
    "iowa.head(3)"
   ]
  },
  {
   "cell_type": "code",
   "execution_count": 22,
   "metadata": {
    "collapsed": false
   },
   "outputs": [
    {
     "data": {
      "text/plain": [
       "date                      0\n",
       "store                     0\n",
       "city                      0\n",
       "zip_code                434\n",
       "county_x                  0\n",
       "category                102\n",
       "category_name             0\n",
       "vendor_number             0\n",
       "item_description          0\n",
       "bottle_volume             0\n",
       "state_bottle_cost         0\n",
       "state_bottle_retail       0\n",
       "bottles_sold              0\n",
       "sales                     0\n",
       "volume_sold               0\n",
       "year                      0\n",
       "quarter                   0\n",
       "month                     0\n",
       "county_y               3652\n",
       "dtype: int64"
      ]
     },
     "execution_count": 22,
     "metadata": {},
     "output_type": "execute_result"
    }
   ],
   "source": [
    "# Fill missing county names in \"county_x\" with county names from \"county_y\"\n",
    "iowa['county_x'].fillna(iowa['county_y'], inplace=True)\n",
    "iowa.isnull().sum()"
   ]
  },
  {
   "cell_type": "code",
   "execution_count": 23,
   "metadata": {
    "collapsed": false
   },
   "outputs": [
    {
     "data": {
      "text/plain": [
       "array([], dtype=object)"
      ]
     },
     "execution_count": 23,
     "metadata": {},
     "output_type": "execute_result"
    }
   ],
   "source": [
    "# Check for remaining missing counties\n",
    "iowa[iowa[\"county_x\"].isnull()]['city'].unique()"
   ]
  },
  {
   "cell_type": "code",
   "execution_count": 24,
   "metadata": {
    "collapsed": false
   },
   "outputs": [],
   "source": [
    "# Fill in missing counties by mapping to city\n",
    "def county_name(city):\n",
    "    if city == \"TABOR\":\n",
    "        return \"Fremont\"\n",
    "    elif city == \"SEYMOUR\":\n",
    "        return \"Wayne\"\n",
    "    elif city == \"RUNNELLS\":\n",
    "        return \"Polk\"\n",
    "    else:\n",
    "        pass\n",
    "\n",
    "iowa['county_y'] = iowa['city'].apply(county_name)\n",
    "iowa['county_x'].fillna(iowa['county_y'], inplace=True)"
   ]
  },
  {
   "cell_type": "code",
   "execution_count": 25,
   "metadata": {
    "collapsed": false
   },
   "outputs": [
    {
     "data": {
      "text/plain": [
       "date                        0\n",
       "store                       0\n",
       "city                        0\n",
       "zip_code                  434\n",
       "county_x                    0\n",
       "category                  102\n",
       "category_name               0\n",
       "vendor_number               0\n",
       "item_description            0\n",
       "bottle_volume               0\n",
       "state_bottle_cost           0\n",
       "state_bottle_retail         0\n",
       "bottles_sold                0\n",
       "sales                       0\n",
       "volume_sold                 0\n",
       "year                        0\n",
       "quarter                     0\n",
       "month                       0\n",
       "county_y               394426\n",
       "dtype: int64"
      ]
     },
     "execution_count": 25,
     "metadata": {},
     "output_type": "execute_result"
    }
   ],
   "source": [
    "iowa.isnull().sum()"
   ]
  },
  {
   "cell_type": "markdown",
   "metadata": {},
   "source": [
    "### Drop Missing Values in \"category_name\""
   ]
  },
  {
   "cell_type": "code",
   "execution_count": 26,
   "metadata": {
    "collapsed": false
   },
   "outputs": [
    {
     "data": {
      "text/plain": [
       "0"
      ]
     },
     "execution_count": 26,
     "metadata": {},
     "output_type": "execute_result"
    }
   ],
   "source": [
    "# Find duplicates in category name\n",
    "df_category_name = pd.pivot_table(iowa,index = ['item_description','category_name'], \\\n",
    "                                  values = ['sales'], aggfunc = sum)\n",
    "df_category_name.reset_index(inplace = True)\n",
    "df_category_name.drop('sales', axis=1, inplace=True)\n",
    "df_category_name.duplicated().sum()\n",
    "# No duplicates"
   ]
  },
  {
   "cell_type": "code",
   "execution_count": 27,
   "metadata": {
    "collapsed": false
   },
   "outputs": [
    {
     "name": "stdout",
     "output_type": "stream",
     "text": [
      "0.0% of total rows is null\n",
      "These 632 rows will be dropped from analysis\n"
     ]
    },
    {
     "data": {
      "text/html": [
       "<div>\n",
       "<table border=\"1\" class=\"dataframe\">\n",
       "  <thead>\n",
       "    <tr style=\"text-align: right;\">\n",
       "      <th></th>\n",
       "      <th>category_name</th>\n",
       "    </tr>\n",
       "  </thead>\n",
       "  <tbody>\n",
       "    <tr>\n",
       "      <th>0</th>\n",
       "      <td>APRICOT BRANDIES</td>\n",
       "    </tr>\n",
       "    <tr>\n",
       "      <th>1</th>\n",
       "      <td>BLENDED WHISKIES</td>\n",
       "    </tr>\n",
       "    <tr>\n",
       "      <th>2</th>\n",
       "      <td>BLENDED WHISKIES</td>\n",
       "    </tr>\n",
       "  </tbody>\n",
       "</table>\n",
       "</div>"
      ],
      "text/plain": [
       "      category_name\n",
       "0  APRICOT BRANDIES\n",
       "1  BLENDED WHISKIES\n",
       "2  BLENDED WHISKIES"
      ]
     },
     "execution_count": 27,
     "metadata": {},
     "output_type": "execute_result"
    }
   ],
   "source": [
    "# Drop rows with NaN in \"category_name\" col as it is only 0.233% of total \n",
    "# Did not have the time (as I did for counties above) to go through the 632 NaN rows\n",
    "null_cat_percent = (iowa['category_name'].isnull().sum())/ \\\n",
    "                    float(len(iowa['category_name']))*100\n",
    "print str(round(null_cat_percent, 3)) + '% of total rows ' + 'is null'\n",
    "print 'These 632 rows will be dropped from analysis'\n",
    "\n",
    "iowa.dropna(subset=[['category_name']], inplace=True)\n",
    "iowa[['category_name']].head(3)"
   ]
  },
  {
   "cell_type": "code",
   "execution_count": 28,
   "metadata": {
    "collapsed": false
   },
   "outputs": [
    {
     "data": {
      "text/plain": [
       "date                        0\n",
       "store                       0\n",
       "city                        0\n",
       "zip_code                  434\n",
       "county_x                    0\n",
       "category                  102\n",
       "category_name               0\n",
       "vendor_number               0\n",
       "item_description            0\n",
       "bottle_volume               0\n",
       "state_bottle_cost           0\n",
       "state_bottle_retail         0\n",
       "bottles_sold                0\n",
       "sales                       0\n",
       "volume_sold                 0\n",
       "year                        0\n",
       "quarter                     0\n",
       "month                       0\n",
       "county_y               394426\n",
       "dtype: int64"
      ]
     },
     "execution_count": 28,
     "metadata": {},
     "output_type": "execute_result"
    }
   ],
   "source": [
    "iowa.isnull().sum()"
   ]
  },
  {
   "cell_type": "code",
   "execution_count": 29,
   "metadata": {
    "collapsed": false
   },
   "outputs": [],
   "source": [
    "# Drop county_y column and rename county_x as county\n",
    "iowa.drop('county_y', axis=1, inplace=True)\n",
    "iowa.rename(columns={'county_x':'county'}, inplace=True)"
   ]
  },
  {
   "cell_type": "markdown",
   "metadata": {},
   "source": [
    "### Create new columns with metrics"
   ]
  },
  {
   "cell_type": "code",
   "execution_count": 30,
   "metadata": {
    "collapsed": false
   },
   "outputs": [
    {
     "name": "stdout",
     "output_type": "stream",
     "text": [
      "1.65947255937e-11\n"
     ]
    }
   ],
   "source": [
    "# Just checking to make that that the 'sales' columns represents total revenue\n",
    "iowa['sales_check'] = iowa['state_bottle_retail'] * iowa['bottles_sold']\n",
    "print sum(iowa['sales_check']-iowa['sales'])\n",
    "iowa.drop('sales_check', axis=1, inplace=True)"
   ]
  },
  {
   "cell_type": "code",
   "execution_count": 31,
   "metadata": {
    "collapsed": false
   },
   "outputs": [],
   "source": [
    "# New metrics added to iowa\n",
    "iowa['profit'] = (iowa['state_bottle_retail'] - iowa['state_bottle_cost']) * iowa['bottles_sold']\n",
    "iowa['rev_per_ml'] = iowa['sales'] / iowa['volume_sold']\n",
    "iowa['price_per_ml'] = iowa['state_bottle_retail'] / iowa['volume_sold']\n",
    "iowa['margin_percent'] = iowa['profit'] / iowa['sales']\n",
    "iowa['profit_per_ml'] = iowa['profit'] / iowa['volume_sold']\n",
    "iowa['profit_%_per_ml'] = iowa['profit_per_ml'] / iowa['rev_per_ml']"
   ]
  },
  {
   "cell_type": "code",
   "execution_count": 32,
   "metadata": {
    "collapsed": false
   },
   "outputs": [
    {
     "name": "stdout",
     "output_type": "stream",
     "text": [
      "Iowa is a \"control state\", meaning the state has direct control over the wholesale alcohol market. The state dictates retail prices at a set margin of 33.3%.\n",
      "See Iowa Alcoholic Beverages Division for more info.\n"
     ]
    },
    {
     "data": {
      "text/html": [
       "<div>\n",
       "<table border=\"1\" class=\"dataframe\">\n",
       "  <thead>\n",
       "    <tr style=\"text-align: right;\">\n",
       "      <th></th>\n",
       "      <th>state_bottle_retail</th>\n",
       "      <th>bottles_sold</th>\n",
       "      <th>sales</th>\n",
       "      <th>volume_sold</th>\n",
       "      <th>year</th>\n",
       "      <th>quarter</th>\n",
       "      <th>month</th>\n",
       "      <th>profit</th>\n",
       "      <th>rev_per_ml</th>\n",
       "      <th>price_per_ml</th>\n",
       "      <th>margin_percent</th>\n",
       "      <th>profit_per_ml</th>\n",
       "      <th>profit_%_per_ml</th>\n",
       "    </tr>\n",
       "  </thead>\n",
       "  <tbody>\n",
       "    <tr>\n",
       "      <th>0</th>\n",
       "      <td>6.75</td>\n",
       "      <td>12</td>\n",
       "      <td>81.00</td>\n",
       "      <td>9.0</td>\n",
       "      <td>2015</td>\n",
       "      <td>Q4-2015</td>\n",
       "      <td>11-2015</td>\n",
       "      <td>27.00</td>\n",
       "      <td>9.000000</td>\n",
       "      <td>0.750000</td>\n",
       "      <td>0.333333</td>\n",
       "      <td>3.000000</td>\n",
       "      <td>0.333333</td>\n",
       "    </tr>\n",
       "    <tr>\n",
       "      <th>1</th>\n",
       "      <td>20.63</td>\n",
       "      <td>2</td>\n",
       "      <td>41.26</td>\n",
       "      <td>1.5</td>\n",
       "      <td>2016</td>\n",
       "      <td>Q1-2016</td>\n",
       "      <td>03-2016</td>\n",
       "      <td>13.76</td>\n",
       "      <td>27.506667</td>\n",
       "      <td>13.753333</td>\n",
       "      <td>0.333495</td>\n",
       "      <td>9.173333</td>\n",
       "      <td>0.333495</td>\n",
       "    </tr>\n",
       "    <tr>\n",
       "      <th>2</th>\n",
       "      <td>20.63</td>\n",
       "      <td>2</td>\n",
       "      <td>41.26</td>\n",
       "      <td>1.5</td>\n",
       "      <td>2016</td>\n",
       "      <td>Q1-2016</td>\n",
       "      <td>03-2016</td>\n",
       "      <td>13.76</td>\n",
       "      <td>27.506667</td>\n",
       "      <td>13.753333</td>\n",
       "      <td>0.333495</td>\n",
       "      <td>9.173333</td>\n",
       "      <td>0.333495</td>\n",
       "    </tr>\n",
       "  </tbody>\n",
       "</table>\n",
       "</div>"
      ],
      "text/plain": [
       "   state_bottle_retail  bottles_sold  sales  volume_sold  year  quarter  \\\n",
       "0                 6.75            12  81.00          9.0  2015  Q4-2015   \n",
       "1                20.63             2  41.26          1.5  2016  Q1-2016   \n",
       "2                20.63             2  41.26          1.5  2016  Q1-2016   \n",
       "\n",
       "     month  profit  rev_per_ml  price_per_ml  margin_percent  profit_per_ml  \\\n",
       "0  11-2015   27.00    9.000000      0.750000        0.333333       3.000000   \n",
       "1  03-2016   13.76   27.506667     13.753333        0.333495       9.173333   \n",
       "2  03-2016   13.76   27.506667     13.753333        0.333495       9.173333   \n",
       "\n",
       "   profit_%_per_ml  \n",
       "0         0.333333  \n",
       "1         0.333495  \n",
       "2         0.333495  "
      ]
     },
     "execution_count": 32,
     "metadata": {},
     "output_type": "execute_result"
    }
   ],
   "source": [
    "print 'Iowa is a \"control state\", meaning the state has direct control over the wholesale alcohol \\\n",
    "market. The state dictates retail prices at a set margin of 33.3%.'\n",
    "print 'See Iowa Alcoholic Beverages Division for more info.'\n",
    "iowa.iloc[:3,11:28]"
   ]
  },
  {
   "cell_type": "code",
   "execution_count": 33,
   "metadata": {
    "collapsed": false
   },
   "outputs": [
    {
     "data": {
      "text/html": [
       "<div>\n",
       "<table border=\"1\" class=\"dataframe\">\n",
       "  <thead>\n",
       "    <tr style=\"text-align: right;\">\n",
       "      <th></th>\n",
       "      <th>state_bottle_retail</th>\n",
       "      <th>bottles_sold</th>\n",
       "      <th>sales</th>\n",
       "      <th>volume_sold</th>\n",
       "      <th>year</th>\n",
       "      <th>quarter</th>\n",
       "      <th>month</th>\n",
       "      <th>profit</th>\n",
       "      <th>rev_per_ml</th>\n",
       "      <th>price_per_ml</th>\n",
       "      <th>profit_per_ml</th>\n",
       "      <th>profit_per_bottle</th>\n",
       "    </tr>\n",
       "  </thead>\n",
       "  <tbody>\n",
       "    <tr>\n",
       "      <th>0</th>\n",
       "      <td>6.75</td>\n",
       "      <td>12</td>\n",
       "      <td>81.00</td>\n",
       "      <td>9.0</td>\n",
       "      <td>2015</td>\n",
       "      <td>Q4-2015</td>\n",
       "      <td>11-2015</td>\n",
       "      <td>27.00</td>\n",
       "      <td>9.000000</td>\n",
       "      <td>0.750000</td>\n",
       "      <td>3.000000</td>\n",
       "      <td>2.25</td>\n",
       "    </tr>\n",
       "    <tr>\n",
       "      <th>1</th>\n",
       "      <td>20.63</td>\n",
       "      <td>2</td>\n",
       "      <td>41.26</td>\n",
       "      <td>1.5</td>\n",
       "      <td>2016</td>\n",
       "      <td>Q1-2016</td>\n",
       "      <td>03-2016</td>\n",
       "      <td>13.76</td>\n",
       "      <td>27.506667</td>\n",
       "      <td>13.753333</td>\n",
       "      <td>9.173333</td>\n",
       "      <td>6.88</td>\n",
       "    </tr>\n",
       "  </tbody>\n",
       "</table>\n",
       "</div>"
      ],
      "text/plain": [
       "   state_bottle_retail  bottles_sold  sales  volume_sold  year  quarter  \\\n",
       "0                 6.75            12  81.00          9.0  2015  Q4-2015   \n",
       "1                20.63             2  41.26          1.5  2016  Q1-2016   \n",
       "\n",
       "     month  profit  rev_per_ml  price_per_ml  profit_per_ml  profit_per_bottle  \n",
       "0  11-2015   27.00    9.000000      0.750000       3.000000               2.25  \n",
       "1  03-2016   13.76   27.506667     13.753333       9.173333               6.88  "
      ]
     },
     "execution_count": 33,
     "metadata": {},
     "output_type": "execute_result"
    }
   ],
   "source": [
    "# Drop margin % columns (they are constant and will not affect model)\n",
    "iowa.drop(['margin_percent', 'profit_%_per_ml'], inplace=True,axis=1)\n",
    "\n",
    "# Add $margin per bottle as this is not a constant measure\n",
    "iowa['profit_per_bottle'] = iowa['state_bottle_retail'] - iowa['state_bottle_cost']\n",
    "iowa.iloc[:2,11:28]"
   ]
  },
  {
   "cell_type": "markdown",
   "metadata": {},
   "source": [
    "### Drop stores that were only partially open in 2015"
   ]
  },
  {
   "cell_type": "code",
   "execution_count": 34,
   "metadata": {
    "collapsed": false
   },
   "outputs": [
    {
     "data": {
      "text/html": [
       "<div>\n",
       "<table border=\"1\" class=\"dataframe\">\n",
       "  <thead>\n",
       "    <tr style=\"text-align: right;\">\n",
       "      <th></th>\n",
       "      <th>store</th>\n",
       "      <th>min</th>\n",
       "      <th>max</th>\n",
       "    </tr>\n",
       "  </thead>\n",
       "  <tbody>\n",
       "    <tr>\n",
       "      <th>1397</th>\n",
       "      <td>9013</td>\n",
       "      <td>2015-06-04</td>\n",
       "      <td>2016-03-09</td>\n",
       "    </tr>\n",
       "    <tr>\n",
       "      <th>1398</th>\n",
       "      <td>9018</td>\n",
       "      <td>2015-10-27</td>\n",
       "      <td>2015-10-27</td>\n",
       "    </tr>\n",
       "    <tr>\n",
       "      <th>1399</th>\n",
       "      <td>9023</td>\n",
       "      <td>2016-03-08</td>\n",
       "      <td>2016-03-08</td>\n",
       "    </tr>\n",
       "  </tbody>\n",
       "</table>\n",
       "</div>"
      ],
      "text/plain": [
       "      store        min        max\n",
       "1397   9013 2015-06-04 2016-03-09\n",
       "1398   9018 2015-10-27 2015-10-27\n",
       "1399   9023 2016-03-08 2016-03-08"
      ]
     },
     "execution_count": 34,
     "metadata": {},
     "output_type": "execute_result"
    }
   ],
   "source": [
    "# Check for stores that were not open for the full year or closed during the year\n",
    "dates_open = iowa.groupby([\"store\"])[\"date\"].agg([min, max])\n",
    "dates_open.reset_index(inplace=True)\n",
    "dates_open.tail(3)"
   ]
  },
  {
   "cell_type": "code",
   "execution_count": 35,
   "metadata": {
    "collapsed": false
   },
   "outputs": [],
   "source": [
    "def open_date(x):\n",
    "    if x > pd.to_datetime('2015-03-31'):\n",
    "        return 1\n",
    "    else:\n",
    "        return 0\n",
    "    \n",
    "def close_date(x):\n",
    "    if x <= pd.to_datetime('2015-12-31'):\n",
    "        return 1\n",
    "    else:\n",
    "        return 0\n",
    "    \n",
    "dates_open[\"closed\"] = dates_open[\"max\"].apply(close_date)\n",
    "dates_open[\"opened\"] = dates_open[\"min\"].apply(open_date)\n",
    "dates_open[\"partial_year\"] = dates_open[\"closed\"] + dates_open[\"opened\"]"
   ]
  },
  {
   "cell_type": "code",
   "execution_count": 36,
   "metadata": {
    "collapsed": false
   },
   "outputs": [
    {
     "data": {
      "text/html": [
       "<div>\n",
       "<table border=\"1\" class=\"dataframe\">\n",
       "  <thead>\n",
       "    <tr style=\"text-align: right;\">\n",
       "      <th></th>\n",
       "      <th>store</th>\n",
       "      <th>min</th>\n",
       "      <th>max</th>\n",
       "      <th>closed</th>\n",
       "      <th>opened</th>\n",
       "      <th>partial_year</th>\n",
       "    </tr>\n",
       "  </thead>\n",
       "  <tbody>\n",
       "    <tr>\n",
       "      <th>1397</th>\n",
       "      <td>9013</td>\n",
       "      <td>2015-06-04</td>\n",
       "      <td>2016-03-09</td>\n",
       "      <td>0</td>\n",
       "      <td>1</td>\n",
       "      <td>1</td>\n",
       "    </tr>\n",
       "    <tr>\n",
       "      <th>1398</th>\n",
       "      <td>9018</td>\n",
       "      <td>2015-10-27</td>\n",
       "      <td>2015-10-27</td>\n",
       "      <td>1</td>\n",
       "      <td>1</td>\n",
       "      <td>2</td>\n",
       "    </tr>\n",
       "    <tr>\n",
       "      <th>1399</th>\n",
       "      <td>9023</td>\n",
       "      <td>2016-03-08</td>\n",
       "      <td>2016-03-08</td>\n",
       "      <td>0</td>\n",
       "      <td>1</td>\n",
       "      <td>1</td>\n",
       "    </tr>\n",
       "  </tbody>\n",
       "</table>\n",
       "</div>"
      ],
      "text/plain": [
       "      store        min        max  closed  opened  partial_year\n",
       "1397   9013 2015-06-04 2016-03-09       0       1             1\n",
       "1398   9018 2015-10-27 2015-10-27       1       1             2\n",
       "1399   9023 2016-03-08 2016-03-08       0       1             1"
      ]
     },
     "execution_count": 36,
     "metadata": {},
     "output_type": "execute_result"
    }
   ],
   "source": [
    "dates_open.tail(3)"
   ]
  },
  {
   "cell_type": "code",
   "execution_count": 37,
   "metadata": {
    "collapsed": false
   },
   "outputs": [
    {
     "name": "stdout",
     "output_type": "stream",
     "text": [
      "Number of stores not open for full year 2015: 217\n",
      "Total stores: 1400\n",
      "Total stores open all of 2015: 1183\n"
     ]
    }
   ],
   "source": [
    "# List of 217 stores not open full year in 2015\n",
    "partial_stores = list(dates_open[dates_open[\"partial_year\"]!=0][\"store\"].values)\n",
    "print 'Number of stores not open for full year 2015: ' + str(len(partial_stores))\n",
    "\n",
    "open_stores = list(dates_open[dates_open['partial_year'] == 0]['store'].values)\n",
    "print 'Total stores: '+ str(len(partial_stores) + len(open_stores))\n",
    "print 'Total stores open all of 2015: ' + str(len(open_stores))\n"
   ]
  },
  {
   "cell_type": "code",
   "execution_count": 38,
   "metadata": {
    "collapsed": false
   },
   "outputs": [
    {
     "name": "stdout",
     "output_type": "stream",
     "text": [
      "Only 3.77% of sales from stores partially open in 2015\n",
      "Sales from these 217 stores will be dropped from analysis\n"
     ]
    }
   ],
   "source": [
    "# Amount of revenue generated by stores only partially open in 2015\n",
    "partial_rev = sum(iowa[iowa['store'].isin(partial_stores)]['sales']) / sum(iowa['sales']) \n",
    "print 'Only ' + str(round(partial_rev*100,2)) + '% of sales from stores partially open in 2015'\n",
    "print 'Sales from these 217 stores will be dropped from analysis'"
   ]
  },
  {
   "cell_type": "markdown",
   "metadata": {},
   "source": [
    "## Create a new df with only stores open for full year 2015"
   ]
  },
  {
   "cell_type": "code",
   "execution_count": 39,
   "metadata": {
    "collapsed": false
   },
   "outputs": [],
   "source": [
    "# Create new df consisting only of stores open for full year 2015\n",
    "idf = iowa[iowa['store'].isin(open_stores)]"
   ]
  },
  {
   "cell_type": "markdown",
   "metadata": {},
   "source": [
    "## Create a new df summarizing 2015 data only"
   ]
  },
  {
   "cell_type": "code",
   "execution_count": 40,
   "metadata": {
    "collapsed": false
   },
   "outputs": [
    {
     "name": "stdout",
     "output_type": "stream",
     "text": [
      "1183\n"
     ]
    },
    {
     "data": {
      "text/html": [
       "<div>\n",
       "<table border=\"1\" class=\"dataframe\">\n",
       "  <thead>\n",
       "    <tr style=\"text-align: right;\">\n",
       "      <th></th>\n",
       "      <th>store</th>\n",
       "      <th>2015_total_revenue</th>\n",
       "      <th>2015_profit</th>\n",
       "    </tr>\n",
       "  </thead>\n",
       "  <tbody>\n",
       "    <tr>\n",
       "      <th>count</th>\n",
       "      <td>1183.000000</td>\n",
       "      <td>1.183000e+03</td>\n",
       "      <td>1183.000000</td>\n",
       "    </tr>\n",
       "    <tr>\n",
       "      <th>mean</th>\n",
       "      <td>4165.122570</td>\n",
       "      <td>3.530476e+04</td>\n",
       "      <td>11804.658199</td>\n",
       "    </tr>\n",
       "    <tr>\n",
       "      <th>std</th>\n",
       "      <td>812.526287</td>\n",
       "      <td>1.002403e+05</td>\n",
       "      <td>33466.651183</td>\n",
       "    </tr>\n",
       "    <tr>\n",
       "      <th>min</th>\n",
       "      <td>2106.000000</td>\n",
       "      <td>4.720800e+02</td>\n",
       "      <td>157.560000</td>\n",
       "    </tr>\n",
       "    <tr>\n",
       "      <th>25%</th>\n",
       "      <td>3805.500000</td>\n",
       "      <td>4.691535e+03</td>\n",
       "      <td>1569.955000</td>\n",
       "    </tr>\n",
       "    <tr>\n",
       "      <th>50%</th>\n",
       "      <td>4376.000000</td>\n",
       "      <td>1.108592e+04</td>\n",
       "      <td>3711.300000</td>\n",
       "    </tr>\n",
       "    <tr>\n",
       "      <th>75%</th>\n",
       "      <td>4740.500000</td>\n",
       "      <td>2.963943e+04</td>\n",
       "      <td>9895.470000</td>\n",
       "    </tr>\n",
       "    <tr>\n",
       "      <th>max</th>\n",
       "      <td>9010.000000</td>\n",
       "      <td>2.001567e+06</td>\n",
       "      <td>667633.820000</td>\n",
       "    </tr>\n",
       "  </tbody>\n",
       "</table>\n",
       "</div>"
      ],
      "text/plain": [
       "             store  2015_total_revenue    2015_profit\n",
       "count  1183.000000        1.183000e+03    1183.000000\n",
       "mean   4165.122570        3.530476e+04   11804.658199\n",
       "std     812.526287        1.002403e+05   33466.651183\n",
       "min    2106.000000        4.720800e+02     157.560000\n",
       "25%    3805.500000        4.691535e+03    1569.955000\n",
       "50%    4376.000000        1.108592e+04    3711.300000\n",
       "75%    4740.500000        2.963943e+04    9895.470000\n",
       "max    9010.000000        2.001567e+06  667633.820000"
      ]
     },
     "execution_count": 40,
     "metadata": {},
     "output_type": "execute_result"
    }
   ],
   "source": [
    "# Create a df summarizing total sales and revenues in 2015 at store-level\n",
    "sum_metrics = ['sales', 'profit']\n",
    "iowa_sum_2015 = idf[idf['year'] == 2015].groupby(['store'])[sum_metrics].agg(np.sum)\n",
    "iowa_sum_2015.columns = ['2015_total_revenue','2015_profit']\n",
    "iowa_sum_2015.reset_index(inplace=True)\n",
    "print len(iowa_sum_2015)\n",
    "iowa_sum_2015.describe(include='all')"
   ]
  },
  {
   "cell_type": "code",
   "execution_count": 41,
   "metadata": {
    "collapsed": false
   },
   "outputs": [
    {
     "name": "stdout",
     "output_type": "stream",
     "text": [
      "1183\n"
     ]
    },
    {
     "data": {
      "text/html": [
       "<div>\n",
       "<table border=\"1\" class=\"dataframe\">\n",
       "  <thead>\n",
       "    <tr style=\"text-align: right;\">\n",
       "      <th></th>\n",
       "      <th>store</th>\n",
       "      <th>2015_avg_rev</th>\n",
       "      <th>2015_avg_profit</th>\n",
       "      <th>2015_avg_price_per_ml</th>\n",
       "      <th>2015_avg_profit_per_ml</th>\n",
       "      <th>2015_avg_profit_per_bottle</th>\n",
       "    </tr>\n",
       "  </thead>\n",
       "  <tbody>\n",
       "    <tr>\n",
       "      <th>count</th>\n",
       "      <td>1183.000000</td>\n",
       "      <td>1183.000000</td>\n",
       "      <td>1183.000000</td>\n",
       "      <td>1183.000000</td>\n",
       "      <td>1183.000000</td>\n",
       "      <td>1183.000000</td>\n",
       "    </tr>\n",
       "    <tr>\n",
       "      <th>mean</th>\n",
       "      <td>4165.122570</td>\n",
       "      <td>123.926800</td>\n",
       "      <td>41.458439</td>\n",
       "      <td>4.716566</td>\n",
       "      <td>5.687314</td>\n",
       "      <td>4.565414</td>\n",
       "    </tr>\n",
       "    <tr>\n",
       "      <th>std</th>\n",
       "      <td>812.526287</td>\n",
       "      <td>117.297322</td>\n",
       "      <td>39.233806</td>\n",
       "      <td>2.916528</td>\n",
       "      <td>1.251092</td>\n",
       "      <td>0.989853</td>\n",
       "    </tr>\n",
       "    <tr>\n",
       "      <th>min</th>\n",
       "      <td>2106.000000</td>\n",
       "      <td>24.757826</td>\n",
       "      <td>8.268261</td>\n",
       "      <td>0.543021</td>\n",
       "      <td>3.173605</td>\n",
       "      <td>1.488667</td>\n",
       "    </tr>\n",
       "    <tr>\n",
       "      <th>25%</th>\n",
       "      <td>3805.500000</td>\n",
       "      <td>76.632554</td>\n",
       "      <td>25.596544</td>\n",
       "      <td>2.198975</td>\n",
       "      <td>4.945446</td>\n",
       "      <td>3.935385</td>\n",
       "    </tr>\n",
       "    <tr>\n",
       "      <th>50%</th>\n",
       "      <td>4376.000000</td>\n",
       "      <td>106.078333</td>\n",
       "      <td>35.546951</td>\n",
       "      <td>4.280716</td>\n",
       "      <td>5.539003</td>\n",
       "      <td>4.541510</td>\n",
       "    </tr>\n",
       "    <tr>\n",
       "      <th>75%</th>\n",
       "      <td>4740.500000</td>\n",
       "      <td>143.609183</td>\n",
       "      <td>48.125233</td>\n",
       "      <td>6.391313</td>\n",
       "      <td>6.233269</td>\n",
       "      <td>5.097468</td>\n",
       "    </tr>\n",
       "    <tr>\n",
       "      <th>max</th>\n",
       "      <td>9010.000000</td>\n",
       "      <td>2061.811833</td>\n",
       "      <td>691.704000</td>\n",
       "      <td>19.266372</td>\n",
       "      <td>27.428178</td>\n",
       "      <td>11.653750</td>\n",
       "    </tr>\n",
       "  </tbody>\n",
       "</table>\n",
       "</div>"
      ],
      "text/plain": [
       "             store  2015_avg_rev  2015_avg_profit  2015_avg_price_per_ml  \\\n",
       "count  1183.000000   1183.000000      1183.000000            1183.000000   \n",
       "mean   4165.122570    123.926800        41.458439               4.716566   \n",
       "std     812.526287    117.297322        39.233806               2.916528   \n",
       "min    2106.000000     24.757826         8.268261               0.543021   \n",
       "25%    3805.500000     76.632554        25.596544               2.198975   \n",
       "50%    4376.000000    106.078333        35.546951               4.280716   \n",
       "75%    4740.500000    143.609183        48.125233               6.391313   \n",
       "max    9010.000000   2061.811833       691.704000              19.266372   \n",
       "\n",
       "       2015_avg_profit_per_ml  2015_avg_profit_per_bottle  \n",
       "count             1183.000000                 1183.000000  \n",
       "mean                 5.687314                    4.565414  \n",
       "std                  1.251092                    0.989853  \n",
       "min                  3.173605                    1.488667  \n",
       "25%                  4.945446                    3.935385  \n",
       "50%                  5.539003                    4.541510  \n",
       "75%                  6.233269                    5.097468  \n",
       "max                 27.428178                   11.653750  "
      ]
     },
     "execution_count": 41,
     "metadata": {},
     "output_type": "execute_result"
    }
   ],
   "source": [
    "# Create a df summarizing mean metrics for 2015 at store-level\n",
    "mean_metrics = ['sales', 'profit', 'price_per_ml', 'profit_per_ml', 'profit_per_bottle']\n",
    "iowa_mean_2015 = idf[idf['year'] == 2015].groupby(['store'])[mean_metrics].agg(np.mean)\n",
    "iowa_mean_2015.columns = ['2015_avg_rev','2015_avg_profit','2015_avg_price_per_ml', \\\n",
    "                         '2015_avg_profit_per_ml', '2015_avg_profit_per_bottle']\n",
    "iowa_mean_2015.reset_index(inplace=True)\n",
    "print len(iowa_mean_2015)\n",
    "iowa_mean_2015.describe(include='all')"
   ]
  },
  {
   "cell_type": "code",
   "execution_count": 42,
   "metadata": {
    "collapsed": false
   },
   "outputs": [],
   "source": [
    "# Create a df showing all days with sales for each store\n",
    "\n",
    "idf_open = idf.loc[:,['store', 'date', 'year', 'quarter']]\n",
    "idf_open.drop_duplicates(['store', 'date'], inplace=True)\n",
    "idf.sort_values('store').head()\n",
    "\n",
    "days_open_15 = idf_open[idf_open['year'] == 2015].groupby(['store'])[['date']].agg(len)\n",
    "days_open_15.reset_index(inplace=True)\n",
    "days_open_15.columns = ['store', 'days_open_15']\n",
    "days_open_15['days_open_15'] = days_open_15['days_open_15'].astype(int)"
   ]
  },
  {
   "cell_type": "code",
   "execution_count": 43,
   "metadata": {
    "collapsed": false
   },
   "outputs": [
    {
     "data": {
      "text/html": [
       "<div>\n",
       "<table border=\"1\" class=\"dataframe\">\n",
       "  <thead>\n",
       "    <tr style=\"text-align: right;\">\n",
       "      <th></th>\n",
       "      <th>store</th>\n",
       "      <th>2015_total_revenue</th>\n",
       "      <th>2015_profit</th>\n",
       "      <th>2015_rev_per_day</th>\n",
       "      <th>2015_profit_per_day</th>\n",
       "    </tr>\n",
       "  </thead>\n",
       "  <tbody>\n",
       "    <tr>\n",
       "      <th>0</th>\n",
       "      <td>2106</td>\n",
       "      <td>146326.22</td>\n",
       "      <td>48838.08</td>\n",
       "      <td>2813.965769</td>\n",
       "      <td>939.193846</td>\n",
       "    </tr>\n",
       "    <tr>\n",
       "      <th>1</th>\n",
       "      <td>2113</td>\n",
       "      <td>9310.22</td>\n",
       "      <td>3109.04</td>\n",
       "      <td>198.089787</td>\n",
       "      <td>66.149787</td>\n",
       "    </tr>\n",
       "    <tr>\n",
       "      <th>2</th>\n",
       "      <td>2130</td>\n",
       "      <td>223742.86</td>\n",
       "      <td>74650.40</td>\n",
       "      <td>4302.747308</td>\n",
       "      <td>1435.584615</td>\n",
       "    </tr>\n",
       "    <tr>\n",
       "      <th>3</th>\n",
       "      <td>2152</td>\n",
       "      <td>15442.16</td>\n",
       "      <td>5175.06</td>\n",
       "      <td>315.146122</td>\n",
       "      <td>105.613469</td>\n",
       "    </tr>\n",
       "    <tr>\n",
       "      <th>4</th>\n",
       "      <td>2178</td>\n",
       "      <td>24324.18</td>\n",
       "      <td>8165.70</td>\n",
       "      <td>476.944706</td>\n",
       "      <td>160.111765</td>\n",
       "    </tr>\n",
       "  </tbody>\n",
       "</table>\n",
       "</div>"
      ],
      "text/plain": [
       "   store  2015_total_revenue  2015_profit  2015_rev_per_day  \\\n",
       "0   2106           146326.22     48838.08       2813.965769   \n",
       "1   2113             9310.22      3109.04        198.089787   \n",
       "2   2130           223742.86     74650.40       4302.747308   \n",
       "3   2152            15442.16      5175.06        315.146122   \n",
       "4   2178            24324.18      8165.70        476.944706   \n",
       "\n",
       "   2015_profit_per_day  \n",
       "0           939.193846  \n",
       "1            66.149787  \n",
       "2          1435.584615  \n",
       "3           105.613469  \n",
       "4           160.111765  "
      ]
     },
     "execution_count": 43,
     "metadata": {},
     "output_type": "execute_result"
    }
   ],
   "source": [
    "# Create daily metrics (rev_per_day and profit_per_day) with days_open data \n",
    "iowa_sum_2015['2015_rev_per_day'] = iowa_sum_2015['2015_total_revenue'] / days_open_15['days_open_15']\n",
    "iowa_sum_2015['2015_profit_per_day'] = iowa_sum_2015['2015_profit'] / days_open_15['days_open_15']\n",
    "iowa_sum_2015.head()"
   ]
  },
  {
   "cell_type": "code",
   "execution_count": 44,
   "metadata": {
    "collapsed": false
   },
   "outputs": [
    {
     "name": "stdout",
     "output_type": "stream",
     "text": [
      "1204\n",
      "Note: discrepancy between len(idf) and len(idf_2015) result of 2 stores each counted twice. No time to remove.\n"
     ]
    },
    {
     "data": {
      "text/html": [
       "<div>\n",
       "<table border=\"1\" class=\"dataframe\">\n",
       "  <thead>\n",
       "    <tr style=\"text-align: right;\">\n",
       "      <th></th>\n",
       "      <th>store</th>\n",
       "      <th>city</th>\n",
       "      <th>county</th>\n",
       "      <th>zip_code</th>\n",
       "      <th>days_open_15</th>\n",
       "      <th>2015_total_revenue</th>\n",
       "      <th>2015_profit</th>\n",
       "      <th>2015_rev_per_day</th>\n",
       "      <th>2015_profit_per_day</th>\n",
       "      <th>2015_avg_rev</th>\n",
       "      <th>2015_avg_profit</th>\n",
       "      <th>2015_avg_price_per_ml</th>\n",
       "      <th>2015_avg_profit_per_ml</th>\n",
       "      <th>2015_avg_profit_per_bottle</th>\n",
       "    </tr>\n",
       "  </thead>\n",
       "  <tbody>\n",
       "    <tr>\n",
       "      <th>0</th>\n",
       "      <td>3717</td>\n",
       "      <td>SUMNER</td>\n",
       "      <td>Bremer</td>\n",
       "      <td>50674.0</td>\n",
       "      <td>50</td>\n",
       "      <td>9022.86</td>\n",
       "      <td>3011.02</td>\n",
       "      <td>180.457200</td>\n",
       "      <td>60.220400</td>\n",
       "      <td>34.438397</td>\n",
       "      <td>11.492443</td>\n",
       "      <td>10.623053</td>\n",
       "      <td>5.389800</td>\n",
       "      <td>5.103779</td>\n",
       "    </tr>\n",
       "    <tr>\n",
       "      <th>1</th>\n",
       "      <td>2614</td>\n",
       "      <td>DAVENPORT</td>\n",
       "      <td>Scott</td>\n",
       "      <td>52807.0</td>\n",
       "      <td>52</td>\n",
       "      <td>285350.58</td>\n",
       "      <td>95391.52</td>\n",
       "      <td>5487.511154</td>\n",
       "      <td>1834.452308</td>\n",
       "      <td>138.385344</td>\n",
       "      <td>46.261649</td>\n",
       "      <td>7.146836</td>\n",
       "      <td>6.427207</td>\n",
       "      <td>5.232396</td>\n",
       "    </tr>\n",
       "    <tr>\n",
       "      <th>2</th>\n",
       "      <td>2106</td>\n",
       "      <td>CEDAR FALLS</td>\n",
       "      <td>Black Hawk</td>\n",
       "      <td>50613.0</td>\n",
       "      <td>52</td>\n",
       "      <td>146326.22</td>\n",
       "      <td>48838.08</td>\n",
       "      <td>2813.965769</td>\n",
       "      <td>939.193846</td>\n",
       "      <td>277.658861</td>\n",
       "      <td>92.671879</td>\n",
       "      <td>2.788873</td>\n",
       "      <td>5.961008</td>\n",
       "      <td>5.166319</td>\n",
       "    </tr>\n",
       "  </tbody>\n",
       "</table>\n",
       "</div>"
      ],
      "text/plain": [
       "   store         city      county  zip_code  days_open_15  2015_total_revenue  \\\n",
       "0   3717       SUMNER      Bremer   50674.0            50             9022.86   \n",
       "1   2614    DAVENPORT       Scott   52807.0            52           285350.58   \n",
       "2   2106  CEDAR FALLS  Black Hawk   50613.0            52           146326.22   \n",
       "\n",
       "   2015_profit  2015_rev_per_day  2015_profit_per_day  2015_avg_rev  \\\n",
       "0      3011.02        180.457200            60.220400     34.438397   \n",
       "1     95391.52       5487.511154          1834.452308    138.385344   \n",
       "2     48838.08       2813.965769           939.193846    277.658861   \n",
       "\n",
       "   2015_avg_profit  2015_avg_price_per_ml  2015_avg_profit_per_ml  \\\n",
       "0        11.492443              10.623053                5.389800   \n",
       "1        46.261649               7.146836                6.427207   \n",
       "2        92.671879               2.788873                5.961008   \n",
       "\n",
       "   2015_avg_profit_per_bottle  \n",
       "0                    5.103779  \n",
       "1                    5.232396  \n",
       "2                    5.166319  "
      ]
     },
     "execution_count": 44,
     "metadata": {},
     "output_type": "execute_result"
    }
   ],
   "source": [
    "# Create df of categorical variables only \n",
    "idf_category = idf.loc[:,['store', 'city', 'county', 'zip_code']].drop_duplicates()\n",
    "\n",
    "# Merge (left join) iowa_sum, iowa_mean and days_open_15 to create df of all stores for 2015 data \n",
    "idf_2015 = pd.merge(idf_category, days_open_15, how='left', on='store'). \\\n",
    "merge(iowa_sum_2015, how='left', on='store').merge(iowa_mean_2015, how='left', on='store')\n",
    "print len(idf_2015)\n",
    "print 'Note: discrepancy between len(idf) and len(idf_2015) result of 2 stores each counted twice. No time to remove.'\n",
    "idf_2015.head(3)"
   ]
  },
  {
   "cell_type": "markdown",
   "metadata": {},
   "source": [
    "## Create a new df summarzing Q1-2015 data only"
   ]
  },
  {
   "cell_type": "code",
   "execution_count": 45,
   "metadata": {
    "collapsed": false
   },
   "outputs": [
    {
     "name": "stdout",
     "output_type": "stream",
     "text": [
      "1183\n",
      "1183\n"
     ]
    }
   ],
   "source": [
    "# Create a df summarizing total sales and revenues in 2015 at store-level\n",
    "sum_metrics = ['sales', 'profit']\n",
    "iowa_sum_2015Q1 = idf[idf['quarter'] == 'Q1-2015'].groupby(['store'])[sum_metrics].agg(np.sum)\n",
    "iowa_sum_2015Q1.columns = ['Q1-15_total_revenue','Q1-15_profit']\n",
    "iowa_sum_2015Q1.reset_index(inplace=True)\n",
    "print len(iowa_sum_2015Q1)\n",
    "\n",
    "# Create a df summarizing mean metrics\n",
    "mean_metrics = ['sales', 'profit', 'price_per_ml', 'profit_per_ml', 'profit_per_bottle']\n",
    "iowa_mean_2015Q1 = idf[idf['quarter'] == 'Q1-2015'].groupby(['store'])[mean_metrics].agg(np.mean)\n",
    "iowa_mean_2015Q1.columns = ['Q1-15_avg_rev','Q1-15_avg_profit','Q1-15_avg_price_per_ml', \\\n",
    "                         'Q1-15_avg_profit_per_ml', 'Q1-15_avg_profit_per_bottle']\n",
    "iowa_mean_2015Q1.reset_index(inplace=True)\n",
    "print len(iowa_mean_2015Q1)\n",
    "\n",
    "# Create days_open df for Q1-2015\n",
    "days_open_15Q1 = idf_open[idf_open['quarter'] == 'Q1-2015'].groupby(['store'])[['date']].agg(len)\n",
    "days_open_15Q1.reset_index(inplace=True)\n",
    "days_open_15Q1.columns = ['store', 'days_open_15Q1']\n",
    "days_open_15Q1['days_open_15Q1'] = days_open_15Q1['days_open_15Q1'].astype(int)"
   ]
  },
  {
   "cell_type": "code",
   "execution_count": 46,
   "metadata": {
    "collapsed": false
   },
   "outputs": [
    {
     "data": {
      "text/html": [
       "<div>\n",
       "<table border=\"1\" class=\"dataframe\">\n",
       "  <thead>\n",
       "    <tr style=\"text-align: right;\">\n",
       "      <th></th>\n",
       "      <th>store</th>\n",
       "      <th>Q1-15_total_revenue</th>\n",
       "      <th>Q1-15_profit</th>\n",
       "      <th>rev_per_day</th>\n",
       "      <th>profit_per_day</th>\n",
       "    </tr>\n",
       "  </thead>\n",
       "  <tbody>\n",
       "    <tr>\n",
       "      <th>0</th>\n",
       "      <td>2106</td>\n",
       "      <td>39287.29</td>\n",
       "      <td>13108.37</td>\n",
       "      <td>3273.940833</td>\n",
       "      <td>1092.364167</td>\n",
       "    </tr>\n",
       "    <tr>\n",
       "      <th>1</th>\n",
       "      <td>2113</td>\n",
       "      <td>2833.25</td>\n",
       "      <td>944.72</td>\n",
       "      <td>257.568182</td>\n",
       "      <td>85.883636</td>\n",
       "    </tr>\n",
       "    <tr>\n",
       "      <th>2</th>\n",
       "      <td>2130</td>\n",
       "      <td>48545.14</td>\n",
       "      <td>16217.36</td>\n",
       "      <td>4045.428333</td>\n",
       "      <td>1351.446667</td>\n",
       "    </tr>\n",
       "    <tr>\n",
       "      <th>3</th>\n",
       "      <td>2152</td>\n",
       "      <td>4006.92</td>\n",
       "      <td>1337.20</td>\n",
       "      <td>333.910000</td>\n",
       "      <td>111.433333</td>\n",
       "    </tr>\n",
       "    <tr>\n",
       "      <th>4</th>\n",
       "      <td>2178</td>\n",
       "      <td>5856.41</td>\n",
       "      <td>1961.28</td>\n",
       "      <td>488.034167</td>\n",
       "      <td>163.440000</td>\n",
       "    </tr>\n",
       "  </tbody>\n",
       "</table>\n",
       "</div>"
      ],
      "text/plain": [
       "   store  Q1-15_total_revenue  Q1-15_profit  rev_per_day  profit_per_day\n",
       "0   2106             39287.29      13108.37  3273.940833     1092.364167\n",
       "1   2113              2833.25        944.72   257.568182       85.883636\n",
       "2   2130             48545.14      16217.36  4045.428333     1351.446667\n",
       "3   2152              4006.92       1337.20   333.910000      111.433333\n",
       "4   2178              5856.41       1961.28   488.034167      163.440000"
      ]
     },
     "execution_count": 46,
     "metadata": {},
     "output_type": "execute_result"
    }
   ],
   "source": [
    "# Create daily metrics (rev_per_day and profit_per_day) with days_open data \n",
    "iowa_sum_2015Q1['rev_per_day'] = iowa_sum_2015Q1['Q1-15_total_revenue'] / days_open_15Q1['days_open_15Q1']\n",
    "iowa_sum_2015Q1['profit_per_day'] = iowa_sum_2015Q1['Q1-15_profit'] / days_open_15Q1['days_open_15Q1']\n",
    "iowa_sum_2015Q1.head()"
   ]
  },
  {
   "cell_type": "code",
   "execution_count": 47,
   "metadata": {
    "collapsed": false
   },
   "outputs": [
    {
     "name": "stdout",
     "output_type": "stream",
     "text": [
      "1204\n",
      "Note: discrepancy between len(idf) and len(idf_2015) result of 2 stores each counted twice. No time to remove.\n"
     ]
    },
    {
     "data": {
      "text/html": [
       "<div>\n",
       "<table border=\"1\" class=\"dataframe\">\n",
       "  <thead>\n",
       "    <tr style=\"text-align: right;\">\n",
       "      <th></th>\n",
       "      <th>store</th>\n",
       "      <th>city</th>\n",
       "      <th>county</th>\n",
       "      <th>zip_code</th>\n",
       "      <th>days_open_15Q1</th>\n",
       "      <th>Q1-15_total_revenue</th>\n",
       "      <th>Q1-15_profit</th>\n",
       "      <th>rev_per_day</th>\n",
       "      <th>profit_per_day</th>\n",
       "      <th>Q1-15_avg_rev</th>\n",
       "      <th>Q1-15_avg_profit</th>\n",
       "      <th>Q1-15_avg_price_per_ml</th>\n",
       "      <th>Q1-15_avg_profit_per_ml</th>\n",
       "      <th>Q1-15_avg_profit_per_bottle</th>\n",
       "    </tr>\n",
       "  </thead>\n",
       "  <tbody>\n",
       "    <tr>\n",
       "      <th>0</th>\n",
       "      <td>3717</td>\n",
       "      <td>SUMNER</td>\n",
       "      <td>Bremer</td>\n",
       "      <td>50674.0</td>\n",
       "      <td>11</td>\n",
       "      <td>1583.13</td>\n",
       "      <td>527.81</td>\n",
       "      <td>143.920909</td>\n",
       "      <td>47.982727</td>\n",
       "      <td>35.980227</td>\n",
       "      <td>11.995682</td>\n",
       "      <td>11.149558</td>\n",
       "      <td>5.540246</td>\n",
       "      <td>4.902955</td>\n",
       "    </tr>\n",
       "    <tr>\n",
       "      <th>1</th>\n",
       "      <td>2614</td>\n",
       "      <td>DAVENPORT</td>\n",
       "      <td>Scott</td>\n",
       "      <td>52807.0</td>\n",
       "      <td>12</td>\n",
       "      <td>64520.24</td>\n",
       "      <td>21642.50</td>\n",
       "      <td>5376.686667</td>\n",
       "      <td>1803.541667</td>\n",
       "      <td>135.546723</td>\n",
       "      <td>45.467437</td>\n",
       "      <td>5.584630</td>\n",
       "      <td>5.687667</td>\n",
       "      <td>4.805462</td>\n",
       "    </tr>\n",
       "    <tr>\n",
       "      <th>2</th>\n",
       "      <td>2106</td>\n",
       "      <td>CEDAR FALLS</td>\n",
       "      <td>Black Hawk</td>\n",
       "      <td>50613.0</td>\n",
       "      <td>12</td>\n",
       "      <td>39287.29</td>\n",
       "      <td>13108.37</td>\n",
       "      <td>3273.940833</td>\n",
       "      <td>1092.364167</td>\n",
       "      <td>304.552636</td>\n",
       "      <td>101.615271</td>\n",
       "      <td>3.432935</td>\n",
       "      <td>5.959059</td>\n",
       "      <td>5.033721</td>\n",
       "    </tr>\n",
       "  </tbody>\n",
       "</table>\n",
       "</div>"
      ],
      "text/plain": [
       "   store         city      county  zip_code  days_open_15Q1  \\\n",
       "0   3717       SUMNER      Bremer   50674.0              11   \n",
       "1   2614    DAVENPORT       Scott   52807.0              12   \n",
       "2   2106  CEDAR FALLS  Black Hawk   50613.0              12   \n",
       "\n",
       "   Q1-15_total_revenue  Q1-15_profit  rev_per_day  profit_per_day  \\\n",
       "0              1583.13        527.81   143.920909       47.982727   \n",
       "1             64520.24      21642.50  5376.686667     1803.541667   \n",
       "2             39287.29      13108.37  3273.940833     1092.364167   \n",
       "\n",
       "   Q1-15_avg_rev  Q1-15_avg_profit  Q1-15_avg_price_per_ml  \\\n",
       "0      35.980227         11.995682               11.149558   \n",
       "1     135.546723         45.467437                5.584630   \n",
       "2     304.552636        101.615271                3.432935   \n",
       "\n",
       "   Q1-15_avg_profit_per_ml  Q1-15_avg_profit_per_bottle  \n",
       "0                 5.540246                     4.902955  \n",
       "1                 5.687667                     4.805462  \n",
       "2                 5.959059                     5.033721  "
      ]
     },
     "execution_count": 47,
     "metadata": {},
     "output_type": "execute_result"
    }
   ],
   "source": [
    "# Merge (left join) iowa_sum, iowa_mean and days_open_15 to create df of all stores for 2015 data \n",
    "idf_2015Q1 = pd.merge(idf_category, days_open_15Q1, how='left', on='store')\n",
    "idf_2015Q1 = pd.merge(idf_2015Q1,iowa_sum_2015Q1, how='left', on='store'). \\\n",
    "merge(iowa_mean_2015Q1, how='left', on='store')\n",
    "\n",
    "print len(idf_2015Q1)\n",
    "print 'Note: discrepancy between len(idf) and len(idf_2015) result of 2 stores each counted twice. No time to remove.'\n",
    "idf_2015Q1.head(3)"
   ]
  },
  {
   "cell_type": "code",
   "execution_count": null,
   "metadata": {
    "collapsed": false
   },
   "outputs": [],
   "source": []
  },
  {
   "cell_type": "markdown",
   "metadata": {},
   "source": [
    "## Create a new df summarzing Q1-2016 data only"
   ]
  },
  {
   "cell_type": "code",
   "execution_count": 48,
   "metadata": {
    "collapsed": false
   },
   "outputs": [
    {
     "name": "stdout",
     "output_type": "stream",
     "text": [
      "1183\n",
      "1183\n"
     ]
    },
    {
     "ename": "KeyError",
     "evalue": "'days_open'",
     "output_type": "error",
     "traceback": [
      "\u001b[0;31m---------------------------------------------------------------------------\u001b[0m",
      "\u001b[0;31mKeyError\u001b[0m                                  Traceback (most recent call last)",
      "\u001b[0;32m<ipython-input-48-1a952d03e838>\u001b[0m in \u001b[0;36m<module>\u001b[0;34m()\u001b[0m\n\u001b[1;32m     17\u001b[0m \u001b[0mdays_open_16Q1\u001b[0m\u001b[0;34m.\u001b[0m\u001b[0mreset_index\u001b[0m\u001b[0;34m(\u001b[0m\u001b[0minplace\u001b[0m\u001b[0;34m=\u001b[0m\u001b[0mTrue\u001b[0m\u001b[0;34m)\u001b[0m\u001b[0;34m\u001b[0m\u001b[0m\n\u001b[1;32m     18\u001b[0m \u001b[0mdays_open_16Q1\u001b[0m\u001b[0;34m.\u001b[0m\u001b[0mcolumns\u001b[0m \u001b[0;34m=\u001b[0m \u001b[0;34m[\u001b[0m\u001b[0;34m'store'\u001b[0m\u001b[0;34m,\u001b[0m \u001b[0;34m'days_open'\u001b[0m\u001b[0;34m]\u001b[0m\u001b[0;34m\u001b[0m\u001b[0m\n\u001b[0;32m---> 19\u001b[0;31m \u001b[0mdays_open_16Q1\u001b[0m\u001b[0;34m[\u001b[0m\u001b[0;34m'days_open'\u001b[0m\u001b[0;34m]\u001b[0m \u001b[0;34m=\u001b[0m \u001b[0mdays_open_15Q1\u001b[0m\u001b[0;34m[\u001b[0m\u001b[0;34m'days_open'\u001b[0m\u001b[0;34m]\u001b[0m\u001b[0;34m.\u001b[0m\u001b[0mastype\u001b[0m\u001b[0;34m(\u001b[0m\u001b[0mint\u001b[0m\u001b[0;34m)\u001b[0m\u001b[0;34m\u001b[0m\u001b[0m\n\u001b[0m",
      "\u001b[0;32m/Users/macbook/anaconda/lib/python2.7/site-packages/pandas/core/frame.pyc\u001b[0m in \u001b[0;36m__getitem__\u001b[0;34m(self, key)\u001b[0m\n\u001b[1;32m   1995\u001b[0m             \u001b[0;32mreturn\u001b[0m \u001b[0mself\u001b[0m\u001b[0;34m.\u001b[0m\u001b[0m_getitem_multilevel\u001b[0m\u001b[0;34m(\u001b[0m\u001b[0mkey\u001b[0m\u001b[0;34m)\u001b[0m\u001b[0;34m\u001b[0m\u001b[0m\n\u001b[1;32m   1996\u001b[0m         \u001b[0;32melse\u001b[0m\u001b[0;34m:\u001b[0m\u001b[0;34m\u001b[0m\u001b[0m\n\u001b[0;32m-> 1997\u001b[0;31m             \u001b[0;32mreturn\u001b[0m \u001b[0mself\u001b[0m\u001b[0;34m.\u001b[0m\u001b[0m_getitem_column\u001b[0m\u001b[0;34m(\u001b[0m\u001b[0mkey\u001b[0m\u001b[0;34m)\u001b[0m\u001b[0;34m\u001b[0m\u001b[0m\n\u001b[0m\u001b[1;32m   1998\u001b[0m \u001b[0;34m\u001b[0m\u001b[0m\n\u001b[1;32m   1999\u001b[0m     \u001b[0;32mdef\u001b[0m \u001b[0m_getitem_column\u001b[0m\u001b[0;34m(\u001b[0m\u001b[0mself\u001b[0m\u001b[0;34m,\u001b[0m \u001b[0mkey\u001b[0m\u001b[0;34m)\u001b[0m\u001b[0;34m:\u001b[0m\u001b[0;34m\u001b[0m\u001b[0m\n",
      "\u001b[0;32m/Users/macbook/anaconda/lib/python2.7/site-packages/pandas/core/frame.pyc\u001b[0m in \u001b[0;36m_getitem_column\u001b[0;34m(self, key)\u001b[0m\n\u001b[1;32m   2002\u001b[0m         \u001b[0;31m# get column\u001b[0m\u001b[0;34m\u001b[0m\u001b[0;34m\u001b[0m\u001b[0m\n\u001b[1;32m   2003\u001b[0m         \u001b[0;32mif\u001b[0m \u001b[0mself\u001b[0m\u001b[0;34m.\u001b[0m\u001b[0mcolumns\u001b[0m\u001b[0;34m.\u001b[0m\u001b[0mis_unique\u001b[0m\u001b[0;34m:\u001b[0m\u001b[0;34m\u001b[0m\u001b[0m\n\u001b[0;32m-> 2004\u001b[0;31m             \u001b[0;32mreturn\u001b[0m \u001b[0mself\u001b[0m\u001b[0;34m.\u001b[0m\u001b[0m_get_item_cache\u001b[0m\u001b[0;34m(\u001b[0m\u001b[0mkey\u001b[0m\u001b[0;34m)\u001b[0m\u001b[0;34m\u001b[0m\u001b[0m\n\u001b[0m\u001b[1;32m   2005\u001b[0m \u001b[0;34m\u001b[0m\u001b[0m\n\u001b[1;32m   2006\u001b[0m         \u001b[0;31m# duplicate columns & possible reduce dimensionality\u001b[0m\u001b[0;34m\u001b[0m\u001b[0;34m\u001b[0m\u001b[0m\n",
      "\u001b[0;32m/Users/macbook/anaconda/lib/python2.7/site-packages/pandas/core/generic.pyc\u001b[0m in \u001b[0;36m_get_item_cache\u001b[0;34m(self, item)\u001b[0m\n\u001b[1;32m   1348\u001b[0m         \u001b[0mres\u001b[0m \u001b[0;34m=\u001b[0m \u001b[0mcache\u001b[0m\u001b[0;34m.\u001b[0m\u001b[0mget\u001b[0m\u001b[0;34m(\u001b[0m\u001b[0mitem\u001b[0m\u001b[0;34m)\u001b[0m\u001b[0;34m\u001b[0m\u001b[0m\n\u001b[1;32m   1349\u001b[0m         \u001b[0;32mif\u001b[0m \u001b[0mres\u001b[0m \u001b[0;32mis\u001b[0m \u001b[0mNone\u001b[0m\u001b[0;34m:\u001b[0m\u001b[0;34m\u001b[0m\u001b[0m\n\u001b[0;32m-> 1350\u001b[0;31m             \u001b[0mvalues\u001b[0m \u001b[0;34m=\u001b[0m \u001b[0mself\u001b[0m\u001b[0;34m.\u001b[0m\u001b[0m_data\u001b[0m\u001b[0;34m.\u001b[0m\u001b[0mget\u001b[0m\u001b[0;34m(\u001b[0m\u001b[0mitem\u001b[0m\u001b[0;34m)\u001b[0m\u001b[0;34m\u001b[0m\u001b[0m\n\u001b[0m\u001b[1;32m   1351\u001b[0m             \u001b[0mres\u001b[0m \u001b[0;34m=\u001b[0m \u001b[0mself\u001b[0m\u001b[0;34m.\u001b[0m\u001b[0m_box_item_values\u001b[0m\u001b[0;34m(\u001b[0m\u001b[0mitem\u001b[0m\u001b[0;34m,\u001b[0m \u001b[0mvalues\u001b[0m\u001b[0;34m)\u001b[0m\u001b[0;34m\u001b[0m\u001b[0m\n\u001b[1;32m   1352\u001b[0m             \u001b[0mcache\u001b[0m\u001b[0;34m[\u001b[0m\u001b[0mitem\u001b[0m\u001b[0;34m]\u001b[0m \u001b[0;34m=\u001b[0m \u001b[0mres\u001b[0m\u001b[0;34m\u001b[0m\u001b[0m\n",
      "\u001b[0;32m/Users/macbook/anaconda/lib/python2.7/site-packages/pandas/core/internals.pyc\u001b[0m in \u001b[0;36mget\u001b[0;34m(self, item, fastpath)\u001b[0m\n\u001b[1;32m   3288\u001b[0m \u001b[0;34m\u001b[0m\u001b[0m\n\u001b[1;32m   3289\u001b[0m             \u001b[0;32mif\u001b[0m \u001b[0;32mnot\u001b[0m \u001b[0misnull\u001b[0m\u001b[0;34m(\u001b[0m\u001b[0mitem\u001b[0m\u001b[0;34m)\u001b[0m\u001b[0;34m:\u001b[0m\u001b[0;34m\u001b[0m\u001b[0m\n\u001b[0;32m-> 3290\u001b[0;31m                 \u001b[0mloc\u001b[0m \u001b[0;34m=\u001b[0m \u001b[0mself\u001b[0m\u001b[0;34m.\u001b[0m\u001b[0mitems\u001b[0m\u001b[0;34m.\u001b[0m\u001b[0mget_loc\u001b[0m\u001b[0;34m(\u001b[0m\u001b[0mitem\u001b[0m\u001b[0;34m)\u001b[0m\u001b[0;34m\u001b[0m\u001b[0m\n\u001b[0m\u001b[1;32m   3291\u001b[0m             \u001b[0;32melse\u001b[0m\u001b[0;34m:\u001b[0m\u001b[0;34m\u001b[0m\u001b[0m\n\u001b[1;32m   3292\u001b[0m                 \u001b[0mindexer\u001b[0m \u001b[0;34m=\u001b[0m \u001b[0mnp\u001b[0m\u001b[0;34m.\u001b[0m\u001b[0marange\u001b[0m\u001b[0;34m(\u001b[0m\u001b[0mlen\u001b[0m\u001b[0;34m(\u001b[0m\u001b[0mself\u001b[0m\u001b[0;34m.\u001b[0m\u001b[0mitems\u001b[0m\u001b[0;34m)\u001b[0m\u001b[0;34m)\u001b[0m\u001b[0;34m[\u001b[0m\u001b[0misnull\u001b[0m\u001b[0;34m(\u001b[0m\u001b[0mself\u001b[0m\u001b[0;34m.\u001b[0m\u001b[0mitems\u001b[0m\u001b[0;34m)\u001b[0m\u001b[0;34m]\u001b[0m\u001b[0;34m\u001b[0m\u001b[0m\n",
      "\u001b[0;32m/Users/macbook/anaconda/lib/python2.7/site-packages/pandas/indexes/base.pyc\u001b[0m in \u001b[0;36mget_loc\u001b[0;34m(self, key, method, tolerance)\u001b[0m\n\u001b[1;32m   1945\u001b[0m                 \u001b[0;32mreturn\u001b[0m \u001b[0mself\u001b[0m\u001b[0;34m.\u001b[0m\u001b[0m_engine\u001b[0m\u001b[0;34m.\u001b[0m\u001b[0mget_loc\u001b[0m\u001b[0;34m(\u001b[0m\u001b[0mkey\u001b[0m\u001b[0;34m)\u001b[0m\u001b[0;34m\u001b[0m\u001b[0m\n\u001b[1;32m   1946\u001b[0m             \u001b[0;32mexcept\u001b[0m \u001b[0mKeyError\u001b[0m\u001b[0;34m:\u001b[0m\u001b[0;34m\u001b[0m\u001b[0m\n\u001b[0;32m-> 1947\u001b[0;31m                 \u001b[0;32mreturn\u001b[0m \u001b[0mself\u001b[0m\u001b[0;34m.\u001b[0m\u001b[0m_engine\u001b[0m\u001b[0;34m.\u001b[0m\u001b[0mget_loc\u001b[0m\u001b[0;34m(\u001b[0m\u001b[0mself\u001b[0m\u001b[0;34m.\u001b[0m\u001b[0m_maybe_cast_indexer\u001b[0m\u001b[0;34m(\u001b[0m\u001b[0mkey\u001b[0m\u001b[0;34m)\u001b[0m\u001b[0;34m)\u001b[0m\u001b[0;34m\u001b[0m\u001b[0m\n\u001b[0m\u001b[1;32m   1948\u001b[0m \u001b[0;34m\u001b[0m\u001b[0m\n\u001b[1;32m   1949\u001b[0m         \u001b[0mindexer\u001b[0m \u001b[0;34m=\u001b[0m \u001b[0mself\u001b[0m\u001b[0;34m.\u001b[0m\u001b[0mget_indexer\u001b[0m\u001b[0;34m(\u001b[0m\u001b[0;34m[\u001b[0m\u001b[0mkey\u001b[0m\u001b[0;34m]\u001b[0m\u001b[0;34m,\u001b[0m \u001b[0mmethod\u001b[0m\u001b[0;34m=\u001b[0m\u001b[0mmethod\u001b[0m\u001b[0;34m,\u001b[0m \u001b[0mtolerance\u001b[0m\u001b[0;34m=\u001b[0m\u001b[0mtolerance\u001b[0m\u001b[0;34m)\u001b[0m\u001b[0;34m\u001b[0m\u001b[0m\n",
      "\u001b[0;32mpandas/index.pyx\u001b[0m in \u001b[0;36mpandas.index.IndexEngine.get_loc (pandas/index.c:4154)\u001b[0;34m()\u001b[0m\n",
      "\u001b[0;32mpandas/index.pyx\u001b[0m in \u001b[0;36mpandas.index.IndexEngine.get_loc (pandas/index.c:4018)\u001b[0;34m()\u001b[0m\n",
      "\u001b[0;32mpandas/hashtable.pyx\u001b[0m in \u001b[0;36mpandas.hashtable.PyObjectHashTable.get_item (pandas/hashtable.c:12368)\u001b[0;34m()\u001b[0m\n",
      "\u001b[0;32mpandas/hashtable.pyx\u001b[0m in \u001b[0;36mpandas.hashtable.PyObjectHashTable.get_item (pandas/hashtable.c:12322)\u001b[0;34m()\u001b[0m\n",
      "\u001b[0;31mKeyError\u001b[0m: 'days_open'"
     ]
    }
   ],
   "source": [
    "# Create a df summarizing total sales and revenues in 2016 at store-level\n",
    "sum_metrics = ['sales', 'profit']\n",
    "iowa_sum_2016Q1 = idf[idf['quarter'] == 'Q1-2016'].groupby(['store'])[sum_metrics].agg(np.sum)\n",
    "iowa_sum_2016Q1.columns = ['Q1-16_total_revenue','Q1-16_profit']\n",
    "iowa_sum_2016Q1.reset_index(inplace=True)\n",
    "print len(iowa_sum_2016Q1)\n",
    "\n",
    "# Create a df summarizing mean metrics\n",
    "mean_metrics = ['sales', 'profit', 'price_per_ml', 'profit_per_ml', 'profit_per_bottle']\n",
    "iowa_mean_2016Q1 = idf[idf['quarter'] == 'Q1-2016'].groupby(['store'])[mean_metrics].agg(np.mean)\n",
    "iowa_mean_2016Q1.columns = ['Q1-16_avg_rev','Q1-16_avg_profit','Q1-16_avg_price_per_ml', \\\n",
    "                         'Q1-16_avg_profit_per_ml', 'Q1-16_avg_profit_per_bottle']\n",
    "iowa_mean_2016Q1.reset_index(inplace=True)\n",
    "print len(iowa_mean_2016Q1)\n",
    "\n",
    "# Create days_open df for Q1-2016\n",
    "days_open_16Q1 = idf_open[idf_open['quarter'] == 'Q1-2016'].groupby(['store'])[['date']].agg(len)\n",
    "days_open_16Q1.reset_index(inplace=True)\n",
    "days_open_16Q1.columns = ['store', 'days_open']\n",
    "days_open_16Q1['days_open'] = days_open_15Q1['days_open'].astype(int)"
   ]
  },
  {
   "cell_type": "code",
   "execution_count": null,
   "metadata": {
    "collapsed": false
   },
   "outputs": [],
   "source": [
    "iowa_sum_2016Q1.head(3)"
   ]
  },
  {
   "cell_type": "code",
   "execution_count": null,
   "metadata": {
    "collapsed": false
   },
   "outputs": [],
   "source": [
    "# Create daily metrics (rev_per_day and profit_per_day) with days_open data \n",
    "iowa_sum_2016Q1['rev_per_day'] = iowa_sum_2016Q1['Q1-16_total_revenue'] / days_open_16Q1['days_open']\n",
    "iowa_sum_2016Q1['profit_per_day'] = iowa_sum_2016Q1['Q1-16_profit'] / days_open_16Q1['days_open']\n",
    "\n",
    "# Merge (left join) iowa_sum, iowa_mean and days_open_15 to create df of all stores for 2016 data \n",
    "idf_2016Q1 = pd.merge(idf_category, days_open_16Q1, how='left', on='store')\n",
    "idf_2016Q1 = pd.merge(idf_2016Q1,iowa_sum_2016Q1, how='left', on='store'). \\\n",
    "merge(iowa_mean_2016Q1, how='left', on='store')\n",
    "\n",
    "idf_2016Q1.head(3)\n",
    "print len(idf_2016Q1)\n",
    "print 'Note: discrepancy between len(idf) and len(idf_2016) result of 2 stores each counted twice. No time to remove.'\n",
    "idf_2016Q1.head(3)"
   ]
  },
  {
   "cell_type": "code",
   "execution_count": null,
   "metadata": {
    "collapsed": false
   },
   "outputs": [],
   "source": [
    "# Make sure all three new dfs are shame shape\n",
    "print idf_2015.shape\n",
    "print idf_2015Q1.shape\n",
    "print idf_2016Q1.shape"
   ]
  },
  {
   "cell_type": "code",
   "execution_count": null,
   "metadata": {
    "collapsed": true
   },
   "outputs": [],
   "source": [
    "###################################################\n",
    "a1 = idf_2015.copy()\n",
    "a2 = idf_2015Q1.copy()\n",
    "a3 = idf_2016Q1.copy()"
   ]
  },
  {
   "cell_type": "markdown",
   "metadata": {},
   "source": [
    "## Merge 2015, Q1-2015 and Q2-2015 dfs"
   ]
  },
  {
   "cell_type": "code",
   "execution_count": null,
   "metadata": {
    "collapsed": false
   },
   "outputs": [],
   "source": [
    "stores_df = idf_2015.merge(idf_2015Q1, on=['store', 'county', 'city', 'zip_code'], how ='left')\\\n",
    ".merge(idf_2016Q1, on= ['store', 'county', 'city', 'zip_code'], how =\"left\")"
   ]
  },
  {
   "cell_type": "code",
   "execution_count": null,
   "metadata": {
    "collapsed": false
   },
   "outputs": [],
   "source": [
    "print stores_df.shape\n",
    "print pd.DataFrame(stores_df.columns)\n",
    "stores_df.head(3)"
   ]
  },
  {
   "cell_type": "code",
   "execution_count": null,
   "metadata": {
    "collapsed": true
   },
   "outputs": [],
   "source": []
  },
  {
   "cell_type": "code",
   "execution_count": null,
   "metadata": {
    "collapsed": true
   },
   "outputs": [],
   "source": []
  },
  {
   "cell_type": "code",
   "execution_count": null,
   "metadata": {
    "collapsed": true
   },
   "outputs": [],
   "source": []
  },
  {
   "cell_type": "code",
   "execution_count": null,
   "metadata": {
    "collapsed": true
   },
   "outputs": [],
   "source": []
  },
  {
   "cell_type": "code",
   "execution_count": null,
   "metadata": {
    "collapsed": true
   },
   "outputs": [],
   "source": []
  },
  {
   "cell_type": "code",
   "execution_count": null,
   "metadata": {
    "collapsed": true
   },
   "outputs": [],
   "source": []
  },
  {
   "cell_type": "code",
   "execution_count": null,
   "metadata": {
    "collapsed": false
   },
   "outputs": [],
   "source": [
    "# 1: Create idf_sums\n",
    "idf_sums = idf.groupby(['store'])[['sales', 'profit', 'bottles_sold', 'volume_sold']].agg(np.sum)\n",
    "idf_sums.reset_index(inplace=True)\n",
    "idf_sums.head(3)"
   ]
  },
  {
   "cell_type": "code",
   "execution_count": null,
   "metadata": {
    "collapsed": false
   },
   "outputs": [],
   "source": [
    "# 2: Create idf_means\n",
    "idf_means = idf.groupby(['store'])[['sales', 'profit', 'bottles_sold', 'volume_sold']].agg(np.mean)\n",
    "idf_means.reset_index(inplace=True)\n",
    "idf_means.columns = ['store', 'rev_per_sale', 'prof_per_sale', 'bott_per_sale', \\\n",
    "                    'vol_per_sale']\n",
    "idf_means.head(3)"
   ]
  },
  {
   "cell_type": "code",
   "execution_count": null,
   "metadata": {
    "collapsed": false
   },
   "outputs": [],
   "source": [
    "# 3: Merge sums and means into idf_sales\n",
    "idf_sales = idf_sums.merge(idf_means, how='inner', on='store')\n",
    "idf_sales.head(3)"
   ]
  },
  {
   "cell_type": "code",
   "execution_count": null,
   "metadata": {
    "collapsed": false
   },
   "outputs": [],
   "source": [
    "iowa.head()"
   ]
  },
  {
   "cell_type": "code",
   "execution_count": null,
   "metadata": {
    "collapsed": true
   },
   "outputs": [],
   "source": [
    "# 4: Create new columns in idf for daily averages\n",
    "idf['sales_pd_15'] = idf['sales'] / idf['days_open_15']\n",
    "idf['profit_pd_15'] = idf['profit'] / idf['days_open_15']\n",
    "idf['bottl_pd_15'] = idf['bottles_sold'] / idf['days_open_15']\n",
    "idf['vol_pd_15'] = idf['volume_sold'] / idf['days_open_15']\n",
    "\n",
    "idf['sales_pd_16'] = idf['sales'] / idf['days_open_16']\n",
    "idf['profit_pd_16'] = idf['profit'] / idf['days_open_16']\n",
    "idf['bottles_pd_16'] = idf['bottles_sold'] / idf['days_open_16']\n",
    "idf['vol_pd_16'] = idf['volume_sold'] / idf['days_open_16']"
   ]
  },
  {
   "cell_type": "code",
   "execution_count": null,
   "metadata": {
    "collapsed": false
   },
   "outputs": [],
   "source": [
    "# 5: Separate daily average columns into own df\n",
    "idf_pd = idf.groupby(['store'])[['sales_pd_15', 'profit_pd_15', 'vol_pd_15']].agg(np.sum)\n",
    "idf_pd.reset_index(inplace=True)\n",
    "idf_pd.head(3)"
   ]
  },
  {
   "cell_type": "code",
   "execution_count": null,
   "metadata": {
    "collapsed": false
   },
   "outputs": [],
   "source": [
    "# 6: Merge sales and daily average dfs\n",
    "idf_metrics = idf_sales.merge(idf_pd, how='inner', on='store')\n",
    "idf_metrics.head(3)"
   ]
  },
  {
   "cell_type": "code",
   "execution_count": null,
   "metadata": {
    "collapsed": false
   },
   "outputs": [],
   "source": [
    "# 7: Create location only df\n",
    "idf_location = pd.pivot_table(idf, values=['sales'], index=['store', 'city', 'county', 'zip_code'], aggfunc=np.sum)\n",
    "idf_location.reset_index(inplace=True)\n",
    "idf_location.drop('sales', axis=1, inplace=True)\n",
    "idf_location.head(3)"
   ]
  },
  {
   "cell_type": "code",
   "execution_count": null,
   "metadata": {
    "collapsed": false
   },
   "outputs": [],
   "source": [
    "# 8: Create new df by merging metrics and location\n",
    "idf_new= idf_metrics.merge(idf_location, how='inner', on='store')\n",
    "idf_new.head(3)"
   ]
  },
  {
   "cell_type": "code",
   "execution_count": null,
   "metadata": {
    "collapsed": false
   },
   "outputs": [],
   "source": [
    "# View correlations\n",
    "col_list = idf_new.columns\n",
    "idf_new.loc[:,col_list].corr()"
   ]
  },
  {
   "cell_type": "code",
   "execution_count": null,
   "metadata": {
    "collapsed": false
   },
   "outputs": [],
   "source": [
    "idf_new.loc[:,col_list].corr()['sales']"
   ]
  },
  {
   "cell_type": "code",
   "execution_count": null,
   "metadata": {
    "collapsed": false
   },
   "outputs": [],
   "source": [
    "idf.columns"
   ]
  },
  {
   "cell_type": "code",
   "execution_count": null,
   "metadata": {
    "collapsed": false
   },
   "outputs": [],
   "source": [
    "def my_pivot(df, index, values, aggfunc, plt=False):\n",
    "    piv = pd.pivot_table(df, index=index, values=values, aggfunc=aggfunc)\n",
    "    #piv.sort_values(by = ['week'], inplace=True)\n",
    "    #print piv\n",
    "    if plt: piv.plot(title= 'Average Current Liquor Sales by County',kind='hist', figsize=(16,8),bins=40)\n",
    "\n",
    "my_pivot(idf, index=[\"county\"], values=['sales'], aggfunc=np.mean, plt=True)"
   ]
  },
  {
   "cell_type": "code",
   "execution_count": null,
   "metadata": {
    "collapsed": true
   },
   "outputs": [],
   "source": []
  },
  {
   "cell_type": "code",
   "execution_count": null,
   "metadata": {
    "collapsed": false
   },
   "outputs": [],
   "source": [
    "sns.jointplot(x=idf_new['sales_pd_15'], y=idf_new['sales'])"
   ]
  },
  {
   "cell_type": "code",
   "execution_count": null,
   "metadata": {
    "collapsed": false
   },
   "outputs": [],
   "source": [
    "sns.jointplot(x=idf_new['vol_pd_15'], y=idf_new['sales'])"
   ]
  },
  {
   "cell_type": "code",
   "execution_count": null,
   "metadata": {
    "collapsed": false
   },
   "outputs": [],
   "source": [
    "sns.jointplot(x=idf_new['vol_per_sale'], y=idf_new['sales'])"
   ]
  },
  {
   "cell_type": "code",
   "execution_count": null,
   "metadata": {
    "collapsed": false
   },
   "outputs": [],
   "source": [
    "sns.jointplot(x=idf_new['bott_per_sale'], y=idf_new['sales'])"
   ]
  },
  {
   "cell_type": "markdown",
   "metadata": {},
   "source": [
    "### Create new dataframe for Q1-2015 only"
   ]
  },
  {
   "cell_type": "code",
   "execution_count": null,
   "metadata": {
    "collapsed": false
   },
   "outputs": [],
   "source": [
    "idf15 = iowa[iowa['store'].isin(open_stores)]\n",
    "idf15 = idf[idf['quarter'] == 'Q1-2015']"
   ]
  },
  {
   "cell_type": "code",
   "execution_count": null,
   "metadata": {
    "collapsed": false
   },
   "outputs": [],
   "source": [
    "idf15.head(5)"
   ]
  },
  {
   "cell_type": "code",
   "execution_count": null,
   "metadata": {
    "collapsed": false
   },
   "outputs": [],
   "source": [
    "# 1: Create idf_sums\n",
    "idf15_sums = idf15.groupby(['store'])[['sales', 'profit', 'bottles_sold', 'volume_sold']].agg(np.sum)\n",
    "idf15_sums.reset_index(inplace=True)\n",
    "\n",
    "# 2: Create idf_means\n",
    "idf15_means = idf15.groupby(['store'])[['sales', 'profit', 'bottles_sold', 'volume_sold']].agg(np.mean)\n",
    "idf15_means.reset_index(inplace=True)\n",
    "idf15_means.columns = ['store', 'rev_per_sale', 'prof_per_sale', 'bott_per_sale', \\\n",
    "                    'vol_per_sale']\n",
    "\n",
    "# 3: Merge sums and means into idf_sales\n",
    "idf15_sales = idf15_sums.merge(idf15_means, how='inner', on='store')\n",
    "idf15_sales.head(3)"
   ]
  },
  {
   "cell_type": "code",
   "execution_count": null,
   "metadata": {
    "collapsed": false
   },
   "outputs": [],
   "source": [
    "# 4: Create new columns in idf for daily averages\n",
    "days_open_Q1_15 = idf_open[idf_open['quarter'] == 'Q1-2015'].groupby(['store'])[['date']].agg(len)\n",
    "days_open_Q1_15.reset_index(inplace=True)\n",
    "days_open_Q1_15.columns = ['store', 'days_open_Q1_15']\n",
    "days_open_Q1_15['days_open_Q1_15'] = days_open_Q1_15['days_open_Q1_15'].astype(int)\n",
    "\n",
    "idf15['sales_pd_15'] = idf15['sales'] / days_open_Q1_15['days_open_Q1_15']\n",
    "idf15['profit_pd_15'] = idf15['profit'] / days_open_Q1_15['days_open_Q1_15']\n",
    "idf15['bottl_pd_15'] = idf15['bottles_sold'] / days_open_Q1_15['days_open_Q1_15']\n",
    "idf15['vol_pd_15'] = idf15['volume_sold'] / days_open_Q1_15['days_open_Q1_15']\n",
    "\n",
    "# 5: Separate daily average columns into own df\n",
    "idf15_pd = idf.groupby(['store'])[['sales_pd_15', 'profit_pd_15', 'vol_pd_15']].agg(np.sum)\n",
    "idf15_pd.reset_index(inplace=True)\n",
    "idf15_pd.head(3)"
   ]
  },
  {
   "cell_type": "code",
   "execution_count": null,
   "metadata": {
    "collapsed": false
   },
   "outputs": [],
   "source": [
    "# 6: Merge sales and daily average dfs\n",
    "idf15_metrics = idf15_sales.merge(idf15_pd, how='inner', on='store')\n",
    "idf15_metrics.head(3)\n",
    "\n"
   ]
  },
  {
   "cell_type": "code",
   "execution_count": null,
   "metadata": {
    "collapsed": false
   },
   "outputs": [],
   "source": [
    "# 7: Create location only df\n",
    "idf_location = pd.pivot_table(idf, values=['sales'], index=['store', 'city', 'county', 'zip_code'], aggfunc=np.sum)\n",
    "idf_location.reset_index(inplace=True)\n",
    "idf_location.drop('sales', axis=1, inplace=True)\n",
    "idf_location.head(3)\n",
    "\n",
    "# 8: Create new df by merging metrics and location\n",
    "idf15_new= idf15_metrics.merge(idf_location, how='inner', on='store')\n",
    "idf15_new.head(3)"
   ]
  },
  {
   "cell_type": "code",
   "execution_count": null,
   "metadata": {
    "collapsed": false
   },
   "outputs": [],
   "source": [
    "idf15_new['sales_2Q-4Q-15'] = idf_new['sales'] - idf15_new['sales']\n",
    "idf15_new.head(3)"
   ]
  },
  {
   "cell_type": "code",
   "execution_count": null,
   "metadata": {
    "collapsed": true
   },
   "outputs": [],
   "source": [
    "iowa_2015 = iowa[iowa['year'] == 2015]\n",
    "iowa_2016 = iowa[iowa['year'] == 2016]"
   ]
  },
  {
   "cell_type": "code",
   "execution_count": null,
   "metadata": {
    "collapsed": false
   },
   "outputs": [],
   "source": [
    "idf15_new['sales_2Q-4Q-15'].shape"
   ]
  },
  {
   "cell_type": "code",
   "execution_count": null,
   "metadata": {
    "collapsed": true
   },
   "outputs": [],
   "source": []
  },
  {
   "cell_type": "code",
   "execution_count": null,
   "metadata": {
    "collapsed": false
   },
   "outputs": [],
   "source": [
    "# train all models only on data from stores with full data from 2015 (no stores which opened or closed)\n",
    "\n",
    "# base model - predict 2015 Q2-4 with just 2015Q1\n",
    "y = idf15_new['sales_2Q-4Q-15']\n",
    "X  = idf15_new['sales']\n",
    "X = pd.DataFrame(X)\n",
    "\n",
    "lm = linear_model.LinearRegression()\n",
    "base_model = lm.fit(X,y)\n",
    "\n",
    "print \"Coef:\", base_model.coef_\n",
    "print \"Intercept:\", base_model.intercept_\n",
    "print \"Score:\", base_model.score(X, y) \n",
    "print \"MSE:\", mean_squared_error(y, base_model.predict(X))"
   ]
  },
  {
   "cell_type": "code",
   "execution_count": null,
   "metadata": {
    "collapsed": false
   },
   "outputs": [],
   "source": [
    "print \"Mean cross-val R2:\",cross_val_score(lm, X, y, cv=5).mean()"
   ]
  },
  {
   "cell_type": "code",
   "execution_count": null,
   "metadata": {
    "collapsed": false
   },
   "outputs": [],
   "source": [
    "X_train, X_test, y_train, y_test = \\\n",
    "train_test_split(X, y, test_size=0.33)\n",
    "lm = linear_model.LinearRegression()\n",
    "train_base_model = lm.fit(X_train, y_train)\n",
    "predictions = lm.predict(X_test)\n",
    "\n",
    "print \"Train Test R2:\", train_base_model.score(X_test, y_test) "
   ]
  },
  {
   "cell_type": "markdown",
   "metadata": {},
   "source": [
    "### Full Year 2015"
   ]
  },
  {
   "cell_type": "code",
   "execution_count": null,
   "metadata": {
    "collapsed": true
   },
   "outputs": [],
   "source": []
  },
  {
   "cell_type": "code",
   "execution_count": null,
   "metadata": {
    "collapsed": false
   },
   "outputs": [],
   "source": [
    "# train all models only on data from stores with full data from 2015 (no stores which opened or closed)\n",
    "\n",
    "# base model - predict 2015 Q2-4 with just 2015Q1\n",
    "y = iowa[[iowa['quarter']=='Q1-2015']]\n",
    "X  = idf_new['sales']\n",
    "X = pd.DataFrame(X)\n",
    "\n",
    "lm = linear_model.LinearRegression()\n",
    "base_model = lm.fit(X,y)\n",
    "\n",
    "print \"Coef:\", base_model.coef_\n",
    "print \"Intercept:\", base_model.intercept_\n",
    "print \"Score:\", base_model.score(X, y) \n",
    "print \"MSE:\", mean_squared_error(y, base_model.predict(X))"
   ]
  },
  {
   "cell_type": "code",
   "execution_count": null,
   "metadata": {
    "collapsed": true
   },
   "outputs": [],
   "source": []
  },
  {
   "cell_type": "code",
   "execution_count": null,
   "metadata": {
    "collapsed": true
   },
   "outputs": [],
   "source": []
  },
  {
   "cell_type": "code",
   "execution_count": null,
   "metadata": {
    "collapsed": true
   },
   "outputs": [],
   "source": []
  },
  {
   "cell_type": "code",
   "execution_count": null,
   "metadata": {
    "collapsed": false
   },
   "outputs": [],
   "source": [
    "ax = idf_sales.plot(kind=\"scatter\", x='bottles_sold', y='profit', figsize=(10,6))\n",
    "ax.set_title('profit x bottles', y=1.01, fontsize=30)\n",
    "ax.set_xlabel('profit', fontsize=16)\n",
    "ax.set_ylabel('bottles', fontsize=16)\n",
    "ax.tick_params(axis='both', which='both', labelsize=16)"
   ]
  },
  {
   "cell_type": "code",
   "execution_count": null,
   "metadata": {
    "collapsed": true
   },
   "outputs": [],
   "source": []
  },
  {
   "cell_type": "markdown",
   "metadata": {},
   "source": [
    "### Dataframes by store"
   ]
  },
  {
   "cell_type": "code",
   "execution_count": null,
   "metadata": {
    "collapsed": false
   },
   "outputs": [],
   "source": [
    "#Df showing full year sales by store 2015\n",
    "print 'Nunique stores: ' + str(idf['store'].nunique())\n",
    "idf_store_2015 = idf_2015.groupby(['store']) \\\n",
    "[['sales', 'profit', 'bottles_sold', 'volume_sold']].agg(sum)\n",
    "idf_store_2015.reset_index(inplace=True)\n",
    "idf_store_2015.head(3)"
   ]
  },
  {
   "cell_type": "code",
   "execution_count": null,
   "metadata": {
    "collapsed": false
   },
   "outputs": [],
   "source": [
    "#Df showing full year sales by store 2016\n",
    "print 'Nunique stores: ' + str(idf['store'].nunique())\n",
    "idf_store_2016 = idf_2016.groupby(['store']) \\\n",
    "[['sales', 'profit', 'bottles_sold', 'volume_sold']].agg(sum)\n",
    "idf_store_2016.reset_index(inplace=True)\n",
    "idf_store_2016.head(3)"
   ]
  },
  {
   "cell_type": "code",
   "execution_count": null,
   "metadata": {
    "collapsed": false
   },
   "outputs": [],
   "source": [
    "idf_store_2016.plot(x='store', y=['profit', 'sales'], kind= 'bar')"
   ]
  },
  {
   "cell_type": "code",
   "execution_count": null,
   "metadata": {
    "collapsed": true
   },
   "outputs": [],
   "source": []
  },
  {
   "cell_type": "code",
   "execution_count": null,
   "metadata": {
    "collapsed": false
   },
   "outputs": [],
   "source": [
    "#Df showing full year sales by county 2015\n",
    "print 'Nunique counties: ' + str(idf['county'].nunique())\n",
    "idf_county_2015 = idf_2015.groupby(['county']) \\\n",
    "[['sales', 'profit', 'bottles_sold', 'volume_sold']].agg(sum)\n",
    "idf_county_2015.reset_index(inplace=True)\n",
    "idf_county_2015.tail(3)"
   ]
  },
  {
   "cell_type": "raw",
   "metadata": {},
   "source": [
    "idf_county_2015.plot(x='county', y='sales',label='total_2015_sales_by_county', kind='bar', figsize=(16,8))"
   ]
  },
  {
   "cell_type": "code",
   "execution_count": null,
   "metadata": {
    "collapsed": false
   },
   "outputs": [],
   "source": [
    "#Df showing full year sales by city 2015\n",
    "print 'Nunique cities: ' + str(idf['city'].nunique())\n",
    "idf_city_2015 = idf_2015.groupby(['city']) \\\n",
    "[['sales', 'profit', 'bottles_sold', 'volume_sold']].agg(sum)\n",
    "idf_city_2015.reset_index(inplace=True)\n",
    "idf_city_2015.tail(3)"
   ]
  },
  {
   "cell_type": "code",
   "execution_count": null,
   "metadata": {
    "collapsed": false
   },
   "outputs": [],
   "source": [
    "#Df showing full year sales by zip 2015\n",
    "print 'Nunique zip codes: ' + str(idf['zip_code'].nunique())\n",
    "idf_zip_2015 = idf_2015.groupby(['zip_code']) \\\n",
    "[['sales', 'profit', 'bottles_sold', 'volume_sold']].agg(sum)\n",
    "idf_zip_2015.reset_index(inplace=True)\n",
    "idf_zip_2015.tail(3)"
   ]
  },
  {
   "cell_type": "code",
   "execution_count": null,
   "metadata": {
    "collapsed": false
   },
   "outputs": [],
   "source": [
    "#Df showing full year sales by category\n",
    "print 'Nunique categories: ' + str(idf['category_name'].nunique())\n",
    "idf_category_2015 = idf_2015.groupby(['category_name']) \\\n",
    "[['sales', 'profit', 'bottles_sold', 'volume_sold']].agg(sum)\n",
    "idf_category_2015.reset_index(inplace=True)\n",
    "idf_category_2015.tail(3)"
   ]
  },
  {
   "cell_type": "code",
   "execution_count": null,
   "metadata": {
    "collapsed": false
   },
   "outputs": [],
   "source": [
    "quarter_sales = idf[idf[\"year\"]==2015].groupby([\"quarter\"])[\"sales\"].agg([np.sum])\n",
    "quarter_sales.columns = [\"Total Sales\"]\n",
    "quarter_sales = quarter_sales.applymap(lambda x: x/100000)\n",
    "\n",
    "ax = quarter_sales.plot(kind=\"bar\", figsize=(10,6))\n",
    "ax.set_title(\"2015 Sales by Quarter\", y=1.01, fontsize=30)\n",
    "ax.set_xlabel('Quarter', fontsize=16)\n",
    "ax.set_ylabel('Sales (in $mm)', fontsize=16)\n",
    "ax.tick_params(axis='both', which='both', labelsize=16)\n"
   ]
  },
  {
   "cell_type": "code",
   "execution_count": null,
   "metadata": {
    "collapsed": false
   },
   "outputs": [],
   "source": []
  },
  {
   "cell_type": "code",
   "execution_count": null,
   "metadata": {
    "collapsed": true
   },
   "outputs": [],
   "source": []
  },
  {
   "cell_type": "code",
   "execution_count": null,
   "metadata": {
    "collapsed": true
   },
   "outputs": [],
   "source": []
  },
  {
   "cell_type": "code",
   "execution_count": null,
   "metadata": {
    "collapsed": true
   },
   "outputs": [],
   "source": []
  },
  {
   "cell_type": "code",
   "execution_count": null,
   "metadata": {
    "collapsed": true
   },
   "outputs": [],
   "source": []
  },
  {
   "cell_type": "code",
   "execution_count": null,
   "metadata": {
    "collapsed": true
   },
   "outputs": [],
   "source": []
  },
  {
   "cell_type": "code",
   "execution_count": null,
   "metadata": {
    "collapsed": true
   },
   "outputs": [],
   "source": []
  },
  {
   "cell_type": "code",
   "execution_count": null,
   "metadata": {
    "collapsed": true
   },
   "outputs": [],
   "source": []
  },
  {
   "cell_type": "code",
   "execution_count": null,
   "metadata": {
    "collapsed": false
   },
   "outputs": [],
   "source": [
    "def my_pivot(df, index, values, aggfunc, plt=False):\n",
    "    piv = pd.pivot_table(df, index=index, values=values, aggfunc=aggfunc)\n",
    "    #piv.sort_values(by = ['week'], inplace=True)\n",
    "    #print piv\n",
    "    if plt: piv.plot(title= 'Average Current Liquor Sales by County',kind='hist', figsize=(16,8),bins=40)\n",
    "\n",
    "my_pivot(idf, index=[\"store\"], values=['sales'], aggfunc=np.mean, plt=True)"
   ]
  },
  {
   "cell_type": "code",
   "execution_count": null,
   "metadata": {
    "collapsed": true
   },
   "outputs": [],
   "source": []
  },
  {
   "cell_type": "code",
   "execution_count": null,
   "metadata": {
    "collapsed": true
   },
   "outputs": [],
   "source": []
  },
  {
   "cell_type": "code",
   "execution_count": null,
   "metadata": {
    "collapsed": true
   },
   "outputs": [],
   "source": []
  },
  {
   "cell_type": "code",
   "execution_count": null,
   "metadata": {
    "collapsed": true
   },
   "outputs": [],
   "source": []
  },
  {
   "cell_type": "code",
   "execution_count": null,
   "metadata": {
    "collapsed": true
   },
   "outputs": [],
   "source": []
  },
  {
   "cell_type": "code",
   "execution_count": null,
   "metadata": {
    "collapsed": true
   },
   "outputs": [],
   "source": []
  },
  {
   "cell_type": "code",
   "execution_count": null,
   "metadata": {
    "collapsed": true
   },
   "outputs": [],
   "source": []
  },
  {
   "cell_type": "code",
   "execution_count": null,
   "metadata": {
    "collapsed": true
   },
   "outputs": [],
   "source": []
  },
  {
   "cell_type": "code",
   "execution_count": null,
   "metadata": {
    "collapsed": true
   },
   "outputs": [],
   "source": []
  },
  {
   "cell_type": "code",
   "execution_count": null,
   "metadata": {
    "collapsed": true
   },
   "outputs": [],
   "source": []
  },
  {
   "cell_type": "code",
   "execution_count": null,
   "metadata": {
    "collapsed": true
   },
   "outputs": [],
   "source": []
  },
  {
   "cell_type": "code",
   "execution_count": null,
   "metadata": {
    "collapsed": true
   },
   "outputs": [],
   "source": []
  },
  {
   "cell_type": "code",
   "execution_count": null,
   "metadata": {
    "collapsed": false,
    "scrolled": true
   },
   "outputs": [],
   "source": [
    "sns.heatmap(iowa.corr())"
   ]
  },
  {
   "cell_type": "code",
   "execution_count": null,
   "metadata": {
    "collapsed": true
   },
   "outputs": [],
   "source": [
    "iowa_target = pd.DataFrame(iowa['sales'])"
   ]
  },
  {
   "cell_type": "code",
   "execution_count": null,
   "metadata": {
    "collapsed": false
   },
   "outputs": [],
   "source": [
    "ax = sns.regplot(y_pred, y)\n",
    "ax.figure.set_figheight(6)\n",
    "ax.figure.set_figwidth(14)\n",
    "\n",
    "ax.set_ylabel('Actual Values')\n",
    "ax.set_xlabel('Predicted Values')\n",
    "ax.set_title('Predicted vs. Actual Values');"
   ]
  },
  {
   "cell_type": "code",
   "execution_count": null,
   "metadata": {
    "collapsed": false
   },
   "outputs": [],
   "source": [
    "lr_r2 =  r2_score(y_true=y, y_pred=y_pred)\n",
    "lr_r2"
   ]
  },
  {
   "cell_type": "code",
   "execution_count": null,
   "metadata": {
    "collapsed": false
   },
   "outputs": [],
   "source": [
    "len(lr_model.coef_)"
   ]
  },
  {
   "cell_type": "code",
   "execution_count": null,
   "metadata": {
    "collapsed": false
   },
   "outputs": [],
   "source": [
    "lr_model.coef_"
   ]
  },
  {
   "cell_type": "code",
   "execution_count": null,
   "metadata": {
    "collapsed": false
   },
   "outputs": [],
   "source": [
    "iowa['bottle_volume'].unique()"
   ]
  },
  {
   "cell_type": "code",
   "execution_count": null,
   "metadata": {
    "collapsed": true
   },
   "outputs": [],
   "source": [
    "{'vodka': }\n",
    "#vodka\n",
    "#schnapps\n",
    "#whiskey\n",
    "#rum\n",
    "#scotch\n",
    "#gin\n",
    "#liqueurs\n",
    "#brandies\n",
    "#tequila\n",
    "#beer\n",
    "#other\n"
   ]
  },
  {
   "cell_type": "markdown",
   "metadata": {},
   "source": [
    "# Explore the data\n",
    "\n",
    "Perform some exploratory statistical analysis and make some plots, such as histograms of transaction totals, bottles sold, etc."
   ]
  },
  {
   "cell_type": "code",
   "execution_count": null,
   "metadata": {
    "collapsed": true
   },
   "outputs": [],
   "source": [
    "import seaborn as sns\n",
    "import matplotlib.pyplot as plt"
   ]
  },
  {
   "cell_type": "code",
   "execution_count": null,
   "metadata": {
    "collapsed": false
   },
   "outputs": [],
   "source": [
    "len(iowa['County'].value_counts())"
   ]
  },
  {
   "cell_type": "code",
   "execution_count": null,
   "metadata": {
    "collapsed": false
   },
   "outputs": [],
   "source": [
    "iowa_county = pd.pivot_table(iowa, index=iowa['County'], values=['Sale (Dollars)'])\n",
    "iowa_county.head()"
   ]
  },
  {
   "cell_type": "markdown",
   "metadata": {},
   "source": [
    "## Record your findings\n",
    "\n",
    "Be sure to write out anything observations from your exploratory analysis."
   ]
  },
  {
   "cell_type": "markdown",
   "metadata": {},
   "source": [
    "# Mine the data\n",
    "Now you are ready to compute the variables you will use for your regression from the data. For example, you may want to\n",
    "compute total sales per store from Jan to March of 2015, mean price per bottle, etc. Refer to the readme for more ideas appropriate to your scenario.\n",
    "\n",
    "Pandas is your friend for this task. Take a look at the operations [here](http://pandas.pydata.org/pandas-docs/stable/groupby.html) for ideas on how to make the best use of pandas and feel free to search for blog and Stack Overflow posts to help you group data by certain variables and compute sums, means, etc. You may find it useful to create a new data frame to house this summary data."
   ]
  },
  {
   "cell_type": "markdown",
   "metadata": {},
   "source": [
    "# Refine the data\n",
    "Look for any statistical relationships, correlations, or other relevant properties of the dataset."
   ]
  },
  {
   "cell_type": "code",
   "execution_count": null,
   "metadata": {
    "collapsed": true
   },
   "outputs": [],
   "source": []
  },
  {
   "cell_type": "markdown",
   "metadata": {},
   "source": [
    "# Build your models\n",
    "\n",
    "Using scikit-learn or statsmodels, build the necessary models for your scenario. Evaluate model fit."
   ]
  },
  {
   "cell_type": "code",
   "execution_count": null,
   "metadata": {
    "collapsed": true
   },
   "outputs": [],
   "source": [
    "from sklearn import linear_model\n"
   ]
  },
  {
   "cell_type": "markdown",
   "metadata": {},
   "source": [
    "## Plot your results\n",
    "\n",
    "Again make sure that you record any valuable information. For example, in the tax scenario, did you find the sales from the first three months of the year to be a good predictor of the total sales for the year? Plot the predictions versus the true values and discuss the successes and limitations of your models"
   ]
  },
  {
   "cell_type": "code",
   "execution_count": null,
   "metadata": {
    "collapsed": true
   },
   "outputs": [],
   "source": []
  },
  {
   "cell_type": "markdown",
   "metadata": {},
   "source": [
    "# Present the Results\n",
    "\n",
    "Present your conclusions and results. If you have more than one interesting model feel free to include more than one along with a discussion. Use your work in this notebook to prepare your write-up."
   ]
  },
  {
   "cell_type": "code",
   "execution_count": null,
   "metadata": {
    "collapsed": true
   },
   "outputs": [],
   "source": []
  }
 ],
 "metadata": {
  "anaconda-cloud": {},
  "kernelspec": {
   "display_name": "Python [default]",
   "language": "python",
   "name": "python2"
  },
  "language_info": {
   "codemirror_mode": {
    "name": "ipython",
    "version": 2
   },
   "file_extension": ".py",
   "mimetype": "text/x-python",
   "name": "python",
   "nbconvert_exporter": "python",
   "pygments_lexer": "ipython2",
   "version": "2.7.12"
  }
 },
 "nbformat": 4,
 "nbformat_minor": 0
}
