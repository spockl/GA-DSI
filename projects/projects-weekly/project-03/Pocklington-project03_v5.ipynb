{
 "cells": [
  {
   "cell_type": "markdown",
   "metadata": {},
   "source": [
    "# Getting started\n",
    "\n",
    "Once you've chosen your scenario, download the data from [the Iowa website](https://data.iowa.gov/Economy/Iowa-Liquor-Sales/m3tr-qhgy) in csv format. Start by loading the data with pandas. You may need to parse the date columns appropriately."
   ]
  },
  {
   "cell_type": "code",
   "execution_count": 1,
   "metadata": {
    "collapsed": false
   },
   "outputs": [],
   "source": [
    "#import libraries\n",
    "import pandas as pd\n",
    "import numpy as np\n",
    "import seaborn as sns\n",
    "import matplotlib as plt\n",
    "%matplotlib inline \n",
    "\n",
    "from sklearn import datasets\n",
    "from sklearn import linear_model\n",
    "from sklearn.metrics import r2_score\n",
    "from sklearn.cross_validation import train_test_split\n",
    "from sklearn.cross_validation import cross_val_score\n",
    "from sklearn.cross_validation import cross_val_predict\n",
    "from sklearn.metrics import r2_score\n",
    "from sklearn.metrics import mean_squared_error"
   ]
  },
  {
   "cell_type": "code",
   "execution_count": 2,
   "metadata": {
    "collapsed": false
   },
   "outputs": [],
   "source": [
    "## Load the data into a DataFrame\n",
    "csv_filepath = '/Users/kristensu/downloads/Iowa_Liquor_sales_sample_10pct.csv'\n",
    "iowa = pd.read_csv(csv_filepath)"
   ]
  },
  {
   "cell_type": "code",
   "execution_count": 3,
   "metadata": {
    "collapsed": false
   },
   "outputs": [
    {
     "data": {
      "text/html": [
       "<div>\n",
       "<table border=\"1\" class=\"dataframe\">\n",
       "  <thead>\n",
       "    <tr style=\"text-align: right;\">\n",
       "      <th></th>\n",
       "      <th>Date</th>\n",
       "      <th>Store Number</th>\n",
       "      <th>City</th>\n",
       "      <th>Zip Code</th>\n",
       "      <th>County Number</th>\n",
       "      <th>County</th>\n",
       "      <th>Category</th>\n",
       "      <th>Category Name</th>\n",
       "      <th>Vendor Number</th>\n",
       "      <th>Item Number</th>\n",
       "      <th>Item Description</th>\n",
       "      <th>Bottle Volume (ml)</th>\n",
       "      <th>State Bottle Cost</th>\n",
       "      <th>State Bottle Retail</th>\n",
       "      <th>Bottles Sold</th>\n",
       "      <th>Sale (Dollars)</th>\n",
       "      <th>Volume Sold (Liters)</th>\n",
       "      <th>Volume Sold (Gallons)</th>\n",
       "    </tr>\n",
       "  </thead>\n",
       "  <tbody>\n",
       "    <tr>\n",
       "      <th>0</th>\n",
       "      <td>11/04/2015</td>\n",
       "      <td>3717</td>\n",
       "      <td>SUMNER</td>\n",
       "      <td>50674</td>\n",
       "      <td>9.0</td>\n",
       "      <td>Bremer</td>\n",
       "      <td>1051100.0</td>\n",
       "      <td>APRICOT BRANDIES</td>\n",
       "      <td>55</td>\n",
       "      <td>54436</td>\n",
       "      <td>Mr. Boston Apricot Brandy</td>\n",
       "      <td>750</td>\n",
       "      <td>$4.50</td>\n",
       "      <td>$6.75</td>\n",
       "      <td>12</td>\n",
       "      <td>$81.00</td>\n",
       "      <td>9.0</td>\n",
       "      <td>2.38</td>\n",
       "    </tr>\n",
       "    <tr>\n",
       "      <th>1</th>\n",
       "      <td>03/02/2016</td>\n",
       "      <td>2614</td>\n",
       "      <td>DAVENPORT</td>\n",
       "      <td>52807</td>\n",
       "      <td>82.0</td>\n",
       "      <td>Scott</td>\n",
       "      <td>1011100.0</td>\n",
       "      <td>BLENDED WHISKIES</td>\n",
       "      <td>395</td>\n",
       "      <td>27605</td>\n",
       "      <td>Tin Cup</td>\n",
       "      <td>750</td>\n",
       "      <td>$13.75</td>\n",
       "      <td>$20.63</td>\n",
       "      <td>2</td>\n",
       "      <td>$41.26</td>\n",
       "      <td>1.5</td>\n",
       "      <td>0.40</td>\n",
       "    </tr>\n",
       "    <tr>\n",
       "      <th>2</th>\n",
       "      <td>02/11/2016</td>\n",
       "      <td>2106</td>\n",
       "      <td>CEDAR FALLS</td>\n",
       "      <td>50613</td>\n",
       "      <td>7.0</td>\n",
       "      <td>Black Hawk</td>\n",
       "      <td>1011200.0</td>\n",
       "      <td>STRAIGHT BOURBON WHISKIES</td>\n",
       "      <td>65</td>\n",
       "      <td>19067</td>\n",
       "      <td>Jim Beam</td>\n",
       "      <td>1000</td>\n",
       "      <td>$12.59</td>\n",
       "      <td>$18.89</td>\n",
       "      <td>24</td>\n",
       "      <td>$453.36</td>\n",
       "      <td>24.0</td>\n",
       "      <td>6.34</td>\n",
       "    </tr>\n",
       "  </tbody>\n",
       "</table>\n",
       "</div>"
      ],
      "text/plain": [
       "         Date  Store Number         City Zip Code  County Number      County  \\\n",
       "0  11/04/2015          3717       SUMNER    50674            9.0      Bremer   \n",
       "1  03/02/2016          2614    DAVENPORT    52807           82.0       Scott   \n",
       "2  02/11/2016          2106  CEDAR FALLS    50613            7.0  Black Hawk   \n",
       "\n",
       "    Category              Category Name  Vendor Number  Item Number  \\\n",
       "0  1051100.0           APRICOT BRANDIES             55        54436   \n",
       "1  1011100.0           BLENDED WHISKIES            395        27605   \n",
       "2  1011200.0  STRAIGHT BOURBON WHISKIES             65        19067   \n",
       "\n",
       "            Item Description  Bottle Volume (ml) State Bottle Cost  \\\n",
       "0  Mr. Boston Apricot Brandy                 750             $4.50   \n",
       "1                    Tin Cup                 750            $13.75   \n",
       "2                   Jim Beam                1000            $12.59   \n",
       "\n",
       "  State Bottle Retail  Bottles Sold Sale (Dollars)  Volume Sold (Liters)  \\\n",
       "0               $6.75            12         $81.00                   9.0   \n",
       "1              $20.63             2         $41.26                   1.5   \n",
       "2              $18.89            24        $453.36                  24.0   \n",
       "\n",
       "   Volume Sold (Gallons)  \n",
       "0                   2.38  \n",
       "1                   0.40  \n",
       "2                   6.34  "
      ]
     },
     "execution_count": 3,
     "metadata": {},
     "output_type": "execute_result"
    }
   ],
   "source": [
    "iowa.head(3)"
   ]
  },
  {
   "cell_type": "code",
   "execution_count": 16,
   "metadata": {
    "collapsed": false
   },
   "outputs": [
    {
     "data": {
      "text/plain": [
       "Date                      object\n",
       "Store Number               int64\n",
       "City                      object\n",
       "Zip Code                  object\n",
       "County Number            float64\n",
       "County                    object\n",
       "Category                 float64\n",
       "Category Name             object\n",
       "Vendor Number              int64\n",
       "Item Number                int64\n",
       "Item Description          object\n",
       "Bottle Volume (ml)         int64\n",
       "State Bottle Cost         object\n",
       "State Bottle Retail       object\n",
       "Bottles Sold               int64\n",
       "Sale (Dollars)            object\n",
       "Volume Sold (Liters)     float64\n",
       "Volume Sold (Gallons)    float64\n",
       "dtype: object"
      ]
     },
     "execution_count": 16,
     "metadata": {},
     "output_type": "execute_result"
    }
   ],
   "source": [
    "iowa.dtypes"
   ]
  },
  {
   "cell_type": "code",
   "execution_count": null,
   "metadata": {
    "collapsed": false
   },
   "outputs": [],
   "source": [
    "print iowa.columns\n",
    "print iowa.shape"
   ]
  },
  {
   "cell_type": "markdown",
   "metadata": {},
   "source": [
    "# Clean Data"
   ]
  },
  {
   "cell_type": "markdown",
   "metadata": {},
   "source": [
    "### Drop duplicate (unnecessary) columns"
   ]
  },
  {
   "cell_type": "code",
   "execution_count": 4,
   "metadata": {
    "collapsed": false
   },
   "outputs": [],
   "source": [
    "# Drop cols that contain same info as another col\n",
    "iowa.drop(['County Number', 'Item Number', 'Volume Sold (Gallons)'], axis=1, inplace=True)"
   ]
  },
  {
   "cell_type": "code",
   "execution_count": 22,
   "metadata": {
    "collapsed": false
   },
   "outputs": [
    {
     "data": {
      "text/html": [
       "<div>\n",
       "<table border=\"1\" class=\"dataframe\">\n",
       "  <thead>\n",
       "    <tr style=\"text-align: right;\">\n",
       "      <th></th>\n",
       "      <th></th>\n",
       "    </tr>\n",
       "    <tr>\n",
       "      <th>Category</th>\n",
       "      <th>Category Name</th>\n",
       "    </tr>\n",
       "  </thead>\n",
       "  <tbody>\n",
       "    <tr>\n",
       "      <th>1011100.0</th>\n",
       "      <th>BLENDED WHISKIES</th>\n",
       "    </tr>\n",
       "    <tr>\n",
       "      <th>1011200.0</th>\n",
       "      <th>STRAIGHT BOURBON WHISKIES</th>\n",
       "    </tr>\n",
       "  </tbody>\n",
       "</table>\n",
       "</div>"
      ],
      "text/plain": [
       "Empty DataFrame\n",
       "Columns: []\n",
       "Index: [(1011100.0, BLENDED WHISKIES), (1011200.0, STRAIGHT BOURBON WHISKIES)]"
      ]
     },
     "execution_count": 22,
     "metadata": {},
     "output_type": "execute_result"
    }
   ],
   "source": [
    "# Made a separate df for category to category name mapping for future reference\n",
    "category_df = pd.pivot_table(iowa, index=['Category', 'Category Name'], values=['Bottles Sold'])\n",
    "category_df.drop('Bottles Sold', axis=1, inplace=True)\n",
    "category_df.head(2)"
   ]
  },
  {
   "cell_type": "markdown",
   "metadata": {},
   "source": [
    "### Clean column names"
   ]
  },
  {
   "cell_type": "code",
   "execution_count": 23,
   "metadata": {
    "collapsed": false
   },
   "outputs": [],
   "source": [
    "# Clean column name 1: Rename columns\n",
    "iowa.rename(columns={'Store Number':'Store', 'Bottle Volume (ml)':'Bottle Volume', 'Sale (Dollars)':'Sales', \\\n",
    "               'Volume Sold (Liters)':'Volume Sold'}, inplace=True)\n",
    "\n",
    "# Clean column names 2: Change all column names to lowercase letters\n",
    "iowa.rename(columns=lambda x: x.lower(), inplace=True)\n",
    "\n",
    "# Clean column names 3: Replace ' ' with '_'\n",
    "iowa.rename(columns=lambda x: x.replace(\" \",\"_\"), inplace=True)"
   ]
  },
  {
   "cell_type": "markdown",
   "metadata": {},
   "source": [
    "\n",
    "### Clean values in columns with currency and date"
   ]
  },
  {
   "cell_type": "code",
   "execution_count": 24,
   "metadata": {
    "collapsed": false
   },
   "outputs": [],
   "source": [
    "# Convert columns with dollar amounts from object to numeric float\n",
    "currency = ['sales', 'state_bottle_cost', 'state_bottle_retail']\n",
    "iowa[currency] = iowa[currency].apply(lambda x: x.str.replace('$',''))\n",
    "iowa[currency] = iowa[currency].apply(lambda x: x.str.replace(',',''))\n",
    "iowa[currency] = iowa[currency].apply(lambda x: pd.to_numeric(x))"
   ]
  },
  {
   "cell_type": "code",
   "execution_count": 29,
   "metadata": {
    "collapsed": false
   },
   "outputs": [],
   "source": [
    "# Convert date from object to datetime\n",
    "iowa['date'] = pd.to_datetime(iowa['date'])\n",
    "%timeit "
   ]
  },
  {
   "cell_type": "code",
   "execution_count": null,
   "metadata": {
    "collapsed": true
   },
   "outputs": [],
   "source": [
    "# Convert zip code to int\n",
    "print iowa['zip_code'].nunique()\n",
    "print iowa['zip_code'].unique()\n",
    "# One problematic value: 712-2"
   ]
  },
  {
   "cell_type": "code",
   "execution_count": 31,
   "metadata": {
    "collapsed": false
   },
   "outputs": [
    {
     "data": {
      "text/plain": [
       "0    50674.0\n",
       "1    52807.0\n",
       "Name: zip_code, dtype: float64"
      ]
     },
     "execution_count": 31,
     "metadata": {},
     "output_type": "execute_result"
    }
   ],
   "source": [
    "# Drop problematic zip code and convert rest to int\n",
    "iowa['zip_code'] = pd.to_numeric(iowa[\"zip_code\"], errors='coerce')\n",
    "iowa.fillna(np.nan)\n",
    "iowa['zip_code'].dropna().astype(int)\n",
    "iowa['zip_code'].head(2)"
   ]
  },
  {
   "cell_type": "code",
   "execution_count": 49,
   "metadata": {
    "collapsed": false
   },
   "outputs": [
    {
     "name": "stdout",
     "output_type": "stream",
     "text": [
      "<class 'pandas.core.frame.DataFrame'>\n",
      "Int64Index: 270323 entries, 0 to 270954\n",
      "Data columns (total 21 columns):\n",
      "date                     270323 non-null datetime64[ns]\n",
      "store                    270323 non-null int64\n",
      "city                     270323 non-null object\n",
      "zip_code                 270107 non-null float64\n",
      "county_number            269258 non-null float64\n",
      "county                   270323 non-null object\n",
      "category                 270323 non-null float64\n",
      "category_name            270323 non-null object\n",
      "vendor_number            270323 non-null int64\n",
      "item_number              270323 non-null int64\n",
      "item_description         270323 non-null object\n",
      "bottle_volume            270323 non-null int64\n",
      "state_bottle_cost        270323 non-null float64\n",
      "state_bottle_retail      270323 non-null float64\n",
      "bottles_sold             270323 non-null int64\n",
      "sales                    270323 non-null float64\n",
      "volume_sold              270323 non-null float64\n",
      "volume_sold_(gallons)    270323 non-null float64\n",
      "year                     270323 non-null int64\n",
      "quarter                  270323 non-null object\n",
      "month                    270323 non-null object\n",
      "dtypes: datetime64[ns](1), float64(8), int64(6), object(6)\n",
      "memory usage: 45.4+ MB\n"
     ]
    }
   ],
   "source": [
    "iowa.info()"
   ]
  },
  {
   "cell_type": "markdown",
   "metadata": {},
   "source": [
    "### Convert dtype object to str"
   ]
  },
  {
   "cell_type": "code",
   "execution_count": 51,
   "metadata": {
    "collapsed": true
   },
   "outputs": [],
   "source": [
    "iowa['city'] = iowa['city'].astype(str)\n",
    "iowa['county'] = iowa['county'].astype(str)\n",
    "iowa['category_name'] = iowa['category_name'].astype(str)\n",
    "iowa['item_description'] = iowa['item_description'].astype(str)"
   ]
  },
  {
   "cell_type": "markdown",
   "metadata": {},
   "source": [
    "### Extract dates into year, quarter and month"
   ]
  },
  {
   "cell_type": "code",
   "execution_count": 32,
   "metadata": {
    "collapsed": false
   },
   "outputs": [],
   "source": [
    "def extract_month(x):\n",
    "    month = str('{:02d}'.format(x.month)) + \"-\" + str((x.year))\n",
    "    return month\n",
    "def extract_quarter(x):\n",
    "    quarter = \"Q\" + str(x.quarter) + \"-\" + str(x.year)\n",
    "    return quarter\n",
    "\n",
    "iowa[\"year\"] = iowa[\"date\"].dt.year\n",
    "iowa[\"quarter\"] = iowa[\"date\"].apply(extract_quarter)\n",
    "iowa[\"month\"] = iowa[\"date\"].apply(extract_month)"
   ]
  },
  {
   "cell_type": "markdown",
   "metadata": {},
   "source": [
    "### Check for and replace NaNs"
   ]
  },
  {
   "cell_type": "code",
   "execution_count": null,
   "metadata": {
    "collapsed": true
   },
   "outputs": [],
   "source": [
    "iowa.isnull().sum()\n",
    "#Will leave zip_code NaNs as I filled problematic zip code with np.nan above"
   ]
  },
  {
   "cell_type": "markdown",
   "metadata": {},
   "source": [
    "### Remove Duplicate County Names & Fill in Missing Counties"
   ]
  },
  {
   "cell_type": "code",
   "execution_count": 34,
   "metadata": {
    "collapsed": false
   },
   "outputs": [
    {
     "data": {
      "text/html": [
       "<div>\n",
       "<table border=\"1\" class=\"dataframe\">\n",
       "  <thead>\n",
       "    <tr style=\"text-align: right;\">\n",
       "      <th></th>\n",
       "      <th>city</th>\n",
       "      <th>county</th>\n",
       "    </tr>\n",
       "  </thead>\n",
       "  <tbody>\n",
       "    <tr>\n",
       "      <th>0</th>\n",
       "      <td>ACKLEY</td>\n",
       "      <td>Hardin</td>\n",
       "    </tr>\n",
       "    <tr>\n",
       "      <th>1</th>\n",
       "      <td>ACKLEY</td>\n",
       "      <td>Webster</td>\n",
       "    </tr>\n",
       "    <tr>\n",
       "      <th>2</th>\n",
       "      <td>ADAIR</td>\n",
       "      <td>Adair</td>\n",
       "    </tr>\n",
       "    <tr>\n",
       "      <th>3</th>\n",
       "      <td>ADEL</td>\n",
       "      <td>Dallas</td>\n",
       "    </tr>\n",
       "    <tr>\n",
       "      <th>4</th>\n",
       "      <td>AFTON</td>\n",
       "      <td>Union</td>\n",
       "    </tr>\n",
       "  </tbody>\n",
       "</table>\n",
       "</div>"
      ],
      "text/plain": [
       "     city   county\n",
       "0  ACKLEY   Hardin\n",
       "1  ACKLEY  Webster\n",
       "2   ADAIR    Adair\n",
       "3    ADEL   Dallas\n",
       "4   AFTON    Union"
      ]
     },
     "execution_count": 34,
     "metadata": {},
     "output_type": "execute_result"
    }
   ],
   "source": [
    "# Match missing County with City\n",
    "df_county = pd.pivot_table(iowa, index=['city', 'county'], values=['sales'], aggfunc=sum)\n",
    "df_county.drop('sales', axis=1, inplace=True)\n",
    "df_county.reset_index(inplace=True)\n",
    "df_county.head()"
   ]
  },
  {
   "cell_type": "code",
   "execution_count": 35,
   "metadata": {
    "collapsed": false
   },
   "outputs": [
    {
     "name": "stdout",
     "output_type": "stream",
     "text": [
      "11\n"
     ]
    },
    {
     "data": {
      "text/plain": [
       "1               ACKLEY\n",
       "33          BETTENDORF\n",
       "66               CLIVE\n",
       "74             CORNING\n",
       "135         FORT DODGE\n",
       "260             NEWTON\n",
       "264      NORTH LIBERTY\n",
       "277          OSKALOOSA\n",
       "289              PERRY\n",
       "337       STATE CENTER\n",
       "380    WEST DES MOINES\n",
       "Name: city, dtype: object"
      ]
     },
     "execution_count": 35,
     "metadata": {},
     "output_type": "execute_result"
    }
   ],
   "source": [
    "print df_county['city'].duplicated().sum()\n",
    "a = df_county[df_county['city'].duplicated() == True].index.tolist()\n",
    "df_county['city'].loc[a]"
   ]
  },
  {
   "cell_type": "code",
   "execution_count": 36,
   "metadata": {
    "collapsed": false
   },
   "outputs": [],
   "source": [
    "# Did not use drop_duplicates() because I did not want to automatically drop the second duplicate\n",
    "# So I checked the counties of duplicate cities and dropped incorrect city-county mappings\n",
    "# It also turns out some towns (Ackley, Clive, and West Des Moines are located in multiple counties)\n",
    "# Remove from iowa dataframe: index [32, 74, 134, 260, 263, 276, 288, 336]\n",
    "\n",
    "b = [i+1 for i in a]\n",
    "c = [i-1 for i in a]\n",
    "d = a + b + c\n",
    "e = sorted(d)\n",
    "\n",
    "df_county.loc[e, :]\n",
    "county_dict = {'bettendorf':'scott', 'corning':'adams', 'fort dodge': 'webster','newton':'jasper', \\\n",
    "               'north libery':'johnson', 'OSKALOOSA': 'mahaska', 'PERRY':'dallas', 'STATE CENTER': 'marshall'}"
   ]
  },
  {
   "cell_type": "code",
   "execution_count": null,
   "metadata": {
    "collapsed": false
   },
   "outputs": [],
   "source": [
    "# Remove from iowa dataframe: index [32, 74, 134, 260, 263, 276, 288, 336]\n",
    "df_county.drop([32, 74, 134, 260, 263, 276, 288, 336], inplace=True)\n",
    "\n",
    "# Rename Ackley, Clive, and West Des Moines to account for parts of town in different counties\n",
    "df_county.set_value([1,66,380], 'city', ['ACKLEY_WEBSTER', 'CLIVE_POLK', 'WEST_DES_MOINES_POLK'])"
   ]
  },
  {
   "cell_type": "code",
   "execution_count": 39,
   "metadata": {
    "collapsed": false
   },
   "outputs": [
    {
     "data": {
      "text/html": [
       "<div>\n",
       "<table border=\"1\" class=\"dataframe\">\n",
       "  <thead>\n",
       "    <tr style=\"text-align: right;\">\n",
       "      <th></th>\n",
       "      <th>date</th>\n",
       "      <th>store</th>\n",
       "      <th>city</th>\n",
       "      <th>zip_code</th>\n",
       "      <th>county_number</th>\n",
       "      <th>county_x</th>\n",
       "      <th>category</th>\n",
       "      <th>category_name</th>\n",
       "      <th>vendor_number</th>\n",
       "      <th>item_number</th>\n",
       "      <th>...</th>\n",
       "      <th>state_bottle_cost</th>\n",
       "      <th>state_bottle_retail</th>\n",
       "      <th>bottles_sold</th>\n",
       "      <th>sales</th>\n",
       "      <th>volume_sold</th>\n",
       "      <th>volume_sold_(gallons)</th>\n",
       "      <th>year</th>\n",
       "      <th>quarter</th>\n",
       "      <th>month</th>\n",
       "      <th>county_y</th>\n",
       "    </tr>\n",
       "  </thead>\n",
       "  <tbody>\n",
       "    <tr>\n",
       "      <th>0</th>\n",
       "      <td>2015-11-04</td>\n",
       "      <td>3717</td>\n",
       "      <td>SUMNER</td>\n",
       "      <td>50674.0</td>\n",
       "      <td>9.0</td>\n",
       "      <td>Bremer</td>\n",
       "      <td>1051100.0</td>\n",
       "      <td>APRICOT BRANDIES</td>\n",
       "      <td>55</td>\n",
       "      <td>54436</td>\n",
       "      <td>...</td>\n",
       "      <td>4.50</td>\n",
       "      <td>6.75</td>\n",
       "      <td>12</td>\n",
       "      <td>81.00</td>\n",
       "      <td>9.0</td>\n",
       "      <td>2.38</td>\n",
       "      <td>2015</td>\n",
       "      <td>Q4-2015</td>\n",
       "      <td>11-2015</td>\n",
       "      <td>Bremer</td>\n",
       "    </tr>\n",
       "    <tr>\n",
       "      <th>1</th>\n",
       "      <td>2016-03-02</td>\n",
       "      <td>2614</td>\n",
       "      <td>DAVENPORT</td>\n",
       "      <td>52807.0</td>\n",
       "      <td>82.0</td>\n",
       "      <td>Scott</td>\n",
       "      <td>1011100.0</td>\n",
       "      <td>BLENDED WHISKIES</td>\n",
       "      <td>395</td>\n",
       "      <td>27605</td>\n",
       "      <td>...</td>\n",
       "      <td>13.75</td>\n",
       "      <td>20.63</td>\n",
       "      <td>2</td>\n",
       "      <td>41.26</td>\n",
       "      <td>1.5</td>\n",
       "      <td>0.40</td>\n",
       "      <td>2016</td>\n",
       "      <td>Q1-2016</td>\n",
       "      <td>03-2016</td>\n",
       "      <td>Scott</td>\n",
       "    </tr>\n",
       "    <tr>\n",
       "      <th>2</th>\n",
       "      <td>2016-02-11</td>\n",
       "      <td>2106</td>\n",
       "      <td>CEDAR FALLS</td>\n",
       "      <td>50613.0</td>\n",
       "      <td>7.0</td>\n",
       "      <td>Black Hawk</td>\n",
       "      <td>1011200.0</td>\n",
       "      <td>STRAIGHT BOURBON WHISKIES</td>\n",
       "      <td>65</td>\n",
       "      <td>19067</td>\n",
       "      <td>...</td>\n",
       "      <td>12.59</td>\n",
       "      <td>18.89</td>\n",
       "      <td>24</td>\n",
       "      <td>453.36</td>\n",
       "      <td>24.0</td>\n",
       "      <td>6.34</td>\n",
       "      <td>2016</td>\n",
       "      <td>Q1-2016</td>\n",
       "      <td>02-2016</td>\n",
       "      <td>Black Hawk</td>\n",
       "    </tr>\n",
       "  </tbody>\n",
       "</table>\n",
       "<p>3 rows × 22 columns</p>\n",
       "</div>"
      ],
      "text/plain": [
       "        date  store         city  zip_code  county_number    county_x  \\\n",
       "0 2015-11-04   3717       SUMNER   50674.0            9.0      Bremer   \n",
       "1 2016-03-02   2614    DAVENPORT   52807.0           82.0       Scott   \n",
       "2 2016-02-11   2106  CEDAR FALLS   50613.0            7.0  Black Hawk   \n",
       "\n",
       "    category              category_name  vendor_number  item_number  \\\n",
       "0  1051100.0           APRICOT BRANDIES             55        54436   \n",
       "1  1011100.0           BLENDED WHISKIES            395        27605   \n",
       "2  1011200.0  STRAIGHT BOURBON WHISKIES             65        19067   \n",
       "\n",
       "      ...     state_bottle_cost  state_bottle_retail  bottles_sold   sales  \\\n",
       "0     ...                  4.50                 6.75            12   81.00   \n",
       "1     ...                 13.75                20.63             2   41.26   \n",
       "2     ...                 12.59                18.89            24  453.36   \n",
       "\n",
       "   volume_sold  volume_sold_(gallons)  year  quarter    month    county_y  \n",
       "0          9.0                   2.38  2015  Q4-2015  11-2015      Bremer  \n",
       "1          1.5                   0.40  2016  Q1-2016  03-2016       Scott  \n",
       "2         24.0                   6.34  2016  Q1-2016  02-2016  Black Hawk  \n",
       "\n",
       "[3 rows x 22 columns]"
      ]
     },
     "execution_count": 39,
     "metadata": {},
     "output_type": "execute_result"
    }
   ],
   "source": [
    "# Merge df_county into original iowa df\n",
    "# Note: Original \"county\" renamed \"county_x\" and new \"county_y\" col created\n",
    "iowa = pd.merge(iowa,df_county, on = 'city', how = 'left')\n",
    "iowa.head(3)"
   ]
  },
  {
   "cell_type": "code",
   "execution_count": null,
   "metadata": {
    "collapsed": true
   },
   "outputs": [],
   "source": [
    "# Fill missing county names in \"county_x\" with county names from \"county_y\"\n",
    "iowa['county_x'].fillna(iowa['county_y'], inplace=True)\n",
    "iowa.isnull().sum()"
   ]
  },
  {
   "cell_type": "code",
   "execution_count": 41,
   "metadata": {
    "collapsed": false
   },
   "outputs": [
    {
     "data": {
      "text/plain": [
       "array(['TABOR', 'SEYMOUR', 'RUNNELLS'], dtype=object)"
      ]
     },
     "execution_count": 41,
     "metadata": {},
     "output_type": "execute_result"
    }
   ],
   "source": [
    "# Check for remaining missing counties\n",
    "iowa[iowa[\"county_x\"].isnull()]['city'].unique()"
   ]
  },
  {
   "cell_type": "code",
   "execution_count": 43,
   "metadata": {
    "collapsed": false
   },
   "outputs": [],
   "source": [
    "# Fill in missing counties by mapping to city\n",
    "def county_name(city):\n",
    "    if city == \"TABOR\":\n",
    "        return \"Fremont\"\n",
    "    elif city == \"SEYMOUR\":\n",
    "        return \"Wayne\"\n",
    "    elif city == \"RUNNELLS\":\n",
    "        return \"Polk\"\n",
    "    else:\n",
    "        pass\n",
    "\n",
    "iowa['county_y'] = iowa['city'].apply(county_name)\n",
    "iowa['county_x'].fillna(iowa['county_y'], inplace=True)"
   ]
  },
  {
   "cell_type": "code",
   "execution_count": null,
   "metadata": {
    "collapsed": false
   },
   "outputs": [],
   "source": [
    "iowa.isnull().sum()"
   ]
  },
  {
   "cell_type": "markdown",
   "metadata": {},
   "source": [
    "### Drop Missing Values in \"category_name\""
   ]
  },
  {
   "cell_type": "code",
   "execution_count": 44,
   "metadata": {
    "collapsed": false
   },
   "outputs": [
    {
     "data": {
      "text/plain": [
       "0"
      ]
     },
     "execution_count": 44,
     "metadata": {},
     "output_type": "execute_result"
    }
   ],
   "source": [
    "# Find duplicates in category name\n",
    "df_category_name = pd.pivot_table(iowa,index = ['item_description','category_name'], \\\n",
    "                                  values = ['sales'], aggfunc = sum)\n",
    "df_category_name.reset_index(inplace = True)\n",
    "df_category_name.drop('sales', axis=1, inplace=True)\n",
    "df_category_name.duplicated().sum()\n",
    "# No duplicates"
   ]
  },
  {
   "cell_type": "code",
   "execution_count": 45,
   "metadata": {
    "collapsed": false
   },
   "outputs": [
    {
     "name": "stdout",
     "output_type": "stream",
     "text": [
      "0.233% of total rows is null\n",
      "These 632 rows will be dropped from analysis\n"
     ]
    },
    {
     "data": {
      "text/html": [
       "<div>\n",
       "<table border=\"1\" class=\"dataframe\">\n",
       "  <thead>\n",
       "    <tr style=\"text-align: right;\">\n",
       "      <th></th>\n",
       "      <th>category_name</th>\n",
       "    </tr>\n",
       "  </thead>\n",
       "  <tbody>\n",
       "    <tr>\n",
       "      <th>0</th>\n",
       "      <td>APRICOT BRANDIES</td>\n",
       "    </tr>\n",
       "    <tr>\n",
       "      <th>1</th>\n",
       "      <td>BLENDED WHISKIES</td>\n",
       "    </tr>\n",
       "    <tr>\n",
       "      <th>2</th>\n",
       "      <td>STRAIGHT BOURBON WHISKIES</td>\n",
       "    </tr>\n",
       "  </tbody>\n",
       "</table>\n",
       "</div>"
      ],
      "text/plain": [
       "               category_name\n",
       "0           APRICOT BRANDIES\n",
       "1           BLENDED WHISKIES\n",
       "2  STRAIGHT BOURBON WHISKIES"
      ]
     },
     "execution_count": 45,
     "metadata": {},
     "output_type": "execute_result"
    }
   ],
   "source": [
    "# Drop rows with NaN in \"category_name\" col as it is only 0.233% of total \n",
    "# Did not have the time (as I did for counties above) to go through the 632 NaN rows\n",
    "null_cat_percent = (iowa['category_name'].isnull().sum())/ \\\n",
    "                    float(len(iowa['category_name']))*100\n",
    "print str(round(null_cat_percent, 3)) + '% of total rows ' + 'is null'\n",
    "print 'These 632 rows will be dropped from analysis'\n",
    "\n",
    "iowa.dropna(subset=[['category_name']], inplace=True)\n",
    "iowa[['category_name']].head(3)"
   ]
  },
  {
   "cell_type": "code",
   "execution_count": null,
   "metadata": {
    "collapsed": false
   },
   "outputs": [],
   "source": [
    "iowa.isnull().sum()"
   ]
  },
  {
   "cell_type": "code",
   "execution_count": 46,
   "metadata": {
    "collapsed": false
   },
   "outputs": [],
   "source": [
    "# Drop county_y column and rename county_x as county\n",
    "iowa.drop('county_y', axis=1, inplace=True)\n",
    "iowa.rename(columns={'county_x':'county'}, inplace=True)"
   ]
  },
  {
   "cell_type": "markdown",
   "metadata": {},
   "source": [
    "### Create new columns with metrics"
   ]
  },
  {
   "cell_type": "code",
   "execution_count": 47,
   "metadata": {
    "collapsed": false
   },
   "outputs": [
    {
     "name": "stdout",
     "output_type": "stream",
     "text": [
      "2.71302980082e-11\n"
     ]
    }
   ],
   "source": [
    "# Just checking to make that that the 'sales' columns represents total revenue\n",
    "iowa['sales_check'] = iowa['state_bottle_retail'] * iowa['bottles_sold']\n",
    "print sum(iowa['sales_check']-iowa['sales'])\n",
    "iowa.drop('sales_check', axis=1, inplace=True)"
   ]
  },
  {
   "cell_type": "code",
   "execution_count": 85,
   "metadata": {
    "collapsed": false
   },
   "outputs": [],
   "source": [
    "# New metrics added to iowa\n",
    "iowa['profit'] = (iowa['state_bottle_retail'] - iowa['state_bottle_cost']) * iowa['bottles_sold']\n",
    "iowa['rev_per_ml'] = iowa['sales'] / iowa['volume_sold']\n",
    "iowa['price_per_ml'] = iowa['state_bottle_retail'] / iowa['volume_sold']\n",
    "iowa['margin_percent'] = iowa['profit'] / iowa['sales']\n",
    "iowa['profit_per_ml'] = iowa['profit'] / iowa['volume_sold']\n",
    "iowa['profit_%_per_ml'] = iowa['profit_per_ml'] / iowa['rev_per_ml']"
   ]
  },
  {
   "cell_type": "code",
   "execution_count": 105,
   "metadata": {
    "collapsed": false
   },
   "outputs": [
    {
     "name": "stdout",
     "output_type": "stream",
     "text": [
      "Iowa is a \"control state\", meaning the state has direct control over the wholesale alcohol market. The state dictates retail prices at a set margin of 33.3%.\n",
      "See Iowa Alcoholic Beverages Division for more info.\n"
     ]
    },
    {
     "data": {
      "text/html": [
       "<div>\n",
       "<table border=\"1\" class=\"dataframe\">\n",
       "  <thead>\n",
       "    <tr style=\"text-align: right;\">\n",
       "      <th></th>\n",
       "      <th>bottle_volume</th>\n",
       "      <th>state_bottle_cost</th>\n",
       "      <th>state_bottle_retail</th>\n",
       "      <th>bottles_sold</th>\n",
       "      <th>sales</th>\n",
       "      <th>volume_sold</th>\n",
       "      <th>year</th>\n",
       "      <th>quarter</th>\n",
       "      <th>month</th>\n",
       "      <th>profit</th>\n",
       "      <th>price_per_ml</th>\n",
       "      <th>rev_per_ml</th>\n",
       "      <th>profit_per_ml</th>\n",
       "    </tr>\n",
       "  </thead>\n",
       "  <tbody>\n",
       "    <tr>\n",
       "      <th>0</th>\n",
       "      <td>750</td>\n",
       "      <td>4.50</td>\n",
       "      <td>6.75</td>\n",
       "      <td>12</td>\n",
       "      <td>81.00</td>\n",
       "      <td>9.0</td>\n",
       "      <td>2015</td>\n",
       "      <td>Q4-2015</td>\n",
       "      <td>11-2015</td>\n",
       "      <td>27.00</td>\n",
       "      <td>0.750000</td>\n",
       "      <td>9.000000</td>\n",
       "      <td>3.000000</td>\n",
       "    </tr>\n",
       "    <tr>\n",
       "      <th>1</th>\n",
       "      <td>750</td>\n",
       "      <td>13.75</td>\n",
       "      <td>20.63</td>\n",
       "      <td>2</td>\n",
       "      <td>41.26</td>\n",
       "      <td>1.5</td>\n",
       "      <td>2016</td>\n",
       "      <td>Q1-2016</td>\n",
       "      <td>03-2016</td>\n",
       "      <td>13.76</td>\n",
       "      <td>13.753333</td>\n",
       "      <td>27.506667</td>\n",
       "      <td>9.173333</td>\n",
       "    </tr>\n",
       "    <tr>\n",
       "      <th>2</th>\n",
       "      <td>1000</td>\n",
       "      <td>12.59</td>\n",
       "      <td>18.89</td>\n",
       "      <td>24</td>\n",
       "      <td>453.36</td>\n",
       "      <td>24.0</td>\n",
       "      <td>2016</td>\n",
       "      <td>Q1-2016</td>\n",
       "      <td>02-2016</td>\n",
       "      <td>151.20</td>\n",
       "      <td>0.787083</td>\n",
       "      <td>18.890000</td>\n",
       "      <td>6.300000</td>\n",
       "    </tr>\n",
       "  </tbody>\n",
       "</table>\n",
       "</div>"
      ],
      "text/plain": [
       "   bottle_volume  state_bottle_cost  state_bottle_retail  bottles_sold  \\\n",
       "0            750               4.50                 6.75            12   \n",
       "1            750              13.75                20.63             2   \n",
       "2           1000              12.59                18.89            24   \n",
       "\n",
       "    sales  volume_sold  year  quarter    month  profit  price_per_ml  \\\n",
       "0   81.00          9.0  2015  Q4-2015  11-2015   27.00      0.750000   \n",
       "1   41.26          1.5  2016  Q1-2016  03-2016   13.76     13.753333   \n",
       "2  453.36         24.0  2016  Q1-2016  02-2016  151.20      0.787083   \n",
       "\n",
       "   rev_per_ml  profit_per_ml  \n",
       "0    9.000000       3.000000  \n",
       "1   27.506667       9.173333  \n",
       "2   18.890000       6.300000  "
      ]
     },
     "execution_count": 105,
     "metadata": {},
     "output_type": "execute_result"
    }
   ],
   "source": [
    "print 'Iowa is a \"control state\", meaning the state has direct control over the wholesale alcohol \\\n",
    "market. The state dictates retail prices at a set margin of 33.3%.'\n",
    "print 'See Iowa Alcoholic Beverages Division for more info.'\n",
    "iowa.iloc[:3,11:28]"
   ]
  },
  {
   "cell_type": "code",
   "execution_count": 128,
   "metadata": {
    "collapsed": false
   },
   "outputs": [
    {
     "data": {
      "text/html": [
       "<div>\n",
       "<table border=\"1\" class=\"dataframe\">\n",
       "  <thead>\n",
       "    <tr style=\"text-align: right;\">\n",
       "      <th></th>\n",
       "      <th>bottle_volume</th>\n",
       "      <th>state_bottle_cost</th>\n",
       "      <th>state_bottle_retail</th>\n",
       "      <th>bottles_sold</th>\n",
       "      <th>sales</th>\n",
       "      <th>volume_sold</th>\n",
       "      <th>year</th>\n",
       "      <th>quarter</th>\n",
       "      <th>month</th>\n",
       "      <th>profit</th>\n",
       "      <th>price_per_ml</th>\n",
       "      <th>rev_per_ml</th>\n",
       "      <th>profit_per_ml</th>\n",
       "      <th>profit_per_bottle</th>\n",
       "    </tr>\n",
       "  </thead>\n",
       "  <tbody>\n",
       "    <tr>\n",
       "      <th>0</th>\n",
       "      <td>750</td>\n",
       "      <td>4.50</td>\n",
       "      <td>6.75</td>\n",
       "      <td>12</td>\n",
       "      <td>81.00</td>\n",
       "      <td>9.0</td>\n",
       "      <td>2015</td>\n",
       "      <td>Q4-2015</td>\n",
       "      <td>11-2015</td>\n",
       "      <td>27.00</td>\n",
       "      <td>0.750000</td>\n",
       "      <td>9.000000</td>\n",
       "      <td>3.000000</td>\n",
       "      <td>2.25</td>\n",
       "    </tr>\n",
       "    <tr>\n",
       "      <th>1</th>\n",
       "      <td>750</td>\n",
       "      <td>13.75</td>\n",
       "      <td>20.63</td>\n",
       "      <td>2</td>\n",
       "      <td>41.26</td>\n",
       "      <td>1.5</td>\n",
       "      <td>2016</td>\n",
       "      <td>Q1-2016</td>\n",
       "      <td>03-2016</td>\n",
       "      <td>13.76</td>\n",
       "      <td>13.753333</td>\n",
       "      <td>27.506667</td>\n",
       "      <td>9.173333</td>\n",
       "      <td>6.88</td>\n",
       "    </tr>\n",
       "  </tbody>\n",
       "</table>\n",
       "</div>"
      ],
      "text/plain": [
       "   bottle_volume  state_bottle_cost  state_bottle_retail  bottles_sold  sales  \\\n",
       "0            750               4.50                 6.75            12  81.00   \n",
       "1            750              13.75                20.63             2  41.26   \n",
       "\n",
       "   volume_sold  year  quarter    month  profit  price_per_ml  rev_per_ml  \\\n",
       "0          9.0  2015  Q4-2015  11-2015   27.00      0.750000    9.000000   \n",
       "1          1.5  2016  Q1-2016  03-2016   13.76     13.753333   27.506667   \n",
       "\n",
       "   profit_per_ml  profit_per_bottle  \n",
       "0       3.000000               2.25  \n",
       "1       9.173333               6.88  "
      ]
     },
     "execution_count": 128,
     "metadata": {},
     "output_type": "execute_result"
    }
   ],
   "source": [
    "# Drop margin % columns (they are constant and will not affect model)\n",
    "iowa.drop(['margin_percent', 'profit_%_per_ml'], inplace=True,axis=1)\n",
    "\n",
    "# Add $margin per bottle as this is not a constant measure\n",
    "iowa['profit_per_bottle'] = iowa['state_bottle_retail'] - iowa['state_bottle_cost']\n",
    "iowa.iloc[:2,11:28]"
   ]
  },
  {
   "cell_type": "markdown",
   "metadata": {},
   "source": [
    "### Drop stores that were only partially open in 2015"
   ]
  },
  {
   "cell_type": "code",
   "execution_count": 92,
   "metadata": {
    "collapsed": false
   },
   "outputs": [
    {
     "data": {
      "text/html": [
       "<div>\n",
       "<table border=\"1\" class=\"dataframe\">\n",
       "  <thead>\n",
       "    <tr style=\"text-align: right;\">\n",
       "      <th></th>\n",
       "      <th>store</th>\n",
       "      <th>min</th>\n",
       "      <th>max</th>\n",
       "    </tr>\n",
       "  </thead>\n",
       "  <tbody>\n",
       "    <tr>\n",
       "      <th>1397</th>\n",
       "      <td>9013</td>\n",
       "      <td>2015-06-04</td>\n",
       "      <td>2016-03-09</td>\n",
       "    </tr>\n",
       "    <tr>\n",
       "      <th>1398</th>\n",
       "      <td>9018</td>\n",
       "      <td>2015-10-27</td>\n",
       "      <td>2015-10-27</td>\n",
       "    </tr>\n",
       "    <tr>\n",
       "      <th>1399</th>\n",
       "      <td>9023</td>\n",
       "      <td>2016-03-08</td>\n",
       "      <td>2016-03-08</td>\n",
       "    </tr>\n",
       "  </tbody>\n",
       "</table>\n",
       "</div>"
      ],
      "text/plain": [
       "      store        min        max\n",
       "1397   9013 2015-06-04 2016-03-09\n",
       "1398   9018 2015-10-27 2015-10-27\n",
       "1399   9023 2016-03-08 2016-03-08"
      ]
     },
     "execution_count": 92,
     "metadata": {},
     "output_type": "execute_result"
    }
   ],
   "source": [
    "# Check for stores that were not open for the full year or closed during the year\n",
    "dates_open = iowa.groupby([\"store\"])[\"date\"].agg([min, max])\n",
    "dates_open.reset_index(inplace=True)\n",
    "dates_open.tail(3)"
   ]
  },
  {
   "cell_type": "code",
   "execution_count": 93,
   "metadata": {
    "collapsed": false
   },
   "outputs": [],
   "source": [
    "def open_date(x):\n",
    "    if x > pd.to_datetime('2015-03-31'):\n",
    "        return 1\n",
    "    else:\n",
    "        return 0\n",
    "    \n",
    "def close_date(x):\n",
    "    if x <= pd.to_datetime('2015-12-31'):\n",
    "        return 1\n",
    "    else:\n",
    "        return 0\n",
    "    \n",
    "dates_open[\"closed\"] = dates_open[\"max\"].apply(close_date)\n",
    "dates_open[\"opened\"] = dates_open[\"min\"].apply(open_date)\n",
    "dates_open[\"partial_year\"] = dates_open[\"closed\"] + dates_open[\"opened\"]"
   ]
  },
  {
   "cell_type": "code",
   "execution_count": 94,
   "metadata": {
    "collapsed": false
   },
   "outputs": [
    {
     "data": {
      "text/html": [
       "<div>\n",
       "<table border=\"1\" class=\"dataframe\">\n",
       "  <thead>\n",
       "    <tr style=\"text-align: right;\">\n",
       "      <th></th>\n",
       "      <th>store</th>\n",
       "      <th>min</th>\n",
       "      <th>max</th>\n",
       "      <th>closed</th>\n",
       "      <th>opened</th>\n",
       "      <th>partial_year</th>\n",
       "    </tr>\n",
       "  </thead>\n",
       "  <tbody>\n",
       "    <tr>\n",
       "      <th>1397</th>\n",
       "      <td>9013</td>\n",
       "      <td>2015-06-04</td>\n",
       "      <td>2016-03-09</td>\n",
       "      <td>0</td>\n",
       "      <td>1</td>\n",
       "      <td>1</td>\n",
       "    </tr>\n",
       "    <tr>\n",
       "      <th>1398</th>\n",
       "      <td>9018</td>\n",
       "      <td>2015-10-27</td>\n",
       "      <td>2015-10-27</td>\n",
       "      <td>1</td>\n",
       "      <td>1</td>\n",
       "      <td>2</td>\n",
       "    </tr>\n",
       "    <tr>\n",
       "      <th>1399</th>\n",
       "      <td>9023</td>\n",
       "      <td>2016-03-08</td>\n",
       "      <td>2016-03-08</td>\n",
       "      <td>0</td>\n",
       "      <td>1</td>\n",
       "      <td>1</td>\n",
       "    </tr>\n",
       "  </tbody>\n",
       "</table>\n",
       "</div>"
      ],
      "text/plain": [
       "      store        min        max  closed  opened  partial_year\n",
       "1397   9013 2015-06-04 2016-03-09       0       1             1\n",
       "1398   9018 2015-10-27 2015-10-27       1       1             2\n",
       "1399   9023 2016-03-08 2016-03-08       0       1             1"
      ]
     },
     "execution_count": 94,
     "metadata": {},
     "output_type": "execute_result"
    }
   ],
   "source": [
    "dates_open.tail(3)"
   ]
  },
  {
   "cell_type": "code",
   "execution_count": 100,
   "metadata": {
    "collapsed": false
   },
   "outputs": [
    {
     "name": "stdout",
     "output_type": "stream",
     "text": [
      "Number of stores not open for full year 2015: 217\n",
      "Total stores: 1400\n",
      "Total stores open all of 2015: 1183\n"
     ]
    }
   ],
   "source": [
    "# List of 217 stores not open full year in 2015\n",
    "partial_stores = list(dates_open[dates_open[\"partial_year\"]!=0][\"store\"].values)\n",
    "print 'Number of stores not open for full year 2015: ' + str(len(partial_stores))\n",
    "\n",
    "open_stores = list(dates_open[dates_open['partial_year'] == 0]['store'].values)\n",
    "print 'Total stores: '+ str(len(partial_stores) + len(open_stores))\n",
    "print 'Total stores open all of 2015: ' + str(len(open_stores))\n"
   ]
  },
  {
   "cell_type": "code",
   "execution_count": 101,
   "metadata": {
    "collapsed": false
   },
   "outputs": [
    {
     "name": "stdout",
     "output_type": "stream",
     "text": [
      "Only 3.73% of sales from stores partially open in 2015\n",
      "Sales from these 217 stores will be dropped from analysis\n"
     ]
    }
   ],
   "source": [
    "# Amount of revenue generated by stores only partially open in 2015\n",
    "partial_rev = sum(iowa[iowa['store'].isin(partial_stores)]['sales']) / sum(iowa['sales']) \n",
    "print 'Only ' + str(round(partial_rev*100,2)) + '% of sales from stores partially open in 2015'\n",
    "print 'Sales from these 217 stores will be dropped from analysis'"
   ]
  },
  {
   "cell_type": "markdown",
   "metadata": {},
   "source": [
    "## Create a new df with only stores open for full year 2015"
   ]
  },
  {
   "cell_type": "code",
   "execution_count": 288,
   "metadata": {
    "collapsed": false
   },
   "outputs": [],
   "source": [
    "# Create new df consisting only of stores open for full year 2015\n",
    "idf = iowa[iowa['store'].isin(open_stores)]"
   ]
  },
  {
   "cell_type": "markdown",
   "metadata": {},
   "source": [
    "## Create a new df summarizing 2015 data only"
   ]
  },
  {
   "cell_type": "code",
   "execution_count": 290,
   "metadata": {
    "collapsed": false
   },
   "outputs": [
    {
     "name": "stdout",
     "output_type": "stream",
     "text": [
      "1183\n"
     ]
    },
    {
     "data": {
      "text/html": [
       "<div>\n",
       "<table border=\"1\" class=\"dataframe\">\n",
       "  <thead>\n",
       "    <tr style=\"text-align: right;\">\n",
       "      <th></th>\n",
       "      <th>store</th>\n",
       "      <th>2015_total_revenue</th>\n",
       "      <th>2015_profit</th>\n",
       "    </tr>\n",
       "  </thead>\n",
       "  <tbody>\n",
       "    <tr>\n",
       "      <th>count</th>\n",
       "      <td>1183.000000</td>\n",
       "      <td>1183.000000</td>\n",
       "      <td>1183.000000</td>\n",
       "    </tr>\n",
       "    <tr>\n",
       "      <th>mean</th>\n",
       "      <td>4165.122570</td>\n",
       "      <td>23218.195748</td>\n",
       "      <td>7764.436534</td>\n",
       "    </tr>\n",
       "    <tr>\n",
       "      <th>std</th>\n",
       "      <td>812.526287</td>\n",
       "      <td>54099.137842</td>\n",
       "      <td>18064.287528</td>\n",
       "    </tr>\n",
       "    <tr>\n",
       "      <th>min</th>\n",
       "      <td>2106.000000</td>\n",
       "      <td>450.010000</td>\n",
       "      <td>150.090000</td>\n",
       "    </tr>\n",
       "    <tr>\n",
       "      <th>25%</th>\n",
       "      <td>3805.500000</td>\n",
       "      <td>3897.355000</td>\n",
       "      <td>1303.865000</td>\n",
       "    </tr>\n",
       "    <tr>\n",
       "      <th>50%</th>\n",
       "      <td>4376.000000</td>\n",
       "      <td>8407.240000</td>\n",
       "      <td>2805.030000</td>\n",
       "    </tr>\n",
       "    <tr>\n",
       "      <th>75%</th>\n",
       "      <td>4740.500000</td>\n",
       "      <td>21844.450000</td>\n",
       "      <td>7338.015000</td>\n",
       "    </tr>\n",
       "    <tr>\n",
       "      <th>max</th>\n",
       "      <td>9010.000000</td>\n",
       "      <td>997924.420000</td>\n",
       "      <td>332863.870000</td>\n",
       "    </tr>\n",
       "  </tbody>\n",
       "</table>\n",
       "</div>"
      ],
      "text/plain": [
       "             store  2015_total_revenue    2015_profit\n",
       "count  1183.000000         1183.000000    1183.000000\n",
       "mean   4165.122570        23218.195748    7764.436534\n",
       "std     812.526287        54099.137842   18064.287528\n",
       "min    2106.000000          450.010000     150.090000\n",
       "25%    3805.500000         3897.355000    1303.865000\n",
       "50%    4376.000000         8407.240000    2805.030000\n",
       "75%    4740.500000        21844.450000    7338.015000\n",
       "max    9010.000000       997924.420000  332863.870000"
      ]
     },
     "execution_count": 290,
     "metadata": {},
     "output_type": "execute_result"
    }
   ],
   "source": [
    "# Create a df summarizing total sales and revenues in 2015 at store-level\n",
    "sum_metrics = ['sales', 'profit']\n",
    "iowa_sum_2015 = idf[idf['year'] == 2015].groupby(['store'])[sum_metrics].agg(np.sum)\n",
    "iowa_sum_2015.columns = ['2015_total_revenue','2015_profit']\n",
    "iowa_sum_2015.reset_index(inplace=True)\n",
    "print len(iowa_sum_2015)\n",
    "iowa_sum_2015.describe(include='all')"
   ]
  },
  {
   "cell_type": "code",
   "execution_count": 292,
   "metadata": {
    "collapsed": false
   },
   "outputs": [
    {
     "name": "stdout",
     "output_type": "stream",
     "text": [
      "1183\n"
     ]
    },
    {
     "data": {
      "text/html": [
       "<div>\n",
       "<table border=\"1\" class=\"dataframe\">\n",
       "  <thead>\n",
       "    <tr style=\"text-align: right;\">\n",
       "      <th></th>\n",
       "      <th>store</th>\n",
       "      <th>2015_avg_rev</th>\n",
       "      <th>2015_avg_profit</th>\n",
       "      <th>2015_avg_price_per_ml</th>\n",
       "      <th>2015_avg_profit_per_ml</th>\n",
       "      <th>2015_avg_profit_per_bottle</th>\n",
       "    </tr>\n",
       "  </thead>\n",
       "  <tbody>\n",
       "    <tr>\n",
       "      <th>count</th>\n",
       "      <td>1183.000000</td>\n",
       "      <td>1183.000000</td>\n",
       "      <td>1183.000000</td>\n",
       "      <td>1183.000000</td>\n",
       "      <td>1183.000000</td>\n",
       "      <td>1183.000000</td>\n",
       "    </tr>\n",
       "    <tr>\n",
       "      <th>mean</th>\n",
       "      <td>4165.122570</td>\n",
       "      <td>123.926313</td>\n",
       "      <td>41.458373</td>\n",
       "      <td>4.714215</td>\n",
       "      <td>5.685850</td>\n",
       "      <td>4.564185</td>\n",
       "    </tr>\n",
       "    <tr>\n",
       "      <th>std</th>\n",
       "      <td>812.526287</td>\n",
       "      <td>117.577581</td>\n",
       "      <td>39.327318</td>\n",
       "      <td>2.914395</td>\n",
       "      <td>1.249910</td>\n",
       "      <td>0.988594</td>\n",
       "    </tr>\n",
       "    <tr>\n",
       "      <th>min</th>\n",
       "      <td>2106.000000</td>\n",
       "      <td>24.757826</td>\n",
       "      <td>8.268261</td>\n",
       "      <td>0.543021</td>\n",
       "      <td>3.173605</td>\n",
       "      <td>1.488667</td>\n",
       "    </tr>\n",
       "    <tr>\n",
       "      <th>25%</th>\n",
       "      <td>3805.500000</td>\n",
       "      <td>76.632554</td>\n",
       "      <td>25.596544</td>\n",
       "      <td>2.198975</td>\n",
       "      <td>4.945446</td>\n",
       "      <td>3.935385</td>\n",
       "    </tr>\n",
       "    <tr>\n",
       "      <th>50%</th>\n",
       "      <td>4376.000000</td>\n",
       "      <td>106.078333</td>\n",
       "      <td>35.546951</td>\n",
       "      <td>4.280716</td>\n",
       "      <td>5.537004</td>\n",
       "      <td>4.540980</td>\n",
       "    </tr>\n",
       "    <tr>\n",
       "      <th>75%</th>\n",
       "      <td>4740.500000</td>\n",
       "      <td>143.660356</td>\n",
       "      <td>48.125233</td>\n",
       "      <td>6.397115</td>\n",
       "      <td>6.228304</td>\n",
       "      <td>5.098574</td>\n",
       "    </tr>\n",
       "    <tr>\n",
       "      <th>max</th>\n",
       "      <td>9010.000000</td>\n",
       "      <td>2061.811833</td>\n",
       "      <td>691.704000</td>\n",
       "      <td>19.266372</td>\n",
       "      <td>27.428178</td>\n",
       "      <td>11.653750</td>\n",
       "    </tr>\n",
       "  </tbody>\n",
       "</table>\n",
       "</div>"
      ],
      "text/plain": [
       "             store  2015_avg_rev  2015_avg_profit  2015_avg_price_per_ml  \\\n",
       "count  1183.000000   1183.000000      1183.000000            1183.000000   \n",
       "mean   4165.122570    123.926313        41.458373               4.714215   \n",
       "std     812.526287    117.577581        39.327318               2.914395   \n",
       "min    2106.000000     24.757826         8.268261               0.543021   \n",
       "25%    3805.500000     76.632554        25.596544               2.198975   \n",
       "50%    4376.000000    106.078333        35.546951               4.280716   \n",
       "75%    4740.500000    143.660356        48.125233               6.397115   \n",
       "max    9010.000000   2061.811833       691.704000              19.266372   \n",
       "\n",
       "       2015_avg_profit_per_ml  2015_avg_profit_per_bottle  \n",
       "count             1183.000000                 1183.000000  \n",
       "mean                 5.685850                    4.564185  \n",
       "std                  1.249910                    0.988594  \n",
       "min                  3.173605                    1.488667  \n",
       "25%                  4.945446                    3.935385  \n",
       "50%                  5.537004                    4.540980  \n",
       "75%                  6.228304                    5.098574  \n",
       "max                 27.428178                   11.653750  "
      ]
     },
     "execution_count": 292,
     "metadata": {},
     "output_type": "execute_result"
    }
   ],
   "source": [
    "# Create a df summarizing mean metrics for 2015 at store-level\n",
    "mean_metrics = ['sales', 'profit', 'price_per_ml', 'profit_per_ml', 'profit_per_bottle']\n",
    "iowa_mean_2015 = idf[idf['year'] == 2015].groupby(['store'])[mean_metrics].agg(np.mean)\n",
    "iowa_mean_2015.columns = ['2015_avg_rev','2015_avg_profit','2015_avg_price_per_ml', \\\n",
    "                         '2015_avg_profit_per_ml', '2015_avg_profit_per_bottle']\n",
    "iowa_mean_2015.reset_index(inplace=True)\n",
    "print len(iowa_mean_2015)\n",
    "iowa_mean_2015.describe(include='all')"
   ]
  },
  {
   "cell_type": "code",
   "execution_count": 297,
   "metadata": {
    "collapsed": false
   },
   "outputs": [],
   "source": [
    "# Create a df showing all days with sales for each store\n",
    "\n",
    "idf_open = idf.loc[:,['store', 'date', 'year', 'quarter']]\n",
    "idf_open.drop_duplicates(['store', 'date'], inplace=True)\n",
    "idf.sort_values('store').head()\n",
    "\n",
    "days_open_15 = idf_open[idf_open['year'] == 2015].groupby(['store'])[['date']].agg(len)\n",
    "days_open_15.reset_index(inplace=True)\n",
    "days_open_15.columns = ['store', 'days_open_15']\n",
    "days_open_15['days_open_15'] = days_open_15['days_open_15'].astype(int)"
   ]
  },
  {
   "cell_type": "code",
   "execution_count": 299,
   "metadata": {
    "collapsed": false
   },
   "outputs": [
    {
     "data": {
      "text/html": [
       "<div>\n",
       "<table border=\"1\" class=\"dataframe\">\n",
       "  <thead>\n",
       "    <tr style=\"text-align: right;\">\n",
       "      <th></th>\n",
       "      <th>store</th>\n",
       "      <th>2015_total_revenue</th>\n",
       "      <th>2015_profit</th>\n",
       "      <th>2015_rev_per_day</th>\n",
       "      <th>2015_profit_per_day</th>\n",
       "    </tr>\n",
       "  </thead>\n",
       "  <tbody>\n",
       "    <tr>\n",
       "      <th>0</th>\n",
       "      <td>2106</td>\n",
       "      <td>146038.70</td>\n",
       "      <td>48742.20</td>\n",
       "      <td>2808.436538</td>\n",
       "      <td>937.350000</td>\n",
       "    </tr>\n",
       "    <tr>\n",
       "      <th>1</th>\n",
       "      <td>2113</td>\n",
       "      <td>9310.22</td>\n",
       "      <td>3109.04</td>\n",
       "      <td>198.089787</td>\n",
       "      <td>66.149787</td>\n",
       "    </tr>\n",
       "    <tr>\n",
       "      <th>2</th>\n",
       "      <td>2130</td>\n",
       "      <td>111583.91</td>\n",
       "      <td>37229.32</td>\n",
       "      <td>2145.844423</td>\n",
       "      <td>715.948462</td>\n",
       "    </tr>\n",
       "    <tr>\n",
       "      <th>3</th>\n",
       "      <td>2152</td>\n",
       "      <td>7721.08</td>\n",
       "      <td>2587.53</td>\n",
       "      <td>157.573061</td>\n",
       "      <td>52.806735</td>\n",
       "    </tr>\n",
       "    <tr>\n",
       "      <th>4</th>\n",
       "      <td>2178</td>\n",
       "      <td>24324.18</td>\n",
       "      <td>8165.70</td>\n",
       "      <td>476.944706</td>\n",
       "      <td>160.111765</td>\n",
       "    </tr>\n",
       "  </tbody>\n",
       "</table>\n",
       "</div>"
      ],
      "text/plain": [
       "   store  2015_total_revenue  2015_profit  2015_rev_per_day  \\\n",
       "0   2106           146038.70     48742.20       2808.436538   \n",
       "1   2113             9310.22      3109.04        198.089787   \n",
       "2   2130           111583.91     37229.32       2145.844423   \n",
       "3   2152             7721.08      2587.53        157.573061   \n",
       "4   2178            24324.18      8165.70        476.944706   \n",
       "\n",
       "   2015_profit_per_day  \n",
       "0           937.350000  \n",
       "1            66.149787  \n",
       "2           715.948462  \n",
       "3            52.806735  \n",
       "4           160.111765  "
      ]
     },
     "execution_count": 299,
     "metadata": {},
     "output_type": "execute_result"
    }
   ],
   "source": [
    "# Create daily metrics (rev_per_day and profit_per_day) with days_open data \n",
    "iowa_sum_2015['2015_rev_per_day'] = iowa_sum_2015['2015_total_revenue'] / days_open_15['days_open_15']\n",
    "iowa_sum_2015['2015_profit_per_day'] = iowa_sum_2015['2015_profit'] / days_open_15['days_open_15']\n",
    "iowa_sum_2015.head()"
   ]
  },
  {
   "cell_type": "code",
   "execution_count": 300,
   "metadata": {
    "collapsed": false
   },
   "outputs": [
    {
     "name": "stdout",
     "output_type": "stream",
     "text": [
      "1185\n",
      "Note: discrepancy between len(idf) and len(idf_2015) result of 2 stores each counted twice. No time to remove.\n"
     ]
    },
    {
     "data": {
      "text/html": [
       "<div>\n",
       "<table border=\"1\" class=\"dataframe\">\n",
       "  <thead>\n",
       "    <tr style=\"text-align: right;\">\n",
       "      <th></th>\n",
       "      <th>store</th>\n",
       "      <th>city</th>\n",
       "      <th>county</th>\n",
       "      <th>zip_code</th>\n",
       "      <th>days_open_15</th>\n",
       "      <th>2015_total_revenue</th>\n",
       "      <th>2015_profit</th>\n",
       "      <th>2015_rev_per_day</th>\n",
       "      <th>2015_profit_per_day</th>\n",
       "      <th>2015_avg_rev</th>\n",
       "      <th>2015_avg_profit</th>\n",
       "      <th>2015_avg_price_per_ml</th>\n",
       "      <th>2015_avg_profit_per_ml</th>\n",
       "      <th>2015_avg_profit_per_bottle</th>\n",
       "    </tr>\n",
       "  </thead>\n",
       "  <tbody>\n",
       "    <tr>\n",
       "      <th>0</th>\n",
       "      <td>3717</td>\n",
       "      <td>SUMNER</td>\n",
       "      <td>Bremer</td>\n",
       "      <td>50674.0</td>\n",
       "      <td>50</td>\n",
       "      <td>9022.86</td>\n",
       "      <td>3011.02</td>\n",
       "      <td>180.457200</td>\n",
       "      <td>60.220400</td>\n",
       "      <td>34.438397</td>\n",
       "      <td>11.492443</td>\n",
       "      <td>10.623053</td>\n",
       "      <td>5.389800</td>\n",
       "      <td>5.103779</td>\n",
       "    </tr>\n",
       "    <tr>\n",
       "      <th>1</th>\n",
       "      <td>2614</td>\n",
       "      <td>DAVENPORT</td>\n",
       "      <td>Scott</td>\n",
       "      <td>52807.0</td>\n",
       "      <td>52</td>\n",
       "      <td>142675.29</td>\n",
       "      <td>47695.76</td>\n",
       "      <td>2743.755577</td>\n",
       "      <td>917.226154</td>\n",
       "      <td>138.385344</td>\n",
       "      <td>46.261649</td>\n",
       "      <td>7.146836</td>\n",
       "      <td>6.427207</td>\n",
       "      <td>5.232396</td>\n",
       "    </tr>\n",
       "    <tr>\n",
       "      <th>2</th>\n",
       "      <td>2106</td>\n",
       "      <td>CEDAR FALLS</td>\n",
       "      <td>Black Hawk</td>\n",
       "      <td>50613.0</td>\n",
       "      <td>52</td>\n",
       "      <td>146038.70</td>\n",
       "      <td>48742.20</td>\n",
       "      <td>2808.436538</td>\n",
       "      <td>937.350000</td>\n",
       "      <td>277.640114</td>\n",
       "      <td>92.665779</td>\n",
       "      <td>2.790379</td>\n",
       "      <td>5.957151</td>\n",
       "      <td>5.160951</td>\n",
       "    </tr>\n",
       "  </tbody>\n",
       "</table>\n",
       "</div>"
      ],
      "text/plain": [
       "   store         city      county  zip_code  days_open_15  2015_total_revenue  \\\n",
       "0   3717       SUMNER      Bremer   50674.0            50             9022.86   \n",
       "1   2614    DAVENPORT       Scott   52807.0            52           142675.29   \n",
       "2   2106  CEDAR FALLS  Black Hawk   50613.0            52           146038.70   \n",
       "\n",
       "   2015_profit  2015_rev_per_day  2015_profit_per_day  2015_avg_rev  \\\n",
       "0      3011.02        180.457200            60.220400     34.438397   \n",
       "1     47695.76       2743.755577           917.226154    138.385344   \n",
       "2     48742.20       2808.436538           937.350000    277.640114   \n",
       "\n",
       "   2015_avg_profit  2015_avg_price_per_ml  2015_avg_profit_per_ml  \\\n",
       "0        11.492443              10.623053                5.389800   \n",
       "1        46.261649               7.146836                6.427207   \n",
       "2        92.665779               2.790379                5.957151   \n",
       "\n",
       "   2015_avg_profit_per_bottle  \n",
       "0                    5.103779  \n",
       "1                    5.232396  \n",
       "2                    5.160951  "
      ]
     },
     "execution_count": 300,
     "metadata": {},
     "output_type": "execute_result"
    }
   ],
   "source": [
    "# Create df of categorical variables only \n",
    "idf_category = idf.loc[:,['store', 'city', 'county', 'zip_code']].drop_duplicates()\n",
    "\n",
    "# Merge (left join) iowa_sum, iowa_mean and days_open_15 to create df of all stores for 2015 data \n",
    "idf_2015 = pd.merge(idf_category, days_open_15, how='left', on='store'). \\\n",
    "merge(iowa_sum_2015, how='left', on='store').merge(iowa_mean_2015, how='left', on='store')\n",
    "print len(idf_2015)\n",
    "print 'Note: discrepancy between len(idf) and len(idf_2015) result of 2 stores each counted twice. No time to remove.'\n",
    "idf_2015.head(3)"
   ]
  },
  {
   "cell_type": "markdown",
   "metadata": {},
   "source": [
    "## Create a new df summarzing Q1-2015 data only"
   ]
  },
  {
   "cell_type": "code",
   "execution_count": 309,
   "metadata": {
    "collapsed": false
   },
   "outputs": [
    {
     "name": "stdout",
     "output_type": "stream",
     "text": [
      "1183\n",
      "1183\n"
     ]
    }
   ],
   "source": [
    "# Create a df summarizing total sales and revenues in 2015 at store-level\n",
    "sum_metrics = ['sales', 'profit']\n",
    "iowa_sum_2015Q1 = idf[idf['quarter'] == 'Q1-2015'].groupby(['store'])[sum_metrics].agg(np.sum)\n",
    "iowa_sum_2015Q1.columns = ['Q1-15_total_revenue','Q1-15_profit']\n",
    "iowa_sum_2015Q1.reset_index(inplace=True)\n",
    "print len(iowa_sum_2015Q1)\n",
    "\n",
    "# Create a df summarizing mean metrics\n",
    "mean_metrics = ['sales', 'profit', 'price_per_ml', 'profit_per_ml', 'profit_per_bottle']\n",
    "iowa_mean_2015Q1 = idf[idf['quarter'] == 'Q1-2015'].groupby(['store'])[mean_metrics].agg(np.mean)\n",
    "iowa_mean_2015Q1.columns = ['Q1-15_avg_rev','Q1-15_avg_profit','Q1-15_avg_price_per_ml', \\\n",
    "                         'Q1-15_avg_profit_per_ml', 'Q1-15_avg_profit_per_bottle']\n",
    "iowa_mean_2015Q1.reset_index(inplace=True)\n",
    "print len(iowa_mean_2015Q1)\n",
    "\n",
    "# Create days_open df for Q1-2015\n",
    "days_open_15Q1 = idf_open[idf_open['quarter'] == 'Q1-2015'].groupby(['store'])[['date']].agg(len)\n",
    "days_open_15Q1.reset_index(inplace=True)\n",
    "days_open_15Q1.columns = ['store', 'days_open_15Q1']\n",
    "days_open_15Q1['days_open_15Q1'] = days_open_15Q1['days_open_15Q1'].astype(int)"
   ]
  },
  {
   "cell_type": "code",
   "execution_count": 311,
   "metadata": {
    "collapsed": false
   },
   "outputs": [
    {
     "data": {
      "text/html": [
       "<div>\n",
       "<table border=\"1\" class=\"dataframe\">\n",
       "  <thead>\n",
       "    <tr style=\"text-align: right;\">\n",
       "      <th></th>\n",
       "      <th>store</th>\n",
       "      <th>Q1-15_total_revenue</th>\n",
       "      <th>Q1-15_profit</th>\n",
       "      <th>rev_per_day</th>\n",
       "      <th>profit_per_day</th>\n",
       "    </tr>\n",
       "  </thead>\n",
       "  <tbody>\n",
       "    <tr>\n",
       "      <th>0</th>\n",
       "      <td>2106</td>\n",
       "      <td>39287.29</td>\n",
       "      <td>13108.37</td>\n",
       "      <td>3273.940833</td>\n",
       "      <td>1092.364167</td>\n",
       "    </tr>\n",
       "    <tr>\n",
       "      <th>1</th>\n",
       "      <td>2113</td>\n",
       "      <td>2833.25</td>\n",
       "      <td>944.72</td>\n",
       "      <td>257.568182</td>\n",
       "      <td>85.883636</td>\n",
       "    </tr>\n",
       "    <tr>\n",
       "      <th>2</th>\n",
       "      <td>2130</td>\n",
       "      <td>24272.57</td>\n",
       "      <td>8108.68</td>\n",
       "      <td>2022.714167</td>\n",
       "      <td>675.723333</td>\n",
       "    </tr>\n",
       "    <tr>\n",
       "      <th>3</th>\n",
       "      <td>2152</td>\n",
       "      <td>2003.46</td>\n",
       "      <td>668.60</td>\n",
       "      <td>166.955000</td>\n",
       "      <td>55.716667</td>\n",
       "    </tr>\n",
       "    <tr>\n",
       "      <th>4</th>\n",
       "      <td>2178</td>\n",
       "      <td>5856.41</td>\n",
       "      <td>1961.28</td>\n",
       "      <td>488.034167</td>\n",
       "      <td>163.440000</td>\n",
       "    </tr>\n",
       "  </tbody>\n",
       "</table>\n",
       "</div>"
      ],
      "text/plain": [
       "   store  Q1-15_total_revenue  Q1-15_profit  rev_per_day  profit_per_day\n",
       "0   2106             39287.29      13108.37  3273.940833     1092.364167\n",
       "1   2113              2833.25        944.72   257.568182       85.883636\n",
       "2   2130             24272.57       8108.68  2022.714167      675.723333\n",
       "3   2152              2003.46        668.60   166.955000       55.716667\n",
       "4   2178              5856.41       1961.28   488.034167      163.440000"
      ]
     },
     "execution_count": 311,
     "metadata": {},
     "output_type": "execute_result"
    }
   ],
   "source": [
    "# Create daily metrics (rev_per_day and profit_per_day) with days_open data \n",
    "iowa_sum_2015Q1['rev_per_day'] = iowa_sum_2015Q1['Q1-15_total_revenue'] / days_open_15Q1['days_open_15Q1']\n",
    "iowa_sum_2015Q1['profit_per_day'] = iowa_sum_2015Q1['Q1-15_profit'] / days_open_15Q1['days_open_15Q1']\n",
    "iowa_sum_2015Q1.head()"
   ]
  },
  {
   "cell_type": "code",
   "execution_count": 313,
   "metadata": {
    "collapsed": false
   },
   "outputs": [
    {
     "name": "stdout",
     "output_type": "stream",
     "text": [
      "1185\n",
      "Note: discrepancy between len(idf) and len(idf_2015) result of 2 stores each counted twice. No time to remove.\n"
     ]
    },
    {
     "data": {
      "text/html": [
       "<div>\n",
       "<table border=\"1\" class=\"dataframe\">\n",
       "  <thead>\n",
       "    <tr style=\"text-align: right;\">\n",
       "      <th></th>\n",
       "      <th>store</th>\n",
       "      <th>city</th>\n",
       "      <th>county</th>\n",
       "      <th>zip_code</th>\n",
       "      <th>days_open_15Q1</th>\n",
       "      <th>Q1-15_total_revenue</th>\n",
       "      <th>Q1-15_profit</th>\n",
       "      <th>rev_per_day</th>\n",
       "      <th>profit_per_day</th>\n",
       "      <th>Q1-15_avg_rev</th>\n",
       "      <th>Q1-15_avg_profit</th>\n",
       "      <th>Q1-15_avg_price_per_ml</th>\n",
       "      <th>Q1-15_avg_profit_per_ml</th>\n",
       "      <th>Q1-15_avg_profit_per_bottle</th>\n",
       "    </tr>\n",
       "  </thead>\n",
       "  <tbody>\n",
       "    <tr>\n",
       "      <th>0</th>\n",
       "      <td>3717</td>\n",
       "      <td>SUMNER</td>\n",
       "      <td>Bremer</td>\n",
       "      <td>50674.0</td>\n",
       "      <td>11</td>\n",
       "      <td>1583.13</td>\n",
       "      <td>527.81</td>\n",
       "      <td>143.920909</td>\n",
       "      <td>47.982727</td>\n",
       "      <td>35.980227</td>\n",
       "      <td>11.995682</td>\n",
       "      <td>11.149558</td>\n",
       "      <td>5.540246</td>\n",
       "      <td>4.902955</td>\n",
       "    </tr>\n",
       "    <tr>\n",
       "      <th>1</th>\n",
       "      <td>2614</td>\n",
       "      <td>DAVENPORT</td>\n",
       "      <td>Scott</td>\n",
       "      <td>52807.0</td>\n",
       "      <td>12</td>\n",
       "      <td>32260.12</td>\n",
       "      <td>10821.25</td>\n",
       "      <td>2688.343333</td>\n",
       "      <td>901.770833</td>\n",
       "      <td>135.546723</td>\n",
       "      <td>45.467437</td>\n",
       "      <td>5.584630</td>\n",
       "      <td>5.687667</td>\n",
       "      <td>4.805462</td>\n",
       "    </tr>\n",
       "    <tr>\n",
       "      <th>2</th>\n",
       "      <td>2106</td>\n",
       "      <td>CEDAR FALLS</td>\n",
       "      <td>Black Hawk</td>\n",
       "      <td>50613.0</td>\n",
       "      <td>12</td>\n",
       "      <td>39287.29</td>\n",
       "      <td>13108.37</td>\n",
       "      <td>3273.940833</td>\n",
       "      <td>1092.364167</td>\n",
       "      <td>304.552636</td>\n",
       "      <td>101.615271</td>\n",
       "      <td>3.432935</td>\n",
       "      <td>5.959059</td>\n",
       "      <td>5.033721</td>\n",
       "    </tr>\n",
       "  </tbody>\n",
       "</table>\n",
       "</div>"
      ],
      "text/plain": [
       "   store         city      county  zip_code  days_open_15Q1  \\\n",
       "0   3717       SUMNER      Bremer   50674.0              11   \n",
       "1   2614    DAVENPORT       Scott   52807.0              12   \n",
       "2   2106  CEDAR FALLS  Black Hawk   50613.0              12   \n",
       "\n",
       "   Q1-15_total_revenue  Q1-15_profit  rev_per_day  profit_per_day  \\\n",
       "0              1583.13        527.81   143.920909       47.982727   \n",
       "1             32260.12      10821.25  2688.343333      901.770833   \n",
       "2             39287.29      13108.37  3273.940833     1092.364167   \n",
       "\n",
       "   Q1-15_avg_rev  Q1-15_avg_profit  Q1-15_avg_price_per_ml  \\\n",
       "0      35.980227         11.995682               11.149558   \n",
       "1     135.546723         45.467437                5.584630   \n",
       "2     304.552636        101.615271                3.432935   \n",
       "\n",
       "   Q1-15_avg_profit_per_ml  Q1-15_avg_profit_per_bottle  \n",
       "0                 5.540246                     4.902955  \n",
       "1                 5.687667                     4.805462  \n",
       "2                 5.959059                     5.033721  "
      ]
     },
     "execution_count": 313,
     "metadata": {},
     "output_type": "execute_result"
    }
   ],
   "source": [
    "# Merge (left join) iowa_sum, iowa_mean and days_open_15 to create df of all stores for 2015 data \n",
    "idf_2015Q1 = pd.merge(idf_category, days_open_15Q1, how='left', on='store')\n",
    "idf_2015Q1 = pd.merge(idf_2015Q1,iowa_sum_2015Q1, how='left', on='store'). \\\n",
    "merge(iowa_mean_2015Q1, how='left', on='store')\n",
    "\n",
    "print len(idf_2015Q1)\n",
    "print 'Note: discrepancy between len(idf) and len(idf_2015) result of 2 stores each counted twice. No time to remove.'\n",
    "idf_2015Q1.head(3)"
   ]
  },
  {
   "cell_type": "code",
   "execution_count": 271,
   "metadata": {
    "collapsed": false
   },
   "outputs": [
    {
     "name": "stdout",
     "output_type": "stream",
     "text": [
      "1185\n",
      "Note: discrepancy between len(idf) and len(idf_2015) result of 2 stores each counted twice. No time to remove.\n"
     ]
    },
    {
     "data": {
      "text/html": [
       "<div>\n",
       "<table border=\"1\" class=\"dataframe\">\n",
       "  <thead>\n",
       "    <tr style=\"text-align: right;\">\n",
       "      <th></th>\n",
       "      <th>store</th>\n",
       "      <th>city</th>\n",
       "      <th>county</th>\n",
       "      <th>zip_code</th>\n",
       "      <th>days_open</th>\n",
       "      <th>Q1-15_total_revenue</th>\n",
       "      <th>Q1-15_profit</th>\n",
       "      <th>rev_per_day</th>\n",
       "      <th>profit_per_day</th>\n",
       "      <th>Q1-15_avg_rev</th>\n",
       "      <th>Q1-15_avg_profit</th>\n",
       "      <th>Q1-15_avg_price_per_ml</th>\n",
       "      <th>Q1-15_avg_profit_per_ml</th>\n",
       "      <th>Q1-15_avg_profit_per_bottle</th>\n",
       "    </tr>\n",
       "  </thead>\n",
       "  <tbody>\n",
       "    <tr>\n",
       "      <th>0</th>\n",
       "      <td>3717</td>\n",
       "      <td>SUMNER</td>\n",
       "      <td>Bremer</td>\n",
       "      <td>50674.0</td>\n",
       "      <td>11</td>\n",
       "      <td>1583.13</td>\n",
       "      <td>527.81</td>\n",
       "      <td>143.920909</td>\n",
       "      <td>47.982727</td>\n",
       "      <td>35.980227</td>\n",
       "      <td>11.995682</td>\n",
       "      <td>11.149558</td>\n",
       "      <td>5.540246</td>\n",
       "      <td>4.902955</td>\n",
       "    </tr>\n",
       "    <tr>\n",
       "      <th>1</th>\n",
       "      <td>2614</td>\n",
       "      <td>DAVENPORT</td>\n",
       "      <td>Scott</td>\n",
       "      <td>52807.0</td>\n",
       "      <td>12</td>\n",
       "      <td>32260.12</td>\n",
       "      <td>10821.25</td>\n",
       "      <td>2688.343333</td>\n",
       "      <td>901.770833</td>\n",
       "      <td>135.546723</td>\n",
       "      <td>45.467437</td>\n",
       "      <td>5.584630</td>\n",
       "      <td>5.687667</td>\n",
       "      <td>4.805462</td>\n",
       "    </tr>\n",
       "    <tr>\n",
       "      <th>2</th>\n",
       "      <td>2106</td>\n",
       "      <td>CEDAR FALLS</td>\n",
       "      <td>Black Hawk</td>\n",
       "      <td>50613.0</td>\n",
       "      <td>12</td>\n",
       "      <td>39287.29</td>\n",
       "      <td>13108.37</td>\n",
       "      <td>3273.940833</td>\n",
       "      <td>1092.364167</td>\n",
       "      <td>304.552636</td>\n",
       "      <td>101.615271</td>\n",
       "      <td>3.432935</td>\n",
       "      <td>5.959059</td>\n",
       "      <td>5.033721</td>\n",
       "    </tr>\n",
       "  </tbody>\n",
       "</table>\n",
       "</div>"
      ],
      "text/plain": [
       "   store         city      county  zip_code  days_open  Q1-15_total_revenue  \\\n",
       "0   3717       SUMNER      Bremer   50674.0         11              1583.13   \n",
       "1   2614    DAVENPORT       Scott   52807.0         12             32260.12   \n",
       "2   2106  CEDAR FALLS  Black Hawk   50613.0         12             39287.29   \n",
       "\n",
       "   Q1-15_profit  rev_per_day  profit_per_day  Q1-15_avg_rev  Q1-15_avg_profit  \\\n",
       "0        527.81   143.920909       47.982727      35.980227         11.995682   \n",
       "1      10821.25  2688.343333      901.770833     135.546723         45.467437   \n",
       "2      13108.37  3273.940833     1092.364167     304.552636        101.615271   \n",
       "\n",
       "   Q1-15_avg_price_per_ml  Q1-15_avg_profit_per_ml  \\\n",
       "0               11.149558                 5.540246   \n",
       "1                5.584630                 5.687667   \n",
       "2                3.432935                 5.959059   \n",
       "\n",
       "   Q1-15_avg_profit_per_bottle  \n",
       "0                     4.902955  \n",
       "1                     4.805462  \n",
       "2                     5.033721  "
      ]
     },
     "execution_count": 271,
     "metadata": {},
     "output_type": "execute_result"
    }
   ],
   "source": []
  },
  {
   "cell_type": "markdown",
   "metadata": {},
   "source": [
    "## Create a new df summarzing Q1-2016 data only"
   ]
  },
  {
   "cell_type": "code",
   "execution_count": 256,
   "metadata": {
    "collapsed": false
   },
   "outputs": [
    {
     "name": "stdout",
     "output_type": "stream",
     "text": [
      "1183\n",
      "1183\n"
     ]
    }
   ],
   "source": [
    "# Create a df summarizing total sales and revenues in 2016 at store-level\n",
    "sum_metrics = ['sales', 'profit']\n",
    "iowa_sum_2016Q1 = idf[idf['quarter'] == 'Q1-2016'].groupby(['store'])[sum_metrics].agg(np.sum)\n",
    "iowa_sum_2016Q1.columns = ['Q1-16_total_revenue','Q1-16_profit']\n",
    "iowa_sum_2016Q1.reset_index(inplace=True)\n",
    "print len(iowa_sum_2016Q1)\n",
    "\n",
    "# Create a df summarizing mean metrics\n",
    "mean_metrics = ['sales', 'profit', 'price_per_ml', 'profit_per_ml', 'profit_per_bottle']\n",
    "iowa_mean_2016Q1 = idf[idf['quarter'] == 'Q1-2016'].groupby(['store'])[mean_metrics].agg(np.mean)\n",
    "iowa_mean_2016Q1.columns = ['Q1-16_avg_rev','Q1-16_avg_profit','Q1-16_avg_price_per_ml', \\\n",
    "                         'Q1-16_avg_profit_per_ml', 'Q1-16_avg_profit_per_bottle']\n",
    "iowa_mean_2016Q1.reset_index(inplace=True)\n",
    "print len(iowa_mean_2016Q1)\n",
    "\n",
    "# Create days_open df for Q1-2016\n",
    "days_open_16Q1 = idf_open[idf_open['quarter'] == 'Q1-2016'].groupby(['store'])[['date']].agg(len)\n",
    "days_open_16Q1.reset_index(inplace=True)\n",
    "days_open_16Q1.columns = ['store', 'days_open']\n",
    "days_open_16Q1['days_open'] = days_open_15Q1['days_open'].astype(int)"
   ]
  },
  {
   "cell_type": "code",
   "execution_count": 260,
   "metadata": {
    "collapsed": false
   },
   "outputs": [
    {
     "data": {
      "text/html": [
       "<div>\n",
       "<table border=\"1\" class=\"dataframe\">\n",
       "  <thead>\n",
       "    <tr style=\"text-align: right;\">\n",
       "      <th></th>\n",
       "      <th>store</th>\n",
       "      <th>Q1-16_total_revenue</th>\n",
       "      <th>Q1-16_profit</th>\n",
       "    </tr>\n",
       "  </thead>\n",
       "  <tbody>\n",
       "    <tr>\n",
       "      <th>0</th>\n",
       "      <td>2106</td>\n",
       "      <td>30478.75</td>\n",
       "      <td>10174.68</td>\n",
       "    </tr>\n",
       "    <tr>\n",
       "      <th>1</th>\n",
       "      <td>2113</td>\n",
       "      <td>2065.90</td>\n",
       "      <td>693.49</td>\n",
       "    </tr>\n",
       "    <tr>\n",
       "      <th>2</th>\n",
       "      <td>2130</td>\n",
       "      <td>27856.11</td>\n",
       "      <td>9288.29</td>\n",
       "    </tr>\n",
       "  </tbody>\n",
       "</table>\n",
       "</div>"
      ],
      "text/plain": [
       "   store  Q1-16_total_revenue  Q1-16_profit\n",
       "0   2106             30478.75      10174.68\n",
       "1   2113              2065.90        693.49\n",
       "2   2130             27856.11       9288.29"
      ]
     },
     "execution_count": 260,
     "metadata": {},
     "output_type": "execute_result"
    }
   ],
   "source": [
    "iowa_sum_2016Q1.head(3)"
   ]
  },
  {
   "cell_type": "code",
   "execution_count": 262,
   "metadata": {
    "collapsed": false
   },
   "outputs": [
    {
     "name": "stdout",
     "output_type": "stream",
     "text": [
      "1185\n",
      "Note: discrepancy between len(idf) and len(idf_2016) result of 2 stores each counted twice. No time to remove.\n"
     ]
    },
    {
     "data": {
      "text/html": [
       "<div>\n",
       "<table border=\"1\" class=\"dataframe\">\n",
       "  <thead>\n",
       "    <tr style=\"text-align: right;\">\n",
       "      <th></th>\n",
       "      <th>store</th>\n",
       "      <th>city</th>\n",
       "      <th>county</th>\n",
       "      <th>zip_code</th>\n",
       "      <th>days_open</th>\n",
       "      <th>Q1-16_total_revenue</th>\n",
       "      <th>Q1-16_profit</th>\n",
       "      <th>rev_per_day</th>\n",
       "      <th>profit_per_day</th>\n",
       "      <th>Q1-16_avg_rev</th>\n",
       "      <th>Q1-16_avg_profit</th>\n",
       "      <th>Q1-16_avg_price_per_ml</th>\n",
       "      <th>Q1-16_avg_profit_per_ml</th>\n",
       "      <th>Q1-16_avg_profit_per_bottle</th>\n",
       "    </tr>\n",
       "  </thead>\n",
       "  <tbody>\n",
       "    <tr>\n",
       "      <th>0</th>\n",
       "      <td>3717</td>\n",
       "      <td>SUMNER</td>\n",
       "      <td>Bremer</td>\n",
       "      <td>50674.0</td>\n",
       "      <td>11</td>\n",
       "      <td>2510.46</td>\n",
       "      <td>837.57</td>\n",
       "      <td>228.223636</td>\n",
       "      <td>76.142727</td>\n",
       "      <td>34.867500</td>\n",
       "      <td>11.632917</td>\n",
       "      <td>10.805656</td>\n",
       "      <td>5.511753</td>\n",
       "      <td>5.455972</td>\n",
       "    </tr>\n",
       "    <tr>\n",
       "      <th>1</th>\n",
       "      <td>2614</td>\n",
       "      <td>DAVENPORT</td>\n",
       "      <td>Scott</td>\n",
       "      <td>52807.0</td>\n",
       "      <td>12</td>\n",
       "      <td>36360.48</td>\n",
       "      <td>12131.12</td>\n",
       "      <td>3030.040000</td>\n",
       "      <td>1010.926667</td>\n",
       "      <td>133.188571</td>\n",
       "      <td>44.436337</td>\n",
       "      <td>7.705376</td>\n",
       "      <td>6.472363</td>\n",
       "      <td>5.056520</td>\n",
       "    </tr>\n",
       "    <tr>\n",
       "      <th>2</th>\n",
       "      <td>2106</td>\n",
       "      <td>CEDAR FALLS</td>\n",
       "      <td>Black Hawk</td>\n",
       "      <td>50613.0</td>\n",
       "      <td>12</td>\n",
       "      <td>30478.75</td>\n",
       "      <td>10174.68</td>\n",
       "      <td>2539.895833</td>\n",
       "      <td>847.890000</td>\n",
       "      <td>241.894841</td>\n",
       "      <td>80.751429</td>\n",
       "      <td>3.686858</td>\n",
       "      <td>5.997147</td>\n",
       "      <td>5.196508</td>\n",
       "    </tr>\n",
       "  </tbody>\n",
       "</table>\n",
       "</div>"
      ],
      "text/plain": [
       "   store         city      county  zip_code  days_open  Q1-16_total_revenue  \\\n",
       "0   3717       SUMNER      Bremer   50674.0         11              2510.46   \n",
       "1   2614    DAVENPORT       Scott   52807.0         12             36360.48   \n",
       "2   2106  CEDAR FALLS  Black Hawk   50613.0         12             30478.75   \n",
       "\n",
       "   Q1-16_profit  rev_per_day  profit_per_day  Q1-16_avg_rev  Q1-16_avg_profit  \\\n",
       "0        837.57   228.223636       76.142727      34.867500         11.632917   \n",
       "1      12131.12  3030.040000     1010.926667     133.188571         44.436337   \n",
       "2      10174.68  2539.895833      847.890000     241.894841         80.751429   \n",
       "\n",
       "   Q1-16_avg_price_per_ml  Q1-16_avg_profit_per_ml  \\\n",
       "0               10.805656                 5.511753   \n",
       "1                7.705376                 6.472363   \n",
       "2                3.686858                 5.997147   \n",
       "\n",
       "   Q1-16_avg_profit_per_bottle  \n",
       "0                     5.455972  \n",
       "1                     5.056520  \n",
       "2                     5.196508  "
      ]
     },
     "execution_count": 262,
     "metadata": {},
     "output_type": "execute_result"
    }
   ],
   "source": [
    "# Create daily metrics (rev_per_day and profit_per_day) with days_open data \n",
    "iowa_sum_2016Q1['rev_per_day'] = iowa_sum_2016Q1['Q1-16_total_revenue'] / days_open_16Q1['days_open']\n",
    "iowa_sum_2016Q1['profit_per_day'] = iowa_sum_2016Q1['Q1-16_profit'] / days_open_16Q1['days_open']\n",
    "\n",
    "# Merge (left join) iowa_sum, iowa_mean and days_open_15 to create df of all stores for 2016 data \n",
    "idf_2016Q1 = pd.merge(idf_category, days_open_16Q1, how='left', on='store')\n",
    "idf_2016Q1 = pd.merge(idf_2016Q1,iowa_sum_2016Q1, how='left', on='store'). \\\n",
    "merge(iowa_mean_2016Q1, how='left', on='store')\n",
    "\n",
    "idf_2016Q1.head(3)\n",
    "print len(idf_2016Q1)\n",
    "print 'Note: discrepancy between len(idf) and len(idf_2016) result of 2 stores each counted twice. No time to remove.'\n",
    "idf_2016Q1.head(3)"
   ]
  },
  {
   "cell_type": "code",
   "execution_count": 272,
   "metadata": {
    "collapsed": false
   },
   "outputs": [
    {
     "name": "stdout",
     "output_type": "stream",
     "text": [
      "(1185, 14)\n",
      "(1185, 14)\n",
      "(1185, 14)\n"
     ]
    }
   ],
   "source": [
    "# Make sure all three new dfs are shame shape\n",
    "print idf_2015.shape\n",
    "print idf_2015Q1.shape\n",
    "print idf_2016Q1.shape"
   ]
  },
  {
   "cell_type": "code",
   "execution_count": 273,
   "metadata": {
    "collapsed": true
   },
   "outputs": [],
   "source": [
    "###################################################\n",
    "a1 = idf_2015.copy()\n",
    "a2 = idf_2015Q1.copy()\n",
    "a3 = idf_2016Q1.copy()"
   ]
  },
  {
   "cell_type": "markdown",
   "metadata": {},
   "source": [
    "## Merge 2015, Q1-2015 and Q2-2015 dfs"
   ]
  },
  {
   "cell_type": "code",
   "execution_count": 275,
   "metadata": {
    "collapsed": false
   },
   "outputs": [],
   "source": [
    "stores_df = idf_2015.merge(idf_2015Q1, on=['store', 'county', 'city', 'zip_code'], how ='left')\\\n",
    ".merge(idf_2016Q1, on= ['store', 'county', 'city', 'zip_code'], how =\"left\")"
   ]
  },
  {
   "cell_type": "code",
   "execution_count": 284,
   "metadata": {
    "collapsed": false
   },
   "outputs": [
    {
     "name": "stdout",
     "output_type": "stream",
     "text": [
      "(1185, 34)\n",
      "                              0\n",
      "0                         store\n",
      "1                          city\n",
      "2                        county\n",
      "3                      zip_code\n",
      "4                  days_open_15\n",
      "5            2015_total_revenue\n",
      "6                   2015_profit\n",
      "7                 rev_per_day_x\n",
      "8              profit_per_day_x\n",
      "9                  2015_avg_rev\n",
      "10              2015_avg_profit\n",
      "11        2015_avg_price_per_ml\n",
      "12       2015_avg_profit_per_ml\n",
      "13   2015_avg_profit_per_bottle\n",
      "14                  days_open_x\n",
      "15          Q1-15_total_revenue\n",
      "16                 Q1-15_profit\n",
      "17                rev_per_day_y\n",
      "18             profit_per_day_y\n",
      "19                Q1-15_avg_rev\n",
      "20             Q1-15_avg_profit\n",
      "21       Q1-15_avg_price_per_ml\n",
      "22      Q1-15_avg_profit_per_ml\n",
      "23  Q1-15_avg_profit_per_bottle\n",
      "24                  days_open_y\n",
      "25          Q1-16_total_revenue\n",
      "26                 Q1-16_profit\n",
      "27                  rev_per_day\n",
      "28               profit_per_day\n",
      "29                Q1-16_avg_rev\n",
      "30             Q1-16_avg_profit\n",
      "31       Q1-16_avg_price_per_ml\n",
      "32      Q1-16_avg_profit_per_ml\n",
      "33  Q1-16_avg_profit_per_bottle\n"
     ]
    },
    {
     "data": {
      "text/html": [
       "<div>\n",
       "<table border=\"1\" class=\"dataframe\">\n",
       "  <thead>\n",
       "    <tr style=\"text-align: right;\">\n",
       "      <th></th>\n",
       "      <th>store</th>\n",
       "      <th>city</th>\n",
       "      <th>county</th>\n",
       "      <th>zip_code</th>\n",
       "      <th>days_open_15</th>\n",
       "      <th>2015_total_revenue</th>\n",
       "      <th>2015_profit</th>\n",
       "      <th>rev_per_day_x</th>\n",
       "      <th>profit_per_day_x</th>\n",
       "      <th>2015_avg_rev</th>\n",
       "      <th>...</th>\n",
       "      <th>days_open_y</th>\n",
       "      <th>Q1-16_total_revenue</th>\n",
       "      <th>Q1-16_profit</th>\n",
       "      <th>rev_per_day</th>\n",
       "      <th>profit_per_day</th>\n",
       "      <th>Q1-16_avg_rev</th>\n",
       "      <th>Q1-16_avg_profit</th>\n",
       "      <th>Q1-16_avg_price_per_ml</th>\n",
       "      <th>Q1-16_avg_profit_per_ml</th>\n",
       "      <th>Q1-16_avg_profit_per_bottle</th>\n",
       "    </tr>\n",
       "  </thead>\n",
       "  <tbody>\n",
       "    <tr>\n",
       "      <th>0</th>\n",
       "      <td>3717</td>\n",
       "      <td>SUMNER</td>\n",
       "      <td>Bremer</td>\n",
       "      <td>50674.0</td>\n",
       "      <td>50</td>\n",
       "      <td>9022.86</td>\n",
       "      <td>3011.02</td>\n",
       "      <td>180.457200</td>\n",
       "      <td>60.220400</td>\n",
       "      <td>34.438397</td>\n",
       "      <td>...</td>\n",
       "      <td>11</td>\n",
       "      <td>2510.46</td>\n",
       "      <td>837.57</td>\n",
       "      <td>228.223636</td>\n",
       "      <td>76.142727</td>\n",
       "      <td>34.867500</td>\n",
       "      <td>11.632917</td>\n",
       "      <td>10.805656</td>\n",
       "      <td>5.511753</td>\n",
       "      <td>5.455972</td>\n",
       "    </tr>\n",
       "    <tr>\n",
       "      <th>1</th>\n",
       "      <td>2614</td>\n",
       "      <td>DAVENPORT</td>\n",
       "      <td>Scott</td>\n",
       "      <td>52807.0</td>\n",
       "      <td>52</td>\n",
       "      <td>142675.29</td>\n",
       "      <td>47695.76</td>\n",
       "      <td>2743.755577</td>\n",
       "      <td>917.226154</td>\n",
       "      <td>138.385344</td>\n",
       "      <td>...</td>\n",
       "      <td>12</td>\n",
       "      <td>36360.48</td>\n",
       "      <td>12131.12</td>\n",
       "      <td>3030.040000</td>\n",
       "      <td>1010.926667</td>\n",
       "      <td>133.188571</td>\n",
       "      <td>44.436337</td>\n",
       "      <td>7.705376</td>\n",
       "      <td>6.472363</td>\n",
       "      <td>5.056520</td>\n",
       "    </tr>\n",
       "    <tr>\n",
       "      <th>2</th>\n",
       "      <td>2106</td>\n",
       "      <td>CEDAR FALLS</td>\n",
       "      <td>Black Hawk</td>\n",
       "      <td>50613.0</td>\n",
       "      <td>52</td>\n",
       "      <td>146038.70</td>\n",
       "      <td>48742.20</td>\n",
       "      <td>2808.436538</td>\n",
       "      <td>937.350000</td>\n",
       "      <td>277.640114</td>\n",
       "      <td>...</td>\n",
       "      <td>12</td>\n",
       "      <td>30478.75</td>\n",
       "      <td>10174.68</td>\n",
       "      <td>2539.895833</td>\n",
       "      <td>847.890000</td>\n",
       "      <td>241.894841</td>\n",
       "      <td>80.751429</td>\n",
       "      <td>3.686858</td>\n",
       "      <td>5.997147</td>\n",
       "      <td>5.196508</td>\n",
       "    </tr>\n",
       "  </tbody>\n",
       "</table>\n",
       "<p>3 rows × 34 columns</p>\n",
       "</div>"
      ],
      "text/plain": [
       "   store         city      county  zip_code  days_open_15  2015_total_revenue  \\\n",
       "0   3717       SUMNER      Bremer   50674.0            50             9022.86   \n",
       "1   2614    DAVENPORT       Scott   52807.0            52           142675.29   \n",
       "2   2106  CEDAR FALLS  Black Hawk   50613.0            52           146038.70   \n",
       "\n",
       "   2015_profit  rev_per_day_x  profit_per_day_x  2015_avg_rev  \\\n",
       "0      3011.02     180.457200         60.220400     34.438397   \n",
       "1     47695.76    2743.755577        917.226154    138.385344   \n",
       "2     48742.20    2808.436538        937.350000    277.640114   \n",
       "\n",
       "              ...               days_open_y  Q1-16_total_revenue  \\\n",
       "0             ...                        11              2510.46   \n",
       "1             ...                        12             36360.48   \n",
       "2             ...                        12             30478.75   \n",
       "\n",
       "   Q1-16_profit  rev_per_day  profit_per_day  Q1-16_avg_rev  Q1-16_avg_profit  \\\n",
       "0        837.57   228.223636       76.142727      34.867500         11.632917   \n",
       "1      12131.12  3030.040000     1010.926667     133.188571         44.436337   \n",
       "2      10174.68  2539.895833      847.890000     241.894841         80.751429   \n",
       "\n",
       "   Q1-16_avg_price_per_ml  Q1-16_avg_profit_per_ml  \\\n",
       "0               10.805656                 5.511753   \n",
       "1                7.705376                 6.472363   \n",
       "2                3.686858                 5.997147   \n",
       "\n",
       "   Q1-16_avg_profit_per_bottle  \n",
       "0                     5.455972  \n",
       "1                     5.056520  \n",
       "2                     5.196508  \n",
       "\n",
       "[3 rows x 34 columns]"
      ]
     },
     "execution_count": 284,
     "metadata": {},
     "output_type": "execute_result"
    }
   ],
   "source": [
    "print stores_df.shape\n",
    "print pd.DataFrame(stores_df.columns)\n",
    "stores_df.head(3)"
   ]
  },
  {
   "cell_type": "code",
   "execution_count": null,
   "metadata": {
    "collapsed": true
   },
   "outputs": [],
   "source": []
  },
  {
   "cell_type": "code",
   "execution_count": null,
   "metadata": {
    "collapsed": true
   },
   "outputs": [],
   "source": []
  },
  {
   "cell_type": "code",
   "execution_count": null,
   "metadata": {
    "collapsed": true
   },
   "outputs": [],
   "source": []
  },
  {
   "cell_type": "code",
   "execution_count": null,
   "metadata": {
    "collapsed": true
   },
   "outputs": [],
   "source": []
  },
  {
   "cell_type": "code",
   "execution_count": null,
   "metadata": {
    "collapsed": true
   },
   "outputs": [],
   "source": []
  },
  {
   "cell_type": "code",
   "execution_count": null,
   "metadata": {
    "collapsed": true
   },
   "outputs": [],
   "source": []
  },
  {
   "cell_type": "code",
   "execution_count": 31,
   "metadata": {
    "collapsed": false
   },
   "outputs": [
    {
     "data": {
      "text/html": [
       "<div>\n",
       "<table border=\"1\" class=\"dataframe\">\n",
       "  <thead>\n",
       "    <tr style=\"text-align: right;\">\n",
       "      <th></th>\n",
       "      <th>store</th>\n",
       "      <th>sales</th>\n",
       "      <th>profit</th>\n",
       "      <th>bottles_sold</th>\n",
       "      <th>volume_sold</th>\n",
       "    </tr>\n",
       "  </thead>\n",
       "  <tbody>\n",
       "    <tr>\n",
       "      <th>0</th>\n",
       "      <td>2106</td>\n",
       "      <td>176517.45</td>\n",
       "      <td>58916.88</td>\n",
       "      <td>12573</td>\n",
       "      <td>11836.10</td>\n",
       "    </tr>\n",
       "    <tr>\n",
       "      <th>1</th>\n",
       "      <td>2113</td>\n",
       "      <td>11376.12</td>\n",
       "      <td>3802.53</td>\n",
       "      <td>830</td>\n",
       "      <td>836.85</td>\n",
       "    </tr>\n",
       "    <tr>\n",
       "      <th>2</th>\n",
       "      <td>2130</td>\n",
       "      <td>139440.02</td>\n",
       "      <td>46517.61</td>\n",
       "      <td>9144</td>\n",
       "      <td>8436.27</td>\n",
       "    </tr>\n",
       "  </tbody>\n",
       "</table>\n",
       "</div>"
      ],
      "text/plain": [
       "   store      sales    profit  bottles_sold  volume_sold\n",
       "0   2106  176517.45  58916.88         12573     11836.10\n",
       "1   2113   11376.12   3802.53           830       836.85\n",
       "2   2130  139440.02  46517.61          9144      8436.27"
      ]
     },
     "execution_count": 31,
     "metadata": {},
     "output_type": "execute_result"
    }
   ],
   "source": [
    "# 1: Create idf_sums\n",
    "idf_sums = idf.groupby(['store'])[['sales', 'profit', 'bottles_sold', 'volume_sold']].agg(np.sum)\n",
    "idf_sums.reset_index(inplace=True)\n",
    "idf_sums.head(3)"
   ]
  },
  {
   "cell_type": "code",
   "execution_count": 32,
   "metadata": {
    "collapsed": false
   },
   "outputs": [
    {
     "data": {
      "text/html": [
       "<div>\n",
       "<table border=\"1\" class=\"dataframe\">\n",
       "  <thead>\n",
       "    <tr style=\"text-align: right;\">\n",
       "      <th></th>\n",
       "      <th>store</th>\n",
       "      <th>rev_per_sale</th>\n",
       "      <th>prof_per_sale</th>\n",
       "      <th>bott_per_sale</th>\n",
       "      <th>vol_per_sale</th>\n",
       "    </tr>\n",
       "  </thead>\n",
       "  <tbody>\n",
       "    <tr>\n",
       "      <th>0</th>\n",
       "      <td>2106</td>\n",
       "      <td>270.732285</td>\n",
       "      <td>90.363313</td>\n",
       "      <td>19.283742</td>\n",
       "      <td>18.153528</td>\n",
       "    </tr>\n",
       "    <tr>\n",
       "      <th>1</th>\n",
       "      <td>2113</td>\n",
       "      <td>61.826739</td>\n",
       "      <td>20.665924</td>\n",
       "      <td>4.510870</td>\n",
       "      <td>4.548098</td>\n",
       "    </tr>\n",
       "    <tr>\n",
       "      <th>2</th>\n",
       "      <td>2130</td>\n",
       "      <td>274.488228</td>\n",
       "      <td>91.570098</td>\n",
       "      <td>18.000000</td>\n",
       "      <td>16.606831</td>\n",
       "    </tr>\n",
       "  </tbody>\n",
       "</table>\n",
       "</div>"
      ],
      "text/plain": [
       "   store  rev_per_sale  prof_per_sale  bott_per_sale  vol_per_sale\n",
       "0   2106    270.732285      90.363313      19.283742     18.153528\n",
       "1   2113     61.826739      20.665924       4.510870      4.548098\n",
       "2   2130    274.488228      91.570098      18.000000     16.606831"
      ]
     },
     "execution_count": 32,
     "metadata": {},
     "output_type": "execute_result"
    }
   ],
   "source": [
    "# 2: Create idf_means\n",
    "idf_means = idf.groupby(['store'])[['sales', 'profit', 'bottles_sold', 'volume_sold']].agg(np.mean)\n",
    "idf_means.reset_index(inplace=True)\n",
    "idf_means.columns = ['store', 'rev_per_sale', 'prof_per_sale', 'bott_per_sale', \\\n",
    "                    'vol_per_sale']\n",
    "idf_means.head(3)"
   ]
  },
  {
   "cell_type": "code",
   "execution_count": 55,
   "metadata": {
    "collapsed": false
   },
   "outputs": [
    {
     "data": {
      "text/html": [
       "<div>\n",
       "<table border=\"1\" class=\"dataframe\">\n",
       "  <thead>\n",
       "    <tr style=\"text-align: right;\">\n",
       "      <th></th>\n",
       "      <th>store</th>\n",
       "      <th>sales</th>\n",
       "      <th>profit</th>\n",
       "      <th>bottles_sold</th>\n",
       "      <th>volume_sold</th>\n",
       "      <th>rev_per_sale</th>\n",
       "      <th>prof_per_sale</th>\n",
       "      <th>bott_per_sale</th>\n",
       "      <th>vol_per_sale</th>\n",
       "    </tr>\n",
       "  </thead>\n",
       "  <tbody>\n",
       "    <tr>\n",
       "      <th>0</th>\n",
       "      <td>2106</td>\n",
       "      <td>176517.45</td>\n",
       "      <td>58916.88</td>\n",
       "      <td>12573</td>\n",
       "      <td>11836.10</td>\n",
       "      <td>270.732285</td>\n",
       "      <td>90.363313</td>\n",
       "      <td>19.283742</td>\n",
       "      <td>18.153528</td>\n",
       "    </tr>\n",
       "    <tr>\n",
       "      <th>1</th>\n",
       "      <td>2113</td>\n",
       "      <td>11376.12</td>\n",
       "      <td>3802.53</td>\n",
       "      <td>830</td>\n",
       "      <td>836.85</td>\n",
       "      <td>61.826739</td>\n",
       "      <td>20.665924</td>\n",
       "      <td>4.510870</td>\n",
       "      <td>4.548098</td>\n",
       "    </tr>\n",
       "    <tr>\n",
       "      <th>2</th>\n",
       "      <td>2130</td>\n",
       "      <td>139440.02</td>\n",
       "      <td>46517.61</td>\n",
       "      <td>9144</td>\n",
       "      <td>8436.27</td>\n",
       "      <td>274.488228</td>\n",
       "      <td>91.570098</td>\n",
       "      <td>18.000000</td>\n",
       "      <td>16.606831</td>\n",
       "    </tr>\n",
       "  </tbody>\n",
       "</table>\n",
       "</div>"
      ],
      "text/plain": [
       "   store      sales    profit  bottles_sold  volume_sold  rev_per_sale  \\\n",
       "0   2106  176517.45  58916.88         12573     11836.10    270.732285   \n",
       "1   2113   11376.12   3802.53           830       836.85     61.826739   \n",
       "2   2130  139440.02  46517.61          9144      8436.27    274.488228   \n",
       "\n",
       "   prof_per_sale  bott_per_sale  vol_per_sale  \n",
       "0      90.363313      19.283742     18.153528  \n",
       "1      20.665924       4.510870      4.548098  \n",
       "2      91.570098      18.000000     16.606831  "
      ]
     },
     "execution_count": 55,
     "metadata": {},
     "output_type": "execute_result"
    }
   ],
   "source": [
    "# 3: Merge sums and means into idf_sales\n",
    "idf_sales = idf_sums.merge(idf_means, how='inner', on='store')\n",
    "idf_sales.head(3)"
   ]
  },
  {
   "cell_type": "code",
   "execution_count": 206,
   "metadata": {
    "collapsed": false
   },
   "outputs": [
    {
     "data": {
      "text/html": [
       "<div>\n",
       "<table border=\"1\" class=\"dataframe\">\n",
       "  <thead>\n",
       "    <tr style=\"text-align: right;\">\n",
       "      <th></th>\n",
       "      <th>date</th>\n",
       "      <th>store</th>\n",
       "      <th>city</th>\n",
       "      <th>zip_code</th>\n",
       "      <th>county</th>\n",
       "      <th>category_name</th>\n",
       "      <th>vendor_number</th>\n",
       "      <th>item_description</th>\n",
       "      <th>bottle_volume</th>\n",
       "      <th>state_bottle_cost</th>\n",
       "      <th>...</th>\n",
       "      <th>bottles_sold</th>\n",
       "      <th>sales</th>\n",
       "      <th>volume_sold</th>\n",
       "      <th>year</th>\n",
       "      <th>quarter</th>\n",
       "      <th>month</th>\n",
       "      <th>profit</th>\n",
       "      <th>profit_per_bottle</th>\n",
       "      <th>avg_bottle_price</th>\n",
       "      <th>margin_percent</th>\n",
       "    </tr>\n",
       "  </thead>\n",
       "  <tbody>\n",
       "    <tr>\n",
       "      <th>0</th>\n",
       "      <td>2015-11-04</td>\n",
       "      <td>3717</td>\n",
       "      <td>SUMNER</td>\n",
       "      <td>50674.0</td>\n",
       "      <td>Bremer</td>\n",
       "      <td>APRICOT BRANDIES</td>\n",
       "      <td>55</td>\n",
       "      <td>Mr. Boston Apricot Brandy</td>\n",
       "      <td>750</td>\n",
       "      <td>4.50</td>\n",
       "      <td>...</td>\n",
       "      <td>12</td>\n",
       "      <td>81.00</td>\n",
       "      <td>9.0</td>\n",
       "      <td>2015</td>\n",
       "      <td>Q4-2015</td>\n",
       "      <td>11-2015</td>\n",
       "      <td>27.00</td>\n",
       "      <td>2.25</td>\n",
       "      <td>6.75</td>\n",
       "      <td>0.333333</td>\n",
       "    </tr>\n",
       "    <tr>\n",
       "      <th>1</th>\n",
       "      <td>2016-03-02</td>\n",
       "      <td>2614</td>\n",
       "      <td>DAVENPORT</td>\n",
       "      <td>52807.0</td>\n",
       "      <td>Scott</td>\n",
       "      <td>BLENDED WHISKIES</td>\n",
       "      <td>395</td>\n",
       "      <td>Tin Cup</td>\n",
       "      <td>750</td>\n",
       "      <td>13.75</td>\n",
       "      <td>...</td>\n",
       "      <td>2</td>\n",
       "      <td>41.26</td>\n",
       "      <td>1.5</td>\n",
       "      <td>2016</td>\n",
       "      <td>Q1-2016</td>\n",
       "      <td>03-2016</td>\n",
       "      <td>13.76</td>\n",
       "      <td>6.88</td>\n",
       "      <td>20.63</td>\n",
       "      <td>0.333495</td>\n",
       "    </tr>\n",
       "    <tr>\n",
       "      <th>2</th>\n",
       "      <td>2016-02-11</td>\n",
       "      <td>2106</td>\n",
       "      <td>CEDAR FALLS</td>\n",
       "      <td>50613.0</td>\n",
       "      <td>Black Hawk</td>\n",
       "      <td>STRAIGHT BOURBON WHISKIES</td>\n",
       "      <td>65</td>\n",
       "      <td>Jim Beam</td>\n",
       "      <td>1000</td>\n",
       "      <td>12.59</td>\n",
       "      <td>...</td>\n",
       "      <td>24</td>\n",
       "      <td>453.36</td>\n",
       "      <td>24.0</td>\n",
       "      <td>2016</td>\n",
       "      <td>Q1-2016</td>\n",
       "      <td>02-2016</td>\n",
       "      <td>151.20</td>\n",
       "      <td>6.30</td>\n",
       "      <td>18.89</td>\n",
       "      <td>0.333510</td>\n",
       "    </tr>\n",
       "    <tr>\n",
       "      <th>3</th>\n",
       "      <td>2016-02-03</td>\n",
       "      <td>2501</td>\n",
       "      <td>AMES</td>\n",
       "      <td>50010.0</td>\n",
       "      <td>Story</td>\n",
       "      <td>AMERICAN COCKTAILS</td>\n",
       "      <td>395</td>\n",
       "      <td>1800 Ultimate Margarita</td>\n",
       "      <td>1750</td>\n",
       "      <td>9.50</td>\n",
       "      <td>...</td>\n",
       "      <td>6</td>\n",
       "      <td>85.50</td>\n",
       "      <td>10.5</td>\n",
       "      <td>2016</td>\n",
       "      <td>Q1-2016</td>\n",
       "      <td>02-2016</td>\n",
       "      <td>28.50</td>\n",
       "      <td>4.75</td>\n",
       "      <td>14.25</td>\n",
       "      <td>0.333333</td>\n",
       "    </tr>\n",
       "    <tr>\n",
       "      <th>4</th>\n",
       "      <td>2015-08-18</td>\n",
       "      <td>3654</td>\n",
       "      <td>BELMOND</td>\n",
       "      <td>50421.0</td>\n",
       "      <td>Wright</td>\n",
       "      <td>VODKA 80 PROOF</td>\n",
       "      <td>297</td>\n",
       "      <td>Five O'clock Vodka</td>\n",
       "      <td>1750</td>\n",
       "      <td>7.20</td>\n",
       "      <td>...</td>\n",
       "      <td>12</td>\n",
       "      <td>129.60</td>\n",
       "      <td>21.0</td>\n",
       "      <td>2015</td>\n",
       "      <td>Q3-2015</td>\n",
       "      <td>08-2015</td>\n",
       "      <td>43.20</td>\n",
       "      <td>3.60</td>\n",
       "      <td>10.80</td>\n",
       "      <td>0.333333</td>\n",
       "    </tr>\n",
       "  </tbody>\n",
       "</table>\n",
       "<p>5 rows × 21 columns</p>\n",
       "</div>"
      ],
      "text/plain": [
       "        date  store         city  zip_code      county  \\\n",
       "0 2015-11-04   3717       SUMNER   50674.0      Bremer   \n",
       "1 2016-03-02   2614    DAVENPORT   52807.0       Scott   \n",
       "2 2016-02-11   2106  CEDAR FALLS   50613.0  Black Hawk   \n",
       "3 2016-02-03   2501         AMES   50010.0       Story   \n",
       "4 2015-08-18   3654      BELMOND   50421.0      Wright   \n",
       "\n",
       "               category_name  vendor_number           item_description  \\\n",
       "0           APRICOT BRANDIES             55  Mr. Boston Apricot Brandy   \n",
       "1           BLENDED WHISKIES            395                    Tin Cup   \n",
       "2  STRAIGHT BOURBON WHISKIES             65                   Jim Beam   \n",
       "3         AMERICAN COCKTAILS            395    1800 Ultimate Margarita   \n",
       "4             VODKA 80 PROOF            297         Five O'clock Vodka   \n",
       "\n",
       "   bottle_volume  state_bottle_cost       ...        bottles_sold   sales  \\\n",
       "0            750               4.50       ...                  12   81.00   \n",
       "1            750              13.75       ...                   2   41.26   \n",
       "2           1000              12.59       ...                  24  453.36   \n",
       "3           1750               9.50       ...                   6   85.50   \n",
       "4           1750               7.20       ...                  12  129.60   \n",
       "\n",
       "   volume_sold  year  quarter    month  profit  profit_per_bottle  \\\n",
       "0          9.0  2015  Q4-2015  11-2015   27.00               2.25   \n",
       "1          1.5  2016  Q1-2016  03-2016   13.76               6.88   \n",
       "2         24.0  2016  Q1-2016  02-2016  151.20               6.30   \n",
       "3         10.5  2016  Q1-2016  02-2016   28.50               4.75   \n",
       "4         21.0  2015  Q3-2015  08-2015   43.20               3.60   \n",
       "\n",
       "   avg_bottle_price  margin_percent  \n",
       "0              6.75        0.333333  \n",
       "1             20.63        0.333495  \n",
       "2             18.89        0.333510  \n",
       "3             14.25        0.333333  \n",
       "4             10.80        0.333333  \n",
       "\n",
       "[5 rows x 21 columns]"
      ]
     },
     "execution_count": 206,
     "metadata": {},
     "output_type": "execute_result"
    }
   ],
   "source": [
    "iowa.head()"
   ]
  },
  {
   "cell_type": "code",
   "execution_count": null,
   "metadata": {
    "collapsed": true
   },
   "outputs": [],
   "source": [
    "# 4: Create new columns in idf for daily averages\n",
    "idf['sales_pd_15'] = idf['sales'] / idf['days_open_15']\n",
    "idf['profit_pd_15'] = idf['profit'] / idf['days_open_15']\n",
    "idf['bottl_pd_15'] = idf['bottles_sold'] / idf['days_open_15']\n",
    "idf['vol_pd_15'] = idf['volume_sold'] / idf['days_open_15']\n",
    "\n",
    "idf['sales_pd_16'] = idf['sales'] / idf['days_open_16']\n",
    "idf['profit_pd_16'] = idf['profit'] / idf['days_open_16']\n",
    "idf['bottles_pd_16'] = idf['bottles_sold'] / idf['days_open_16']\n",
    "idf['vol_pd_16'] = idf['volume_sold'] / idf['days_open_16']"
   ]
  },
  {
   "cell_type": "code",
   "execution_count": 128,
   "metadata": {
    "collapsed": false
   },
   "outputs": [
    {
     "data": {
      "text/html": [
       "<div>\n",
       "<table border=\"1\" class=\"dataframe\">\n",
       "  <thead>\n",
       "    <tr style=\"text-align: right;\">\n",
       "      <th></th>\n",
       "      <th>store</th>\n",
       "      <th>sales_pd_15</th>\n",
       "      <th>profit_pd_15</th>\n",
       "      <th>vol_pd_15</th>\n",
       "    </tr>\n",
       "  </thead>\n",
       "  <tbody>\n",
       "    <tr>\n",
       "      <th>0</th>\n",
       "      <td>2106</td>\n",
       "      <td>3394.566346</td>\n",
       "      <td>1133.016923</td>\n",
       "      <td>227.617308</td>\n",
       "    </tr>\n",
       "    <tr>\n",
       "      <th>1</th>\n",
       "      <td>2113</td>\n",
       "      <td>242.045106</td>\n",
       "      <td>80.904894</td>\n",
       "      <td>17.805319</td>\n",
       "    </tr>\n",
       "    <tr>\n",
       "      <th>2</th>\n",
       "      <td>2130</td>\n",
       "      <td>2681.538846</td>\n",
       "      <td>894.569423</td>\n",
       "      <td>162.235962</td>\n",
       "    </tr>\n",
       "  </tbody>\n",
       "</table>\n",
       "</div>"
      ],
      "text/plain": [
       "   store  sales_pd_15  profit_pd_15   vol_pd_15\n",
       "0   2106  3394.566346   1133.016923  227.617308\n",
       "1   2113   242.045106     80.904894   17.805319\n",
       "2   2130  2681.538846    894.569423  162.235962"
      ]
     },
     "execution_count": 128,
     "metadata": {},
     "output_type": "execute_result"
    }
   ],
   "source": [
    "# 5: Separate daily average columns into own df\n",
    "idf_pd = idf.groupby(['store'])[['sales_pd_15', 'profit_pd_15', 'vol_pd_15']].agg(np.sum)\n",
    "idf_pd.reset_index(inplace=True)\n",
    "idf_pd.head(3)"
   ]
  },
  {
   "cell_type": "code",
   "execution_count": 130,
   "metadata": {
    "collapsed": false
   },
   "outputs": [
    {
     "data": {
      "text/html": [
       "<div>\n",
       "<table border=\"1\" class=\"dataframe\">\n",
       "  <thead>\n",
       "    <tr style=\"text-align: right;\">\n",
       "      <th></th>\n",
       "      <th>store</th>\n",
       "      <th>sales</th>\n",
       "      <th>profit</th>\n",
       "      <th>bottles_sold</th>\n",
       "      <th>volume_sold</th>\n",
       "      <th>rev_per_sale</th>\n",
       "      <th>prof_per_sale</th>\n",
       "      <th>bott_per_sale</th>\n",
       "      <th>vol_per_sale</th>\n",
       "      <th>sales_pd_15</th>\n",
       "      <th>profit_pd_15</th>\n",
       "      <th>vol_pd_15</th>\n",
       "    </tr>\n",
       "  </thead>\n",
       "  <tbody>\n",
       "    <tr>\n",
       "      <th>0</th>\n",
       "      <td>2106</td>\n",
       "      <td>176517.45</td>\n",
       "      <td>58916.88</td>\n",
       "      <td>12573</td>\n",
       "      <td>11836.10</td>\n",
       "      <td>270.732285</td>\n",
       "      <td>90.363313</td>\n",
       "      <td>19.283742</td>\n",
       "      <td>18.153528</td>\n",
       "      <td>3394.566346</td>\n",
       "      <td>1133.016923</td>\n",
       "      <td>227.617308</td>\n",
       "    </tr>\n",
       "    <tr>\n",
       "      <th>1</th>\n",
       "      <td>2113</td>\n",
       "      <td>11376.12</td>\n",
       "      <td>3802.53</td>\n",
       "      <td>830</td>\n",
       "      <td>836.85</td>\n",
       "      <td>61.826739</td>\n",
       "      <td>20.665924</td>\n",
       "      <td>4.510870</td>\n",
       "      <td>4.548098</td>\n",
       "      <td>242.045106</td>\n",
       "      <td>80.904894</td>\n",
       "      <td>17.805319</td>\n",
       "    </tr>\n",
       "    <tr>\n",
       "      <th>2</th>\n",
       "      <td>2130</td>\n",
       "      <td>139440.02</td>\n",
       "      <td>46517.61</td>\n",
       "      <td>9144</td>\n",
       "      <td>8436.27</td>\n",
       "      <td>274.488228</td>\n",
       "      <td>91.570098</td>\n",
       "      <td>18.000000</td>\n",
       "      <td>16.606831</td>\n",
       "      <td>2681.538846</td>\n",
       "      <td>894.569423</td>\n",
       "      <td>162.235962</td>\n",
       "    </tr>\n",
       "  </tbody>\n",
       "</table>\n",
       "</div>"
      ],
      "text/plain": [
       "   store      sales    profit  bottles_sold  volume_sold  rev_per_sale  \\\n",
       "0   2106  176517.45  58916.88         12573     11836.10    270.732285   \n",
       "1   2113   11376.12   3802.53           830       836.85     61.826739   \n",
       "2   2130  139440.02  46517.61          9144      8436.27    274.488228   \n",
       "\n",
       "   prof_per_sale  bott_per_sale  vol_per_sale  sales_pd_15  profit_pd_15  \\\n",
       "0      90.363313      19.283742     18.153528  3394.566346   1133.016923   \n",
       "1      20.665924       4.510870      4.548098   242.045106     80.904894   \n",
       "2      91.570098      18.000000     16.606831  2681.538846    894.569423   \n",
       "\n",
       "    vol_pd_15  \n",
       "0  227.617308  \n",
       "1   17.805319  \n",
       "2  162.235962  "
      ]
     },
     "execution_count": 130,
     "metadata": {},
     "output_type": "execute_result"
    }
   ],
   "source": [
    "# 6: Merge sales and daily average dfs\n",
    "idf_metrics = idf_sales.merge(idf_pd, how='inner', on='store')\n",
    "idf_metrics.head(3)"
   ]
  },
  {
   "cell_type": "code",
   "execution_count": 131,
   "metadata": {
    "collapsed": false
   },
   "outputs": [
    {
     "data": {
      "text/html": [
       "<div>\n",
       "<table border=\"1\" class=\"dataframe\">\n",
       "  <thead>\n",
       "    <tr style=\"text-align: right;\">\n",
       "      <th></th>\n",
       "      <th>store</th>\n",
       "      <th>city</th>\n",
       "      <th>county</th>\n",
       "      <th>zip_code</th>\n",
       "    </tr>\n",
       "  </thead>\n",
       "  <tbody>\n",
       "    <tr>\n",
       "      <th>0</th>\n",
       "      <td>2106</td>\n",
       "      <td>CEDAR FALLS</td>\n",
       "      <td>Black Hawk</td>\n",
       "      <td>50613.0</td>\n",
       "    </tr>\n",
       "    <tr>\n",
       "      <th>1</th>\n",
       "      <td>2113</td>\n",
       "      <td>GOWRIE</td>\n",
       "      <td>Webster</td>\n",
       "      <td>50543.0</td>\n",
       "    </tr>\n",
       "    <tr>\n",
       "      <th>2</th>\n",
       "      <td>2130</td>\n",
       "      <td>WATERLOO</td>\n",
       "      <td>Black Hawk</td>\n",
       "      <td>50703.0</td>\n",
       "    </tr>\n",
       "  </tbody>\n",
       "</table>\n",
       "</div>"
      ],
      "text/plain": [
       "   store         city      county  zip_code\n",
       "0   2106  CEDAR FALLS  Black Hawk   50613.0\n",
       "1   2113       GOWRIE     Webster   50543.0\n",
       "2   2130     WATERLOO  Black Hawk   50703.0"
      ]
     },
     "execution_count": 131,
     "metadata": {},
     "output_type": "execute_result"
    }
   ],
   "source": [
    "# 7: Create location only df\n",
    "idf_location = pd.pivot_table(idf, values=['sales'], index=['store', 'city', 'county', 'zip_code'], aggfunc=np.sum)\n",
    "idf_location.reset_index(inplace=True)\n",
    "idf_location.drop('sales', axis=1, inplace=True)\n",
    "idf_location.head(3)"
   ]
  },
  {
   "cell_type": "code",
   "execution_count": 132,
   "metadata": {
    "collapsed": false
   },
   "outputs": [
    {
     "data": {
      "text/html": [
       "<div>\n",
       "<table border=\"1\" class=\"dataframe\">\n",
       "  <thead>\n",
       "    <tr style=\"text-align: right;\">\n",
       "      <th></th>\n",
       "      <th>store</th>\n",
       "      <th>sales</th>\n",
       "      <th>profit</th>\n",
       "      <th>bottles_sold</th>\n",
       "      <th>volume_sold</th>\n",
       "      <th>rev_per_sale</th>\n",
       "      <th>prof_per_sale</th>\n",
       "      <th>bott_per_sale</th>\n",
       "      <th>vol_per_sale</th>\n",
       "      <th>sales_pd_15</th>\n",
       "      <th>profit_pd_15</th>\n",
       "      <th>vol_pd_15</th>\n",
       "      <th>city</th>\n",
       "      <th>county</th>\n",
       "      <th>zip_code</th>\n",
       "    </tr>\n",
       "  </thead>\n",
       "  <tbody>\n",
       "    <tr>\n",
       "      <th>0</th>\n",
       "      <td>2106</td>\n",
       "      <td>176517.45</td>\n",
       "      <td>58916.88</td>\n",
       "      <td>12573</td>\n",
       "      <td>11836.10</td>\n",
       "      <td>270.732285</td>\n",
       "      <td>90.363313</td>\n",
       "      <td>19.283742</td>\n",
       "      <td>18.153528</td>\n",
       "      <td>3394.566346</td>\n",
       "      <td>1133.016923</td>\n",
       "      <td>227.617308</td>\n",
       "      <td>CEDAR FALLS</td>\n",
       "      <td>Black Hawk</td>\n",
       "      <td>50613.0</td>\n",
       "    </tr>\n",
       "    <tr>\n",
       "      <th>1</th>\n",
       "      <td>2113</td>\n",
       "      <td>11376.12</td>\n",
       "      <td>3802.53</td>\n",
       "      <td>830</td>\n",
       "      <td>836.85</td>\n",
       "      <td>61.826739</td>\n",
       "      <td>20.665924</td>\n",
       "      <td>4.510870</td>\n",
       "      <td>4.548098</td>\n",
       "      <td>242.045106</td>\n",
       "      <td>80.904894</td>\n",
       "      <td>17.805319</td>\n",
       "      <td>GOWRIE</td>\n",
       "      <td>Webster</td>\n",
       "      <td>50543.0</td>\n",
       "    </tr>\n",
       "    <tr>\n",
       "      <th>2</th>\n",
       "      <td>2130</td>\n",
       "      <td>139440.02</td>\n",
       "      <td>46517.61</td>\n",
       "      <td>9144</td>\n",
       "      <td>8436.27</td>\n",
       "      <td>274.488228</td>\n",
       "      <td>91.570098</td>\n",
       "      <td>18.000000</td>\n",
       "      <td>16.606831</td>\n",
       "      <td>2681.538846</td>\n",
       "      <td>894.569423</td>\n",
       "      <td>162.235962</td>\n",
       "      <td>WATERLOO</td>\n",
       "      <td>Black Hawk</td>\n",
       "      <td>50703.0</td>\n",
       "    </tr>\n",
       "  </tbody>\n",
       "</table>\n",
       "</div>"
      ],
      "text/plain": [
       "   store      sales    profit  bottles_sold  volume_sold  rev_per_sale  \\\n",
       "0   2106  176517.45  58916.88         12573     11836.10    270.732285   \n",
       "1   2113   11376.12   3802.53           830       836.85     61.826739   \n",
       "2   2130  139440.02  46517.61          9144      8436.27    274.488228   \n",
       "\n",
       "   prof_per_sale  bott_per_sale  vol_per_sale  sales_pd_15  profit_pd_15  \\\n",
       "0      90.363313      19.283742     18.153528  3394.566346   1133.016923   \n",
       "1      20.665924       4.510870      4.548098   242.045106     80.904894   \n",
       "2      91.570098      18.000000     16.606831  2681.538846    894.569423   \n",
       "\n",
       "    vol_pd_15         city      county  zip_code  \n",
       "0  227.617308  CEDAR FALLS  Black Hawk   50613.0  \n",
       "1   17.805319       GOWRIE     Webster   50543.0  \n",
       "2  162.235962     WATERLOO  Black Hawk   50703.0  "
      ]
     },
     "execution_count": 132,
     "metadata": {},
     "output_type": "execute_result"
    }
   ],
   "source": [
    "# 8: Create new df by merging metrics and location\n",
    "idf_new= idf_metrics.merge(idf_location, how='inner', on='store')\n",
    "idf_new.head(3)"
   ]
  },
  {
   "cell_type": "code",
   "execution_count": 138,
   "metadata": {
    "collapsed": false
   },
   "outputs": [
    {
     "data": {
      "text/html": [
       "<div>\n",
       "<table border=\"1\" class=\"dataframe\">\n",
       "  <thead>\n",
       "    <tr style=\"text-align: right;\">\n",
       "      <th></th>\n",
       "      <th>store</th>\n",
       "      <th>sales</th>\n",
       "      <th>profit</th>\n",
       "      <th>bottles_sold</th>\n",
       "      <th>volume_sold</th>\n",
       "      <th>rev_per_sale</th>\n",
       "      <th>prof_per_sale</th>\n",
       "      <th>bott_per_sale</th>\n",
       "      <th>vol_per_sale</th>\n",
       "      <th>sales_pd_15</th>\n",
       "      <th>profit_pd_15</th>\n",
       "      <th>vol_pd_15</th>\n",
       "      <th>zip_code</th>\n",
       "    </tr>\n",
       "  </thead>\n",
       "  <tbody>\n",
       "    <tr>\n",
       "      <th>store</th>\n",
       "      <td>1.000000</td>\n",
       "      <td>-0.356179</td>\n",
       "      <td>-0.356712</td>\n",
       "      <td>-0.375684</td>\n",
       "      <td>-0.392702</td>\n",
       "      <td>0.025560</td>\n",
       "      <td>0.025050</td>\n",
       "      <td>0.153620</td>\n",
       "      <td>-0.048517</td>\n",
       "      <td>-0.411310</td>\n",
       "      <td>-0.411707</td>\n",
       "      <td>-0.452273</td>\n",
       "      <td>0.028197</td>\n",
       "    </tr>\n",
       "    <tr>\n",
       "      <th>sales</th>\n",
       "      <td>-0.356179</td>\n",
       "      <td>1.000000</td>\n",
       "      <td>0.999997</td>\n",
       "      <td>0.987358</td>\n",
       "      <td>0.992854</td>\n",
       "      <td>0.415664</td>\n",
       "      <td>0.415275</td>\n",
       "      <td>0.318249</td>\n",
       "      <td>0.411245</td>\n",
       "      <td>0.879709</td>\n",
       "      <td>0.879320</td>\n",
       "      <td>0.858607</td>\n",
       "      <td>0.017956</td>\n",
       "    </tr>\n",
       "    <tr>\n",
       "      <th>profit</th>\n",
       "      <td>-0.356712</td>\n",
       "      <td>0.999997</td>\n",
       "      <td>1.000000</td>\n",
       "      <td>0.987354</td>\n",
       "      <td>0.992994</td>\n",
       "      <td>0.416130</td>\n",
       "      <td>0.415750</td>\n",
       "      <td>0.318548</td>\n",
       "      <td>0.411961</td>\n",
       "      <td>0.880147</td>\n",
       "      <td>0.879765</td>\n",
       "      <td>0.859213</td>\n",
       "      <td>0.017846</td>\n",
       "    </tr>\n",
       "    <tr>\n",
       "      <th>bottles_sold</th>\n",
       "      <td>-0.375684</td>\n",
       "      <td>0.987358</td>\n",
       "      <td>0.987354</td>\n",
       "      <td>1.000000</td>\n",
       "      <td>0.985021</td>\n",
       "      <td>0.355049</td>\n",
       "      <td>0.354626</td>\n",
       "      <td>0.312296</td>\n",
       "      <td>0.355139</td>\n",
       "      <td>0.862937</td>\n",
       "      <td>0.862524</td>\n",
       "      <td>0.848765</td>\n",
       "      <td>0.029446</td>\n",
       "    </tr>\n",
       "    <tr>\n",
       "      <th>volume_sold</th>\n",
       "      <td>-0.392702</td>\n",
       "      <td>0.992854</td>\n",
       "      <td>0.992994</td>\n",
       "      <td>0.985021</td>\n",
       "      <td>1.000000</td>\n",
       "      <td>0.406998</td>\n",
       "      <td>0.406844</td>\n",
       "      <td>0.313957</td>\n",
       "      <td>0.430090</td>\n",
       "      <td>0.894143</td>\n",
       "      <td>0.893933</td>\n",
       "      <td>0.891963</td>\n",
       "      <td>0.020712</td>\n",
       "    </tr>\n",
       "    <tr>\n",
       "      <th>rev_per_sale</th>\n",
       "      <td>0.025560</td>\n",
       "      <td>0.415664</td>\n",
       "      <td>0.416130</td>\n",
       "      <td>0.355049</td>\n",
       "      <td>0.406998</td>\n",
       "      <td>1.000000</td>\n",
       "      <td>0.999982</td>\n",
       "      <td>0.798705</td>\n",
       "      <td>0.915883</td>\n",
       "      <td>0.610097</td>\n",
       "      <td>0.610489</td>\n",
       "      <td>0.557134</td>\n",
       "      <td>0.012603</td>\n",
       "    </tr>\n",
       "    <tr>\n",
       "      <th>prof_per_sale</th>\n",
       "      <td>0.025050</td>\n",
       "      <td>0.415275</td>\n",
       "      <td>0.415750</td>\n",
       "      <td>0.354626</td>\n",
       "      <td>0.406844</td>\n",
       "      <td>0.999982</td>\n",
       "      <td>1.000000</td>\n",
       "      <td>0.798673</td>\n",
       "      <td>0.917082</td>\n",
       "      <td>0.609852</td>\n",
       "      <td>0.610262</td>\n",
       "      <td>0.557322</td>\n",
       "      <td>0.012048</td>\n",
       "    </tr>\n",
       "    <tr>\n",
       "      <th>bott_per_sale</th>\n",
       "      <td>0.153620</td>\n",
       "      <td>0.318249</td>\n",
       "      <td>0.318548</td>\n",
       "      <td>0.312296</td>\n",
       "      <td>0.313957</td>\n",
       "      <td>0.798705</td>\n",
       "      <td>0.798673</td>\n",
       "      <td>1.000000</td>\n",
       "      <td>0.793605</td>\n",
       "      <td>0.459174</td>\n",
       "      <td>0.459420</td>\n",
       "      <td>0.432367</td>\n",
       "      <td>0.048823</td>\n",
       "    </tr>\n",
       "    <tr>\n",
       "      <th>vol_per_sale</th>\n",
       "      <td>-0.048517</td>\n",
       "      <td>0.411245</td>\n",
       "      <td>0.411961</td>\n",
       "      <td>0.355139</td>\n",
       "      <td>0.430090</td>\n",
       "      <td>0.915883</td>\n",
       "      <td>0.917082</td>\n",
       "      <td>0.793605</td>\n",
       "      <td>1.000000</td>\n",
       "      <td>0.591649</td>\n",
       "      <td>0.592512</td>\n",
       "      <td>0.597645</td>\n",
       "      <td>-0.018786</td>\n",
       "    </tr>\n",
       "    <tr>\n",
       "      <th>sales_pd_15</th>\n",
       "      <td>-0.411310</td>\n",
       "      <td>0.879709</td>\n",
       "      <td>0.880147</td>\n",
       "      <td>0.862937</td>\n",
       "      <td>0.894143</td>\n",
       "      <td>0.610097</td>\n",
       "      <td>0.609852</td>\n",
       "      <td>0.459174</td>\n",
       "      <td>0.591649</td>\n",
       "      <td>1.000000</td>\n",
       "      <td>0.999994</td>\n",
       "      <td>0.983995</td>\n",
       "      <td>0.045267</td>\n",
       "    </tr>\n",
       "    <tr>\n",
       "      <th>profit_pd_15</th>\n",
       "      <td>-0.411707</td>\n",
       "      <td>0.879320</td>\n",
       "      <td>0.879765</td>\n",
       "      <td>0.862524</td>\n",
       "      <td>0.893933</td>\n",
       "      <td>0.610489</td>\n",
       "      <td>0.610262</td>\n",
       "      <td>0.459420</td>\n",
       "      <td>0.592512</td>\n",
       "      <td>0.999994</td>\n",
       "      <td>1.000000</td>\n",
       "      <td>0.984245</td>\n",
       "      <td>0.045000</td>\n",
       "    </tr>\n",
       "    <tr>\n",
       "      <th>vol_pd_15</th>\n",
       "      <td>-0.452273</td>\n",
       "      <td>0.858607</td>\n",
       "      <td>0.859213</td>\n",
       "      <td>0.848765</td>\n",
       "      <td>0.891963</td>\n",
       "      <td>0.557134</td>\n",
       "      <td>0.557322</td>\n",
       "      <td>0.432367</td>\n",
       "      <td>0.597645</td>\n",
       "      <td>0.983995</td>\n",
       "      <td>0.984245</td>\n",
       "      <td>1.000000</td>\n",
       "      <td>0.042845</td>\n",
       "    </tr>\n",
       "    <tr>\n",
       "      <th>zip_code</th>\n",
       "      <td>0.028197</td>\n",
       "      <td>0.017956</td>\n",
       "      <td>0.017846</td>\n",
       "      <td>0.029446</td>\n",
       "      <td>0.020712</td>\n",
       "      <td>0.012603</td>\n",
       "      <td>0.012048</td>\n",
       "      <td>0.048823</td>\n",
       "      <td>-0.018786</td>\n",
       "      <td>0.045267</td>\n",
       "      <td>0.045000</td>\n",
       "      <td>0.042845</td>\n",
       "      <td>1.000000</td>\n",
       "    </tr>\n",
       "  </tbody>\n",
       "</table>\n",
       "</div>"
      ],
      "text/plain": [
       "                  store     sales    profit  bottles_sold  volume_sold  \\\n",
       "store          1.000000 -0.356179 -0.356712     -0.375684    -0.392702   \n",
       "sales         -0.356179  1.000000  0.999997      0.987358     0.992854   \n",
       "profit        -0.356712  0.999997  1.000000      0.987354     0.992994   \n",
       "bottles_sold  -0.375684  0.987358  0.987354      1.000000     0.985021   \n",
       "volume_sold   -0.392702  0.992854  0.992994      0.985021     1.000000   \n",
       "rev_per_sale   0.025560  0.415664  0.416130      0.355049     0.406998   \n",
       "prof_per_sale  0.025050  0.415275  0.415750      0.354626     0.406844   \n",
       "bott_per_sale  0.153620  0.318249  0.318548      0.312296     0.313957   \n",
       "vol_per_sale  -0.048517  0.411245  0.411961      0.355139     0.430090   \n",
       "sales_pd_15   -0.411310  0.879709  0.880147      0.862937     0.894143   \n",
       "profit_pd_15  -0.411707  0.879320  0.879765      0.862524     0.893933   \n",
       "vol_pd_15     -0.452273  0.858607  0.859213      0.848765     0.891963   \n",
       "zip_code       0.028197  0.017956  0.017846      0.029446     0.020712   \n",
       "\n",
       "               rev_per_sale  prof_per_sale  bott_per_sale  vol_per_sale  \\\n",
       "store              0.025560       0.025050       0.153620     -0.048517   \n",
       "sales              0.415664       0.415275       0.318249      0.411245   \n",
       "profit             0.416130       0.415750       0.318548      0.411961   \n",
       "bottles_sold       0.355049       0.354626       0.312296      0.355139   \n",
       "volume_sold        0.406998       0.406844       0.313957      0.430090   \n",
       "rev_per_sale       1.000000       0.999982       0.798705      0.915883   \n",
       "prof_per_sale      0.999982       1.000000       0.798673      0.917082   \n",
       "bott_per_sale      0.798705       0.798673       1.000000      0.793605   \n",
       "vol_per_sale       0.915883       0.917082       0.793605      1.000000   \n",
       "sales_pd_15        0.610097       0.609852       0.459174      0.591649   \n",
       "profit_pd_15       0.610489       0.610262       0.459420      0.592512   \n",
       "vol_pd_15          0.557134       0.557322       0.432367      0.597645   \n",
       "zip_code           0.012603       0.012048       0.048823     -0.018786   \n",
       "\n",
       "               sales_pd_15  profit_pd_15  vol_pd_15  zip_code  \n",
       "store            -0.411310     -0.411707  -0.452273  0.028197  \n",
       "sales             0.879709      0.879320   0.858607  0.017956  \n",
       "profit            0.880147      0.879765   0.859213  0.017846  \n",
       "bottles_sold      0.862937      0.862524   0.848765  0.029446  \n",
       "volume_sold       0.894143      0.893933   0.891963  0.020712  \n",
       "rev_per_sale      0.610097      0.610489   0.557134  0.012603  \n",
       "prof_per_sale     0.609852      0.610262   0.557322  0.012048  \n",
       "bott_per_sale     0.459174      0.459420   0.432367  0.048823  \n",
       "vol_per_sale      0.591649      0.592512   0.597645 -0.018786  \n",
       "sales_pd_15       1.000000      0.999994   0.983995  0.045267  \n",
       "profit_pd_15      0.999994      1.000000   0.984245  0.045000  \n",
       "vol_pd_15         0.983995      0.984245   1.000000  0.042845  \n",
       "zip_code          0.045267      0.045000   0.042845  1.000000  "
      ]
     },
     "execution_count": 138,
     "metadata": {},
     "output_type": "execute_result"
    }
   ],
   "source": [
    "# View correlations\n",
    "col_list = idf_new.columns\n",
    "idf_new.loc[:,col_list].corr()"
   ]
  },
  {
   "cell_type": "code",
   "execution_count": 144,
   "metadata": {
    "collapsed": false
   },
   "outputs": [
    {
     "data": {
      "text/plain": [
       "store           -0.356179\n",
       "sales            1.000000\n",
       "profit           0.999997\n",
       "bottles_sold     0.987358\n",
       "volume_sold      0.992854\n",
       "rev_per_sale     0.415664\n",
       "prof_per_sale    0.415275\n",
       "bott_per_sale    0.318249\n",
       "vol_per_sale     0.411245\n",
       "sales_pd_15      0.879709\n",
       "profit_pd_15     0.879320\n",
       "vol_pd_15        0.858607\n",
       "zip_code         0.017956\n",
       "Name: sales, dtype: float64"
      ]
     },
     "execution_count": 144,
     "metadata": {},
     "output_type": "execute_result"
    }
   ],
   "source": [
    "idf_new.loc[:,col_list].corr()['sales']"
   ]
  },
  {
   "cell_type": "code",
   "execution_count": 199,
   "metadata": {
    "collapsed": false
   },
   "outputs": [
    {
     "data": {
      "text/plain": [
       "Index([u'date', u'store', u'city', u'zip_code', u'county', u'category_name',\n",
       "       u'vendor_number', u'item_description', u'bottle_volume',\n",
       "       u'state_bottle_cost', u'state_bottle_retail', u'bottles_sold', u'sales',\n",
       "       u'volume_sold', u'year', u'quarter', u'month', u'profit',\n",
       "       u'profit_per_bottle', u'avg_bottle_price', u'margin_percent',\n",
       "       u'days_open_15', u'days_open_16', u'days_open', u'sales_pd_15',\n",
       "       u'profit_pd_15', u'bottl_pd_15', u'vol_pd_15', u'sales_pd_16',\n",
       "       u'profit_pd_16', u'bottles_pd_16', u'vol_pd_16'],\n",
       "      dtype='object')"
      ]
     },
     "execution_count": 199,
     "metadata": {},
     "output_type": "execute_result"
    }
   ],
   "source": [
    "idf.columns"
   ]
  },
  {
   "cell_type": "code",
   "execution_count": 200,
   "metadata": {
    "collapsed": false
   },
   "outputs": [
    {
     "data": {
      "image/png": "[encoded data removed]",
      "text/plain": [
       "<matplotlib.figure.Figure at 0x11e6de490>"
      ]
     },
     "metadata": {},
     "output_type": "display_data"
    }
   ],
   "source": [
    "def my_pivot(df, index, values, aggfunc, plt=False):\n",
    "    piv = pd.pivot_table(df, index=index, values=values, aggfunc=aggfunc)\n",
    "    #piv.sort_values(by = ['week'], inplace=True)\n",
    "    #print piv\n",
    "    if plt: piv.plot(title= 'Average Current Liquor Sales by County',kind='hist', figsize=(16,8),bins=40)\n",
    "\n",
    "my_pivot(idf, index=[\"county\"], values=['sales'], aggfunc=np.mean, plt=True)"
   ]
  },
  {
   "cell_type": "code",
   "execution_count": null,
   "metadata": {
    "collapsed": true
   },
   "outputs": [],
   "source": []
  },
  {
   "cell_type": "code",
   "execution_count": 146,
   "metadata": {
    "collapsed": false
   },
   "outputs": [
    {
     "data": {
      "text/plain": [
       "<seaborn.axisgrid.JointGrid at 0x1275f3190>"
      ]
     },
     "execution_count": 146,
     "metadata": {},
     "output_type": "execute_result"
    },
    {
     "data": {
      "image/png": "[encoded data removed]",
      "text/plain": [
       "<matplotlib.figure.Figure at 0x1275f3e50>"
      ]
     },
     "metadata": {},
     "output_type": "display_data"
    }
   ],
   "source": [
    "sns.jointplot(x=idf_new['sales_pd_15'], y=idf_new['sales'])"
   ]
  },
  {
   "cell_type": "code",
   "execution_count": 148,
   "metadata": {
    "collapsed": false
   },
   "outputs": [
    {
     "data": {
      "text/plain": [
       "<seaborn.axisgrid.JointGrid at 0x14b764d90>"
      ]
     },
     "execution_count": 148,
     "metadata": {},
     "output_type": "execute_result"
    },
    {
     "data": {
      "image/png": "[encoded data removed]",
      "text/plain": [
       "<matplotlib.figure.Figure at 0x14b764c50>"
      ]
     },
     "metadata": {},
     "output_type": "display_data"
    }
   ],
   "source": [
    "sns.jointplot(x=idf_new['vol_pd_15'], y=idf_new['sales'])"
   ]
  },
  {
   "cell_type": "code",
   "execution_count": 149,
   "metadata": {
    "collapsed": false
   },
   "outputs": [
    {
     "data": {
      "text/plain": [
       "<seaborn.axisgrid.JointGrid at 0x12193ecd0>"
      ]
     },
     "execution_count": 149,
     "metadata": {},
     "output_type": "execute_result"
    },
    {
     "data": {
      "image/png": "[encoded data removed]",
      "text/plain": [
       "<matplotlib.figure.Figure at 0x121293650>"
      ]
     },
     "metadata": {},
     "output_type": "display_data"
    }
   ],
   "source": [
    "sns.jointplot(x=idf_new['vol_per_sale'], y=idf_new['sales'])"
   ]
  },
  {
   "cell_type": "code",
   "execution_count": 150,
   "metadata": {
    "collapsed": false
   },
   "outputs": [
    {
     "data": {
      "text/plain": [
       "<seaborn.axisgrid.JointGrid at 0x1473d7750>"
      ]
     },
     "execution_count": 150,
     "metadata": {},
     "output_type": "execute_result"
    },
    {
     "data": {
      "image/png": "[encoded data removed]",
      "text/plain": [
       "<matplotlib.figure.Figure at 0x14b738bd0>"
      ]
     },
     "metadata": {},
     "output_type": "display_data"
    }
   ],
   "source": [
    "sns.jointplot(x=idf_new['bott_per_sale'], y=idf_new['sales'])"
   ]
  },
  {
   "cell_type": "markdown",
   "metadata": {},
   "source": [
    "### Create new dataframe for Q1-2015 only"
   ]
  },
  {
   "cell_type": "code",
   "execution_count": 156,
   "metadata": {
    "collapsed": false
   },
   "outputs": [],
   "source": [
    "idf15 = iowa[iowa['store'].isin(open_stores)]\n",
    "idf15 = idf[idf['quarter'] == 'Q1-2015']"
   ]
  },
  {
   "cell_type": "code",
   "execution_count": 164,
   "metadata": {
    "collapsed": false
   },
   "outputs": [
    {
     "data": {
      "text/html": [
       "<div>\n",
       "<table border=\"1\" class=\"dataframe\">\n",
       "  <thead>\n",
       "    <tr style=\"text-align: right;\">\n",
       "      <th></th>\n",
       "      <th>date</th>\n",
       "      <th>store</th>\n",
       "      <th>city</th>\n",
       "      <th>zip_code</th>\n",
       "      <th>county</th>\n",
       "      <th>category_name</th>\n",
       "      <th>vendor_number</th>\n",
       "      <th>item_description</th>\n",
       "      <th>bottle_volume</th>\n",
       "      <th>state_bottle_cost</th>\n",
       "      <th>...</th>\n",
       "      <th>days_open_16</th>\n",
       "      <th>days_open</th>\n",
       "      <th>sales_pd_15</th>\n",
       "      <th>profit_pd_15</th>\n",
       "      <th>bottl_pd_15</th>\n",
       "      <th>vol_pd_15</th>\n",
       "      <th>sales_pd_16</th>\n",
       "      <th>profit_pd_16</th>\n",
       "      <th>bottles_pd_16</th>\n",
       "      <th>vol_pd_16</th>\n",
       "    </tr>\n",
       "  </thead>\n",
       "  <tbody>\n",
       "    <tr>\n",
       "      <th>2</th>\n",
       "      <td>2015-01-21</td>\n",
       "      <td>3717</td>\n",
       "      <td>SUMNER</td>\n",
       "      <td>50674.0</td>\n",
       "      <td>Bremer</td>\n",
       "      <td>MISC. AMERICAN CORDIALS &amp; LIQUEURS</td>\n",
       "      <td>322</td>\n",
       "      <td>Kinky Liqueur</td>\n",
       "      <td>750</td>\n",
       "      <td>10.00</td>\n",
       "      <td>...</td>\n",
       "      <td>13</td>\n",
       "      <td>63</td>\n",
       "      <td>0.6000</td>\n",
       "      <td>0.2000</td>\n",
       "      <td>0.04</td>\n",
       "      <td>0.030</td>\n",
       "      <td>2.307692</td>\n",
       "      <td>0.769231</td>\n",
       "      <td>0.153846</td>\n",
       "      <td>0.115385</td>\n",
       "    </tr>\n",
       "    <tr>\n",
       "      <th>4</th>\n",
       "      <td>2015-01-07</td>\n",
       "      <td>3717</td>\n",
       "      <td>SUMNER</td>\n",
       "      <td>50674.0</td>\n",
       "      <td>Bremer</td>\n",
       "      <td>STRAIGHT BOURBON WHISKIES</td>\n",
       "      <td>65</td>\n",
       "      <td>Maker's Mark</td>\n",
       "      <td>750</td>\n",
       "      <td>16.79</td>\n",
       "      <td>...</td>\n",
       "      <td>13</td>\n",
       "      <td>63</td>\n",
       "      <td>0.5038</td>\n",
       "      <td>0.1680</td>\n",
       "      <td>0.02</td>\n",
       "      <td>0.015</td>\n",
       "      <td>1.937692</td>\n",
       "      <td>0.646154</td>\n",
       "      <td>0.076923</td>\n",
       "      <td>0.057692</td>\n",
       "    </tr>\n",
       "    <tr>\n",
       "      <th>5</th>\n",
       "      <td>2015-02-18</td>\n",
       "      <td>3717</td>\n",
       "      <td>SUMNER</td>\n",
       "      <td>50674.0</td>\n",
       "      <td>Bremer</td>\n",
       "      <td>IRISH WHISKIES</td>\n",
       "      <td>370</td>\n",
       "      <td>Jameson Mini</td>\n",
       "      <td>600</td>\n",
       "      <td>11.88</td>\n",
       "      <td>...</td>\n",
       "      <td>13</td>\n",
       "      <td>63</td>\n",
       "      <td>0.3564</td>\n",
       "      <td>0.1188</td>\n",
       "      <td>0.02</td>\n",
       "      <td>0.012</td>\n",
       "      <td>1.370769</td>\n",
       "      <td>0.456923</td>\n",
       "      <td>0.076923</td>\n",
       "      <td>0.046154</td>\n",
       "    </tr>\n",
       "    <tr>\n",
       "      <th>10</th>\n",
       "      <td>2015-02-04</td>\n",
       "      <td>3717</td>\n",
       "      <td>SUMNER</td>\n",
       "      <td>50674.0</td>\n",
       "      <td>Bremer</td>\n",
       "      <td>CREAM LIQUEURS</td>\n",
       "      <td>305</td>\n",
       "      <td>Tippy Cow Chocolate Mini</td>\n",
       "      <td>500</td>\n",
       "      <td>7.42</td>\n",
       "      <td>...</td>\n",
       "      <td>13</td>\n",
       "      <td>63</td>\n",
       "      <td>0.2226</td>\n",
       "      <td>0.0742</td>\n",
       "      <td>0.02</td>\n",
       "      <td>0.010</td>\n",
       "      <td>0.856154</td>\n",
       "      <td>0.285385</td>\n",
       "      <td>0.076923</td>\n",
       "      <td>0.038462</td>\n",
       "    </tr>\n",
       "    <tr>\n",
       "      <th>20</th>\n",
       "      <td>2015-01-14</td>\n",
       "      <td>3717</td>\n",
       "      <td>SUMNER</td>\n",
       "      <td>50674.0</td>\n",
       "      <td>Bremer</td>\n",
       "      <td>IMPORTED SCHNAPPS</td>\n",
       "      <td>421</td>\n",
       "      <td>Dr. Mcgillicuddy's Cherry Schnapps</td>\n",
       "      <td>750</td>\n",
       "      <td>8.67</td>\n",
       "      <td>...</td>\n",
       "      <td>13</td>\n",
       "      <td>63</td>\n",
       "      <td>0.5204</td>\n",
       "      <td>0.1736</td>\n",
       "      <td>0.04</td>\n",
       "      <td>0.030</td>\n",
       "      <td>2.001538</td>\n",
       "      <td>0.667692</td>\n",
       "      <td>0.153846</td>\n",
       "      <td>0.115385</td>\n",
       "    </tr>\n",
       "  </tbody>\n",
       "</table>\n",
       "<p>5 rows × 32 columns</p>\n",
       "</div>"
      ],
      "text/plain": [
       "         date  store    city  zip_code  county  \\\n",
       "2  2015-01-21   3717  SUMNER   50674.0  Bremer   \n",
       "4  2015-01-07   3717  SUMNER   50674.0  Bremer   \n",
       "5  2015-02-18   3717  SUMNER   50674.0  Bremer   \n",
       "10 2015-02-04   3717  SUMNER   50674.0  Bremer   \n",
       "20 2015-01-14   3717  SUMNER   50674.0  Bremer   \n",
       "\n",
       "                         category_name  vendor_number  \\\n",
       "2   MISC. AMERICAN CORDIALS & LIQUEURS            322   \n",
       "4            STRAIGHT BOURBON WHISKIES             65   \n",
       "5                       IRISH WHISKIES            370   \n",
       "10                      CREAM LIQUEURS            305   \n",
       "20                   IMPORTED SCHNAPPS            421   \n",
       "\n",
       "                      item_description  bottle_volume  state_bottle_cost  \\\n",
       "2                        Kinky Liqueur            750              10.00   \n",
       "4                         Maker's Mark            750              16.79   \n",
       "5                         Jameson Mini            600              11.88   \n",
       "10            Tippy Cow Chocolate Mini            500               7.42   \n",
       "20  Dr. Mcgillicuddy's Cherry Schnapps            750               8.67   \n",
       "\n",
       "      ...      days_open_16  days_open  sales_pd_15  profit_pd_15  \\\n",
       "2     ...                13         63       0.6000        0.2000   \n",
       "4     ...                13         63       0.5038        0.1680   \n",
       "5     ...                13         63       0.3564        0.1188   \n",
       "10    ...                13         63       0.2226        0.0742   \n",
       "20    ...                13         63       0.5204        0.1736   \n",
       "\n",
       "    bottl_pd_15 vol_pd_15 sales_pd_16  profit_pd_16  bottles_pd_16  vol_pd_16  \n",
       "2          0.04     0.030    2.307692      0.769231       0.153846   0.115385  \n",
       "4          0.02     0.015    1.937692      0.646154       0.076923   0.057692  \n",
       "5          0.02     0.012    1.370769      0.456923       0.076923   0.046154  \n",
       "10         0.02     0.010    0.856154      0.285385       0.076923   0.038462  \n",
       "20         0.04     0.030    2.001538      0.667692       0.153846   0.115385  \n",
       "\n",
       "[5 rows x 32 columns]"
      ]
     },
     "execution_count": 164,
     "metadata": {},
     "output_type": "execute_result"
    }
   ],
   "source": [
    "idf15.head(5)"
   ]
  },
  {
   "cell_type": "code",
   "execution_count": 159,
   "metadata": {
    "collapsed": false
   },
   "outputs": [
    {
     "data": {
      "text/html": [
       "<div>\n",
       "<table border=\"1\" class=\"dataframe\">\n",
       "  <thead>\n",
       "    <tr style=\"text-align: right;\">\n",
       "      <th></th>\n",
       "      <th>store</th>\n",
       "      <th>sales</th>\n",
       "      <th>profit</th>\n",
       "      <th>bottles_sold</th>\n",
       "      <th>volume_sold</th>\n",
       "      <th>rev_per_sale</th>\n",
       "      <th>prof_per_sale</th>\n",
       "      <th>bott_per_sale</th>\n",
       "      <th>vol_per_sale</th>\n",
       "    </tr>\n",
       "  </thead>\n",
       "  <tbody>\n",
       "    <tr>\n",
       "      <th>0</th>\n",
       "      <td>2106</td>\n",
       "      <td>39287.29</td>\n",
       "      <td>13108.37</td>\n",
       "      <td>2705</td>\n",
       "      <td>2526.10</td>\n",
       "      <td>304.552636</td>\n",
       "      <td>101.615271</td>\n",
       "      <td>20.968992</td>\n",
       "      <td>19.582171</td>\n",
       "    </tr>\n",
       "    <tr>\n",
       "      <th>1</th>\n",
       "      <td>2113</td>\n",
       "      <td>2833.25</td>\n",
       "      <td>944.72</td>\n",
       "      <td>196</td>\n",
       "      <td>177.11</td>\n",
       "      <td>67.458333</td>\n",
       "      <td>22.493333</td>\n",
       "      <td>4.666667</td>\n",
       "      <td>4.216905</td>\n",
       "    </tr>\n",
       "    <tr>\n",
       "      <th>2</th>\n",
       "      <td>2130</td>\n",
       "      <td>24272.57</td>\n",
       "      <td>8108.68</td>\n",
       "      <td>1533</td>\n",
       "      <td>1447.25</td>\n",
       "      <td>278.995057</td>\n",
       "      <td>93.203218</td>\n",
       "      <td>17.620690</td>\n",
       "      <td>16.635057</td>\n",
       "    </tr>\n",
       "  </tbody>\n",
       "</table>\n",
       "</div>"
      ],
      "text/plain": [
       "   store     sales    profit  bottles_sold  volume_sold  rev_per_sale  \\\n",
       "0   2106  39287.29  13108.37          2705      2526.10    304.552636   \n",
       "1   2113   2833.25    944.72           196       177.11     67.458333   \n",
       "2   2130  24272.57   8108.68          1533      1447.25    278.995057   \n",
       "\n",
       "   prof_per_sale  bott_per_sale  vol_per_sale  \n",
       "0     101.615271      20.968992     19.582171  \n",
       "1      22.493333       4.666667      4.216905  \n",
       "2      93.203218      17.620690     16.635057  "
      ]
     },
     "execution_count": 159,
     "metadata": {},
     "output_type": "execute_result"
    }
   ],
   "source": [
    "# 1: Create idf_sums\n",
    "idf15_sums = idf15.groupby(['store'])[['sales', 'profit', 'bottles_sold', 'volume_sold']].agg(np.sum)\n",
    "idf15_sums.reset_index(inplace=True)\n",
    "\n",
    "# 2: Create idf_means\n",
    "idf15_means = idf15.groupby(['store'])[['sales', 'profit', 'bottles_sold', 'volume_sold']].agg(np.mean)\n",
    "idf15_means.reset_index(inplace=True)\n",
    "idf15_means.columns = ['store', 'rev_per_sale', 'prof_per_sale', 'bott_per_sale', \\\n",
    "                    'vol_per_sale']\n",
    "\n",
    "# 3: Merge sums and means into idf_sales\n",
    "idf15_sales = idf15_sums.merge(idf15_means, how='inner', on='store')\n",
    "idf15_sales.head(3)"
   ]
  },
  {
   "cell_type": "code",
   "execution_count": 170,
   "metadata": {
    "collapsed": false
   },
   "outputs": [
    {
     "name": "stderr",
     "output_type": "stream",
     "text": [
      "/anaconda/lib/python2.7/site-packages/ipykernel/__main__.py:7: SettingWithCopyWarning: \n",
      "A value is trying to be set on a copy of a slice from a DataFrame.\n",
      "Try using .loc[row_indexer,col_indexer] = value instead\n",
      "\n",
      "See the caveats in the documentation: http://pandas.pydata.org/pandas-docs/stable/indexing.html#indexing-view-versus-copy\n",
      "/anaconda/lib/python2.7/site-packages/ipykernel/__main__.py:8: SettingWithCopyWarning: \n",
      "A value is trying to be set on a copy of a slice from a DataFrame.\n",
      "Try using .loc[row_indexer,col_indexer] = value instead\n",
      "\n",
      "See the caveats in the documentation: http://pandas.pydata.org/pandas-docs/stable/indexing.html#indexing-view-versus-copy\n",
      "/anaconda/lib/python2.7/site-packages/ipykernel/__main__.py:9: SettingWithCopyWarning: \n",
      "A value is trying to be set on a copy of a slice from a DataFrame.\n",
      "Try using .loc[row_indexer,col_indexer] = value instead\n",
      "\n",
      "See the caveats in the documentation: http://pandas.pydata.org/pandas-docs/stable/indexing.html#indexing-view-versus-copy\n",
      "/anaconda/lib/python2.7/site-packages/ipykernel/__main__.py:10: SettingWithCopyWarning: \n",
      "A value is trying to be set on a copy of a slice from a DataFrame.\n",
      "Try using .loc[row_indexer,col_indexer] = value instead\n",
      "\n",
      "See the caveats in the documentation: http://pandas.pydata.org/pandas-docs/stable/indexing.html#indexing-view-versus-copy\n"
     ]
    },
    {
     "data": {
      "text/html": [
       "<div>\n",
       "<table border=\"1\" class=\"dataframe\">\n",
       "  <thead>\n",
       "    <tr style=\"text-align: right;\">\n",
       "      <th></th>\n",
       "      <th>store</th>\n",
       "      <th>sales_pd_15</th>\n",
       "      <th>profit_pd_15</th>\n",
       "      <th>vol_pd_15</th>\n",
       "    </tr>\n",
       "  </thead>\n",
       "  <tbody>\n",
       "    <tr>\n",
       "      <th>0</th>\n",
       "      <td>2106</td>\n",
       "      <td>3394.566346</td>\n",
       "      <td>1133.016923</td>\n",
       "      <td>227.617308</td>\n",
       "    </tr>\n",
       "    <tr>\n",
       "      <th>1</th>\n",
       "      <td>2113</td>\n",
       "      <td>242.045106</td>\n",
       "      <td>80.904894</td>\n",
       "      <td>17.805319</td>\n",
       "    </tr>\n",
       "    <tr>\n",
       "      <th>2</th>\n",
       "      <td>2130</td>\n",
       "      <td>2681.538846</td>\n",
       "      <td>894.569423</td>\n",
       "      <td>162.235962</td>\n",
       "    </tr>\n",
       "  </tbody>\n",
       "</table>\n",
       "</div>"
      ],
      "text/plain": [
       "   store  sales_pd_15  profit_pd_15   vol_pd_15\n",
       "0   2106  3394.566346   1133.016923  227.617308\n",
       "1   2113   242.045106     80.904894   17.805319\n",
       "2   2130  2681.538846    894.569423  162.235962"
      ]
     },
     "execution_count": 170,
     "metadata": {},
     "output_type": "execute_result"
    }
   ],
   "source": [
    "# 4: Create new columns in idf for daily averages\n",
    "days_open_Q1_15 = idf_open[idf_open['quarter'] == 'Q1-2015'].groupby(['store'])[['date']].agg(len)\n",
    "days_open_Q1_15.reset_index(inplace=True)\n",
    "days_open_Q1_15.columns = ['store', 'days_open_Q1_15']\n",
    "days_open_Q1_15['days_open_Q1_15'] = days_open_Q1_15['days_open_Q1_15'].astype(int)\n",
    "\n",
    "idf15['sales_pd_15'] = idf15['sales'] / days_open_Q1_15['days_open_Q1_15']\n",
    "idf15['profit_pd_15'] = idf15['profit'] / days_open_Q1_15['days_open_Q1_15']\n",
    "idf15['bottl_pd_15'] = idf15['bottles_sold'] / days_open_Q1_15['days_open_Q1_15']\n",
    "idf15['vol_pd_15'] = idf15['volume_sold'] / days_open_Q1_15['days_open_Q1_15']\n",
    "\n",
    "# 5: Separate daily average columns into own df\n",
    "idf15_pd = idf.groupby(['store'])[['sales_pd_15', 'profit_pd_15', 'vol_pd_15']].agg(np.sum)\n",
    "idf15_pd.reset_index(inplace=True)\n",
    "idf15_pd.head(3)"
   ]
  },
  {
   "cell_type": "code",
   "execution_count": 171,
   "metadata": {
    "collapsed": false
   },
   "outputs": [
    {
     "data": {
      "text/html": [
       "<div>\n",
       "<table border=\"1\" class=\"dataframe\">\n",
       "  <thead>\n",
       "    <tr style=\"text-align: right;\">\n",
       "      <th></th>\n",
       "      <th>store</th>\n",
       "      <th>sales</th>\n",
       "      <th>profit</th>\n",
       "      <th>bottles_sold</th>\n",
       "      <th>volume_sold</th>\n",
       "      <th>rev_per_sale</th>\n",
       "      <th>prof_per_sale</th>\n",
       "      <th>bott_per_sale</th>\n",
       "      <th>vol_per_sale</th>\n",
       "      <th>sales_pd_15</th>\n",
       "      <th>profit_pd_15</th>\n",
       "      <th>vol_pd_15</th>\n",
       "    </tr>\n",
       "  </thead>\n",
       "  <tbody>\n",
       "    <tr>\n",
       "      <th>0</th>\n",
       "      <td>2106</td>\n",
       "      <td>39287.29</td>\n",
       "      <td>13108.37</td>\n",
       "      <td>2705</td>\n",
       "      <td>2526.10</td>\n",
       "      <td>304.552636</td>\n",
       "      <td>101.615271</td>\n",
       "      <td>20.968992</td>\n",
       "      <td>19.582171</td>\n",
       "      <td>3394.566346</td>\n",
       "      <td>1133.016923</td>\n",
       "      <td>227.617308</td>\n",
       "    </tr>\n",
       "    <tr>\n",
       "      <th>1</th>\n",
       "      <td>2113</td>\n",
       "      <td>2833.25</td>\n",
       "      <td>944.72</td>\n",
       "      <td>196</td>\n",
       "      <td>177.11</td>\n",
       "      <td>67.458333</td>\n",
       "      <td>22.493333</td>\n",
       "      <td>4.666667</td>\n",
       "      <td>4.216905</td>\n",
       "      <td>242.045106</td>\n",
       "      <td>80.904894</td>\n",
       "      <td>17.805319</td>\n",
       "    </tr>\n",
       "    <tr>\n",
       "      <th>2</th>\n",
       "      <td>2130</td>\n",
       "      <td>24272.57</td>\n",
       "      <td>8108.68</td>\n",
       "      <td>1533</td>\n",
       "      <td>1447.25</td>\n",
       "      <td>278.995057</td>\n",
       "      <td>93.203218</td>\n",
       "      <td>17.620690</td>\n",
       "      <td>16.635057</td>\n",
       "      <td>2681.538846</td>\n",
       "      <td>894.569423</td>\n",
       "      <td>162.235962</td>\n",
       "    </tr>\n",
       "  </tbody>\n",
       "</table>\n",
       "</div>"
      ],
      "text/plain": [
       "   store     sales    profit  bottles_sold  volume_sold  rev_per_sale  \\\n",
       "0   2106  39287.29  13108.37          2705      2526.10    304.552636   \n",
       "1   2113   2833.25    944.72           196       177.11     67.458333   \n",
       "2   2130  24272.57   8108.68          1533      1447.25    278.995057   \n",
       "\n",
       "   prof_per_sale  bott_per_sale  vol_per_sale  sales_pd_15  profit_pd_15  \\\n",
       "0     101.615271      20.968992     19.582171  3394.566346   1133.016923   \n",
       "1      22.493333       4.666667      4.216905   242.045106     80.904894   \n",
       "2      93.203218      17.620690     16.635057  2681.538846    894.569423   \n",
       "\n",
       "    vol_pd_15  \n",
       "0  227.617308  \n",
       "1   17.805319  \n",
       "2  162.235962  "
      ]
     },
     "execution_count": 171,
     "metadata": {},
     "output_type": "execute_result"
    }
   ],
   "source": [
    "# 6: Merge sales and daily average dfs\n",
    "idf15_metrics = idf15_sales.merge(idf15_pd, how='inner', on='store')\n",
    "idf15_metrics.head(3)\n",
    "\n"
   ]
  },
  {
   "cell_type": "code",
   "execution_count": 172,
   "metadata": {
    "collapsed": false
   },
   "outputs": [
    {
     "data": {
      "text/html": [
       "<div>\n",
       "<table border=\"1\" class=\"dataframe\">\n",
       "  <thead>\n",
       "    <tr style=\"text-align: right;\">\n",
       "      <th></th>\n",
       "      <th>store</th>\n",
       "      <th>sales</th>\n",
       "      <th>profit</th>\n",
       "      <th>bottles_sold</th>\n",
       "      <th>volume_sold</th>\n",
       "      <th>rev_per_sale</th>\n",
       "      <th>prof_per_sale</th>\n",
       "      <th>bott_per_sale</th>\n",
       "      <th>vol_per_sale</th>\n",
       "      <th>sales_pd_15</th>\n",
       "      <th>profit_pd_15</th>\n",
       "      <th>vol_pd_15</th>\n",
       "      <th>city</th>\n",
       "      <th>county</th>\n",
       "      <th>zip_code</th>\n",
       "    </tr>\n",
       "  </thead>\n",
       "  <tbody>\n",
       "    <tr>\n",
       "      <th>0</th>\n",
       "      <td>2106</td>\n",
       "      <td>39287.29</td>\n",
       "      <td>13108.37</td>\n",
       "      <td>2705</td>\n",
       "      <td>2526.10</td>\n",
       "      <td>304.552636</td>\n",
       "      <td>101.615271</td>\n",
       "      <td>20.968992</td>\n",
       "      <td>19.582171</td>\n",
       "      <td>3394.566346</td>\n",
       "      <td>1133.016923</td>\n",
       "      <td>227.617308</td>\n",
       "      <td>CEDAR FALLS</td>\n",
       "      <td>Black Hawk</td>\n",
       "      <td>50613.0</td>\n",
       "    </tr>\n",
       "    <tr>\n",
       "      <th>1</th>\n",
       "      <td>2113</td>\n",
       "      <td>2833.25</td>\n",
       "      <td>944.72</td>\n",
       "      <td>196</td>\n",
       "      <td>177.11</td>\n",
       "      <td>67.458333</td>\n",
       "      <td>22.493333</td>\n",
       "      <td>4.666667</td>\n",
       "      <td>4.216905</td>\n",
       "      <td>242.045106</td>\n",
       "      <td>80.904894</td>\n",
       "      <td>17.805319</td>\n",
       "      <td>GOWRIE</td>\n",
       "      <td>Webster</td>\n",
       "      <td>50543.0</td>\n",
       "    </tr>\n",
       "    <tr>\n",
       "      <th>2</th>\n",
       "      <td>2130</td>\n",
       "      <td>24272.57</td>\n",
       "      <td>8108.68</td>\n",
       "      <td>1533</td>\n",
       "      <td>1447.25</td>\n",
       "      <td>278.995057</td>\n",
       "      <td>93.203218</td>\n",
       "      <td>17.620690</td>\n",
       "      <td>16.635057</td>\n",
       "      <td>2681.538846</td>\n",
       "      <td>894.569423</td>\n",
       "      <td>162.235962</td>\n",
       "      <td>WATERLOO</td>\n",
       "      <td>Black Hawk</td>\n",
       "      <td>50703.0</td>\n",
       "    </tr>\n",
       "  </tbody>\n",
       "</table>\n",
       "</div>"
      ],
      "text/plain": [
       "   store     sales    profit  bottles_sold  volume_sold  rev_per_sale  \\\n",
       "0   2106  39287.29  13108.37          2705      2526.10    304.552636   \n",
       "1   2113   2833.25    944.72           196       177.11     67.458333   \n",
       "2   2130  24272.57   8108.68          1533      1447.25    278.995057   \n",
       "\n",
       "   prof_per_sale  bott_per_sale  vol_per_sale  sales_pd_15  profit_pd_15  \\\n",
       "0     101.615271      20.968992     19.582171  3394.566346   1133.016923   \n",
       "1      22.493333       4.666667      4.216905   242.045106     80.904894   \n",
       "2      93.203218      17.620690     16.635057  2681.538846    894.569423   \n",
       "\n",
       "    vol_pd_15         city      county  zip_code  \n",
       "0  227.617308  CEDAR FALLS  Black Hawk   50613.0  \n",
       "1   17.805319       GOWRIE     Webster   50543.0  \n",
       "2  162.235962     WATERLOO  Black Hawk   50703.0  "
      ]
     },
     "execution_count": 172,
     "metadata": {},
     "output_type": "execute_result"
    }
   ],
   "source": [
    "# 7: Create location only df\n",
    "idf_location = pd.pivot_table(idf, values=['sales'], index=['store', 'city', 'county', 'zip_code'], aggfunc=np.sum)\n",
    "idf_location.reset_index(inplace=True)\n",
    "idf_location.drop('sales', axis=1, inplace=True)\n",
    "idf_location.head(3)\n",
    "\n",
    "# 8: Create new df by merging metrics and location\n",
    "idf15_new= idf15_metrics.merge(idf_location, how='inner', on='store')\n",
    "idf15_new.head(3)"
   ]
  },
  {
   "cell_type": "code",
   "execution_count": 177,
   "metadata": {
    "collapsed": false
   },
   "outputs": [
    {
     "data": {
      "text/html": [
       "<div>\n",
       "<table border=\"1\" class=\"dataframe\">\n",
       "  <thead>\n",
       "    <tr style=\"text-align: right;\">\n",
       "      <th></th>\n",
       "      <th>store</th>\n",
       "      <th>sales</th>\n",
       "      <th>profit</th>\n",
       "      <th>bottles_sold</th>\n",
       "      <th>volume_sold</th>\n",
       "      <th>rev_per_sale</th>\n",
       "      <th>prof_per_sale</th>\n",
       "      <th>bott_per_sale</th>\n",
       "      <th>vol_per_sale</th>\n",
       "      <th>sales_pd_15</th>\n",
       "      <th>profit_pd_15</th>\n",
       "      <th>vol_pd_15</th>\n",
       "      <th>city</th>\n",
       "      <th>county</th>\n",
       "      <th>zip_code</th>\n",
       "      <th>sales_2Q-4Q-15</th>\n",
       "    </tr>\n",
       "  </thead>\n",
       "  <tbody>\n",
       "    <tr>\n",
       "      <th>0</th>\n",
       "      <td>2106</td>\n",
       "      <td>39287.29</td>\n",
       "      <td>13108.37</td>\n",
       "      <td>2705</td>\n",
       "      <td>2526.10</td>\n",
       "      <td>304.552636</td>\n",
       "      <td>101.615271</td>\n",
       "      <td>20.968992</td>\n",
       "      <td>19.582171</td>\n",
       "      <td>3394.566346</td>\n",
       "      <td>1133.016923</td>\n",
       "      <td>227.617308</td>\n",
       "      <td>CEDAR FALLS</td>\n",
       "      <td>Black Hawk</td>\n",
       "      <td>50613.0</td>\n",
       "      <td>137230.16</td>\n",
       "    </tr>\n",
       "    <tr>\n",
       "      <th>1</th>\n",
       "      <td>2113</td>\n",
       "      <td>2833.25</td>\n",
       "      <td>944.72</td>\n",
       "      <td>196</td>\n",
       "      <td>177.11</td>\n",
       "      <td>67.458333</td>\n",
       "      <td>22.493333</td>\n",
       "      <td>4.666667</td>\n",
       "      <td>4.216905</td>\n",
       "      <td>242.045106</td>\n",
       "      <td>80.904894</td>\n",
       "      <td>17.805319</td>\n",
       "      <td>GOWRIE</td>\n",
       "      <td>Webster</td>\n",
       "      <td>50543.0</td>\n",
       "      <td>8542.87</td>\n",
       "    </tr>\n",
       "    <tr>\n",
       "      <th>2</th>\n",
       "      <td>2130</td>\n",
       "      <td>24272.57</td>\n",
       "      <td>8108.68</td>\n",
       "      <td>1533</td>\n",
       "      <td>1447.25</td>\n",
       "      <td>278.995057</td>\n",
       "      <td>93.203218</td>\n",
       "      <td>17.620690</td>\n",
       "      <td>16.635057</td>\n",
       "      <td>2681.538846</td>\n",
       "      <td>894.569423</td>\n",
       "      <td>162.235962</td>\n",
       "      <td>WATERLOO</td>\n",
       "      <td>Black Hawk</td>\n",
       "      <td>50703.0</td>\n",
       "      <td>115167.45</td>\n",
       "    </tr>\n",
       "  </tbody>\n",
       "</table>\n",
       "</div>"
      ],
      "text/plain": [
       "   store     sales    profit  bottles_sold  volume_sold  rev_per_sale  \\\n",
       "0   2106  39287.29  13108.37          2705      2526.10    304.552636   \n",
       "1   2113   2833.25    944.72           196       177.11     67.458333   \n",
       "2   2130  24272.57   8108.68          1533      1447.25    278.995057   \n",
       "\n",
       "   prof_per_sale  bott_per_sale  vol_per_sale  sales_pd_15  profit_pd_15  \\\n",
       "0     101.615271      20.968992     19.582171  3394.566346   1133.016923   \n",
       "1      22.493333       4.666667      4.216905   242.045106     80.904894   \n",
       "2      93.203218      17.620690     16.635057  2681.538846    894.569423   \n",
       "\n",
       "    vol_pd_15         city      county  zip_code  sales_2Q-4Q-15  \n",
       "0  227.617308  CEDAR FALLS  Black Hawk   50613.0       137230.16  \n",
       "1   17.805319       GOWRIE     Webster   50543.0         8542.87  \n",
       "2  162.235962     WATERLOO  Black Hawk   50703.0       115167.45  "
      ]
     },
     "execution_count": 177,
     "metadata": {},
     "output_type": "execute_result"
    }
   ],
   "source": [
    "idf15_new['sales_2Q-4Q-15'] = idf_new['sales'] - idf15_new['sales']\n",
    "idf15_new.head(3)"
   ]
  },
  {
   "cell_type": "code",
   "execution_count": 174,
   "metadata": {
    "collapsed": true
   },
   "outputs": [],
   "source": [
    "iowa_2015 = iowa[iowa['year'] == 2015]\n",
    "iowa_2016 = iowa[iowa['year'] == 2016]"
   ]
  },
  {
   "cell_type": "code",
   "execution_count": 184,
   "metadata": {
    "collapsed": false
   },
   "outputs": [
    {
     "data": {
      "text/plain": [
       "(1183,)"
      ]
     },
     "execution_count": 184,
     "metadata": {},
     "output_type": "execute_result"
    }
   ],
   "source": [
    "idf15_new['sales_2Q-4Q-15'].shape"
   ]
  },
  {
   "cell_type": "code",
   "execution_count": null,
   "metadata": {
    "collapsed": true
   },
   "outputs": [],
   "source": []
  },
  {
   "cell_type": "code",
   "execution_count": 187,
   "metadata": {
    "collapsed": false
   },
   "outputs": [
    {
     "name": "stdout",
     "output_type": "stream",
     "text": [
      "Coef: [ 4.43774784]\n",
      "Intercept: 961.70683133\n",
      "Score: 0.947080335326\n",
      "MSE: 155663845.944\n"
     ]
    }
   ],
   "source": [
    "# train all models only on data from stores with full data from 2015 (no stores which opened or closed)\n",
    "\n",
    "# base model - predict 2015 Q2-4 with just 2015Q1\n",
    "y = idf15_new['sales_2Q-4Q-15']\n",
    "X  = idf15_new['sales']\n",
    "X = pd.DataFrame(X)\n",
    "\n",
    "lm = linear_model.LinearRegression()\n",
    "base_model = lm.fit(X,y)\n",
    "\n",
    "print \"Coef:\", base_model.coef_\n",
    "print \"Intercept:\", base_model.intercept_\n",
    "print \"Score:\", base_model.score(X, y) \n",
    "print \"MSE:\", mean_squared_error(y, base_model.predict(X))"
   ]
  },
  {
   "cell_type": "code",
   "execution_count": 188,
   "metadata": {
    "collapsed": false
   },
   "outputs": [
    {
     "name": "stdout",
     "output_type": "stream",
     "text": [
      "Mean cross-val R2: 0.812246733482\n"
     ]
    }
   ],
   "source": [
    "print \"Mean cross-val R2:\",cross_val_score(lm, X, y, cv=5).mean()"
   ]
  },
  {
   "cell_type": "code",
   "execution_count": 194,
   "metadata": {
    "collapsed": false
   },
   "outputs": [
    {
     "name": "stdout",
     "output_type": "stream",
     "text": [
      "Train Test R2: 0.935974927712\n"
     ]
    }
   ],
   "source": [
    "X_train, X_test, y_train, y_test = \\\n",
    "train_test_split(X, y, test_size=0.33)\n",
    "lm = linear_model.LinearRegression()\n",
    "train_base_model = lm.fit(X_train, y_train)\n",
    "predictions = lm.predict(X_test)\n",
    "\n",
    "print \"Train Test R2:\", train_base_model.score(X_test, y_test) "
   ]
  },
  {
   "cell_type": "markdown",
   "metadata": {},
   "source": [
    "### Full Year 2015"
   ]
  },
  {
   "cell_type": "code",
   "execution_count": null,
   "metadata": {
    "collapsed": true
   },
   "outputs": [],
   "source": []
  },
  {
   "cell_type": "code",
   "execution_count": 196,
   "metadata": {
    "collapsed": false
   },
   "outputs": [
    {
     "ename": "ValueError",
     "evalue": "Item wrong length 1 instead of 270323.",
     "output_type": "error",
     "traceback": [
      "\u001b[0;31m---------------------------------------------------------------------------\u001b[0m",
      "\u001b[0;31mValueError\u001b[0m                                Traceback (most recent call last)",
      "\u001b[0;32m<ipython-input-196-b60328660a83>\u001b[0m in \u001b[0;36m<module>\u001b[0;34m()\u001b[0m\n\u001b[1;32m      2\u001b[0m \u001b[0;34m\u001b[0m\u001b[0m\n\u001b[1;32m      3\u001b[0m \u001b[0;31m# base model - predict 2015 Q2-4 with just 2015Q1\u001b[0m\u001b[0;34m\u001b[0m\u001b[0;34m\u001b[0m\u001b[0m\n\u001b[0;32m----> 4\u001b[0;31m \u001b[0my\u001b[0m \u001b[0;34m=\u001b[0m \u001b[0miowa\u001b[0m\u001b[0;34m[\u001b[0m\u001b[0;34m[\u001b[0m\u001b[0miowa\u001b[0m\u001b[0;34m[\u001b[0m\u001b[0;34m'quarter'\u001b[0m\u001b[0;34m]\u001b[0m\u001b[0;34m==\u001b[0m\u001b[0;34m'Q1-2015'\u001b[0m\u001b[0;34m]\u001b[0m\u001b[0;34m]\u001b[0m\u001b[0;34m\u001b[0m\u001b[0m\n\u001b[0m\u001b[1;32m      5\u001b[0m \u001b[0mX\u001b[0m  \u001b[0;34m=\u001b[0m \u001b[0midf_new\u001b[0m\u001b[0;34m[\u001b[0m\u001b[0;34m'sales'\u001b[0m\u001b[0;34m]\u001b[0m\u001b[0;34m\u001b[0m\u001b[0m\n\u001b[1;32m      6\u001b[0m \u001b[0mX\u001b[0m \u001b[0;34m=\u001b[0m \u001b[0mpd\u001b[0m\u001b[0;34m.\u001b[0m\u001b[0mDataFrame\u001b[0m\u001b[0;34m(\u001b[0m\u001b[0mX\u001b[0m\u001b[0;34m)\u001b[0m\u001b[0;34m\u001b[0m\u001b[0m\n",
      "\u001b[0;32m//anaconda/lib/python2.7/site-packages/pandas/core/frame.pyc\u001b[0m in \u001b[0;36m__getitem__\u001b[0;34m(self, key)\u001b[0m\n\u001b[1;32m   1984\u001b[0m         \u001b[0;32mif\u001b[0m \u001b[0misinstance\u001b[0m\u001b[0;34m(\u001b[0m\u001b[0mkey\u001b[0m\u001b[0;34m,\u001b[0m \u001b[0;34m(\u001b[0m\u001b[0mSeries\u001b[0m\u001b[0;34m,\u001b[0m \u001b[0mnp\u001b[0m\u001b[0;34m.\u001b[0m\u001b[0mndarray\u001b[0m\u001b[0;34m,\u001b[0m \u001b[0mIndex\u001b[0m\u001b[0;34m,\u001b[0m \u001b[0mlist\u001b[0m\u001b[0;34m)\u001b[0m\u001b[0;34m)\u001b[0m\u001b[0;34m:\u001b[0m\u001b[0;34m\u001b[0m\u001b[0m\n\u001b[1;32m   1985\u001b[0m             \u001b[0;31m# either boolean or fancy integer index\u001b[0m\u001b[0;34m\u001b[0m\u001b[0;34m\u001b[0m\u001b[0m\n\u001b[0;32m-> 1986\u001b[0;31m             \u001b[0;32mreturn\u001b[0m \u001b[0mself\u001b[0m\u001b[0;34m.\u001b[0m\u001b[0m_getitem_array\u001b[0m\u001b[0;34m(\u001b[0m\u001b[0mkey\u001b[0m\u001b[0;34m)\u001b[0m\u001b[0;34m\u001b[0m\u001b[0m\n\u001b[0m\u001b[1;32m   1987\u001b[0m         \u001b[0;32melif\u001b[0m \u001b[0misinstance\u001b[0m\u001b[0;34m(\u001b[0m\u001b[0mkey\u001b[0m\u001b[0;34m,\u001b[0m \u001b[0mDataFrame\u001b[0m\u001b[0;34m)\u001b[0m\u001b[0;34m:\u001b[0m\u001b[0;34m\u001b[0m\u001b[0m\n\u001b[1;32m   1988\u001b[0m             \u001b[0;32mreturn\u001b[0m \u001b[0mself\u001b[0m\u001b[0;34m.\u001b[0m\u001b[0m_getitem_frame\u001b[0m\u001b[0;34m(\u001b[0m\u001b[0mkey\u001b[0m\u001b[0;34m)\u001b[0m\u001b[0;34m\u001b[0m\u001b[0m\n",
      "\u001b[0;32m//anaconda/lib/python2.7/site-packages/pandas/core/frame.pyc\u001b[0m in \u001b[0;36m_getitem_array\u001b[0;34m(self, key)\u001b[0m\n\u001b[1;32m   2021\u001b[0m             \u001b[0;32melif\u001b[0m \u001b[0mlen\u001b[0m\u001b[0;34m(\u001b[0m\u001b[0mkey\u001b[0m\u001b[0;34m)\u001b[0m \u001b[0;34m!=\u001b[0m \u001b[0mlen\u001b[0m\u001b[0;34m(\u001b[0m\u001b[0mself\u001b[0m\u001b[0;34m.\u001b[0m\u001b[0mindex\u001b[0m\u001b[0;34m)\u001b[0m\u001b[0;34m:\u001b[0m\u001b[0;34m\u001b[0m\u001b[0m\n\u001b[1;32m   2022\u001b[0m                 raise ValueError('Item wrong length %d instead of %d.' %\n\u001b[0;32m-> 2023\u001b[0;31m                                  (len(key), len(self.index)))\n\u001b[0m\u001b[1;32m   2024\u001b[0m             \u001b[0;31m# check_bool_indexer will throw exception if Series key cannot\u001b[0m\u001b[0;34m\u001b[0m\u001b[0;34m\u001b[0m\u001b[0m\n\u001b[1;32m   2025\u001b[0m             \u001b[0;31m# be reindexed to match DataFrame rows\u001b[0m\u001b[0;34m\u001b[0m\u001b[0;34m\u001b[0m\u001b[0m\n",
      "\u001b[0;31mValueError\u001b[0m: Item wrong length 1 instead of 270323."
     ]
    }
   ],
   "source": [
    "# train all models only on data from stores with full data from 2015 (no stores which opened or closed)\n",
    "\n",
    "# base model - predict 2015 Q2-4 with just 2015Q1\n",
    "y = iowa[[iowa['quarter']=='Q1-2015']]\n",
    "X  = idf_new['sales']\n",
    "X = pd.DataFrame(X)\n",
    "\n",
    "lm = linear_model.LinearRegression()\n",
    "base_model = lm.fit(X,y)\n",
    "\n",
    "print \"Coef:\", base_model.coef_\n",
    "print \"Intercept:\", base_model.intercept_\n",
    "print \"Score:\", base_model.score(X, y) \n",
    "print \"MSE:\", mean_squared_error(y, base_model.predict(X))"
   ]
  },
  {
   "cell_type": "code",
   "execution_count": null,
   "metadata": {
    "collapsed": true
   },
   "outputs": [],
   "source": []
  },
  {
   "cell_type": "code",
   "execution_count": null,
   "metadata": {
    "collapsed": true
   },
   "outputs": [],
   "source": []
  },
  {
   "cell_type": "code",
   "execution_count": null,
   "metadata": {
    "collapsed": true
   },
   "outputs": [],
   "source": []
  },
  {
   "cell_type": "code",
   "execution_count": 64,
   "metadata": {
    "collapsed": false
   },
   "outputs": [
    {
     "data": {
      "image/png": "[encoded data removed]",
      "text/plain": [
       "<matplotlib.figure.Figure at 0x11c41c650>"
      ]
     },
     "metadata": {},
     "output_type": "display_data"
    }
   ],
   "source": [
    "ax = idf_sales.plot(kind=\"scatter\", x='bottles_sold', y='profit', figsize=(10,6))\n",
    "ax.set_title('profit x bottles', y=1.01, fontsize=30)\n",
    "ax.set_xlabel('profit', fontsize=16)\n",
    "ax.set_ylabel('bottles', fontsize=16)\n",
    "ax.tick_params(axis='both', which='both', labelsize=16)"
   ]
  },
  {
   "cell_type": "code",
   "execution_count": null,
   "metadata": {
    "collapsed": true
   },
   "outputs": [],
   "source": []
  },
  {
   "cell_type": "markdown",
   "metadata": {},
   "source": [
    "### Dataframes by store"
   ]
  },
  {
   "cell_type": "code",
   "execution_count": 67,
   "metadata": {
    "collapsed": false
   },
   "outputs": [
    {
     "name": "stdout",
     "output_type": "stream",
     "text": [
      "Nunique stores: 1183\n"
     ]
    },
    {
     "data": {
      "text/html": [
       "<div>\n",
       "<table border=\"1\" class=\"dataframe\">\n",
       "  <thead>\n",
       "    <tr style=\"text-align: right;\">\n",
       "      <th></th>\n",
       "      <th>store</th>\n",
       "      <th>sales</th>\n",
       "      <th>profit</th>\n",
       "      <th>bottles_sold</th>\n",
       "      <th>volume_sold</th>\n",
       "    </tr>\n",
       "  </thead>\n",
       "  <tbody>\n",
       "    <tr>\n",
       "      <th>0</th>\n",
       "      <td>2106</td>\n",
       "      <td>146038.70</td>\n",
       "      <td>48742.20</td>\n",
       "      <td>10355</td>\n",
       "      <td>9719.85</td>\n",
       "    </tr>\n",
       "    <tr>\n",
       "      <th>1</th>\n",
       "      <td>2113</td>\n",
       "      <td>9310.22</td>\n",
       "      <td>3109.04</td>\n",
       "      <td>671</td>\n",
       "      <td>659.85</td>\n",
       "    </tr>\n",
       "    <tr>\n",
       "      <th>2</th>\n",
       "      <td>2130</td>\n",
       "      <td>111583.91</td>\n",
       "      <td>37229.32</td>\n",
       "      <td>7418</td>\n",
       "      <td>6879.37</td>\n",
       "    </tr>\n",
       "  </tbody>\n",
       "</table>\n",
       "</div>"
      ],
      "text/plain": [
       "   store      sales    profit  bottles_sold  volume_sold\n",
       "0   2106  146038.70  48742.20         10355      9719.85\n",
       "1   2113    9310.22   3109.04           671       659.85\n",
       "2   2130  111583.91  37229.32          7418      6879.37"
      ]
     },
     "execution_count": 67,
     "metadata": {},
     "output_type": "execute_result"
    }
   ],
   "source": [
    "#Df showing full year sales by store 2015\n",
    "print 'Nunique stores: ' + str(idf['store'].nunique())\n",
    "idf_store_2015 = idf_2015.groupby(['store']) \\\n",
    "[['sales', 'profit', 'bottles_sold', 'volume_sold']].agg(sum)\n",
    "idf_store_2015.reset_index(inplace=True)\n",
    "idf_store_2015.head(3)"
   ]
  },
  {
   "cell_type": "code",
   "execution_count": 68,
   "metadata": {
    "collapsed": false
   },
   "outputs": [
    {
     "name": "stdout",
     "output_type": "stream",
     "text": [
      "Nunique stores: 1183\n"
     ]
    },
    {
     "data": {
      "text/html": [
       "<div>\n",
       "<table border=\"1\" class=\"dataframe\">\n",
       "  <thead>\n",
       "    <tr style=\"text-align: right;\">\n",
       "      <th></th>\n",
       "      <th>store</th>\n",
       "      <th>sales</th>\n",
       "      <th>profit</th>\n",
       "      <th>bottles_sold</th>\n",
       "      <th>volume_sold</th>\n",
       "    </tr>\n",
       "  </thead>\n",
       "  <tbody>\n",
       "    <tr>\n",
       "      <th>0</th>\n",
       "      <td>2106</td>\n",
       "      <td>30478.75</td>\n",
       "      <td>10174.68</td>\n",
       "      <td>2218</td>\n",
       "      <td>2116.25</td>\n",
       "    </tr>\n",
       "    <tr>\n",
       "      <th>1</th>\n",
       "      <td>2113</td>\n",
       "      <td>2065.90</td>\n",
       "      <td>693.49</td>\n",
       "      <td>159</td>\n",
       "      <td>177.00</td>\n",
       "    </tr>\n",
       "    <tr>\n",
       "      <th>2</th>\n",
       "      <td>2130</td>\n",
       "      <td>27856.11</td>\n",
       "      <td>9288.29</td>\n",
       "      <td>1726</td>\n",
       "      <td>1556.90</td>\n",
       "    </tr>\n",
       "  </tbody>\n",
       "</table>\n",
       "</div>"
      ],
      "text/plain": [
       "   store     sales    profit  bottles_sold  volume_sold\n",
       "0   2106  30478.75  10174.68          2218      2116.25\n",
       "1   2113   2065.90    693.49           159       177.00\n",
       "2   2130  27856.11   9288.29          1726      1556.90"
      ]
     },
     "execution_count": 68,
     "metadata": {},
     "output_type": "execute_result"
    }
   ],
   "source": [
    "#Df showing full year sales by store 2016\n",
    "print 'Nunique stores: ' + str(idf['store'].nunique())\n",
    "idf_store_2016 = idf_2016.groupby(['store']) \\\n",
    "[['sales', 'profit', 'bottles_sold', 'volume_sold']].agg(sum)\n",
    "idf_store_2016.reset_index(inplace=True)\n",
    "idf_store_2016.head(3)"
   ]
  },
  {
   "cell_type": "code",
   "execution_count": 69,
   "metadata": {
    "collapsed": false
   },
   "outputs": [
    {
     "data": {
      "text/plain": [
       "<matplotlib.axes._subplots.AxesSubplot at 0x11c3747d0>"
      ]
     },
     "execution_count": 69,
     "metadata": {},
     "output_type": "execute_result"
    },
    {
     "data": {
      "image/png": "[encoded data removed]",
      "text/plain": [
       "<matplotlib.figure.Figure at 0x11c931c10>"
      ]
     },
     "metadata": {},
     "output_type": "display_data"
    }
   ],
   "source": [
    "idf_store_2016.plot(x='store', y=['profit', 'sales'], kind= 'bar')"
   ]
  },
  {
   "cell_type": "code",
   "execution_count": null,
   "metadata": {
    "collapsed": true
   },
   "outputs": [],
   "source": []
  },
  {
   "cell_type": "code",
   "execution_count": null,
   "metadata": {
    "collapsed": false
   },
   "outputs": [],
   "source": [
    "#Df showing full year sales by county 2015\n",
    "print 'Nunique counties: ' + str(idf['county'].nunique())\n",
    "idf_county_2015 = idf_2015.groupby(['county']) \\\n",
    "[['sales', 'profit', 'bottles_sold', 'volume_sold']].agg(sum)\n",
    "idf_county_2015.reset_index(inplace=True)\n",
    "idf_county_2015.tail(3)"
   ]
  },
  {
   "cell_type": "raw",
   "metadata": {},
   "source": [
    "idf_county_2015.plot(x='county', y='sales',label='total_2015_sales_by_county', kind='bar', figsize=(16,8))"
   ]
  },
  {
   "cell_type": "code",
   "execution_count": null,
   "metadata": {
    "collapsed": false
   },
   "outputs": [],
   "source": [
    "#Df showing full year sales by city 2015\n",
    "print 'Nunique cities: ' + str(idf['city'].nunique())\n",
    "idf_city_2015 = idf_2015.groupby(['city']) \\\n",
    "[['sales', 'profit', 'bottles_sold', 'volume_sold']].agg(sum)\n",
    "idf_city_2015.reset_index(inplace=True)\n",
    "idf_city_2015.tail(3)"
   ]
  },
  {
   "cell_type": "code",
   "execution_count": null,
   "metadata": {
    "collapsed": false
   },
   "outputs": [],
   "source": [
    "#Df showing full year sales by zip 2015\n",
    "print 'Nunique zip codes: ' + str(idf['zip_code'].nunique())\n",
    "idf_zip_2015 = idf_2015.groupby(['zip_code']) \\\n",
    "[['sales', 'profit', 'bottles_sold', 'volume_sold']].agg(sum)\n",
    "idf_zip_2015.reset_index(inplace=True)\n",
    "idf_zip_2015.tail(3)"
   ]
  },
  {
   "cell_type": "code",
   "execution_count": null,
   "metadata": {
    "collapsed": false
   },
   "outputs": [],
   "source": [
    "#Df showing full year sales by category\n",
    "print 'Nunique categories: ' + str(idf['category_name'].nunique())\n",
    "idf_category_2015 = idf_2015.groupby(['category_name']) \\\n",
    "[['sales', 'profit', 'bottles_sold', 'volume_sold']].agg(sum)\n",
    "idf_category_2015.reset_index(inplace=True)\n",
    "idf_category_2015.tail(3)"
   ]
  },
  {
   "cell_type": "code",
   "execution_count": 70,
   "metadata": {
    "collapsed": false
   },
   "outputs": [
    {
     "data": {
      "image/png": "[encoded data removed]",
      "text/plain": [
       "<matplotlib.figure.Figure at 0x1219d4a10>"
      ]
     },
     "metadata": {},
     "output_type": "display_data"
    }
   ],
   "source": [
    "quarter_sales = idf[idf[\"year\"]==2015].groupby([\"quarter\"])[\"sales\"].agg([np.sum])\n",
    "quarter_sales.columns = [\"Total Sales\"]\n",
    "quarter_sales = quarter_sales.applymap(lambda x: x/100000)\n",
    "\n",
    "ax = quarter_sales.plot(kind=\"bar\", figsize=(10,6))\n",
    "ax.set_title(\"2015 Sales by Quarter\", y=1.01, fontsize=30)\n",
    "ax.set_xlabel('Quarter', fontsize=16)\n",
    "ax.set_ylabel('Sales (in $mm)', fontsize=16)\n",
    "ax.tick_params(axis='both', which='both', labelsize=16)\n"
   ]
  },
  {
   "cell_type": "code",
   "execution_count": null,
   "metadata": {
    "collapsed": false
   },
   "outputs": [],
   "source": []
  },
  {
   "cell_type": "code",
   "execution_count": null,
   "metadata": {
    "collapsed": true
   },
   "outputs": [],
   "source": []
  },
  {
   "cell_type": "code",
   "execution_count": null,
   "metadata": {
    "collapsed": true
   },
   "outputs": [],
   "source": []
  },
  {
   "cell_type": "code",
   "execution_count": null,
   "metadata": {
    "collapsed": true
   },
   "outputs": [],
   "source": []
  },
  {
   "cell_type": "code",
   "execution_count": null,
   "metadata": {
    "collapsed": true
   },
   "outputs": [],
   "source": []
  },
  {
   "cell_type": "code",
   "execution_count": null,
   "metadata": {
    "collapsed": true
   },
   "outputs": [],
   "source": []
  },
  {
   "cell_type": "code",
   "execution_count": null,
   "metadata": {
    "collapsed": true
   },
   "outputs": [],
   "source": []
  },
  {
   "cell_type": "code",
   "execution_count": null,
   "metadata": {
    "collapsed": true
   },
   "outputs": [],
   "source": []
  },
  {
   "cell_type": "code",
   "execution_count": null,
   "metadata": {
    "collapsed": false
   },
   "outputs": [],
   "source": [
    "def my_pivot(df, index, values, aggfunc, plt=False):\n",
    "    piv = pd.pivot_table(df, index=index, values=values, aggfunc=aggfunc)\n",
    "    #piv.sort_values(by = ['week'], inplace=True)\n",
    "    #print piv\n",
    "    if plt: piv.plot(title= 'Average Current Liquor Sales by County',kind='hist', figsize=(16,8),bins=40)\n",
    "\n",
    "my_pivot(idf, index=[\"store\"], values=['sales'], aggfunc=np.mean, plt=True)"
   ]
  },
  {
   "cell_type": "code",
   "execution_count": null,
   "metadata": {
    "collapsed": true
   },
   "outputs": [],
   "source": []
  },
  {
   "cell_type": "code",
   "execution_count": null,
   "metadata": {
    "collapsed": true
   },
   "outputs": [],
   "source": []
  },
  {
   "cell_type": "code",
   "execution_count": null,
   "metadata": {
    "collapsed": true
   },
   "outputs": [],
   "source": []
  },
  {
   "cell_type": "code",
   "execution_count": null,
   "metadata": {
    "collapsed": true
   },
   "outputs": [],
   "source": []
  },
  {
   "cell_type": "code",
   "execution_count": null,
   "metadata": {
    "collapsed": true
   },
   "outputs": [],
   "source": []
  },
  {
   "cell_type": "code",
   "execution_count": null,
   "metadata": {
    "collapsed": true
   },
   "outputs": [],
   "source": []
  },
  {
   "cell_type": "code",
   "execution_count": null,
   "metadata": {
    "collapsed": true
   },
   "outputs": [],
   "source": []
  },
  {
   "cell_type": "code",
   "execution_count": null,
   "metadata": {
    "collapsed": true
   },
   "outputs": [],
   "source": []
  },
  {
   "cell_type": "code",
   "execution_count": null,
   "metadata": {
    "collapsed": true
   },
   "outputs": [],
   "source": []
  },
  {
   "cell_type": "code",
   "execution_count": null,
   "metadata": {
    "collapsed": true
   },
   "outputs": [],
   "source": []
  },
  {
   "cell_type": "code",
   "execution_count": null,
   "metadata": {
    "collapsed": true
   },
   "outputs": [],
   "source": []
  },
  {
   "cell_type": "code",
   "execution_count": null,
   "metadata": {
    "collapsed": true
   },
   "outputs": [],
   "source": []
  },
  {
   "cell_type": "code",
   "execution_count": 65,
   "metadata": {
    "collapsed": false,
    "scrolled": true
   },
   "outputs": [
    {
     "data": {
      "text/plain": [
       "<matplotlib.axes._subplots.AxesSubplot at 0x11c44a350>"
      ]
     },
     "execution_count": 65,
     "metadata": {},
     "output_type": "execute_result"
    },
    {
     "data": {
      "image/png": "[encoded data removed]",
      "text/plain": [
       "<matplotlib.figure.Figure at 0x11c3594d0>"
      ]
     },
     "metadata": {},
     "output_type": "display_data"
    }
   ],
   "source": [
    "sns.heatmap(iowa.corr())"
   ]
  },
  {
   "cell_type": "code",
   "execution_count": null,
   "metadata": {
    "collapsed": true
   },
   "outputs": [],
   "source": [
    "iowa_target = pd.DataFrame(iowa['sales'])"
   ]
  },
  {
   "cell_type": "code",
   "execution_count": null,
   "metadata": {
    "collapsed": false
   },
   "outputs": [],
   "source": [
    "ax = sns.regplot(y_pred, y)\n",
    "ax.figure.set_figheight(6)\n",
    "ax.figure.set_figwidth(14)\n",
    "\n",
    "ax.set_ylabel('Actual Values')\n",
    "ax.set_xlabel('Predicted Values')\n",
    "ax.set_title('Predicted vs. Actual Values');"
   ]
  },
  {
   "cell_type": "code",
   "execution_count": null,
   "metadata": {
    "collapsed": false
   },
   "outputs": [],
   "source": [
    "lr_r2 =  r2_score(y_true=y, y_pred=y_pred)\n",
    "lr_r2"
   ]
  },
  {
   "cell_type": "code",
   "execution_count": null,
   "metadata": {
    "collapsed": false
   },
   "outputs": [],
   "source": [
    "len(lr_model.coef_)"
   ]
  },
  {
   "cell_type": "code",
   "execution_count": null,
   "metadata": {
    "collapsed": false
   },
   "outputs": [],
   "source": [
    "lr_model.coef_"
   ]
  },
  {
   "cell_type": "code",
   "execution_count": null,
   "metadata": {
    "collapsed": false
   },
   "outputs": [],
   "source": [
    "iowa['bottle_volume'].unique()"
   ]
  },
  {
   "cell_type": "code",
   "execution_count": null,
   "metadata": {
    "collapsed": true
   },
   "outputs": [],
   "source": [
    "{'vodka': }\n",
    "#vodka\n",
    "#schnapps\n",
    "#whiskey\n",
    "#rum\n",
    "#scotch\n",
    "#gin\n",
    "#liqueurs\n",
    "#brandies\n",
    "#tequila\n",
    "#beer\n",
    "#other\n"
   ]
  },
  {
   "cell_type": "markdown",
   "metadata": {},
   "source": [
    "# Explore the data\n",
    "\n",
    "Perform some exploratory statistical analysis and make some plots, such as histograms of transaction totals, bottles sold, etc."
   ]
  },
  {
   "cell_type": "code",
   "execution_count": null,
   "metadata": {
    "collapsed": true
   },
   "outputs": [],
   "source": [
    "import seaborn as sns\n",
    "import matplotlib.pyplot as plt"
   ]
  },
  {
   "cell_type": "code",
   "execution_count": null,
   "metadata": {
    "collapsed": false
   },
   "outputs": [],
   "source": [
    "len(iowa['County'].value_counts())"
   ]
  },
  {
   "cell_type": "code",
   "execution_count": null,
   "metadata": {
    "collapsed": false
   },
   "outputs": [],
   "source": [
    "iowa_county = pd.pivot_table(iowa, index=iowa['County'], values=['Sale (Dollars)'])\n",
    "iowa_county.head()"
   ]
  },
  {
   "cell_type": "markdown",
   "metadata": {},
   "source": [
    "## Record your findings\n",
    "\n",
    "Be sure to write out anything observations from your exploratory analysis."
   ]
  },
  {
   "cell_type": "markdown",
   "metadata": {},
   "source": [
    "# Mine the data\n",
    "Now you are ready to compute the variables you will use for your regression from the data. For example, you may want to\n",
    "compute total sales per store from Jan to March of 2015, mean price per bottle, etc. Refer to the readme for more ideas appropriate to your scenario.\n",
    "\n",
    "Pandas is your friend for this task. Take a look at the operations [here](http://pandas.pydata.org/pandas-docs/stable/groupby.html) for ideas on how to make the best use of pandas and feel free to search for blog and Stack Overflow posts to help you group data by certain variables and compute sums, means, etc. You may find it useful to create a new data frame to house this summary data."
   ]
  },
  {
   "cell_type": "markdown",
   "metadata": {},
   "source": [
    "# Refine the data\n",
    "Look for any statistical relationships, correlations, or other relevant properties of the dataset."
   ]
  },
  {
   "cell_type": "code",
   "execution_count": null,
   "metadata": {
    "collapsed": true
   },
   "outputs": [],
   "source": []
  },
  {
   "cell_type": "markdown",
   "metadata": {},
   "source": [
    "# Build your models\n",
    "\n",
    "Using scikit-learn or statsmodels, build the necessary models for your scenario. Evaluate model fit."
   ]
  },
  {
   "cell_type": "code",
   "execution_count": null,
   "metadata": {
    "collapsed": true
   },
   "outputs": [],
   "source": [
    "from sklearn import linear_model\n"
   ]
  },
  {
   "cell_type": "markdown",
   "metadata": {},
   "source": [
    "## Plot your results\n",
    "\n",
    "Again make sure that you record any valuable information. For example, in the tax scenario, did you find the sales from the first three months of the year to be a good predictor of the total sales for the year? Plot the predictions versus the true values and discuss the successes and limitations of your models"
   ]
  },
  {
   "cell_type": "code",
   "execution_count": null,
   "metadata": {
    "collapsed": true
   },
   "outputs": [],
   "source": []
  },
  {
   "cell_type": "markdown",
   "metadata": {},
   "source": [
    "# Present the Results\n",
    "\n",
    "Present your conclusions and results. If you have more than one interesting model feel free to include more than one along with a discussion. Use your work in this notebook to prepare your write-up."
   ]
  },
  {
   "cell_type": "code",
   "execution_count": null,
   "metadata": {
    "collapsed": true
   },
   "outputs": [],
   "source": []
  }
 ],
 "metadata": {
  "anaconda-cloud": {},
  "kernelspec": {
   "display_name": "Python [default]",
   "language": "python",
   "name": "python2"
  },
  "language_info": {
   "codemirror_mode": {
    "name": "ipython",
    "version": 2
   },
   "file_extension": ".py",
   "mimetype": "text/x-python",
   "name": "python",
   "nbconvert_exporter": "python",
   "pygments_lexer": "ipython2",
   "version": "2.7.12"
  }
 },
 "nbformat": 4,
 "nbformat_minor": 0
}
