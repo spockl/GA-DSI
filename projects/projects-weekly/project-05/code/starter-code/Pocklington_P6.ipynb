{
 "cells": [
  {
   "cell_type": "code",
   "execution_count": 2,
   "metadata": {
    "collapsed": false
   },
   "outputs": [],
   "source": [
    "import os\n",
    "import subprocess\n",
    "import pandas as pd\n",
    "import numpy as np\n",
    "from sklearn.ensemble import RandomForestClassifier\n",
    "from sklearn.ensemble import RandomForestRegressor\n",
    "import scipy\n",
    "import requests\n",
    "from imdbpie import Imdb\n",
    "import nltk\n",
    "import matplotlib.pyplot as plt\n",
    "import urllib\n",
    "from bs4 import BeautifulSoup\n",
    "import nltk\n",
    "import collections\n",
    "import re\n",
    "import csv\n",
    "import psycopg2\n",
    "import imdbpie\n",
    "\n",
    "%matplotlib inline"
   ]
  },
  {
   "cell_type": "code",
   "execution_count": 3,
   "metadata": {
    "collapsed": false
   },
   "outputs": [
    {
     "data": {
      "text/plain": [
       "imdbpie.imdbpie.Imdb"
      ]
     },
     "execution_count": 3,
     "metadata": {},
     "output_type": "execute_result"
    }
   ],
   "source": [
    "imdb = Imdb()\n",
    "imdb.top_250()\n",
    "type(imdb)"
   ]
  },
  {
   "cell_type": "code",
   "execution_count": 5,
   "metadata": {
    "collapsed": false
   },
   "outputs": [],
   "source": [
    "imdb250 = imdb.top_250()\n",
    "movies = pd.DataFrame(imdb250)\n",
    "del movies['image']\n",
    "del movies['can_rate']"
   ]
  },
  {
   "cell_type": "code",
   "execution_count": 28,
   "metadata": {
    "collapsed": false
   },
   "outputs": [],
   "source": [
    "movies.sort_values('rating', ascending=False, inplace=True)\n",
    "movies = movies.reset_index(drop=True)\n",
    "movies_top = movies.loc[0:24,:]\n",
    "movies_top = pd.DataFrame(movies)"
   ]
  },
  {
   "cell_type": "code",
   "execution_count": 33,
   "metadata": {
    "collapsed": false
   },
   "outputs": [
    {
     "data": {
      "text/plain": [
       "[u'tt0111161',\n",
       " u'tt0068646',\n",
       " u'tt0071562',\n",
       " u'tt0468569',\n",
       " u'tt0060196',\n",
       " u'tt0108052',\n",
       " u'tt0050083',\n",
       " u'tt0167260',\n",
       " u'tt0110912',\n",
       " u'tt0137523',\n",
       " u'tt0120737',\n",
       " u'tt0080684',\n",
       " u'tt0109830',\n",
       " u'tt1375666',\n",
       " u'tt0133093',\n",
       " u'tt0073486',\n",
       " u'tt0099685',\n",
       " u'tt0047478',\n",
       " u'tt0167261',\n",
       " u'tt0076759',\n",
       " u'tt0317248',\n",
       " u'tt0120815',\n",
       " u'tt0110413',\n",
       " u'tt0118799',\n",
       " u'tt0114369']"
      ]
     },
     "execution_count": 33,
     "metadata": {},
     "output_type": "execute_result"
    }
   ],
   "source": [
    "movie_id = movies_top25['tconst'].tolist()\n",
    "movie_id"
   ]
  },
  {
   "cell_type": "code",
   "execution_count": null,
   "metadata": {
    "collapsed": true
   },
   "outputs": [],
   "source": []
  }
 ],
 "metadata": {
  "anaconda-cloud": {},
  "kernelspec": {
   "display_name": "Python [default]",
   "language": "python",
   "name": "python2"
  },
  "language_info": {
   "codemirror_mode": {
    "name": "ipython",
    "version": 2
   },
   "file_extension": ".py",
   "mimetype": "text/x-python",
   "name": "python",
   "nbconvert_exporter": "python",
   "pygments_lexer": "ipython2",
   "version": "2.7.12"
  }
 },
 "nbformat": 4,
 "nbformat_minor": 1
}
