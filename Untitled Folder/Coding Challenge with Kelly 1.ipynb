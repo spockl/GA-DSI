{
 "cells": [
  {
   "cell_type": "markdown",
   "metadata": {},
   "source": [
    "Define a function that takes 2 arguments, an array and an integer, and checks if any two numbers in the array sum to the integer. the function should output true or false."
   ]
  },
  {
   "cell_type": "code",
   "execution_count": 40,
   "metadata": {
    "collapsed": false
   },
   "outputs": [],
   "source": [
    "def challenge(test, int):\n",
    "    for x in test:\n",
    "        if (x) + (x) == int:\n",
    "            return 'True'\n",
    "    else:\n",
    "        return 'False'\n"
   ]
  },
  {
   "cell_type": "code",
   "execution_count": 41,
   "metadata": {
    "collapsed": true
   },
   "outputs": [],
   "source": [
    "test_1 = ([3, 7, 88, 24, 9, 0], 9)\n",
    "test_2 = ([4, 93, 2000, 36, 55], 41)\n",
    "test_3 = ([4, 44, 4444, 1616, 8, 16], 48)\n",
    "test_4 =([2, -3, 72, -6, 1], 1)"
   ]
  },
  {
   "cell_type": "code",
   "execution_count": 42,
   "metadata": {
    "collapsed": false
   },
   "outputs": [
    {
     "data": {
      "text/plain": [
       "'False'"
      ]
     },
     "execution_count": 42,
     "metadata": {},
     "output_type": "execute_result"
    }
   ],
   "source": [
    "challenge([3, 7, 88, 24, 9, 0], 9)"
   ]
  },
  {
   "cell_type": "code",
   "execution_count": 43,
   "metadata": {
    "collapsed": false
   },
   "outputs": [
    {
     "data": {
      "text/plain": [
       "'False'"
      ]
     },
     "execution_count": 43,
     "metadata": {},
     "output_type": "execute_result"
    }
   ],
   "source": [
    "challenge([4, 93, 2000, 36, 55], 41)"
   ]
  },
  {
   "cell_type": "code",
   "execution_count": 44,
   "metadata": {
    "collapsed": true
   },
   "outputs": [],
   "source": [
    "def checker(an_array, a_num):\n",
    "    \n",
    "    index_1 = 0\n",
    "    \n",
    "    while index_1 < len(an_array) - 1:\n",
    "        index_2 = index_1 + 1\n",
    "        \n",
    "        while index_2 < len(an_array):\n",
    "            print an_array[index_1], an_array[index_2]\n",
    "            if an_array[index_1] + an_array[index_2] == a_num:\n",
    "                return True\n",
    "            index_2 += 1\n",
    "            \n",
    "        index_1 +=1\n",
    "    return False"
   ]
  },
  {
   "cell_type": "code",
   "execution_count": 46,
   "metadata": {
    "collapsed": false
   },
   "outputs": [
    {
     "name": "stdout",
     "output_type": "stream",
     "text": [
      "3 7\n",
      "3 88\n",
      "3 24\n",
      "3 9\n",
      "3 0\n",
      "7 88\n",
      "7 24\n",
      "7 9\n",
      "7 0\n",
      "88 24\n",
      "88 9\n",
      "88 0\n",
      "24 9\n",
      "24 0\n",
      "9 0\n"
     ]
    },
    {
     "data": {
      "text/plain": [
       "True"
      ]
     },
     "execution_count": 46,
     "metadata": {},
     "output_type": "execute_result"
    }
   ],
   "source": [
    "checker([3, 7, 88, 24, 9, 0], 9)"
   ]
  },
  {
   "cell_type": "code",
   "execution_count": null,
   "metadata": {
    "collapsed": true
   },
   "outputs": [],
   "source": []
  }
 ],
 "metadata": {
  "anaconda-cloud": {},
  "kernelspec": {
   "display_name": "Python [default]",
   "language": "python",
   "name": "python2"
  },
  "language_info": {
   "codemirror_mode": {
    "name": "ipython",
    "version": 2
   },
   "file_extension": ".py",
   "mimetype": "text/x-python",
   "name": "python",
   "nbconvert_exporter": "python",
   "pygments_lexer": "ipython2",
   "version": "2.7.12"
  }
 },
 "nbformat": 4,
 "nbformat_minor": 1
}
