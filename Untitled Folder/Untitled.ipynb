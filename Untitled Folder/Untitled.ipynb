{
 "cells": [
  {
   "cell_type": "code",
   "execution_count": 27,
   "metadata": {
    "collapsed": true
   },
   "outputs": [],
   "source": [
    "import pandas as pd\n",
    "import numpy as np"
   ]
  },
  {
   "cell_type": "code",
   "execution_count": 8,
   "metadata": {
    "collapsed": false
   },
   "outputs": [],
   "source": [
    "df = pd.read_csv('https://raw.githubusercontent.com/socathie/paperplane/master/data/most_backed.csv')"
   ]
  },
  {
   "cell_type": "code",
   "execution_count": 9,
   "metadata": {
    "collapsed": false
   },
   "outputs": [
    {
     "data": {
      "text/html": [
       "<div>\n",
       "<table border=\"1\" class=\"dataframe\">\n",
       "  <thead>\n",
       "    <tr style=\"text-align: right;\">\n",
       "      <th></th>\n",
       "      <th>Unnamed: 0</th>\n",
       "      <th>amt.pledged</th>\n",
       "      <th>blurb</th>\n",
       "      <th>category</th>\n",
       "      <th>currency</th>\n",
       "      <th>goal</th>\n",
       "      <th>location</th>\n",
       "      <th>num.backers</th>\n",
       "      <th>num.backers.tier</th>\n",
       "      <th>pledge.tier</th>\n",
       "      <th>title</th>\n",
       "      <th>url</th>\n",
       "    </tr>\n",
       "  </thead>\n",
       "  <tbody>\n",
       "    <tr>\n",
       "      <th>0</th>\n",
       "      <td>0</td>\n",
       "      <td>8782571.0</td>\n",
       "      <td>\\nThis is a card game for people who are into ...</td>\n",
       "      <td>Tabletop Games</td>\n",
       "      <td>usd</td>\n",
       "      <td>10000.0</td>\n",
       "      <td>Los Angeles, CA</td>\n",
       "      <td>219382</td>\n",
       "      <td>[15505, 202934, 200, 5]</td>\n",
       "      <td>[20.0, 35.0, 100.0, 500.0]</td>\n",
       "      <td>Exploding Kittens</td>\n",
       "      <td>/projects/elanlee/exploding-kittens</td>\n",
       "    </tr>\n",
       "    <tr>\n",
       "      <th>1</th>\n",
       "      <td>1</td>\n",
       "      <td>6465690.0</td>\n",
       "      <td>\\nAn unusually addicting, high-quality desk to...</td>\n",
       "      <td>Product Design</td>\n",
       "      <td>usd</td>\n",
       "      <td>15000.0</td>\n",
       "      <td>Denver, CO</td>\n",
       "      <td>154926</td>\n",
       "      <td>[788, 250, 43073, 21796, 41727, 21627, 12215, ...</td>\n",
       "      <td>[1.0, 14.0, 19.0, 19.0, 35.0, 35.0, 79.0, 79.0...</td>\n",
       "      <td>Fidget Cube: A Vinyl Desk Toy</td>\n",
       "      <td>/projects/antsylabs/fidget-cube-a-vinyl-desk-toy</td>\n",
       "    </tr>\n",
       "    <tr>\n",
       "      <th>2</th>\n",
       "      <td>2</td>\n",
       "      <td>5408916.0</td>\n",
       "      <td>\\nBring Reading Rainbow’s library of interacti...</td>\n",
       "      <td>Web</td>\n",
       "      <td>usd</td>\n",
       "      <td>1000000.0</td>\n",
       "      <td>Los Angeles, CA</td>\n",
       "      <td>105857</td>\n",
       "      <td>[19639, 14343, 9136, 2259, 5666, 24512, 4957, ...</td>\n",
       "      <td>[5.0, 10.0, 25.0, 30.0, 35.0, 50.0, 75.0, 100....</td>\n",
       "      <td>Bring Reading Rainbow Back for Every Child, Ev...</td>\n",
       "      <td>/projects/readingrainbow/bring-reading-rainbow...</td>\n",
       "    </tr>\n",
       "    <tr>\n",
       "      <th>3</th>\n",
       "      <td>3</td>\n",
       "      <td>5702153.0</td>\n",
       "      <td>\\nUPDATED: This is it. We're making a Veronica...</td>\n",
       "      <td>Narrative Film</td>\n",
       "      <td>usd</td>\n",
       "      <td>2000000.0</td>\n",
       "      <td>San Diego, CA</td>\n",
       "      <td>91585</td>\n",
       "      <td>[5938, 8423, 11509, 22997, 23227, 1865, 7260, ...</td>\n",
       "      <td>[1.0, 10.0, 25.0, 35.0, 50.0, 75.0, 100.0, 150...</td>\n",
       "      <td>The Veronica Mars Movie Project</td>\n",
       "      <td>/projects/559914737/the-veronica-mars-movie-pr...</td>\n",
       "    </tr>\n",
       "    <tr>\n",
       "      <th>4</th>\n",
       "      <td>4</td>\n",
       "      <td>3336371.0</td>\n",
       "      <td>\\nAn adventure game from Tim Schafer, Double F...</td>\n",
       "      <td>Video Games</td>\n",
       "      <td>usd</td>\n",
       "      <td>400000.0</td>\n",
       "      <td>San Francisco, CA</td>\n",
       "      <td>87142</td>\n",
       "      <td>[47946, 24636, 1090, 11530, 900, 148, 100, 10, 4]</td>\n",
       "      <td>[15.0, 30.0, 60.0, 100.0, 250.0, 500.0, 1000.0...</td>\n",
       "      <td>Double Fine Adventure</td>\n",
       "      <td>/projects/doublefine/double-fine-adventure</td>\n",
       "    </tr>\n",
       "  </tbody>\n",
       "</table>\n",
       "</div>"
      ],
      "text/plain": [
       "   Unnamed: 0  amt.pledged                                              blurb  \\\n",
       "0           0    8782571.0  \\nThis is a card game for people who are into ...   \n",
       "1           1    6465690.0  \\nAn unusually addicting, high-quality desk to...   \n",
       "2           2    5408916.0  \\nBring Reading Rainbow’s library of interacti...   \n",
       "3           3    5702153.0  \\nUPDATED: This is it. We're making a Veronica...   \n",
       "4           4    3336371.0  \\nAn adventure game from Tim Schafer, Double F...   \n",
       "\n",
       "         category currency       goal           location  num.backers  \\\n",
       "0  Tabletop Games      usd    10000.0    Los Angeles, CA       219382   \n",
       "1  Product Design      usd    15000.0         Denver, CO       154926   \n",
       "2             Web      usd  1000000.0    Los Angeles, CA       105857   \n",
       "3  Narrative Film      usd  2000000.0      San Diego, CA        91585   \n",
       "4     Video Games      usd   400000.0  San Francisco, CA        87142   \n",
       "\n",
       "                                    num.backers.tier  \\\n",
       "0                            [15505, 202934, 200, 5]   \n",
       "1  [788, 250, 43073, 21796, 41727, 21627, 12215, ...   \n",
       "2  [19639, 14343, 9136, 2259, 5666, 24512, 4957, ...   \n",
       "3  [5938, 8423, 11509, 22997, 23227, 1865, 7260, ...   \n",
       "4  [47946, 24636, 1090, 11530, 900, 148, 100, 10, 4]   \n",
       "\n",
       "                                         pledge.tier  \\\n",
       "0                         [20.0, 35.0, 100.0, 500.0]   \n",
       "1  [1.0, 14.0, 19.0, 19.0, 35.0, 35.0, 79.0, 79.0...   \n",
       "2  [5.0, 10.0, 25.0, 30.0, 35.0, 50.0, 75.0, 100....   \n",
       "3  [1.0, 10.0, 25.0, 35.0, 50.0, 75.0, 100.0, 150...   \n",
       "4  [15.0, 30.0, 60.0, 100.0, 250.0, 500.0, 1000.0...   \n",
       "\n",
       "                                               title  \\\n",
       "0                                  Exploding Kittens   \n",
       "1                      Fidget Cube: A Vinyl Desk Toy   \n",
       "2  Bring Reading Rainbow Back for Every Child, Ev...   \n",
       "3                    The Veronica Mars Movie Project   \n",
       "4                              Double Fine Adventure   \n",
       "\n",
       "                                                 url  \n",
       "0                /projects/elanlee/exploding-kittens  \n",
       "1   /projects/antsylabs/fidget-cube-a-vinyl-desk-toy  \n",
       "2  /projects/readingrainbow/bring-reading-rainbow...  \n",
       "3  /projects/559914737/the-veronica-mars-movie-pr...  \n",
       "4         /projects/doublefine/double-fine-adventure  "
      ]
     },
     "execution_count": 9,
     "metadata": {},
     "output_type": "execute_result"
    }
   ],
   "source": [
    "df.head()"
   ]
  },
  {
   "cell_type": "code",
   "execution_count": 14,
   "metadata": {
    "collapsed": false
   },
   "outputs": [
    {
     "name": "stdout",
     "output_type": "stream",
     "text": [
      "Index([u'Unnamed: 0', u'amt.pledged', u'blurb', u'category', u'currency',\n",
      "       u'goal', u'location', u'num.backers', u'num.backers.tier',\n",
      "       u'pledge.tier', u'title', u'url'],\n",
      "      dtype='object')\n"
     ]
    }
   ],
   "source": [
    "print df.columns"
   ]
  },
  {
   "cell_type": "code",
   "execution_count": 16,
   "metadata": {
    "collapsed": false
   },
   "outputs": [
    {
     "data": {
      "text/plain": [
       "Unnamed: 0            int64\n",
       "amt.pledged         float64\n",
       "blurb                object\n",
       "category             object\n",
       "currency             object\n",
       "goal                float64\n",
       "location             object\n",
       "num.backers           int64\n",
       "num.backers.tier     object\n",
       "pledge.tier          object\n",
       "title                object\n",
       "url                  object\n",
       "dtype: object"
      ]
     },
     "execution_count": 16,
     "metadata": {},
     "output_type": "execute_result"
    }
   ],
   "source": [
    "df.dtypes"
   ]
  },
  {
   "cell_type": "code",
   "execution_count": 21,
   "metadata": {
    "collapsed": false
   },
   "outputs": [
    {
     "name": "stdout",
     "output_type": "stream",
     "text": [
      "3980\n",
      "115\n"
     ]
    }
   ],
   "source": [
    "print df['blurb'].nunique()\n",
    "print df['category'].nunique()"
   ]
  },
  {
   "cell_type": "code",
   "execution_count": 49,
   "metadata": {
    "collapsed": false
   },
   "outputs": [],
   "source": [
    "df['blurb'] = df['blurb'].astype(str)\n",
    "df['blurb'] = df['blurb'].apply(lambda x: x.replace('\\n', \"\"))\n",
    "df['blurb'] = df['blurb'].apply(lambda x: x.replace(',', \"\"))\n",
    "df['blurb'] = df['blurb'].apply(lambda x: x.replace(':', \"\"))\n",
    "df['blurb'] = df['blurb'].apply(lambda x: x.replace('.', \"\"))"
   ]
  },
  {
   "cell_type": "code",
   "execution_count": 40,
   "metadata": {
    "collapsed": false
   },
   "outputs": [],
   "source": [
    "df['blurb'] = df['blurb'].str.lower()\n"
   ]
  },
  {
   "cell_type": "code",
   "execution_count": 50,
   "metadata": {
    "collapsed": false
   },
   "outputs": [
    {
     "data": {
      "text/html": [
       "<div>\n",
       "<table border=\"1\" class=\"dataframe\">\n",
       "  <thead>\n",
       "    <tr style=\"text-align: right;\">\n",
       "      <th></th>\n",
       "      <th>unnamed: 0</th>\n",
       "      <th>amt.pledged</th>\n",
       "      <th>blurb</th>\n",
       "      <th>category</th>\n",
       "      <th>currency</th>\n",
       "      <th>goal</th>\n",
       "      <th>location</th>\n",
       "      <th>num.backers</th>\n",
       "      <th>num.backers.tier</th>\n",
       "      <th>pledge.tier</th>\n",
       "      <th>title</th>\n",
       "      <th>url</th>\n",
       "    </tr>\n",
       "  </thead>\n",
       "  <tbody>\n",
       "    <tr>\n",
       "      <th>0</th>\n",
       "      <td>0</td>\n",
       "      <td>8782571.0</td>\n",
       "      <td>this is a card game for people who are into ki...</td>\n",
       "      <td>Tabletop Games</td>\n",
       "      <td>usd</td>\n",
       "      <td>10000.0</td>\n",
       "      <td>Los Angeles, CA</td>\n",
       "      <td>219382</td>\n",
       "      <td>[15505, 202934, 200, 5]</td>\n",
       "      <td>[20.0, 35.0, 100.0, 500.0]</td>\n",
       "      <td>Exploding Kittens</td>\n",
       "      <td>/projects/elanlee/exploding-kittens</td>\n",
       "    </tr>\n",
       "    <tr>\n",
       "      <th>1</th>\n",
       "      <td>1</td>\n",
       "      <td>6465690.0</td>\n",
       "      <td>an unusually addicting high-quality desk toy d...</td>\n",
       "      <td>Product Design</td>\n",
       "      <td>usd</td>\n",
       "      <td>15000.0</td>\n",
       "      <td>Denver, CO</td>\n",
       "      <td>154926</td>\n",
       "      <td>[788, 250, 43073, 21796, 41727, 21627, 12215, ...</td>\n",
       "      <td>[1.0, 14.0, 19.0, 19.0, 35.0, 35.0, 79.0, 79.0...</td>\n",
       "      <td>Fidget Cube: A Vinyl Desk Toy</td>\n",
       "      <td>/projects/antsylabs/fidget-cube-a-vinyl-desk-toy</td>\n",
       "    </tr>\n",
       "    <tr>\n",
       "      <th>2</th>\n",
       "      <td>2</td>\n",
       "      <td>5408916.0</td>\n",
       "      <td>bring reading rainbow’s library of interactive...</td>\n",
       "      <td>Web</td>\n",
       "      <td>usd</td>\n",
       "      <td>1000000.0</td>\n",
       "      <td>Los Angeles, CA</td>\n",
       "      <td>105857</td>\n",
       "      <td>[19639, 14343, 9136, 2259, 5666, 24512, 4957, ...</td>\n",
       "      <td>[5.0, 10.0, 25.0, 30.0, 35.0, 50.0, 75.0, 100....</td>\n",
       "      <td>Bring Reading Rainbow Back for Every Child, Ev...</td>\n",
       "      <td>/projects/readingrainbow/bring-reading-rainbow...</td>\n",
       "    </tr>\n",
       "    <tr>\n",
       "      <th>3</th>\n",
       "      <td>3</td>\n",
       "      <td>5702153.0</td>\n",
       "      <td>updated this is it were making a veronica mars...</td>\n",
       "      <td>Narrative Film</td>\n",
       "      <td>usd</td>\n",
       "      <td>2000000.0</td>\n",
       "      <td>San Diego, CA</td>\n",
       "      <td>91585</td>\n",
       "      <td>[5938, 8423, 11509, 22997, 23227, 1865, 7260, ...</td>\n",
       "      <td>[1.0, 10.0, 25.0, 35.0, 50.0, 75.0, 100.0, 150...</td>\n",
       "      <td>The Veronica Mars Movie Project</td>\n",
       "      <td>/projects/559914737/the-veronica-mars-movie-pr...</td>\n",
       "    </tr>\n",
       "    <tr>\n",
       "      <th>4</th>\n",
       "      <td>4</td>\n",
       "      <td>3336371.0</td>\n",
       "      <td>an adventure game from tim schafer double fine...</td>\n",
       "      <td>Video Games</td>\n",
       "      <td>usd</td>\n",
       "      <td>400000.0</td>\n",
       "      <td>San Francisco, CA</td>\n",
       "      <td>87142</td>\n",
       "      <td>[47946, 24636, 1090, 11530, 900, 148, 100, 10, 4]</td>\n",
       "      <td>[15.0, 30.0, 60.0, 100.0, 250.0, 500.0, 1000.0...</td>\n",
       "      <td>Double Fine Adventure</td>\n",
       "      <td>/projects/doublefine/double-fine-adventure</td>\n",
       "    </tr>\n",
       "  </tbody>\n",
       "</table>\n",
       "</div>"
      ],
      "text/plain": [
       "   unnamed: 0  amt.pledged                                              blurb  \\\n",
       "0           0    8782571.0  this is a card game for people who are into ki...   \n",
       "1           1    6465690.0  an unusually addicting high-quality desk toy d...   \n",
       "2           2    5408916.0  bring reading rainbow’s library of interactive...   \n",
       "3           3    5702153.0  updated this is it were making a veronica mars...   \n",
       "4           4    3336371.0  an adventure game from tim schafer double fine...   \n",
       "\n",
       "         category currency       goal           location  num.backers  \\\n",
       "0  Tabletop Games      usd    10000.0    Los Angeles, CA       219382   \n",
       "1  Product Design      usd    15000.0         Denver, CO       154926   \n",
       "2             Web      usd  1000000.0    Los Angeles, CA       105857   \n",
       "3  Narrative Film      usd  2000000.0      San Diego, CA        91585   \n",
       "4     Video Games      usd   400000.0  San Francisco, CA        87142   \n",
       "\n",
       "                                    num.backers.tier  \\\n",
       "0                            [15505, 202934, 200, 5]   \n",
       "1  [788, 250, 43073, 21796, 41727, 21627, 12215, ...   \n",
       "2  [19639, 14343, 9136, 2259, 5666, 24512, 4957, ...   \n",
       "3  [5938, 8423, 11509, 22997, 23227, 1865, 7260, ...   \n",
       "4  [47946, 24636, 1090, 11530, 900, 148, 100, 10, 4]   \n",
       "\n",
       "                                         pledge.tier  \\\n",
       "0                         [20.0, 35.0, 100.0, 500.0]   \n",
       "1  [1.0, 14.0, 19.0, 19.0, 35.0, 35.0, 79.0, 79.0...   \n",
       "2  [5.0, 10.0, 25.0, 30.0, 35.0, 50.0, 75.0, 100....   \n",
       "3  [1.0, 10.0, 25.0, 35.0, 50.0, 75.0, 100.0, 150...   \n",
       "4  [15.0, 30.0, 60.0, 100.0, 250.0, 500.0, 1000.0...   \n",
       "\n",
       "                                               title  \\\n",
       "0                                  Exploding Kittens   \n",
       "1                      Fidget Cube: A Vinyl Desk Toy   \n",
       "2  Bring Reading Rainbow Back for Every Child, Ev...   \n",
       "3                    The Veronica Mars Movie Project   \n",
       "4                              Double Fine Adventure   \n",
       "\n",
       "                                                 url  \n",
       "0                /projects/elanlee/exploding-kittens  \n",
       "1   /projects/antsylabs/fidget-cube-a-vinyl-desk-toy  \n",
       "2  /projects/readingrainbow/bring-reading-rainbow...  \n",
       "3  /projects/559914737/the-veronica-mars-movie-pr...  \n",
       "4         /projects/doublefine/double-fine-adventure  "
      ]
     },
     "execution_count": 50,
     "metadata": {},
     "output_type": "execute_result"
    }
   ],
   "source": [
    "df.head()"
   ]
  },
  {
   "cell_type": "code",
   "execution_count": 51,
   "metadata": {
    "collapsed": false
   },
   "outputs": [
    {
     "data": {
      "text/plain": [
       "0    this is a card game for people who are into ki...\n",
       "1    an unusually addicting high-quality desk toy d...\n",
       "2    bring reading rainbow’s library of interactive...\n",
       "3    updated this is it were making a veronica mars...\n",
       "4    an adventure game from tim schafer double fine...\n",
       "Name: blurb, dtype: object"
      ]
     },
     "execution_count": 51,
     "metadata": {},
     "output_type": "execute_result"
    }
   ],
   "source": [
    "df['blurb'].head()"
   ]
  },
  {
   "cell_type": "code",
   "execution_count": null,
   "metadata": {
    "collapsed": true
   },
   "outputs": [],
   "source": []
  }
 ],
 "metadata": {
  "anaconda-cloud": {},
  "kernelspec": {
   "display_name": "Python [default]",
   "language": "python",
   "name": "python2"
  },
  "language_info": {
   "codemirror_mode": {
    "name": "ipython",
    "version": 2
   },
   "file_extension": ".py",
   "mimetype": "text/x-python",
   "name": "python",
   "nbconvert_exporter": "python",
   "pygments_lexer": "ipython2",
   "version": "2.7.12"
  }
 },
 "nbformat": 4,
 "nbformat_minor": 1
}
