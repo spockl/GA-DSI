{
 "cells": [
  {
   "cell_type": "code",
   "execution_count": null,
   "metadata": {
    "collapsed": true
   },
   "outputs": [],
   "source": [
    "df['title'] = df['title'].astype(str)\n",
    "df['title'] = df['title'].apply(lambda x: x.replace('\\n', \"\"))\n",
    "df['title'] = df['title'].apply(lambda x: x.replace(',', \"\"))\n",
    "df['title'] = df['title'].apply(lambda x: x.replace(':', \"\"))\n",
    "df['title'] = df['title'].apply(lambda x: x.replace('.', \"\"))\n",
    "df['title'] = df['title'].apply(lambda x: x.replace('\\'', \"\"))\n",
    "df['title'] = df['title'].str.lower()"
   ]
  }
 ],
 "metadata": {
  "kernelspec": {
   "display_name": "Python [default]",
   "language": "python",
   "name": "python2"
  },
  "language_info": {
   "codemirror_mode": {
    "name": "ipython",
    "version": 2
   },
   "file_extension": ".py",
   "mimetype": "text/x-python",
   "name": "python",
   "nbconvert_exporter": "python",
   "pygments_lexer": "ipython2",
   "version": "2.7.12"
  }
 },
 "nbformat": 4,
 "nbformat_minor": 1
}
